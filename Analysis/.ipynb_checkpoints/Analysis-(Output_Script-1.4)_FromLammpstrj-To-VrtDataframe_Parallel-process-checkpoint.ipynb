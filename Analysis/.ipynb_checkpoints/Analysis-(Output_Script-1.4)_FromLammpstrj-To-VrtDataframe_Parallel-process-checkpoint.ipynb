{
 "cells": [
  {
   "cell_type": "markdown",
   "metadata": {},
   "source": [
    "# From Lammpstrj to Vertex Dataframe\n",
    "\n",
    "In this script, I will convert the lammpstrj data to a vertex dataframe. This script will be usefull for all the simulations that I will run in a future. Since is a way to preprocess the data. "
   ]
  },
  {
   "cell_type": "markdown",
   "metadata": {},
   "source": [
    "### 1. Reading data and convert to dataframe"
   ]
  },
  {
   "cell_type": "code",
   "execution_count": 1,
   "metadata": {},
   "outputs": [],
   "source": [
    "import magcolloids as mgc\n",
    "import os\n",
    "import sys\n",
    "import numpy as np\n",
    "import pandas as pd\n",
    "from multiprocessing import Pool\n",
    "import tqdm.auto as tqdm\n",
    "\n",
    "sys.path.insert(0, '../icenumerics')\n",
    "\n",
    "import icenumerics as ice\n",
    "import matplotlib.pyplot as plt"
   ]
  },
  {
   "cell_type": "code",
   "execution_count": 2,
   "metadata": {},
   "outputs": [],
   "source": [
    "data_directory = \"/home/carolina/CairoLattice_ACI_PROJECT/Scripts/Output_Script-1.4\""
   ]
  },
  {
   "cell_type": "code",
   "execution_count": 3,
   "metadata": {},
   "outputs": [],
   "source": [
    "def do_everything(exp_entry):\n",
    "    \n",
    "    e = exp_entry[1].e \n",
    "    l = exp_entry[1].l\n",
    "    \n",
    "    load_obj = mgc.trj_lazyread(os.path.join(data_directory,\n",
    "                                             \"ACI_CairoLattice_50mT-3000s+cte_l%u_exp%u.lammpstrj\"%(l,e)),\n",
    "                                                output = [\"x\",\"y\",\"z\",\"mux\",\"muy\",\"muz\"])    \n",
    "    bnd = load_obj.get_bounds()\n",
    "    trj = load_obj.read_trj()\n",
    "    col_trj = ice.get_ice_trj(trj,bnd, atom_types = 1, trap_types = [2,3])\n",
    "    \n",
    "    # Infer Vertices\n",
    "    frames = col_trj.index.get_level_values(\"frame\").unique()\n",
    "\n",
    "    v = ice.vertices()\n",
    "    v.trj_to_vertices(col_trj.loc[frames[::10]])\n",
    "    \n",
    "    # Remove the vertices near the boundaries\n",
    "    \n",
    "    x_min = 95\n",
    "    y_min = -75\n",
    "\n",
    "    width = 700\n",
    "    hight = -700\n",
    "\n",
    "    x_max = x_min+width\n",
    "    y_max = y_min+hight\n",
    "    \n",
    "    Ca = v.vertices.loc[(v.vertices['x']<x_max) & (v.vertices['x']>x_min)]\n",
    "    Cairo = Ca.loc[(Ca['y']>y_max) & (Ca['y']<y_min)]\n",
    "    \n",
    "    #plt.plot(Cairo.loc[0].x,Cairo.loc[0].y, 'o')\n",
    "    \n",
    "    Cairo.index.names = ['frame', 'id']\n",
    "    \n",
    "    Cairo.to_csv(os.path.join(data_directory, \"ACI_CairoLattice_50mT-3000s+cte_l%u_exp%u.dat\"%(l,e)), sep=\"\\t\")\n"
   ]
  },
  {
   "cell_type": "code",
   "execution_count": 4,
   "metadata": {},
   "outputs": [],
   "source": [
    "e =  np.arange(6,8)\n",
    "l =  [10]\n",
    "L, E = np.meshgrid(l,e)\n",
    "experiments = pd.DataFrame({\"e\":E.flatten(),\"l\":L.flatten()})"
   ]
  },
  {
   "cell_type": "code",
   "execution_count": null,
   "metadata": {},
   "outputs": [
    {
     "data": {
      "application/vnd.jupyter.widget-view+json": {
       "model_id": "5b151a925edb45cd99d62a19c16949ef",
       "version_major": 2,
       "version_minor": 0
      },
      "text/plain": [
       "HBox(children=(FloatProgress(value=0.0, max=2.0), HTML(value='')))"
      ]
     },
     "metadata": {},
     "output_type": "display_data"
    }
   ],
   "source": [
    "if __name__ ==  '__main__': \n",
    "    num_processors = 10\n",
    "    p=Pool(processes = num_processors)\n",
    "        \n",
    "    list(tqdm.tqdm(p.imap(do_everything, experiments.iterrows()), total=len(experiments)));"
   ]
  }
 ],
 "metadata": {
  "kernelspec": {
   "display_name": "Python 3",
   "language": "python",
   "name": "python3"
  },
  "language_info": {
   "codemirror_mode": {
    "name": "ipython",
    "version": 3
   },
   "file_extension": ".py",
   "mimetype": "text/x-python",
   "name": "python",
   "nbconvert_exporter": "python",
   "pygments_lexer": "ipython3",
   "version": "3.7.6"
  }
 },
 "nbformat": 4,
 "nbformat_minor": 4
}
