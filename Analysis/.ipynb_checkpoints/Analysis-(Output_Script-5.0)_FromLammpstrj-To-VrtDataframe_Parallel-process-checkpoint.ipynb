{
 "cells": [
  {
   "cell_type": "markdown",
   "metadata": {},
   "source": [
    "# From Lammpstrj to Vertex Dataframe\n",
    "\n",
    "In this script, I will convert the lammpstrj data to a vertex dataframe. This script will be usefull for all the simulations that I will run in a future. Since is a way to preprocess the data. "
   ]
  },
  {
   "cell_type": "markdown",
   "metadata": {},
   "source": [
    "### 1. Reading data and convert to dataframe"
   ]
  },
  {
   "cell_type": "code",
   "execution_count": 1,
   "metadata": {},
   "outputs": [],
   "source": [
    "import magcolloids as mgc\n",
    "import os\n",
    "import sys\n",
    "import numpy as np\n",
    "import pandas as pd\n",
    "from multiprocessing import Pool\n",
    "import tqdm.auto as tqdm\n",
    "\n",
    "sys.path.insert(0, '../icenumerics')\n",
    "\n",
    "import icenumerics as ice\n",
    "import matplotlib.pyplot as plt"
   ]
  },
  {
   "cell_type": "code",
   "execution_count": 2,
   "metadata": {},
   "outputs": [],
   "source": [
    "data_directory = \"/home/carolina/CairoLattice_ACI_PROJECT/Scripts/Output_Script-4.1\""
   ]
  },
  {
   "cell_type": "code",
   "execution_count": 3,
   "metadata": {},
   "outputs": [],
   "source": [
    "def do_everything(exp_entry):\n",
    "    \n",
    "    e = exp_entry[1].e \n",
    "    l = exp_entry[1].l\n",
    "    \n",
    "    load_obj = mgc.trj_lazyread(os.path.join(data_directory,\n",
    "                                             \"ACI_CairoLattice_50mT-1200s_lowhill_l%u_exp%u.lammpstrj\"%(l,e)),\n",
    "                                                output = [\"x\",\"y\",\"z\",\"mux\",\"muy\",\"muz\"])    \n",
    "    bnd = load_obj.get_bounds()\n",
    "    trj = load_obj.read_trj()\n",
    "    col_trj = ice.get_ice_trj(trj,bnd, atom_types = 1, trap_types = [2,3])\n",
    "    \n",
    "    # Infer Vertices\n",
    "    frames = col_trj.index.get_level_values(\"frame\").unique()\n",
    "\n",
    "    v = ice.vertices()\n",
    "    v.trj_to_vertices(col_trj.loc[frames[::10]])\n",
    "    \n",
    "    # Remove the vertices near the boundaries\n",
    "    \n",
    "    x_min = 95\n",
    "    y_min = -75\n",
    "\n",
    "    width = 700\n",
    "    hight = -700\n",
    "\n",
    "    x_max = x_min+width\n",
    "    y_max = y_min+hight\n",
    "    \n",
    "    Ca = v.vertices.loc[(v.vertices['x']<x_max) & (v.vertices['x']>x_min)]\n",
    "    Cairo = Ca.loc[(Ca['y']>y_max) & (Ca['y']<y_min)]\n",
    "    \n",
    "    #plt.plot(Cairo.loc[0].x,Cairo.loc[0].y, 'o')\n",
    "    \n",
    "    Cairo.index.names = ['frame', 'id']\n",
    "    \n",
    "    Cairo.to_csv(os.path.join(data_directory, \"ACI_CairoLattice_50mT-1200s_lowhill_l%u_exp%u.dat\"%(l,e)), sep=\"\\t\")\n"
   ]
  },
  {
   "cell_type": "code",
   "execution_count": 4,
   "metadata": {},
   "outputs": [
    {
     "data": {
      "text/html": [
       "<div>\n",
       "<style scoped>\n",
       "    .dataframe tbody tr th:only-of-type {\n",
       "        vertical-align: middle;\n",
       "    }\n",
       "\n",
       "    .dataframe tbody tr th {\n",
       "        vertical-align: top;\n",
       "    }\n",
       "\n",
       "    .dataframe thead th {\n",
       "        text-align: right;\n",
       "    }\n",
       "</style>\n",
       "<table border=\"1\" class=\"dataframe\">\n",
       "  <thead>\n",
       "    <tr style=\"text-align: right;\">\n",
       "      <th></th>\n",
       "      <th>e</th>\n",
       "      <th>l</th>\n",
       "    </tr>\n",
       "  </thead>\n",
       "  <tbody>\n",
       "    <tr>\n",
       "      <th>0</th>\n",
       "      <td>0</td>\n",
       "      <td>10</td>\n",
       "    </tr>\n",
       "    <tr>\n",
       "      <th>1</th>\n",
       "      <td>1</td>\n",
       "      <td>10</td>\n",
       "    </tr>\n",
       "    <tr>\n",
       "      <th>2</th>\n",
       "      <td>2</td>\n",
       "      <td>10</td>\n",
       "    </tr>\n",
       "    <tr>\n",
       "      <th>3</th>\n",
       "      <td>3</td>\n",
       "      <td>10</td>\n",
       "    </tr>\n",
       "    <tr>\n",
       "      <th>4</th>\n",
       "      <td>4</td>\n",
       "      <td>10</td>\n",
       "    </tr>\n",
       "    <tr>\n",
       "      <th>5</th>\n",
       "      <td>5</td>\n",
       "      <td>10</td>\n",
       "    </tr>\n",
       "    <tr>\n",
       "      <th>6</th>\n",
       "      <td>6</td>\n",
       "      <td>10</td>\n",
       "    </tr>\n",
       "    <tr>\n",
       "      <th>7</th>\n",
       "      <td>7</td>\n",
       "      <td>10</td>\n",
       "    </tr>\n",
       "    <tr>\n",
       "      <th>8</th>\n",
       "      <td>8</td>\n",
       "      <td>10</td>\n",
       "    </tr>\n",
       "    <tr>\n",
       "      <th>9</th>\n",
       "      <td>9</td>\n",
       "      <td>10</td>\n",
       "    </tr>\n",
       "  </tbody>\n",
       "</table>\n",
       "</div>"
      ],
      "text/plain": [
       "   e   l\n",
       "0  0  10\n",
       "1  1  10\n",
       "2  2  10\n",
       "3  3  10\n",
       "4  4  10\n",
       "5  5  10\n",
       "6  6  10\n",
       "7  7  10\n",
       "8  8  10\n",
       "9  9  10"
      ]
     },
     "execution_count": 4,
     "metadata": {},
     "output_type": "execute_result"
    }
   ],
   "source": [
    "e =  np.arange(0,10)\n",
    "l =  [10]\n",
    "L, E = np.meshgrid(l,e)\n",
    "experiments = pd.DataFrame({\"e\":E.flatten(),\"l\":L.flatten()})\n",
    "experiments"
   ]
  },
  {
   "cell_type": "code",
   "execution_count": 5,
   "metadata": {},
   "outputs": [
    {
     "data": {
      "application/vnd.jupyter.widget-view+json": {
       "model_id": "2dd8552961024f04939b47349db632ee",
       "version_major": 2,
       "version_minor": 0
      },
      "text/plain": [
       "HBox(children=(FloatProgress(value=0.0, max=10.0), HTML(value='')))"
      ]
     },
     "metadata": {},
     "output_type": "display_data"
    },
    {
     "name": "stderr",
     "output_type": "stream",
     "text": [
      "--- Logging error ---\n",
      "Traceback (most recent call last):\n",
      "  File \"/home/carolina/anaconda3/lib/python3.7/site-packages/traitlets/traitlets.py\", line 528, in get\n",
      "    value = obj._trait_values[self.name]\n",
      "KeyError: 'layout'\n",
      "\n",
      "During handling of the above exception, another exception occurred:\n",
      "\n",
      "Traceback (most recent call last):\n",
      "  File \"/home/carolina/anaconda3/lib/python3.7/logging/__init__.py\", line 1029, in emit\n",
      "    self.flush()\n",
      "  File \"/home/carolina/anaconda3/lib/python3.7/logging/__init__.py\", line 1009, in flush\n",
      "    self.stream.flush()\n",
      "OSError: [Errno 5] Input/output error\n",
      "Call stack:\n",
      "  File \"/home/carolina/anaconda3/lib/python3.7/runpy.py\", line 193, in _run_module_as_main\n",
      "    \"__main__\", mod_spec)\n",
      "  File \"/home/carolina/anaconda3/lib/python3.7/runpy.py\", line 85, in _run_code\n",
      "    exec(code, run_globals)\n",
      "  File \"/home/carolina/anaconda3/lib/python3.7/site-packages/ipykernel_launcher.py\", line 16, in <module>\n",
      "    app.launch_new_instance()\n",
      "  File \"/home/carolina/anaconda3/lib/python3.7/site-packages/traitlets/config/application.py\", line 664, in launch_instance\n",
      "    app.start()\n",
      "  File \"/home/carolina/anaconda3/lib/python3.7/site-packages/ipykernel/kernelapp.py\", line 583, in start\n",
      "    self.io_loop.start()\n",
      "  File \"/home/carolina/anaconda3/lib/python3.7/site-packages/tornado/platform/asyncio.py\", line 153, in start\n",
      "    self.asyncio_loop.run_forever()\n",
      "  File \"/home/carolina/anaconda3/lib/python3.7/asyncio/base_events.py\", line 538, in run_forever\n",
      "    self._run_once()\n",
      "  File \"/home/carolina/anaconda3/lib/python3.7/asyncio/base_events.py\", line 1782, in _run_once\n",
      "    handle._run()\n",
      "  File \"/home/carolina/anaconda3/lib/python3.7/asyncio/events.py\", line 88, in _run\n",
      "    self._context.run(self._callback, *self._args)\n",
      "  File \"/home/carolina/anaconda3/lib/python3.7/site-packages/tornado/ioloop.py\", line 690, in <lambda>\n",
      "    lambda f: self._run_callback(functools.partial(callback, future))\n",
      "  File \"/home/carolina/anaconda3/lib/python3.7/site-packages/tornado/ioloop.py\", line 743, in _run_callback\n",
      "    ret = callback()\n",
      "  File \"/home/carolina/anaconda3/lib/python3.7/site-packages/tornado/gen.py\", line 787, in inner\n",
      "    self.run()\n",
      "  File \"/home/carolina/anaconda3/lib/python3.7/site-packages/tornado/gen.py\", line 748, in run\n",
      "    yielded = self.gen.send(value)\n",
      "  File \"/home/carolina/anaconda3/lib/python3.7/site-packages/ipykernel/kernelbase.py\", line 377, in dispatch_queue\n",
      "    yield self.process_one()\n",
      "  File \"/home/carolina/anaconda3/lib/python3.7/site-packages/tornado/gen.py\", line 225, in wrapper\n",
      "    runner = Runner(result, future, yielded)\n",
      "  File \"/home/carolina/anaconda3/lib/python3.7/site-packages/tornado/gen.py\", line 714, in __init__\n",
      "    self.run()\n",
      "  File \"/home/carolina/anaconda3/lib/python3.7/site-packages/tornado/gen.py\", line 748, in run\n",
      "    yielded = self.gen.send(value)\n",
      "  File \"/home/carolina/anaconda3/lib/python3.7/site-packages/ipykernel/kernelbase.py\", line 361, in process_one\n",
      "    yield gen.maybe_future(dispatch(*args))\n",
      "  File \"/home/carolina/anaconda3/lib/python3.7/site-packages/tornado/gen.py\", line 209, in wrapper\n",
      "    yielded = next(result)\n",
      "  File \"/home/carolina/anaconda3/lib/python3.7/site-packages/ipykernel/kernelbase.py\", line 268, in dispatch_shell\n",
      "    yield gen.maybe_future(handler(stream, idents, msg))\n",
      "  File \"/home/carolina/anaconda3/lib/python3.7/site-packages/tornado/gen.py\", line 209, in wrapper\n",
      "    yielded = next(result)\n",
      "  File \"/home/carolina/anaconda3/lib/python3.7/site-packages/ipykernel/kernelbase.py\", line 541, in execute_request\n",
      "    user_expressions, allow_stdin,\n",
      "  File \"/home/carolina/anaconda3/lib/python3.7/site-packages/tornado/gen.py\", line 209, in wrapper\n",
      "    yielded = next(result)\n",
      "  File \"/home/carolina/anaconda3/lib/python3.7/site-packages/ipykernel/ipkernel.py\", line 300, in do_execute\n",
      "    res = shell.run_cell(code, store_history=store_history, silent=silent)\n",
      "  File \"/home/carolina/anaconda3/lib/python3.7/site-packages/ipykernel/zmqshell.py\", line 536, in run_cell\n",
      "    return super(ZMQInteractiveShell, self).run_cell(*args, **kwargs)\n",
      "  File \"/home/carolina/anaconda3/lib/python3.7/site-packages/IPython/core/interactiveshell.py\", line 2858, in run_cell\n",
      "    raw_cell, store_history, silent, shell_futures)\n",
      "  File \"/home/carolina/anaconda3/lib/python3.7/site-packages/IPython/core/interactiveshell.py\", line 2886, in _run_cell\n",
      "    return runner(coro)\n",
      "  File \"/home/carolina/anaconda3/lib/python3.7/site-packages/IPython/core/async_helpers.py\", line 68, in _pseudo_sync_runner\n",
      "    coro.send(None)\n",
      "  File \"/home/carolina/anaconda3/lib/python3.7/site-packages/IPython/core/interactiveshell.py\", line 3063, in run_cell_async\n",
      "    interactivity=interactivity, compiler=compiler, result=result)\n",
      "  File \"/home/carolina/anaconda3/lib/python3.7/site-packages/IPython/core/interactiveshell.py\", line 3254, in run_ast_nodes\n",
      "    if (await self.run_code(code, result,  async_=asy)):\n",
      "  File \"/home/carolina/anaconda3/lib/python3.7/site-packages/IPython/core/interactiveshell.py\", line 3331, in run_code\n",
      "    exec(code_obj, self.user_global_ns, self.user_ns)\n",
      "  File \"<ipython-input-5-3fe85b332bb4>\", line 3, in <module>\n",
      "    p=Pool(processes = num_processors)\n",
      "  File \"/home/carolina/anaconda3/lib/python3.7/multiprocessing/context.py\", line 119, in Pool\n",
      "    context=self.get_context())\n",
      "  File \"/home/carolina/anaconda3/lib/python3.7/multiprocessing/pool.py\", line 176, in __init__\n",
      "    self._repopulate_pool()\n",
      "  File \"/home/carolina/anaconda3/lib/python3.7/multiprocessing/pool.py\", line 241, in _repopulate_pool\n",
      "    w.start()\n",
      "  File \"/home/carolina/anaconda3/lib/python3.7/multiprocessing/process.py\", line 112, in start\n",
      "    self._popen = self._Popen(self)\n",
      "  File \"/home/carolina/anaconda3/lib/python3.7/multiprocessing/context.py\", line 277, in _Popen\n",
      "    return Popen(process_obj)\n",
      "  File \"/home/carolina/anaconda3/lib/python3.7/multiprocessing/popen_fork.py\", line 20, in __init__\n",
      "    self._launch(process_obj)\n",
      "  File \"/home/carolina/anaconda3/lib/python3.7/multiprocessing/popen_fork.py\", line 74, in _launch\n",
      "    code = process_obj._bootstrap()\n",
      "  File \"/home/carolina/anaconda3/lib/python3.7/multiprocessing/process.py\", line 297, in _bootstrap\n",
      "    self.run()\n",
      "  File \"/home/carolina/anaconda3/lib/python3.7/multiprocessing/process.py\", line 99, in run\n",
      "    self._target(*self._args, **self._kwargs)\n",
      "  File \"/home/carolina/anaconda3/lib/python3.7/multiprocessing/pool.py\", line 121, in worker\n",
      "    result = (True, func(*args, **kwds))\n",
      "  File \"<ipython-input-3-06facdf97caf>\", line 17, in do_everything\n",
      "    v.trj_to_vertices(col_trj.loc[frames[::10]])\n",
      "  File \"../icenumerics/icenumerics/vertices.py\", line 352, in trj_to_vertices\n",
      "    {o_i:trj_to_vertices_single_frame(trj_oi) for o_i, trj_oi in tqdm.tqdm(trj.groupby(other_i))},\n",
      "  File \"/home/carolina/anaconda3/lib/python3.7/site-packages/tqdm/notebook.py\", line 208, in __init__\n",
      "    self.fp, total, self.desc, self.ncols)\n",
      "  File \"/home/carolina/anaconda3/lib/python3.7/site-packages/tqdm/notebook.py\", line 96, in status_printer\n",
      "    pbar = IProgress(min=0, max=total)\n",
      "  File \"/home/carolina/anaconda3/lib/python3.7/site-packages/ipywidgets/widgets/widget_float.py\", line 26, in __init__\n",
      "    super(_Float, self).__init__(**kwargs)\n",
      "  File \"/home/carolina/anaconda3/lib/python3.7/site-packages/ipywidgets/widgets/widget.py\", line 415, in __init__\n",
      "    self.open()\n",
      "  File \"/home/carolina/anaconda3/lib/python3.7/site-packages/ipywidgets/widgets/widget.py\", line 428, in open\n",
      "    state, buffer_paths, buffers = _remove_buffers(self.get_state())\n",
      "  File \"/home/carolina/anaconda3/lib/python3.7/site-packages/ipywidgets/widgets/widget.py\", line 518, in get_state\n",
      "    value = to_json(getattr(self, k), self)\n",
      "  File \"/home/carolina/anaconda3/lib/python3.7/site-packages/traitlets/traitlets.py\", line 556, in __get__\n",
      "    return self.get(obj, cls)\n",
      "  File \"/home/carolina/anaconda3/lib/python3.7/site-packages/traitlets/traitlets.py\", line 535, in get\n",
      "    value = self._validate(obj, dynamic_default())\n",
      "  File \"/home/carolina/anaconda3/lib/python3.7/site-packages/ipywidgets/widgets/trait_types.py\", line 169, in make_dynamic_default\n",
      "    **(self.default_kwargs or {}))\n",
      "  File \"/home/carolina/anaconda3/lib/python3.7/site-packages/ipywidgets/widgets/widget.py\", line 415, in __init__\n",
      "    self.open()\n"
     ]
    },
    {
     "name": "stderr",
     "output_type": "stream",
     "text": [
      "  File \"/home/carolina/anaconda3/lib/python3.7/site-packages/ipywidgets/widgets/widget.py\", line 438, in open\n",
      "    self.comm = Comm(**args)\n",
      "  File \"/home/carolina/anaconda3/lib/python3.7/site-packages/ipykernel/comm/comm.py\", line 57, in __init__\n",
      "    self.open(data=data, metadata=metadata, buffers=buffers)\n",
      "  File \"/home/carolina/anaconda3/lib/python3.7/site-packages/ipykernel/comm/comm.py\", line 94, in open\n",
      "    target_module=self.target_module,\n",
      "  File \"/home/carolina/anaconda3/lib/python3.7/site-packages/ipykernel/comm/comm.py\", line 71, in _publish_msg\n",
      "    buffers=buffers,\n",
      "  File \"/home/carolina/anaconda3/lib/python3.7/site-packages/jupyter_client/session.py\", line 716, in send\n",
      "    msg\n",
      "Message: 'WARNING: attempted to send message from fork\\n%s'\n",
      "Arguments: {'header': {'msg_id': '0db1fc71-f567f390929f23c4447943f6', 'msg_type': 'comm_open', 'username': 'carolina', 'session': '00002713-a660032c91836e00ced9dfca', 'date': datetime.datetime(2021, 10, 19, 10, 46, 54, 913218, tzinfo=datetime.timezone.utc), 'version': '5.3'}, 'msg_id': '0db1fc71-f567f390929f23c4447943f6', 'msg_type': 'comm_open', 'parent_header': {'msg_id': '7b640660a33e49c28c35c67797f778e8', 'username': 'username', 'session': 'f7d359ff3295493b8b30f9bb270262e4', 'msg_type': 'execute_request', 'version': '5.2', 'date': datetime.datetime(2021, 10, 19, 10, 46, 12, 917735, tzinfo=datetime.timezone.utc)}, 'content': {'data': {'state': {'_model_module': '@jupyter-widgets/base', '_model_module_version': '1.2.0', '_model_name': 'LayoutModel', '_view_count': None, '_view_module': '@jupyter-widgets/base', '_view_module_version': '1.2.0', '_view_name': 'LayoutView', 'align_content': None, 'align_items': None, 'align_self': None, 'border': None, 'bottom': None, 'display': None, 'flex': None, 'flex_flow': None, 'grid_area': None, 'grid_auto_columns': None, 'grid_auto_flow': None, 'grid_auto_rows': None, 'grid_column': None, 'grid_gap': None, 'grid_row': None, 'grid_template_areas': None, 'grid_template_columns': None, 'grid_template_rows': None, 'height': None, 'justify_content': None, 'justify_items': None, 'left': None, 'margin': None, 'max_height': None, 'max_width': None, 'min_height': None, 'min_width': None, 'object_fit': None, 'object_position': None, 'order': None, 'overflow': None, 'overflow_x': None, 'overflow_y': None, 'padding': None, 'right': None, 'top': None, 'visibility': None, 'width': None}, 'buffer_paths': []}, 'comm_id': '9154a1b67ead4aeeb54cd58dedecbce5', 'target_name': 'jupyter.widget', 'target_module': None}, 'metadata': {'version': '2.0.0'}}\n"
     ]
    },
    {
     "data": {
      "application/vnd.jupyter.widget-view+json": {
       "model_id": "7e33f37e116e472695fb572652036822",
       "version_major": 2,
       "version_minor": 0
      },
      "text/plain": [
       "HBox(children=(FloatProgress(value=0.0, max=121.0), HTML(value='')))"
      ]
     },
     "metadata": {},
     "output_type": "display_data"
    },
    {
     "name": "stderr",
     "output_type": "stream",
     "text": [
      "--- Logging error ---\n",
      "Traceback (most recent call last):\n",
      "  File \"/home/carolina/anaconda3/lib/python3.7/site-packages/traitlets/traitlets.py\", line 528, in get\n",
      "    value = obj._trait_values[self.name]\n",
      "KeyError: 'layout'\n",
      "\n",
      "During handling of the above exception, another exception occurred:\n",
      "\n",
      "Traceback (most recent call last):\n",
      "  File \"/home/carolina/anaconda3/lib/python3.7/logging/__init__.py\", line 1029, in emit\n",
      "    self.flush()\n",
      "  File \"/home/carolina/anaconda3/lib/python3.7/logging/__init__.py\", line 1009, in flush\n",
      "    self.stream.flush()\n",
      "OSError: [Errno 5] Input/output error\n",
      "Call stack:\n",
      "  File \"/home/carolina/anaconda3/lib/python3.7/runpy.py\", line 193, in _run_module_as_main\n",
      "    \"__main__\", mod_spec)\n",
      "  File \"/home/carolina/anaconda3/lib/python3.7/runpy.py\", line 85, in _run_code\n",
      "    exec(code, run_globals)\n",
      "  File \"/home/carolina/anaconda3/lib/python3.7/site-packages/ipykernel_launcher.py\", line 16, in <module>\n",
      "    app.launch_new_instance()\n",
      "  File \"/home/carolina/anaconda3/lib/python3.7/site-packages/traitlets/config/application.py\", line 664, in launch_instance\n",
      "    app.start()\n",
      "  File \"/home/carolina/anaconda3/lib/python3.7/site-packages/ipykernel/kernelapp.py\", line 583, in start\n",
      "    self.io_loop.start()\n",
      "  File \"/home/carolina/anaconda3/lib/python3.7/site-packages/tornado/platform/asyncio.py\", line 153, in start\n",
      "    self.asyncio_loop.run_forever()\n",
      "  File \"/home/carolina/anaconda3/lib/python3.7/asyncio/base_events.py\", line 538, in run_forever\n",
      "    self._run_once()\n",
      "  File \"/home/carolina/anaconda3/lib/python3.7/asyncio/base_events.py\", line 1782, in _run_once\n",
      "    handle._run()\n",
      "  File \"/home/carolina/anaconda3/lib/python3.7/asyncio/events.py\", line 88, in _run\n",
      "    self._context.run(self._callback, *self._args)\n",
      "  File \"/home/carolina/anaconda3/lib/python3.7/site-packages/tornado/ioloop.py\", line 690, in <lambda>\n",
      "    lambda f: self._run_callback(functools.partial(callback, future))\n",
      "  File \"/home/carolina/anaconda3/lib/python3.7/site-packages/tornado/ioloop.py\", line 743, in _run_callback\n",
      "    ret = callback()\n",
      "  File \"/home/carolina/anaconda3/lib/python3.7/site-packages/tornado/gen.py\", line 787, in inner\n",
      "    self.run()\n",
      "  File \"/home/carolina/anaconda3/lib/python3.7/site-packages/tornado/gen.py\", line 748, in run\n",
      "    yielded = self.gen.send(value)\n",
      "  File \"/home/carolina/anaconda3/lib/python3.7/site-packages/ipykernel/kernelbase.py\", line 377, in dispatch_queue\n",
      "    yield self.process_one()\n",
      "  File \"/home/carolina/anaconda3/lib/python3.7/site-packages/tornado/gen.py\", line 225, in wrapper\n",
      "    runner = Runner(result, future, yielded)\n",
      "  File \"/home/carolina/anaconda3/lib/python3.7/site-packages/tornado/gen.py\", line 714, in __init__\n",
      "    self.run()\n",
      "  File \"/home/carolina/anaconda3/lib/python3.7/site-packages/tornado/gen.py\", line 748, in run\n",
      "    yielded = self.gen.send(value)\n",
      "  File \"/home/carolina/anaconda3/lib/python3.7/site-packages/ipykernel/kernelbase.py\", line 361, in process_one\n",
      "    yield gen.maybe_future(dispatch(*args))\n",
      "  File \"/home/carolina/anaconda3/lib/python3.7/site-packages/tornado/gen.py\", line 209, in wrapper\n",
      "    yielded = next(result)\n",
      "  File \"/home/carolina/anaconda3/lib/python3.7/site-packages/ipykernel/kernelbase.py\", line 268, in dispatch_shell\n",
      "    yield gen.maybe_future(handler(stream, idents, msg))\n",
      "  File \"/home/carolina/anaconda3/lib/python3.7/site-packages/tornado/gen.py\", line 209, in wrapper\n",
      "    yielded = next(result)\n",
      "  File \"/home/carolina/anaconda3/lib/python3.7/site-packages/ipykernel/kernelbase.py\", line 541, in execute_request\n",
      "    user_expressions, allow_stdin,\n",
      "  File \"/home/carolina/anaconda3/lib/python3.7/site-packages/tornado/gen.py\", line 209, in wrapper\n",
      "    yielded = next(result)\n",
      "  File \"/home/carolina/anaconda3/lib/python3.7/site-packages/ipykernel/ipkernel.py\", line 300, in do_execute\n",
      "    res = shell.run_cell(code, store_history=store_history, silent=silent)\n",
      "  File \"/home/carolina/anaconda3/lib/python3.7/site-packages/ipykernel/zmqshell.py\", line 536, in run_cell\n",
      "    return super(ZMQInteractiveShell, self).run_cell(*args, **kwargs)\n",
      "  File \"/home/carolina/anaconda3/lib/python3.7/site-packages/IPython/core/interactiveshell.py\", line 2858, in run_cell\n",
      "    raw_cell, store_history, silent, shell_futures)\n",
      "  File \"/home/carolina/anaconda3/lib/python3.7/site-packages/IPython/core/interactiveshell.py\", line 2886, in _run_cell\n",
      "    return runner(coro)\n",
      "  File \"/home/carolina/anaconda3/lib/python3.7/site-packages/IPython/core/async_helpers.py\", line 68, in _pseudo_sync_runner\n",
      "    coro.send(None)\n",
      "  File \"/home/carolina/anaconda3/lib/python3.7/site-packages/IPython/core/interactiveshell.py\", line 3063, in run_cell_async\n",
      "    interactivity=interactivity, compiler=compiler, result=result)\n",
      "  File \"/home/carolina/anaconda3/lib/python3.7/site-packages/IPython/core/interactiveshell.py\", line 3254, in run_ast_nodes\n",
      "    if (await self.run_code(code, result,  async_=asy)):\n",
      "  File \"/home/carolina/anaconda3/lib/python3.7/site-packages/IPython/core/interactiveshell.py\", line 3331, in run_code\n",
      "    exec(code_obj, self.user_global_ns, self.user_ns)\n",
      "  File \"<ipython-input-5-3fe85b332bb4>\", line 3, in <module>\n",
      "    p=Pool(processes = num_processors)\n",
      "  File \"/home/carolina/anaconda3/lib/python3.7/multiprocessing/context.py\", line 119, in Pool\n",
      "    context=self.get_context())\n",
      "  File \"/home/carolina/anaconda3/lib/python3.7/multiprocessing/pool.py\", line 176, in __init__\n",
      "    self._repopulate_pool()\n",
      "  File \"/home/carolina/anaconda3/lib/python3.7/multiprocessing/pool.py\", line 241, in _repopulate_pool\n",
      "    w.start()\n",
      "--- Logging error ---\n",
      "  File \"/home/carolina/anaconda3/lib/python3.7/multiprocessing/process.py\", line 112, in start\n",
      "    self._popen = self._Popen(self)\n",
      "  File \"/home/carolina/anaconda3/lib/python3.7/multiprocessing/context.py\", line 277, in _Popen\n",
      "    return Popen(process_obj)\n",
      "  File \"/home/carolina/anaconda3/lib/python3.7/multiprocessing/popen_fork.py\", line 20, in __init__\n",
      "    self._launch(process_obj)\n",
      "  File \"/home/carolina/anaconda3/lib/python3.7/multiprocessing/popen_fork.py\", line 74, in _launch\n",
      "    code = process_obj._bootstrap()\n",
      "Traceback (most recent call last):\n",
      "  File \"/home/carolina/anaconda3/lib/python3.7/multiprocessing/process.py\", line 297, in _bootstrap\n",
      "    self.run()\n",
      "  File \"/home/carolina/anaconda3/lib/python3.7/site-packages/traitlets/traitlets.py\", line 528, in get\n",
      "    value = obj._trait_values[self.name]\n",
      "  File \"/home/carolina/anaconda3/lib/python3.7/multiprocessing/process.py\", line 99, in run\n",
      "    self._target(*self._args, **self._kwargs)\n",
      "KeyError: 'layout'\n",
      "  File \"/home/carolina/anaconda3/lib/python3.7/multiprocessing/pool.py\", line 121, in worker\n",
      "    result = (True, func(*args, **kwds))\n",
      "\n",
      "During handling of the above exception, another exception occurred:\n",
      "\n",
      "  File \"<ipython-input-3-06facdf97caf>\", line 17, in do_everything\n",
      "    v.trj_to_vertices(col_trj.loc[frames[::10]])\n",
      "Traceback (most recent call last):\n",
      "  File \"../icenumerics/icenumerics/vertices.py\", line 352, in trj_to_vertices\n",
      "    {o_i:trj_to_vertices_single_frame(trj_oi) for o_i, trj_oi in tqdm.tqdm(trj.groupby(other_i))},\n",
      "  File \"/home/carolina/anaconda3/lib/python3.7/site-packages/tqdm/notebook.py\", line 208, in __init__\n",
      "    self.fp, total, self.desc, self.ncols)\n",
      "  File \"/home/carolina/anaconda3/lib/python3.7/logging/__init__.py\", line 1029, in emit\n",
      "    self.flush()\n",
      "  File \"/home/carolina/anaconda3/lib/python3.7/site-packages/tqdm/notebook.py\", line 96, in status_printer\n",
      "    pbar = IProgress(min=0, max=total)\n",
      "  File \"/home/carolina/anaconda3/lib/python3.7/logging/__init__.py\", line 1009, in flush\n",
      "    self.stream.flush()\n",
      "  File \"/home/carolina/anaconda3/lib/python3.7/site-packages/ipywidgets/widgets/widget_float.py\", line 26, in __init__\n",
      "    super(_Float, self).__init__(**kwargs)\n",
      "OSError: [Errno 5] Input/output error\n",
      "  File \"/home/carolina/anaconda3/lib/python3.7/site-packages/ipywidgets/widgets/widget.py\", line 415, in __init__\n",
      "    self.open()\n",
      "Call stack:\n",
      "  File \"/home/carolina/anaconda3/lib/python3.7/site-packages/ipywidgets/widgets/widget.py\", line 428, in open\n",
      "    state, buffer_paths, buffers = _remove_buffers(self.get_state())\n",
      "  File \"/home/carolina/anaconda3/lib/python3.7/site-packages/ipywidgets/widgets/widget.py\", line 518, in get_state\n",
      "    value = to_json(getattr(self, k), self)\n"
     ]
    },
    {
     "name": "stderr",
     "output_type": "stream",
     "text": [
      "  File \"/home/carolina/anaconda3/lib/python3.7/site-packages/traitlets/traitlets.py\", line 556, in __get__\n",
      "    return self.get(obj, cls)\n",
      "  File \"/home/carolina/anaconda3/lib/python3.7/site-packages/traitlets/traitlets.py\", line 535, in get\n",
      "    value = self._validate(obj, dynamic_default())\n",
      "  File \"/home/carolina/anaconda3/lib/python3.7/site-packages/ipywidgets/widgets/trait_types.py\", line 169, in make_dynamic_default\n",
      "    **(self.default_kwargs or {}))\n",
      "  File \"/home/carolina/anaconda3/lib/python3.7/site-packages/ipywidgets/widgets/widget.py\", line 415, in __init__\n",
      "    self.open()\n",
      "  File \"/home/carolina/anaconda3/lib/python3.7/site-packages/ipywidgets/widgets/widget.py\", line 438, in open\n",
      "    self.comm = Comm(**args)\n",
      "  File \"/home/carolina/anaconda3/lib/python3.7/runpy.py\", line 193, in _run_module_as_main\n",
      "    \"__main__\", mod_spec)\n",
      "  File \"/home/carolina/anaconda3/lib/python3.7/site-packages/ipykernel/comm/comm.py\", line 57, in __init__\n",
      "    self.open(data=data, metadata=metadata, buffers=buffers)\n",
      "  File \"/home/carolina/anaconda3/lib/python3.7/site-packages/ipykernel/comm/comm.py\", line 94, in open\n",
      "    target_module=self.target_module,\n",
      "  File \"/home/carolina/anaconda3/lib/python3.7/runpy.py\", line 85, in _run_code\n",
      "    exec(code, run_globals)\n",
      "  File \"/home/carolina/anaconda3/lib/python3.7/site-packages/ipykernel/comm/comm.py\", line 71, in _publish_msg\n",
      "    buffers=buffers,\n",
      "  File \"/home/carolina/anaconda3/lib/python3.7/site-packages/ipykernel_launcher.py\", line 16, in <module>\n",
      "    app.launch_new_instance()\n",
      "  File \"/home/carolina/anaconda3/lib/python3.7/site-packages/jupyter_client/session.py\", line 716, in send\n",
      "    msg\n",
      "  File \"/home/carolina/anaconda3/lib/python3.7/site-packages/traitlets/config/application.py\", line 664, in launch_instance\n",
      "    app.start()\n",
      "Message: 'WARNING: attempted to send message from fork\\n%s'\n",
      "Arguments: {'header': {'msg_id': 'e0d67f6b-4df53dc776c486d15cd4822b', 'msg_type': 'comm_open', 'username': 'carolina', 'session': '00002713-a660032c91836e00ced9dfca', 'date': datetime.datetime(2021, 10, 19, 10, 46, 55, 193126, tzinfo=datetime.timezone.utc), 'version': '5.3'}, 'msg_id': 'e0d67f6b-4df53dc776c486d15cd4822b', 'msg_type': 'comm_open', 'parent_header': {'msg_id': '7b640660a33e49c28c35c67797f778e8', 'username': 'username', 'session': 'f7d359ff3295493b8b30f9bb270262e4', 'msg_type': 'execute_request', 'version': '5.2', 'date': datetime.datetime(2021, 10, 19, 10, 46, 12, 917735, tzinfo=datetime.timezone.utc)}, 'content': {'data': {'state': {'_model_module': '@jupyter-widgets/base', '_model_module_version': '1.2.0', '_model_name': 'LayoutModel', '_view_count': None, '_view_module': '@jupyter-widgets/base', '_view_module_version': '1.2.0', '_view_name': 'LayoutView', 'align_content': None, 'align_items': None, 'align_self': None, 'border': None, 'bottom': None, 'display': None, 'flex': None, 'flex_flow': None, 'grid_area': None, 'grid_auto_columns': None, 'grid_auto_flow': None, 'grid_auto_rows': None, 'grid_column': None, 'grid_gap': None, 'grid_row': None, 'grid_template_areas': None, 'grid_template_columns': None, 'grid_template_rows': None, 'height': None, 'justify_content': None, 'justify_items': None, 'left': None, 'margin': None, 'max_height': None, 'max_width': None, 'min_height': None, 'min_width': None, 'object_fit': None, 'object_position': None, 'order': None, 'overflow': None, 'overflow_x': None, 'overflow_y': None, 'padding': None, 'right': None, 'top': None, 'visibility': None, 'width': None}, 'buffer_paths': []}, 'comm_id': '0502a6d2f959486fa3b9dcc5b07f1f83', 'target_name': 'jupyter.widget', 'target_module': None}, 'metadata': {'version': '2.0.0'}}\n",
      "  File \"/home/carolina/anaconda3/lib/python3.7/site-packages/ipykernel/kernelapp.py\", line 583, in start\n",
      "    self.io_loop.start()\n",
      "  File \"/home/carolina/anaconda3/lib/python3.7/site-packages/tornado/platform/asyncio.py\", line 153, in start\n",
      "    self.asyncio_loop.run_forever()\n",
      "  File \"/home/carolina/anaconda3/lib/python3.7/asyncio/base_events.py\", line 538, in run_forever\n",
      "    self._run_once()\n",
      "  File \"/home/carolina/anaconda3/lib/python3.7/asyncio/base_events.py\", line 1782, in _run_once\n",
      "    handle._run()\n",
      "  File \"/home/carolina/anaconda3/lib/python3.7/asyncio/events.py\", line 88, in _run\n",
      "    self._context.run(self._callback, *self._args)\n",
      "  File \"/home/carolina/anaconda3/lib/python3.7/site-packages/tornado/ioloop.py\", line 690, in <lambda>\n",
      "    lambda f: self._run_callback(functools.partial(callback, future))\n",
      "  File \"/home/carolina/anaconda3/lib/python3.7/site-packages/tornado/ioloop.py\", line 743, in _run_callback\n",
      "    ret = callback()\n",
      "  File \"/home/carolina/anaconda3/lib/python3.7/site-packages/tornado/gen.py\", line 787, in inner\n",
      "    self.run()\n",
      "  File \"/home/carolina/anaconda3/lib/python3.7/site-packages/tornado/gen.py\", line 748, in run\n",
      "    yielded = self.gen.send(value)\n",
      "  File \"/home/carolina/anaconda3/lib/python3.7/site-packages/ipykernel/kernelbase.py\", line 377, in dispatch_queue\n",
      "    yield self.process_one()\n",
      "  File \"/home/carolina/anaconda3/lib/python3.7/site-packages/tornado/gen.py\", line 225, in wrapper\n",
      "    runner = Runner(result, future, yielded)\n",
      "  File \"/home/carolina/anaconda3/lib/python3.7/site-packages/tornado/gen.py\", line 714, in __init__\n",
      "    self.run()\n",
      "  File \"/home/carolina/anaconda3/lib/python3.7/site-packages/tornado/gen.py\", line 748, in run\n",
      "    yielded = self.gen.send(value)\n",
      "  File \"/home/carolina/anaconda3/lib/python3.7/site-packages/ipykernel/kernelbase.py\", line 361, in process_one\n",
      "    yield gen.maybe_future(dispatch(*args))\n",
      "  File \"/home/carolina/anaconda3/lib/python3.7/site-packages/tornado/gen.py\", line 209, in wrapper\n",
      "    yielded = next(result)\n",
      "  File \"/home/carolina/anaconda3/lib/python3.7/site-packages/ipykernel/kernelbase.py\", line 268, in dispatch_shell\n",
      "    yield gen.maybe_future(handler(stream, idents, msg))\n",
      "  File \"/home/carolina/anaconda3/lib/python3.7/site-packages/tornado/gen.py\", line 209, in wrapper\n",
      "    yielded = next(result)\n",
      "  File \"/home/carolina/anaconda3/lib/python3.7/site-packages/ipykernel/kernelbase.py\", line 541, in execute_request\n",
      "    user_expressions, allow_stdin,\n",
      "  File \"/home/carolina/anaconda3/lib/python3.7/site-packages/tornado/gen.py\", line 209, in wrapper\n",
      "    yielded = next(result)\n",
      "  File \"/home/carolina/anaconda3/lib/python3.7/site-packages/ipykernel/ipkernel.py\", line 300, in do_execute\n",
      "    res = shell.run_cell(code, store_history=store_history, silent=silent)\n",
      "  File \"/home/carolina/anaconda3/lib/python3.7/site-packages/ipykernel/zmqshell.py\", line 536, in run_cell\n",
      "    return super(ZMQInteractiveShell, self).run_cell(*args, **kwargs)\n",
      "  File \"/home/carolina/anaconda3/lib/python3.7/site-packages/IPython/core/interactiveshell.py\", line 2858, in run_cell\n",
      "    raw_cell, store_history, silent, shell_futures)\n",
      "  File \"/home/carolina/anaconda3/lib/python3.7/site-packages/IPython/core/interactiveshell.py\", line 2886, in _run_cell\n",
      "    return runner(coro)\n",
      "  File \"/home/carolina/anaconda3/lib/python3.7/site-packages/IPython/core/async_helpers.py\", line 68, in _pseudo_sync_runner\n",
      "    coro.send(None)\n",
      "  File \"/home/carolina/anaconda3/lib/python3.7/site-packages/IPython/core/interactiveshell.py\", line 3063, in run_cell_async\n",
      "    interactivity=interactivity, compiler=compiler, result=result)\n",
      "  File \"/home/carolina/anaconda3/lib/python3.7/site-packages/IPython/core/interactiveshell.py\", line 3254, in run_ast_nodes\n",
      "    if (await self.run_code(code, result,  async_=asy)):\n",
      "  File \"/home/carolina/anaconda3/lib/python3.7/site-packages/IPython/core/interactiveshell.py\", line 3331, in run_code\n",
      "    exec(code_obj, self.user_global_ns, self.user_ns)\n",
      "  File \"<ipython-input-5-3fe85b332bb4>\", line 3, in <module>\n",
      "    p=Pool(processes = num_processors)\n",
      "  File \"/home/carolina/anaconda3/lib/python3.7/multiprocessing/context.py\", line 119, in Pool\n",
      "    context=self.get_context())\n",
      "  File \"/home/carolina/anaconda3/lib/python3.7/multiprocessing/pool.py\", line 176, in __init__\n",
      "    self._repopulate_pool()\n",
      "  File \"/home/carolina/anaconda3/lib/python3.7/multiprocessing/pool.py\", line 241, in _repopulate_pool\n",
      "    w.start()\n",
      "  File \"/home/carolina/anaconda3/lib/python3.7/multiprocessing/process.py\", line 112, in start\n",
      "    self._popen = self._Popen(self)\n"
     ]
    },
    {
     "data": {
      "application/vnd.jupyter.widget-view+json": {
       "model_id": "e4d8a7081af64bb6b7ea40d3979d072e",
       "version_major": 2,
       "version_minor": 0
      },
      "text/plain": [
       "HBox(children=(FloatProgress(value=0.0, max=121.0), HTML(value='')))"
      ]
     },
     "metadata": {},
     "output_type": "display_data"
    },
    {
     "name": "stderr",
     "output_type": "stream",
     "text": [
      "  File \"/home/carolina/anaconda3/lib/python3.7/multiprocessing/context.py\", line 277, in _Popen\n",
      "    return Popen(process_obj)\n",
      "  File \"/home/carolina/anaconda3/lib/python3.7/multiprocessing/popen_fork.py\", line 20, in __init__\n",
      "    self._launch(process_obj)\n",
      "  File \"/home/carolina/anaconda3/lib/python3.7/multiprocessing/popen_fork.py\", line 74, in _launch\n",
      "    code = process_obj._bootstrap()\n",
      "  File \"/home/carolina/anaconda3/lib/python3.7/multiprocessing/process.py\", line 297, in _bootstrap\n",
      "    self.run()\n",
      "  File \"/home/carolina/anaconda3/lib/python3.7/multiprocessing/process.py\", line 99, in run\n",
      "    self._target(*self._args, **self._kwargs)\n",
      "  File \"/home/carolina/anaconda3/lib/python3.7/multiprocessing/pool.py\", line 121, in worker\n",
      "    result = (True, func(*args, **kwds))\n",
      "  File \"<ipython-input-3-06facdf97caf>\", line 17, in do_everything\n",
      "    v.trj_to_vertices(col_trj.loc[frames[::10]])\n",
      "  File \"../icenumerics/icenumerics/vertices.py\", line 352, in trj_to_vertices\n",
      "    {o_i:trj_to_vertices_single_frame(trj_oi) for o_i, trj_oi in tqdm.tqdm(trj.groupby(other_i))},\n",
      "  File \"/home/carolina/anaconda3/lib/python3.7/site-packages/tqdm/notebook.py\", line 208, in __init__\n",
      "    self.fp, total, self.desc, self.ncols)\n",
      "  File \"/home/carolina/anaconda3/lib/python3.7/site-packages/tqdm/notebook.py\", line 96, in status_printer\n",
      "    pbar = IProgress(min=0, max=total)\n",
      "  File \"/home/carolina/anaconda3/lib/python3.7/site-packages/ipywidgets/widgets/widget_float.py\", line 26, in __init__\n",
      "    super(_Float, self).__init__(**kwargs)\n",
      "  File \"/home/carolina/anaconda3/lib/python3.7/site-packages/ipywidgets/widgets/widget.py\", line 415, in __init__\n",
      "    self.open()\n",
      "  File \"/home/carolina/anaconda3/lib/python3.7/site-packages/ipywidgets/widgets/widget.py\", line 428, in open\n",
      "    state, buffer_paths, buffers = _remove_buffers(self.get_state())\n",
      "  File \"/home/carolina/anaconda3/lib/python3.7/site-packages/ipywidgets/widgets/widget.py\", line 518, in get_state\n",
      "    value = to_json(getattr(self, k), self)\n",
      "  File \"/home/carolina/anaconda3/lib/python3.7/site-packages/traitlets/traitlets.py\", line 556, in __get__\n",
      "    return self.get(obj, cls)\n",
      "  File \"/home/carolina/anaconda3/lib/python3.7/site-packages/traitlets/traitlets.py\", line 535, in get\n",
      "    value = self._validate(obj, dynamic_default())\n",
      "  File \"/home/carolina/anaconda3/lib/python3.7/site-packages/ipywidgets/widgets/trait_types.py\", line 169, in make_dynamic_default\n",
      "    **(self.default_kwargs or {}))\n",
      "  File \"/home/carolina/anaconda3/lib/python3.7/site-packages/ipywidgets/widgets/widget.py\", line 415, in __init__\n",
      "    self.open()\n",
      "  File \"/home/carolina/anaconda3/lib/python3.7/site-packages/ipywidgets/widgets/widget.py\", line 438, in open\n",
      "    self.comm = Comm(**args)\n",
      "  File \"/home/carolina/anaconda3/lib/python3.7/site-packages/ipykernel/comm/comm.py\", line 57, in __init__\n",
      "    self.open(data=data, metadata=metadata, buffers=buffers)\n",
      "  File \"/home/carolina/anaconda3/lib/python3.7/site-packages/ipykernel/comm/comm.py\", line 94, in open\n",
      "    target_module=self.target_module,\n",
      "  File \"/home/carolina/anaconda3/lib/python3.7/site-packages/ipykernel/comm/comm.py\", line 71, in _publish_msg\n",
      "    buffers=buffers,\n",
      "  File \"/home/carolina/anaconda3/lib/python3.7/site-packages/jupyter_client/session.py\", line 716, in send\n",
      "    msg\n",
      "Message: 'WARNING: attempted to send message from fork\\n%s'\n",
      "Arguments: {'header': {'msg_id': '497a7f48-21c02e987f515950776c5a46', 'msg_type': 'comm_open', 'username': 'carolina', 'session': '00002713-a660032c91836e00ced9dfca', 'date': datetime.datetime(2021, 10, 19, 10, 46, 55, 216238, tzinfo=datetime.timezone.utc), 'version': '5.3'}, 'msg_id': '497a7f48-21c02e987f515950776c5a46', 'msg_type': 'comm_open', 'parent_header': {'msg_id': '7b640660a33e49c28c35c67797f778e8', 'username': 'username', 'session': 'f7d359ff3295493b8b30f9bb270262e4', 'msg_type': 'execute_request', 'version': '5.2', 'date': datetime.datetime(2021, 10, 19, 10, 46, 12, 917735, tzinfo=datetime.timezone.utc)}, 'content': {'data': {'state': {'_model_module': '@jupyter-widgets/base', '_model_module_version': '1.2.0', '_model_name': 'LayoutModel', '_view_count': None, '_view_module': '@jupyter-widgets/base', '_view_module_version': '1.2.0', '_view_name': 'LayoutView', 'align_content': None, 'align_items': None, 'align_self': None, 'border': None, 'bottom': None, 'display': None, 'flex': None, 'flex_flow': None, 'grid_area': None, 'grid_auto_columns': None, 'grid_auto_flow': None, 'grid_auto_rows': None, 'grid_column': None, 'grid_gap': None, 'grid_row': None, 'grid_template_areas': None, 'grid_template_columns': None, 'grid_template_rows': None, 'height': None, 'justify_content': None, 'justify_items': None, 'left': None, 'margin': None, 'max_height': None, 'max_width': None, 'min_height': None, 'min_width': None, 'object_fit': None, 'object_position': None, 'order': None, 'overflow': None, 'overflow_x': None, 'overflow_y': None, 'padding': None, 'right': None, 'top': None, 'visibility': None, 'width': None}, 'buffer_paths': []}, 'comm_id': 'd96ebd15bcec40308f7ff2ede8dc9bd5', 'target_name': 'jupyter.widget', 'target_module': None}, 'metadata': {'version': '2.0.0'}}\n"
     ]
    },
    {
     "data": {
      "application/vnd.jupyter.widget-view+json": {
       "model_id": "a9066730a12b43c99ef3fdf41fe5f14d",
       "version_major": 2,
       "version_minor": 0
      },
      "text/plain": [
       "HBox(children=(FloatProgress(value=0.0, max=121.0), HTML(value='')))"
      ]
     },
     "metadata": {},
     "output_type": "display_data"
    },
    {
     "name": "stderr",
     "output_type": "stream",
     "text": [
      "--- Logging error ---\n",
      "Traceback (most recent call last):\n",
      "  File \"/home/carolina/anaconda3/lib/python3.7/site-packages/traitlets/traitlets.py\", line 528, in get\n",
      "    value = obj._trait_values[self.name]\n",
      "KeyError: 'layout'\n",
      "\n",
      "During handling of the above exception, another exception occurred:\n",
      "\n",
      "Traceback (most recent call last):\n",
      "  File \"/home/carolina/anaconda3/lib/python3.7/logging/__init__.py\", line 1029, in emit\n",
      "    self.flush()\n",
      "  File \"/home/carolina/anaconda3/lib/python3.7/logging/__init__.py\", line 1009, in flush\n",
      "    self.stream.flush()\n",
      "OSError: [Errno 5] Input/output error\n",
      "Call stack:\n",
      "  File \"/home/carolina/anaconda3/lib/python3.7/runpy.py\", line 193, in _run_module_as_main\n",
      "    \"__main__\", mod_spec)\n",
      "  File \"/home/carolina/anaconda3/lib/python3.7/runpy.py\", line 85, in _run_code\n",
      "    exec(code, run_globals)\n",
      "  File \"/home/carolina/anaconda3/lib/python3.7/site-packages/ipykernel_launcher.py\", line 16, in <module>\n",
      "    app.launch_new_instance()\n",
      "  File \"/home/carolina/anaconda3/lib/python3.7/site-packages/traitlets/config/application.py\", line 664, in launch_instance\n",
      "    app.start()\n",
      "  File \"/home/carolina/anaconda3/lib/python3.7/site-packages/ipykernel/kernelapp.py\", line 583, in start\n",
      "    self.io_loop.start()\n",
      "  File \"/home/carolina/anaconda3/lib/python3.7/site-packages/tornado/platform/asyncio.py\", line 153, in start\n",
      "    self.asyncio_loop.run_forever()\n",
      "  File \"/home/carolina/anaconda3/lib/python3.7/asyncio/base_events.py\", line 538, in run_forever\n",
      "    self._run_once()\n",
      "  File \"/home/carolina/anaconda3/lib/python3.7/asyncio/base_events.py\", line 1782, in _run_once\n",
      "    handle._run()\n",
      "  File \"/home/carolina/anaconda3/lib/python3.7/asyncio/events.py\", line 88, in _run\n",
      "    self._context.run(self._callback, *self._args)\n",
      "  File \"/home/carolina/anaconda3/lib/python3.7/site-packages/tornado/ioloop.py\", line 690, in <lambda>\n",
      "    lambda f: self._run_callback(functools.partial(callback, future))\n",
      "  File \"/home/carolina/anaconda3/lib/python3.7/site-packages/tornado/ioloop.py\", line 743, in _run_callback\n",
      "    ret = callback()\n",
      "  File \"/home/carolina/anaconda3/lib/python3.7/site-packages/tornado/gen.py\", line 787, in inner\n",
      "    self.run()\n",
      "  File \"/home/carolina/anaconda3/lib/python3.7/site-packages/tornado/gen.py\", line 748, in run\n",
      "    yielded = self.gen.send(value)\n",
      "  File \"/home/carolina/anaconda3/lib/python3.7/site-packages/ipykernel/kernelbase.py\", line 377, in dispatch_queue\n",
      "    yield self.process_one()\n",
      "  File \"/home/carolina/anaconda3/lib/python3.7/site-packages/tornado/gen.py\", line 225, in wrapper\n",
      "    runner = Runner(result, future, yielded)\n",
      "  File \"/home/carolina/anaconda3/lib/python3.7/site-packages/tornado/gen.py\", line 714, in __init__\n",
      "    self.run()\n",
      "  File \"/home/carolina/anaconda3/lib/python3.7/site-packages/tornado/gen.py\", line 748, in run\n",
      "    yielded = self.gen.send(value)\n",
      "  File \"/home/carolina/anaconda3/lib/python3.7/site-packages/ipykernel/kernelbase.py\", line 361, in process_one\n",
      "    yield gen.maybe_future(dispatch(*args))\n",
      "  File \"/home/carolina/anaconda3/lib/python3.7/site-packages/tornado/gen.py\", line 209, in wrapper\n",
      "    yielded = next(result)\n",
      "  File \"/home/carolina/anaconda3/lib/python3.7/site-packages/ipykernel/kernelbase.py\", line 268, in dispatch_shell\n",
      "    yield gen.maybe_future(handler(stream, idents, msg))\n",
      "  File \"/home/carolina/anaconda3/lib/python3.7/site-packages/tornado/gen.py\", line 209, in wrapper\n",
      "    yielded = next(result)\n",
      "  File \"/home/carolina/anaconda3/lib/python3.7/site-packages/ipykernel/kernelbase.py\", line 541, in execute_request\n",
      "    user_expressions, allow_stdin,\n",
      "  File \"/home/carolina/anaconda3/lib/python3.7/site-packages/tornado/gen.py\", line 209, in wrapper\n",
      "    yielded = next(result)\n",
      "  File \"/home/carolina/anaconda3/lib/python3.7/site-packages/ipykernel/ipkernel.py\", line 300, in do_execute\n",
      "    res = shell.run_cell(code, store_history=store_history, silent=silent)\n",
      "  File \"/home/carolina/anaconda3/lib/python3.7/site-packages/ipykernel/zmqshell.py\", line 536, in run_cell\n",
      "    return super(ZMQInteractiveShell, self).run_cell(*args, **kwargs)\n",
      "  File \"/home/carolina/anaconda3/lib/python3.7/site-packages/IPython/core/interactiveshell.py\", line 2858, in run_cell\n",
      "    raw_cell, store_history, silent, shell_futures)\n",
      "  File \"/home/carolina/anaconda3/lib/python3.7/site-packages/IPython/core/interactiveshell.py\", line 2886, in _run_cell\n",
      "    return runner(coro)\n",
      "  File \"/home/carolina/anaconda3/lib/python3.7/site-packages/IPython/core/async_helpers.py\", line 68, in _pseudo_sync_runner\n",
      "    coro.send(None)\n",
      "  File \"/home/carolina/anaconda3/lib/python3.7/site-packages/IPython/core/interactiveshell.py\", line 3063, in run_cell_async\n",
      "    interactivity=interactivity, compiler=compiler, result=result)\n",
      "  File \"/home/carolina/anaconda3/lib/python3.7/site-packages/IPython/core/interactiveshell.py\", line 3254, in run_ast_nodes\n",
      "    if (await self.run_code(code, result,  async_=asy)):\n",
      "  File \"/home/carolina/anaconda3/lib/python3.7/site-packages/IPython/core/interactiveshell.py\", line 3331, in run_code\n",
      "    exec(code_obj, self.user_global_ns, self.user_ns)\n",
      "  File \"<ipython-input-5-3fe85b332bb4>\", line 3, in <module>\n",
      "    p=Pool(processes = num_processors)\n",
      "  File \"/home/carolina/anaconda3/lib/python3.7/multiprocessing/context.py\", line 119, in Pool\n",
      "    context=self.get_context())\n",
      "  File \"/home/carolina/anaconda3/lib/python3.7/multiprocessing/pool.py\", line 176, in __init__\n",
      "    self._repopulate_pool()\n",
      "  File \"/home/carolina/anaconda3/lib/python3.7/multiprocessing/pool.py\", line 241, in _repopulate_pool\n",
      "    w.start()\n",
      "  File \"/home/carolina/anaconda3/lib/python3.7/multiprocessing/process.py\", line 112, in start\n",
      "    self._popen = self._Popen(self)\n",
      "  File \"/home/carolina/anaconda3/lib/python3.7/multiprocessing/context.py\", line 277, in _Popen\n",
      "    return Popen(process_obj)\n",
      "  File \"/home/carolina/anaconda3/lib/python3.7/multiprocessing/popen_fork.py\", line 20, in __init__\n",
      "    self._launch(process_obj)\n",
      "  File \"/home/carolina/anaconda3/lib/python3.7/multiprocessing/popen_fork.py\", line 74, in _launch\n",
      "    code = process_obj._bootstrap()\n",
      "  File \"/home/carolina/anaconda3/lib/python3.7/multiprocessing/process.py\", line 297, in _bootstrap\n",
      "    self.run()\n",
      "  File \"/home/carolina/anaconda3/lib/python3.7/multiprocessing/process.py\", line 99, in run\n",
      "    self._target(*self._args, **self._kwargs)\n",
      "  File \"/home/carolina/anaconda3/lib/python3.7/multiprocessing/pool.py\", line 121, in worker\n",
      "    result = (True, func(*args, **kwds))\n",
      "  File \"<ipython-input-3-06facdf97caf>\", line 17, in do_everything\n",
      "    v.trj_to_vertices(col_trj.loc[frames[::10]])\n",
      "  File \"../icenumerics/icenumerics/vertices.py\", line 352, in trj_to_vertices\n",
      "    {o_i:trj_to_vertices_single_frame(trj_oi) for o_i, trj_oi in tqdm.tqdm(trj.groupby(other_i))},\n",
      "  File \"/home/carolina/anaconda3/lib/python3.7/site-packages/tqdm/notebook.py\", line 208, in __init__\n",
      "    self.fp, total, self.desc, self.ncols)\n",
      "  File \"/home/carolina/anaconda3/lib/python3.7/site-packages/tqdm/notebook.py\", line 96, in status_printer\n",
      "    pbar = IProgress(min=0, max=total)\n",
      "  File \"/home/carolina/anaconda3/lib/python3.7/site-packages/ipywidgets/widgets/widget_float.py\", line 26, in __init__\n",
      "    super(_Float, self).__init__(**kwargs)\n",
      "  File \"/home/carolina/anaconda3/lib/python3.7/site-packages/ipywidgets/widgets/widget.py\", line 415, in __init__\n",
      "    self.open()\n",
      "  File \"/home/carolina/anaconda3/lib/python3.7/site-packages/ipywidgets/widgets/widget.py\", line 428, in open\n",
      "    state, buffer_paths, buffers = _remove_buffers(self.get_state())\n",
      "  File \"/home/carolina/anaconda3/lib/python3.7/site-packages/ipywidgets/widgets/widget.py\", line 518, in get_state\n",
      "    value = to_json(getattr(self, k), self)\n",
      "  File \"/home/carolina/anaconda3/lib/python3.7/site-packages/traitlets/traitlets.py\", line 556, in __get__\n",
      "    return self.get(obj, cls)\n",
      "  File \"/home/carolina/anaconda3/lib/python3.7/site-packages/traitlets/traitlets.py\", line 535, in get\n",
      "    value = self._validate(obj, dynamic_default())\n",
      "  File \"/home/carolina/anaconda3/lib/python3.7/site-packages/ipywidgets/widgets/trait_types.py\", line 169, in make_dynamic_default\n",
      "    **(self.default_kwargs or {}))\n",
      "  File \"/home/carolina/anaconda3/lib/python3.7/site-packages/ipywidgets/widgets/widget.py\", line 415, in __init__\n",
      "    self.open()\n"
     ]
    },
    {
     "name": "stderr",
     "output_type": "stream",
     "text": [
      "  File \"/home/carolina/anaconda3/lib/python3.7/site-packages/ipywidgets/widgets/widget.py\", line 438, in open\n",
      "    self.comm = Comm(**args)\n",
      "  File \"/home/carolina/anaconda3/lib/python3.7/site-packages/ipykernel/comm/comm.py\", line 57, in __init__\n",
      "    self.open(data=data, metadata=metadata, buffers=buffers)\n",
      "  File \"/home/carolina/anaconda3/lib/python3.7/site-packages/ipykernel/comm/comm.py\", line 94, in open\n",
      "    target_module=self.target_module,\n",
      "  File \"/home/carolina/anaconda3/lib/python3.7/site-packages/ipykernel/comm/comm.py\", line 71, in _publish_msg\n",
      "    buffers=buffers,\n",
      "  File \"/home/carolina/anaconda3/lib/python3.7/site-packages/jupyter_client/session.py\", line 716, in send\n",
      "    msg\n",
      "Message: 'WARNING: attempted to send message from fork\\n%s'\n",
      "Arguments: {'header': {'msg_id': '2f4d7e1e-dfc317e5e74a4ee105e2ac2c', 'msg_type': 'comm_open', 'username': 'carolina', 'session': '00002713-a660032c91836e00ced9dfca', 'date': datetime.datetime(2021, 10, 19, 10, 46, 55, 298005, tzinfo=datetime.timezone.utc), 'version': '5.3'}, 'msg_id': '2f4d7e1e-dfc317e5e74a4ee105e2ac2c', 'msg_type': 'comm_open', 'parent_header': {'msg_id': '7b640660a33e49c28c35c67797f778e8', 'username': 'username', 'session': 'f7d359ff3295493b8b30f9bb270262e4', 'msg_type': 'execute_request', 'version': '5.2', 'date': datetime.datetime(2021, 10, 19, 10, 46, 12, 917735, tzinfo=datetime.timezone.utc)}, 'content': {'data': {'state': {'_model_module': '@jupyter-widgets/base', '_model_module_version': '1.2.0', '_model_name': 'LayoutModel', '_view_count': None, '_view_module': '@jupyter-widgets/base', '_view_module_version': '1.2.0', '_view_name': 'LayoutView', 'align_content': None, 'align_items': None, 'align_self': None, 'border': None, 'bottom': None, 'display': None, 'flex': None, 'flex_flow': None, 'grid_area': None, 'grid_auto_columns': None, 'grid_auto_flow': None, 'grid_auto_rows': None, 'grid_column': None, 'grid_gap': None, 'grid_row': None, 'grid_template_areas': None, 'grid_template_columns': None, 'grid_template_rows': None, 'height': None, 'justify_content': None, 'justify_items': None, 'left': None, 'margin': None, 'max_height': None, 'max_width': None, 'min_height': None, 'min_width': None, 'object_fit': None, 'object_position': None, 'order': None, 'overflow': None, 'overflow_x': None, 'overflow_y': None, 'padding': None, 'right': None, 'top': None, 'visibility': None, 'width': None}, 'buffer_paths': []}, 'comm_id': '74c019cb8616402c86277c2484c31115', 'target_name': 'jupyter.widget', 'target_module': None}, 'metadata': {'version': '2.0.0'}}\n"
     ]
    },
    {
     "data": {
      "application/vnd.jupyter.widget-view+json": {
       "model_id": "7fe3fc7ce033469b806607bea9fd3e0c",
       "version_major": 2,
       "version_minor": 0
      },
      "text/plain": [
       "HBox(children=(FloatProgress(value=0.0, max=121.0), HTML(value='')))"
      ]
     },
     "metadata": {},
     "output_type": "display_data"
    },
    {
     "name": "stderr",
     "output_type": "stream",
     "text": [
      "--- Logging error ---\n",
      "Traceback (most recent call last):\n",
      "  File \"/home/carolina/anaconda3/lib/python3.7/site-packages/traitlets/traitlets.py\", line 528, in get\n",
      "    value = obj._trait_values[self.name]\n",
      "KeyError: 'layout'\n",
      "\n",
      "During handling of the above exception, another exception occurred:\n",
      "\n",
      "Traceback (most recent call last):\n",
      "  File \"/home/carolina/anaconda3/lib/python3.7/logging/__init__.py\", line 1029, in emit\n",
      "    self.flush()\n",
      "  File \"/home/carolina/anaconda3/lib/python3.7/logging/__init__.py\", line 1009, in flush\n",
      "    self.stream.flush()\n",
      "OSError: [Errno 5] Input/output error\n",
      "Call stack:\n",
      "  File \"/home/carolina/anaconda3/lib/python3.7/runpy.py\", line 193, in _run_module_as_main\n",
      "    \"__main__\", mod_spec)\n",
      "  File \"/home/carolina/anaconda3/lib/python3.7/runpy.py\", line 85, in _run_code\n",
      "    exec(code, run_globals)\n",
      "  File \"/home/carolina/anaconda3/lib/python3.7/site-packages/ipykernel_launcher.py\", line 16, in <module>\n",
      "    app.launch_new_instance()\n",
      "  File \"/home/carolina/anaconda3/lib/python3.7/site-packages/traitlets/config/application.py\", line 664, in launch_instance\n",
      "    app.start()\n",
      "  File \"/home/carolina/anaconda3/lib/python3.7/site-packages/ipykernel/kernelapp.py\", line 583, in start\n",
      "    self.io_loop.start()\n",
      "  File \"/home/carolina/anaconda3/lib/python3.7/site-packages/tornado/platform/asyncio.py\", line 153, in start\n",
      "    self.asyncio_loop.run_forever()\n",
      "  File \"/home/carolina/anaconda3/lib/python3.7/asyncio/base_events.py\", line 538, in run_forever\n",
      "    self._run_once()\n",
      "  File \"/home/carolina/anaconda3/lib/python3.7/asyncio/base_events.py\", line 1782, in _run_once\n",
      "    handle._run()\n",
      "  File \"/home/carolina/anaconda3/lib/python3.7/asyncio/events.py\", line 88, in _run\n",
      "    self._context.run(self._callback, *self._args)\n",
      "  File \"/home/carolina/anaconda3/lib/python3.7/site-packages/tornado/ioloop.py\", line 690, in <lambda>\n",
      "    lambda f: self._run_callback(functools.partial(callback, future))\n",
      "  File \"/home/carolina/anaconda3/lib/python3.7/site-packages/tornado/ioloop.py\", line 743, in _run_callback\n",
      "    ret = callback()\n",
      "  File \"/home/carolina/anaconda3/lib/python3.7/site-packages/tornado/gen.py\", line 787, in inner\n",
      "    self.run()\n",
      "  File \"/home/carolina/anaconda3/lib/python3.7/site-packages/tornado/gen.py\", line 748, in run\n",
      "    yielded = self.gen.send(value)\n",
      "  File \"/home/carolina/anaconda3/lib/python3.7/site-packages/ipykernel/kernelbase.py\", line 377, in dispatch_queue\n",
      "    yield self.process_one()\n",
      "  File \"/home/carolina/anaconda3/lib/python3.7/site-packages/tornado/gen.py\", line 225, in wrapper\n",
      "    runner = Runner(result, future, yielded)\n",
      "  File \"/home/carolina/anaconda3/lib/python3.7/site-packages/tornado/gen.py\", line 714, in __init__\n",
      "    self.run()\n",
      "  File \"/home/carolina/anaconda3/lib/python3.7/site-packages/tornado/gen.py\", line 748, in run\n",
      "    yielded = self.gen.send(value)\n",
      "  File \"/home/carolina/anaconda3/lib/python3.7/site-packages/ipykernel/kernelbase.py\", line 361, in process_one\n",
      "    yield gen.maybe_future(dispatch(*args))\n",
      "  File \"/home/carolina/anaconda3/lib/python3.7/site-packages/tornado/gen.py\", line 209, in wrapper\n",
      "    yielded = next(result)\n",
      "  File \"/home/carolina/anaconda3/lib/python3.7/site-packages/ipykernel/kernelbase.py\", line 268, in dispatch_shell\n",
      "    yield gen.maybe_future(handler(stream, idents, msg))\n",
      "  File \"/home/carolina/anaconda3/lib/python3.7/site-packages/tornado/gen.py\", line 209, in wrapper\n",
      "    yielded = next(result)\n",
      "  File \"/home/carolina/anaconda3/lib/python3.7/site-packages/ipykernel/kernelbase.py\", line 541, in execute_request\n",
      "    user_expressions, allow_stdin,\n",
      "  File \"/home/carolina/anaconda3/lib/python3.7/site-packages/tornado/gen.py\", line 209, in wrapper\n",
      "    yielded = next(result)\n",
      "  File \"/home/carolina/anaconda3/lib/python3.7/site-packages/ipykernel/ipkernel.py\", line 300, in do_execute\n",
      "    res = shell.run_cell(code, store_history=store_history, silent=silent)\n",
      "  File \"/home/carolina/anaconda3/lib/python3.7/site-packages/ipykernel/zmqshell.py\", line 536, in run_cell\n",
      "    return super(ZMQInteractiveShell, self).run_cell(*args, **kwargs)\n",
      "  File \"/home/carolina/anaconda3/lib/python3.7/site-packages/IPython/core/interactiveshell.py\", line 2858, in run_cell\n",
      "    raw_cell, store_history, silent, shell_futures)\n",
      "  File \"/home/carolina/anaconda3/lib/python3.7/site-packages/IPython/core/interactiveshell.py\", line 2886, in _run_cell\n",
      "    return runner(coro)\n",
      "  File \"/home/carolina/anaconda3/lib/python3.7/site-packages/IPython/core/async_helpers.py\", line 68, in _pseudo_sync_runner\n",
      "    coro.send(None)\n",
      "  File \"/home/carolina/anaconda3/lib/python3.7/site-packages/IPython/core/interactiveshell.py\", line 3063, in run_cell_async\n",
      "    interactivity=interactivity, compiler=compiler, result=result)\n",
      "  File \"/home/carolina/anaconda3/lib/python3.7/site-packages/IPython/core/interactiveshell.py\", line 3254, in run_ast_nodes\n",
      "    if (await self.run_code(code, result,  async_=asy)):\n",
      "  File \"/home/carolina/anaconda3/lib/python3.7/site-packages/IPython/core/interactiveshell.py\", line 3331, in run_code\n",
      "    exec(code_obj, self.user_global_ns, self.user_ns)\n",
      "  File \"<ipython-input-5-3fe85b332bb4>\", line 3, in <module>\n",
      "    p=Pool(processes = num_processors)\n",
      "  File \"/home/carolina/anaconda3/lib/python3.7/multiprocessing/context.py\", line 119, in Pool\n",
      "    context=self.get_context())\n",
      "  File \"/home/carolina/anaconda3/lib/python3.7/multiprocessing/pool.py\", line 176, in __init__\n",
      "    self._repopulate_pool()\n",
      "  File \"/home/carolina/anaconda3/lib/python3.7/multiprocessing/pool.py\", line 241, in _repopulate_pool\n",
      "    w.start()\n",
      "  File \"/home/carolina/anaconda3/lib/python3.7/multiprocessing/process.py\", line 112, in start\n",
      "    self._popen = self._Popen(self)\n",
      "  File \"/home/carolina/anaconda3/lib/python3.7/multiprocessing/context.py\", line 277, in _Popen\n",
      "    return Popen(process_obj)\n",
      "  File \"/home/carolina/anaconda3/lib/python3.7/multiprocessing/popen_fork.py\", line 20, in __init__\n",
      "    self._launch(process_obj)\n",
      "  File \"/home/carolina/anaconda3/lib/python3.7/multiprocessing/popen_fork.py\", line 74, in _launch\n",
      "    code = process_obj._bootstrap()\n",
      "  File \"/home/carolina/anaconda3/lib/python3.7/multiprocessing/process.py\", line 297, in _bootstrap\n",
      "    self.run()\n",
      "  File \"/home/carolina/anaconda3/lib/python3.7/multiprocessing/process.py\", line 99, in run\n",
      "    self._target(*self._args, **self._kwargs)\n",
      "  File \"/home/carolina/anaconda3/lib/python3.7/multiprocessing/pool.py\", line 121, in worker\n",
      "    result = (True, func(*args, **kwds))\n",
      "  File \"<ipython-input-3-06facdf97caf>\", line 17, in do_everything\n",
      "    v.trj_to_vertices(col_trj.loc[frames[::10]])\n",
      "  File \"../icenumerics/icenumerics/vertices.py\", line 352, in trj_to_vertices\n",
      "    {o_i:trj_to_vertices_single_frame(trj_oi) for o_i, trj_oi in tqdm.tqdm(trj.groupby(other_i))},\n",
      "  File \"/home/carolina/anaconda3/lib/python3.7/site-packages/tqdm/notebook.py\", line 208, in __init__\n",
      "    self.fp, total, self.desc, self.ncols)\n",
      "  File \"/home/carolina/anaconda3/lib/python3.7/site-packages/tqdm/notebook.py\", line 96, in status_printer\n",
      "    pbar = IProgress(min=0, max=total)\n",
      "  File \"/home/carolina/anaconda3/lib/python3.7/site-packages/ipywidgets/widgets/widget_float.py\", line 26, in __init__\n",
      "    super(_Float, self).__init__(**kwargs)\n",
      "  File \"/home/carolina/anaconda3/lib/python3.7/site-packages/ipywidgets/widgets/widget.py\", line 415, in __init__\n",
      "    self.open()\n",
      "  File \"/home/carolina/anaconda3/lib/python3.7/site-packages/ipywidgets/widgets/widget.py\", line 428, in open\n",
      "    state, buffer_paths, buffers = _remove_buffers(self.get_state())\n",
      "  File \"/home/carolina/anaconda3/lib/python3.7/site-packages/ipywidgets/widgets/widget.py\", line 518, in get_state\n",
      "    value = to_json(getattr(self, k), self)\n",
      "  File \"/home/carolina/anaconda3/lib/python3.7/site-packages/traitlets/traitlets.py\", line 556, in __get__\n",
      "    return self.get(obj, cls)\n",
      "  File \"/home/carolina/anaconda3/lib/python3.7/site-packages/traitlets/traitlets.py\", line 535, in get\n",
      "    value = self._validate(obj, dynamic_default())\n",
      "  File \"/home/carolina/anaconda3/lib/python3.7/site-packages/ipywidgets/widgets/trait_types.py\", line 169, in make_dynamic_default\n",
      "    **(self.default_kwargs or {}))\n",
      "  File \"/home/carolina/anaconda3/lib/python3.7/site-packages/ipywidgets/widgets/widget.py\", line 415, in __init__\n",
      "    self.open()\n"
     ]
    },
    {
     "name": "stderr",
     "output_type": "stream",
     "text": [
      "  File \"/home/carolina/anaconda3/lib/python3.7/site-packages/ipywidgets/widgets/widget.py\", line 438, in open\n",
      "    self.comm = Comm(**args)\n",
      "  File \"/home/carolina/anaconda3/lib/python3.7/site-packages/ipykernel/comm/comm.py\", line 57, in __init__\n",
      "    self.open(data=data, metadata=metadata, buffers=buffers)\n",
      "  File \"/home/carolina/anaconda3/lib/python3.7/site-packages/ipykernel/comm/comm.py\", line 94, in open\n",
      "    target_module=self.target_module,\n",
      "  File \"/home/carolina/anaconda3/lib/python3.7/site-packages/ipykernel/comm/comm.py\", line 71, in _publish_msg\n",
      "    buffers=buffers,\n",
      "  File \"/home/carolina/anaconda3/lib/python3.7/site-packages/jupyter_client/session.py\", line 716, in send\n",
      "    msg\n",
      "Message: 'WARNING: attempted to send message from fork\\n%s'\n",
      "Arguments: {'header': {'msg_id': '52eebaf8-c56019646af60b0337ec2c62', 'msg_type': 'comm_open', 'username': 'carolina', 'session': '00002713-a660032c91836e00ced9dfca', 'date': datetime.datetime(2021, 10, 19, 10, 46, 55, 344900, tzinfo=datetime.timezone.utc), 'version': '5.3'}, 'msg_id': '52eebaf8-c56019646af60b0337ec2c62', 'msg_type': 'comm_open', 'parent_header': {'msg_id': '7b640660a33e49c28c35c67797f778e8', 'username': 'username', 'session': 'f7d359ff3295493b8b30f9bb270262e4', 'msg_type': 'execute_request', 'version': '5.2', 'date': datetime.datetime(2021, 10, 19, 10, 46, 12, 917735, tzinfo=datetime.timezone.utc)}, 'content': {'data': {'state': {'_model_module': '@jupyter-widgets/base', '_model_module_version': '1.2.0', '_model_name': 'LayoutModel', '_view_count': None, '_view_module': '@jupyter-widgets/base', '_view_module_version': '1.2.0', '_view_name': 'LayoutView', 'align_content': None, 'align_items': None, 'align_self': None, 'border': None, 'bottom': None, 'display': None, 'flex': None, 'flex_flow': None, 'grid_area': None, 'grid_auto_columns': None, 'grid_auto_flow': None, 'grid_auto_rows': None, 'grid_column': None, 'grid_gap': None, 'grid_row': None, 'grid_template_areas': None, 'grid_template_columns': None, 'grid_template_rows': None, 'height': None, 'justify_content': None, 'justify_items': None, 'left': None, 'margin': None, 'max_height': None, 'max_width': None, 'min_height': None, 'min_width': None, 'object_fit': None, 'object_position': None, 'order': None, 'overflow': None, 'overflow_x': None, 'overflow_y': None, 'padding': None, 'right': None, 'top': None, 'visibility': None, 'width': None}, 'buffer_paths': []}, 'comm_id': '10e2169c41cf4892bde90b8a848550f4', 'target_name': 'jupyter.widget', 'target_module': None}, 'metadata': {'version': '2.0.0'}}\n"
     ]
    },
    {
     "data": {
      "application/vnd.jupyter.widget-view+json": {
       "model_id": "4ac034aadc7845e4bec5acb965c21a3b",
       "version_major": 2,
       "version_minor": 0
      },
      "text/plain": [
       "HBox(children=(FloatProgress(value=0.0, max=121.0), HTML(value='')))"
      ]
     },
     "metadata": {},
     "output_type": "display_data"
    },
    {
     "data": {
      "application/vnd.jupyter.widget-view+json": {
       "model_id": "f1f07dbc8f894f80bc5780a2e8a306eb",
       "version_major": 2,
       "version_minor": 0
      },
      "text/plain": [
       "HBox(children=(FloatProgress(value=0.0, max=1208.0), HTML(value='')))"
      ]
     },
     "metadata": {},
     "output_type": "display_data"
    },
    {
     "name": "stdout",
     "output_type": "stream",
     "text": [
      "\n"
     ]
    },
    {
     "data": {
      "application/vnd.jupyter.widget-view+json": {
       "model_id": "477ad8bb1386462e89e5475c736a9cb5",
       "version_major": 2,
       "version_minor": 0
      },
      "text/plain": [
       "HBox(children=(FloatProgress(value=0.0, max=2000.0), HTML(value='')))"
      ]
     },
     "metadata": {},
     "output_type": "display_data"
    },
    {
     "data": {
      "application/vnd.jupyter.widget-view+json": {
       "model_id": "c6de75fd3cb743efb304a52a10c35d4b",
       "version_major": 2,
       "version_minor": 0
      },
      "text/plain": [
       "HBox(children=(FloatProgress(value=0.0, max=1208.0), HTML(value='')))"
      ]
     },
     "metadata": {},
     "output_type": "display_data"
    },
    {
     "name": "stdout",
     "output_type": "stream",
     "text": [
      "\n"
     ]
    },
    {
     "data": {
      "application/vnd.jupyter.widget-view+json": {
       "model_id": "f0196a3106af42f986afa29b9ff66926",
       "version_major": 2,
       "version_minor": 0
      },
      "text/plain": [
       "HBox(children=(FloatProgress(value=0.0, max=2000.0), HTML(value='')))"
      ]
     },
     "metadata": {},
     "output_type": "display_data"
    },
    {
     "data": {
      "application/vnd.jupyter.widget-view+json": {
       "model_id": "44ccdc11c80e466dadee91103513937a",
       "version_major": 2,
       "version_minor": 0
      },
      "text/plain": [
       "HBox(children=(FloatProgress(value=0.0, max=1208.0), HTML(value='')))"
      ]
     },
     "metadata": {},
     "output_type": "display_data"
    },
    {
     "name": "stdout",
     "output_type": "stream",
     "text": [
      "\n"
     ]
    },
    {
     "data": {
      "application/vnd.jupyter.widget-view+json": {
       "model_id": "346d99b09a6a4538a4d5c49ba75d6f5a",
       "version_major": 2,
       "version_minor": 0
      },
      "text/plain": [
       "HBox(children=(FloatProgress(value=0.0, max=2000.0), HTML(value='')))"
      ]
     },
     "metadata": {},
     "output_type": "display_data"
    },
    {
     "data": {
      "application/vnd.jupyter.widget-view+json": {
       "model_id": "7227a220d20c4f58ae0c069e9e2624d5",
       "version_major": 2,
       "version_minor": 0
      },
      "text/plain": [
       "HBox(children=(FloatProgress(value=0.0, max=1208.0), HTML(value='')))"
      ]
     },
     "metadata": {},
     "output_type": "display_data"
    },
    {
     "name": "stdout",
     "output_type": "stream",
     "text": [
      "\n"
     ]
    },
    {
     "data": {
      "application/vnd.jupyter.widget-view+json": {
       "model_id": "2ec88ef997a449659d36bdc4256a1460",
       "version_major": 2,
       "version_minor": 0
      },
      "text/plain": [
       "HBox(children=(FloatProgress(value=0.0, max=2000.0), HTML(value='')))"
      ]
     },
     "metadata": {},
     "output_type": "display_data"
    },
    {
     "data": {
      "application/vnd.jupyter.widget-view+json": {
       "model_id": "5fc0eb2068ec4849bf9029cff0b71715",
       "version_major": 2,
       "version_minor": 0
      },
      "text/plain": [
       "HBox(children=(FloatProgress(value=0.0, max=1208.0), HTML(value='')))"
      ]
     },
     "metadata": {},
     "output_type": "display_data"
    },
    {
     "name": "stdout",
     "output_type": "stream",
     "text": [
      "\n"
     ]
    },
    {
     "data": {
      "application/vnd.jupyter.widget-view+json": {
       "model_id": "fe05f6baf9704add8499499463ac079f",
       "version_major": 2,
       "version_minor": 0
      },
      "text/plain": [
       "HBox(children=(FloatProgress(value=0.0, max=2000.0), HTML(value='')))"
      ]
     },
     "metadata": {},
     "output_type": "display_data"
    },
    {
     "name": "stdout",
     "output_type": "stream",
     "text": [
      "\n",
      "\n",
      "\n",
      "\n",
      "\n",
      "\n",
      "\n",
      "\n",
      "\n",
      "\n"
     ]
    },
    {
     "data": {
      "application/vnd.jupyter.widget-view+json": {
       "model_id": "d4d46e899a214113907740fa9670897d",
       "version_major": 2,
       "version_minor": 0
      },
      "text/plain": [
       "HBox(children=(FloatProgress(value=0.0, max=121.0), HTML(value='')))"
      ]
     },
     "metadata": {},
     "output_type": "display_data"
    },
    {
     "data": {
      "application/vnd.jupyter.widget-view+json": {
       "model_id": "a7066760169342389bc8f7771d8dd47a",
       "version_major": 2,
       "version_minor": 0
      },
      "text/plain": [
       "HBox(children=(FloatProgress(value=0.0, max=121.0), HTML(value='')))"
      ]
     },
     "metadata": {},
     "output_type": "display_data"
    },
    {
     "data": {
      "application/vnd.jupyter.widget-view+json": {
       "model_id": "e1330a2cfec240e89fde4972603f1b30",
       "version_major": 2,
       "version_minor": 0
      },
      "text/plain": [
       "HBox(children=(FloatProgress(value=0.0, max=121.0), HTML(value='')))"
      ]
     },
     "metadata": {},
     "output_type": "display_data"
    },
    {
     "data": {
      "application/vnd.jupyter.widget-view+json": {
       "model_id": "c49b1029af574a6fa27280887935d1df",
       "version_major": 2,
       "version_minor": 0
      },
      "text/plain": [
       "HBox(children=(FloatProgress(value=0.0, max=121.0), HTML(value='')))"
      ]
     },
     "metadata": {},
     "output_type": "display_data"
    },
    {
     "data": {
      "application/vnd.jupyter.widget-view+json": {
       "model_id": "3dacd095703647a5a83ec387b99f7a0c",
       "version_major": 2,
       "version_minor": 0
      },
      "text/plain": [
       "HBox(children=(FloatProgress(value=0.0, max=1208.0), HTML(value='')))"
      ]
     },
     "metadata": {},
     "output_type": "display_data"
    },
    {
     "name": "stdout",
     "output_type": "stream",
     "text": [
      "\n"
     ]
    },
    {
     "data": {
      "application/vnd.jupyter.widget-view+json": {
       "model_id": "dc7d9e96ea954c8693a6529924523d02",
       "version_major": 2,
       "version_minor": 0
      },
      "text/plain": [
       "HBox(children=(FloatProgress(value=0.0, max=2000.0), HTML(value='')))"
      ]
     },
     "metadata": {},
     "output_type": "display_data"
    },
    {
     "data": {
      "application/vnd.jupyter.widget-view+json": {
       "model_id": "560567d02b0e4b79aad91b01dcd9b222",
       "version_major": 2,
       "version_minor": 0
      },
      "text/plain": [
       "HBox(children=(FloatProgress(value=0.0, max=1208.0), HTML(value='')))"
      ]
     },
     "metadata": {},
     "output_type": "display_data"
    },
    {
     "name": "stdout",
     "output_type": "stream",
     "text": [
      "\n"
     ]
    },
    {
     "data": {
      "application/vnd.jupyter.widget-view+json": {
       "model_id": "255598c898bd40448389cb45fc567728",
       "version_major": 2,
       "version_minor": 0
      },
      "text/plain": [
       "HBox(children=(FloatProgress(value=0.0, max=2000.0), HTML(value='')))"
      ]
     },
     "metadata": {},
     "output_type": "display_data"
    },
    {
     "data": {
      "application/vnd.jupyter.widget-view+json": {
       "model_id": "1dd96cb3e97f4d17b59c6fd9779624a7",
       "version_major": 2,
       "version_minor": 0
      },
      "text/plain": [
       "HBox(children=(FloatProgress(value=0.0, max=1208.0), HTML(value='')))"
      ]
     },
     "metadata": {},
     "output_type": "display_data"
    },
    {
     "name": "stdout",
     "output_type": "stream",
     "text": [
      "\n"
     ]
    },
    {
     "data": {
      "application/vnd.jupyter.widget-view+json": {
       "model_id": "681dd7c35cdd442986e3cb63fc697a11",
       "version_major": 2,
       "version_minor": 0
      },
      "text/plain": [
       "HBox(children=(FloatProgress(value=0.0, max=2000.0), HTML(value='')))"
      ]
     },
     "metadata": {},
     "output_type": "display_data"
    },
    {
     "data": {
      "application/vnd.jupyter.widget-view+json": {
       "model_id": "196ce7b5da97483ab1683354e594a030",
       "version_major": 2,
       "version_minor": 0
      },
      "text/plain": [
       "HBox(children=(FloatProgress(value=0.0, max=121.0), HTML(value='')))"
      ]
     },
     "metadata": {},
     "output_type": "display_data"
    },
    {
     "data": {
      "application/vnd.jupyter.widget-view+json": {
       "model_id": "f0dd7b7d35a94b36bc91f5a74f6315dd",
       "version_major": 2,
       "version_minor": 0
      },
      "text/plain": [
       "HBox(children=(FloatProgress(value=0.0, max=1208.0), HTML(value='')))"
      ]
     },
     "metadata": {},
     "output_type": "display_data"
    },
    {
     "name": "stdout",
     "output_type": "stream",
     "text": [
      "\n"
     ]
    },
    {
     "data": {
      "application/vnd.jupyter.widget-view+json": {
       "model_id": "b8f88f0fabe04abd8d0046bf57ffddcb",
       "version_major": 2,
       "version_minor": 0
      },
      "text/plain": [
       "HBox(children=(FloatProgress(value=0.0, max=2000.0), HTML(value='')))"
      ]
     },
     "metadata": {},
     "output_type": "display_data"
    },
    {
     "data": {
      "application/vnd.jupyter.widget-view+json": {
       "model_id": "6de8cfc2e25c4db28bfba49b9ed41e7c",
       "version_major": 2,
       "version_minor": 0
      },
      "text/plain": [
       "HBox(children=(FloatProgress(value=0.0, max=1208.0), HTML(value='')))"
      ]
     },
     "metadata": {},
     "output_type": "display_data"
    },
    {
     "name": "stdout",
     "output_type": "stream",
     "text": [
      "\n"
     ]
    },
    {
     "data": {
      "application/vnd.jupyter.widget-view+json": {
       "model_id": "05d639db99cb4e5e89326495e6ef3a71",
       "version_major": 2,
       "version_minor": 0
      },
      "text/plain": [
       "HBox(children=(FloatProgress(value=0.0, max=2000.0), HTML(value='')))"
      ]
     },
     "metadata": {},
     "output_type": "display_data"
    },
    {
     "name": "stdout",
     "output_type": "stream",
     "text": [
      "\n",
      "\n",
      "\n",
      "\n",
      "\n",
      "\n",
      "\n",
      "\n",
      "\n",
      "\n",
      "\n"
     ]
    }
   ],
   "source": [
    "if __name__ ==  '__main__': \n",
    "    num_processors = 5\n",
    "    p=Pool(processes = num_processors)\n",
    "        \n",
    "    list(tqdm.tqdm(p.imap(do_everything, experiments.iterrows()), total=len(experiments)));"
   ]
  },
  {
   "cell_type": "code",
   "execution_count": null,
   "metadata": {},
   "outputs": [],
   "source": []
  }
 ],
 "metadata": {
  "kernelspec": {
   "display_name": "Python 3",
   "language": "python",
   "name": "python3"
  },
  "language_info": {
   "codemirror_mode": {
    "name": "ipython",
    "version": 3
   },
   "file_extension": ".py",
   "mimetype": "text/x-python",
   "name": "python",
   "nbconvert_exporter": "python",
   "pygments_lexer": "ipython3",
   "version": "3.7.6"
  }
 },
 "nbformat": 4,
 "nbformat_minor": 4
}
