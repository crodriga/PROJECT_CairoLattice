{
 "cells": [
  {
   "cell_type": "code",
   "execution_count": 1,
   "metadata": {},
   "outputs": [],
   "source": [
    "import magcolloids as mgc\n",
    "import os\n",
    "import sys\n",
    "import numpy as np\n",
    "import pandas as pd\n",
    "from multiprocessing import Pool\n",
    "import tqdm.auto as tqdm\n",
    "\n",
    "sys.path.insert(0, '../icenumerics')\n",
    "\n",
    "import icenumerics as ice\n",
    "import matplotlib.pyplot as plt"
   ]
  },
  {
   "cell_type": "code",
   "execution_count": 2,
   "metadata": {},
   "outputs": [],
   "source": [
    "data_directory = \"/home/carolina/CairoLattice_ACI_PROJECT/Scripts/Output_Script-15.0\""
   ]
  },
  {
   "cell_type": "code",
   "execution_count": 3,
   "metadata": {},
   "outputs": [],
   "source": [
    "def do_everything(exp_entry):\n",
    "    \n",
    "    e = exp_entry[1].e \n",
    "    \n",
    "    load_obj = mgc.trj_lazyread(os.path.join(data_directory,\n",
    "                                             \"MimicExperimentalData_CairoLattice_25mT-1000s_EXP%u.lammpstrj\"%(e)),\n",
    "                                                output = [\"x\",\"y\",\"z\",\"mux\",\"muy\",\"muz\"])    \n",
    "    bnd = load_obj.get_bounds()\n",
    "    trj = load_obj.read_trj()\n",
    "    col_trj = ice.get_ice_trj(trj,bnd, atom_types = 1, trap_types = [2,3])\n",
    "    \n",
    "    # Infer Vertices\n",
    "    frames = col_trj.index.get_level_values(\"frame\").unique()\n",
    "\n",
    "    v = ice.vertices()\n",
    "    v.trj_to_vertices(col_trj.loc[frames[::10]])\n",
    "    \n",
    "    Cairo = v.vertices\n",
    "    \n",
    "    Cairo.index.names = ['frame', 'id']\n",
    "    \n",
    "    Cairo.to_csv(os.path.join(data_directory, \"MimicExperimentalData_CairoLattice_25mT-1000s_exp%u.dat\"%(e)), sep=\"\\t\")"
   ]
  },
  {
   "cell_type": "code",
   "execution_count": 4,
   "metadata": {},
   "outputs": [
    {
     "data": {
      "text/html": [
       "<div>\n",
       "<style scoped>\n",
       "    .dataframe tbody tr th:only-of-type {\n",
       "        vertical-align: middle;\n",
       "    }\n",
       "\n",
       "    .dataframe tbody tr th {\n",
       "        vertical-align: top;\n",
       "    }\n",
       "\n",
       "    .dataframe thead th {\n",
       "        text-align: right;\n",
       "    }\n",
       "</style>\n",
       "<table border=\"1\" class=\"dataframe\">\n",
       "  <thead>\n",
       "    <tr style=\"text-align: right;\">\n",
       "      <th></th>\n",
       "      <th>e</th>\n",
       "    </tr>\n",
       "  </thead>\n",
       "  <tbody>\n",
       "    <tr>\n",
       "      <th>0</th>\n",
       "      <td>48</td>\n",
       "    </tr>\n",
       "    <tr>\n",
       "      <th>1</th>\n",
       "      <td>49</td>\n",
       "    </tr>\n",
       "  </tbody>\n",
       "</table>\n",
       "</div>"
      ],
      "text/plain": [
       "    e\n",
       "0  48\n",
       "1  49"
      ]
     },
     "execution_count": 4,
     "metadata": {},
     "output_type": "execute_result"
    }
   ],
   "source": [
    "e =  np.arange(48,50)\n",
    "experiments = pd.DataFrame({\"e\":e.flatten()})\n",
    "experiments"
   ]
  },
  {
   "cell_type": "code",
   "execution_count": 5,
   "metadata": {},
   "outputs": [
    {
     "data": {
      "application/vnd.jupyter.widget-view+json": {
       "model_id": "15455641d061411d8d732b7c82211870",
       "version_major": 2,
       "version_minor": 0
      },
      "text/plain": [
       "HBox(children=(FloatProgress(value=0.0, max=2.0), HTML(value='')))"
      ]
     },
     "metadata": {},
     "output_type": "display_data"
    },
    {
     "name": "stdout",
     "output_type": "stream",
     "text": [
      "\n",
      "\n"
     ]
    },
    {
     "data": {
      "application/vnd.jupyter.widget-view+json": {
       "model_id": "b7ab1cf41bdc4e9ca39db2227b0ba06d",
       "version_major": 2,
       "version_minor": 0
      },
      "text/plain": [
       "HBox(children=(FloatProgress(value=0.0, max=125.0), HTML(value='')))"
      ]
     },
     "metadata": {},
     "output_type": "display_data"
    },
    {
     "data": {
      "application/vnd.jupyter.widget-view+json": {
       "model_id": "81d64a1215fc4a7caa1e5c140084bcb3",
       "version_major": 2,
       "version_minor": 0
      },
      "text/plain": [
       "HBox(children=(FloatProgress(value=0.0, max=125.0), HTML(value='')))"
      ]
     },
     "metadata": {},
     "output_type": "display_data"
    },
    {
     "name": "stdout",
     "output_type": "stream",
     "text": [
      "\n",
      "\n",
      "\n",
      "\n",
      "\n"
     ]
    }
   ],
   "source": [
    "if __name__ ==  '__main__': \n",
    "    num_processors = 2\n",
    "    p=Pool(processes = num_processors)\n",
    "        \n",
    "    list(tqdm.tqdm(p.imap(do_everything, experiments.iterrows()), total=len(experiments)));"
   ]
  }
 ],
 "metadata": {
  "kernelspec": {
   "display_name": "Python 3",
   "language": "python",
   "name": "python3"
  },
  "language_info": {
   "codemirror_mode": {
    "name": "ipython",
    "version": 3
   },
   "file_extension": ".py",
   "mimetype": "text/x-python",
   "name": "python",
   "nbconvert_exporter": "python",
   "pygments_lexer": "ipython3",
   "version": "3.7.6"
  }
 },
 "nbformat": 4,
 "nbformat_minor": 4
}
