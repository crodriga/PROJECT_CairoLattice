{
 "cells": [
  {
   "cell_type": "code",
   "execution_count": 1,
   "metadata": {},
   "outputs": [],
   "source": [
    "import os\n",
    "import sys\n",
    "import magcolloids as mgc\n",
    "\n",
    "sys.path.insert(0, '../icenumerics')\n",
    "\n",
    "import icenumerics as ice\n",
    "import matplotlib as mpl\n",
    "import matplotlib.pyplot as plt"
   ]
  },
  {
   "cell_type": "code",
   "execution_count": 2,
   "metadata": {},
   "outputs": [],
   "source": [
    "data_directory = \"/home/carolina/CairoLattice_ACI_PROJECT/Scripts/Output_Script-1.2\""
   ]
  },
  {
   "cell_type": "code",
   "execution_count": 3,
   "metadata": {},
   "outputs": [],
   "source": [
    "load_obj = mgc.trj_lazyread(os.path.join(data_directory,\n",
    "                                             \"ACI_CairoLattice_50mT-1500s_higherHill_l10_exp0.lammpstrj\"),\n",
    "                                                output = [\"x\",\"y\",\"z\",\"mux\",\"muy\",\"muz\"])   \n",
    "\n",
    "bnd = load_obj.get_bounds()\n",
    "trj = load_obj.read_trj()\n",
    "col_trj = ice.get_ice_trj(trj,bnd, atom_types = 1, trap_types = [2,3])"
   ]
  },
  {
   "cell_type": "code",
   "execution_count": 4,
   "metadata": {},
   "outputs": [
    {
     "data": {
      "text/html": [
       "<div>\n",
       "<style scoped>\n",
       "    .dataframe tbody tr th:only-of-type {\n",
       "        vertical-align: middle;\n",
       "    }\n",
       "\n",
       "    .dataframe tbody tr th {\n",
       "        vertical-align: top;\n",
       "    }\n",
       "\n",
       "    .dataframe thead th {\n",
       "        text-align: right;\n",
       "    }\n",
       "</style>\n",
       "<table border=\"1\" class=\"dataframe\">\n",
       "  <thead>\n",
       "    <tr style=\"text-align: right;\">\n",
       "      <th></th>\n",
       "      <th></th>\n",
       "      <th>type</th>\n",
       "      <th>x</th>\n",
       "      <th>y</th>\n",
       "      <th>z</th>\n",
       "      <th>dx</th>\n",
       "      <th>dy</th>\n",
       "      <th>dz</th>\n",
       "      <th>cx</th>\n",
       "      <th>cy</th>\n",
       "      <th>cz</th>\n",
       "    </tr>\n",
       "    <tr>\n",
       "      <th>frame</th>\n",
       "      <th>id</th>\n",
       "      <th></th>\n",
       "      <th></th>\n",
       "      <th></th>\n",
       "      <th></th>\n",
       "      <th></th>\n",
       "      <th></th>\n",
       "      <th></th>\n",
       "      <th></th>\n",
       "      <th></th>\n",
       "      <th></th>\n",
       "    </tr>\n",
       "  </thead>\n",
       "  <tbody>\n",
       "    <tr>\n",
       "      <th rowspan=\"5\" valign=\"top\">0</th>\n",
       "      <th>0</th>\n",
       "      <td>2</td>\n",
       "      <td>0.000000</td>\n",
       "      <td>0.000000</td>\n",
       "      <td>0.0</td>\n",
       "      <td>4.52580</td>\n",
       "      <td>0.00000</td>\n",
       "      <td>0.0</td>\n",
       "      <td>2.262900</td>\n",
       "      <td>0.000000e+00</td>\n",
       "      <td>0.0</td>\n",
       "    </tr>\n",
       "    <tr>\n",
       "      <th>1</th>\n",
       "      <td>2</td>\n",
       "      <td>0.000000</td>\n",
       "      <td>46.352001</td>\n",
       "      <td>0.0</td>\n",
       "      <td>0.00000</td>\n",
       "      <td>4.52580</td>\n",
       "      <td>0.0</td>\n",
       "      <td>0.000000</td>\n",
       "      <td>2.262897e+00</td>\n",
       "      <td>0.0</td>\n",
       "    </tr>\n",
       "    <tr>\n",
       "      <th>2</th>\n",
       "      <td>2</td>\n",
       "      <td>46.323502</td>\n",
       "      <td>-46.380402</td>\n",
       "      <td>0.0</td>\n",
       "      <td>4.52580</td>\n",
       "      <td>0.00000</td>\n",
       "      <td>0.0</td>\n",
       "      <td>2.262897</td>\n",
       "      <td>-1.136868e-13</td>\n",
       "      <td>0.0</td>\n",
       "    </tr>\n",
       "    <tr>\n",
       "      <th>3</th>\n",
       "      <td>2</td>\n",
       "      <td>46.323502</td>\n",
       "      <td>-0.028435</td>\n",
       "      <td>0.0</td>\n",
       "      <td>0.00000</td>\n",
       "      <td>4.52580</td>\n",
       "      <td>0.0</td>\n",
       "      <td>0.000000</td>\n",
       "      <td>2.262895e+00</td>\n",
       "      <td>0.0</td>\n",
       "    </tr>\n",
       "    <tr>\n",
       "      <th>4</th>\n",
       "      <td>2</td>\n",
       "      <td>92.647102</td>\n",
       "      <td>0.000000</td>\n",
       "      <td>0.0</td>\n",
       "      <td>-4.52580</td>\n",
       "      <td>-0.00000</td>\n",
       "      <td>-0.0</td>\n",
       "      <td>-2.262901</td>\n",
       "      <td>0.000000e+00</td>\n",
       "      <td>0.0</td>\n",
       "    </tr>\n",
       "    <tr>\n",
       "      <th>...</th>\n",
       "      <th>...</th>\n",
       "      <td>...</td>\n",
       "      <td>...</td>\n",
       "      <td>...</td>\n",
       "      <td>...</td>\n",
       "      <td>...</td>\n",
       "      <td>...</td>\n",
       "      <td>...</td>\n",
       "      <td>...</td>\n",
       "      <td>...</td>\n",
       "      <td>...</td>\n",
       "    </tr>\n",
       "    <tr>\n",
       "      <th rowspan=\"5\" valign=\"top\">150000</th>\n",
       "      <th>1995</th>\n",
       "      <td>3</td>\n",
       "      <td>896.192993</td>\n",
       "      <td>-869.851013</td>\n",
       "      <td>0.0</td>\n",
       "      <td>-5.00000</td>\n",
       "      <td>-8.66025</td>\n",
       "      <td>-0.0</td>\n",
       "      <td>-1.560974</td>\n",
       "      <td>-2.878967e+00</td>\n",
       "      <td>0.0</td>\n",
       "    </tr>\n",
       "    <tr>\n",
       "      <th>1996</th>\n",
       "      <td>3</td>\n",
       "      <td>896.192993</td>\n",
       "      <td>-891.581970</td>\n",
       "      <td>0.0</td>\n",
       "      <td>5.00000</td>\n",
       "      <td>-8.66025</td>\n",
       "      <td>0.0</td>\n",
       "      <td>2.296021</td>\n",
       "      <td>-4.406006e+00</td>\n",
       "      <td>0.0</td>\n",
       "    </tr>\n",
       "    <tr>\n",
       "      <th>1997</th>\n",
       "      <td>3</td>\n",
       "      <td>915.633972</td>\n",
       "      <td>-864.669983</td>\n",
       "      <td>0.0</td>\n",
       "      <td>8.66025</td>\n",
       "      <td>-5.00000</td>\n",
       "      <td>0.0</td>\n",
       "      <td>4.071045</td>\n",
       "      <td>-2.223999e+00</td>\n",
       "      <td>0.0</td>\n",
       "    </tr>\n",
       "    <tr>\n",
       "      <th>1998</th>\n",
       "      <td>3</td>\n",
       "      <td>910.424988</td>\n",
       "      <td>-845.200989</td>\n",
       "      <td>0.0</td>\n",
       "      <td>5.00000</td>\n",
       "      <td>8.66025</td>\n",
       "      <td>0.0</td>\n",
       "      <td>2.478027</td>\n",
       "      <td>4.203979e+00</td>\n",
       "      <td>0.0</td>\n",
       "    </tr>\n",
       "    <tr>\n",
       "      <th>1999</th>\n",
       "      <td>3</td>\n",
       "      <td>891.013000</td>\n",
       "      <td>-818.317993</td>\n",
       "      <td>0.0</td>\n",
       "      <td>8.66025</td>\n",
       "      <td>5.00000</td>\n",
       "      <td>0.0</td>\n",
       "      <td>1.413025</td>\n",
       "      <td>7.509766e-01</td>\n",
       "      <td>0.0</td>\n",
       "    </tr>\n",
       "  </tbody>\n",
       "</table>\n",
       "<p>3002000 rows × 10 columns</p>\n",
       "</div>"
      ],
      "text/plain": [
       "             type           x           y    z       dx       dy   dz  \\\n",
       "frame  id                                                               \n",
       "0      0        2    0.000000    0.000000  0.0  4.52580  0.00000  0.0   \n",
       "       1        2    0.000000   46.352001  0.0  0.00000  4.52580  0.0   \n",
       "       2        2   46.323502  -46.380402  0.0  4.52580  0.00000  0.0   \n",
       "       3        2   46.323502   -0.028435  0.0  0.00000  4.52580  0.0   \n",
       "       4        2   92.647102    0.000000  0.0 -4.52580 -0.00000 -0.0   \n",
       "...           ...         ...         ...  ...      ...      ...  ...   \n",
       "150000 1995     3  896.192993 -869.851013  0.0 -5.00000 -8.66025 -0.0   \n",
       "       1996     3  896.192993 -891.581970  0.0  5.00000 -8.66025  0.0   \n",
       "       1997     3  915.633972 -864.669983  0.0  8.66025 -5.00000  0.0   \n",
       "       1998     3  910.424988 -845.200989  0.0  5.00000  8.66025  0.0   \n",
       "       1999     3  891.013000 -818.317993  0.0  8.66025  5.00000  0.0   \n",
       "\n",
       "                   cx            cy   cz  \n",
       "frame  id                                 \n",
       "0      0     2.262900  0.000000e+00  0.0  \n",
       "       1     0.000000  2.262897e+00  0.0  \n",
       "       2     2.262897 -1.136868e-13  0.0  \n",
       "       3     0.000000  2.262895e+00  0.0  \n",
       "       4    -2.262901  0.000000e+00  0.0  \n",
       "...               ...           ...  ...  \n",
       "150000 1995 -1.560974 -2.878967e+00  0.0  \n",
       "       1996  2.296021 -4.406006e+00  0.0  \n",
       "       1997  4.071045 -2.223999e+00  0.0  \n",
       "       1998  2.478027  4.203979e+00  0.0  \n",
       "       1999  1.413025  7.509766e-01  0.0  \n",
       "\n",
       "[3002000 rows x 10 columns]"
      ]
     },
     "execution_count": 4,
     "metadata": {},
     "output_type": "execute_result"
    }
   ],
   "source": [
    "col_trj"
   ]
  },
  {
   "cell_type": "code",
   "execution_count": 5,
   "metadata": {},
   "outputs": [
    {
     "data": {
      "text/plain": [
       "50.0"
      ]
     },
     "execution_count": 5,
     "metadata": {},
     "output_type": "execute_result"
    }
   ],
   "source": [
    "last_frame = 150000\n",
    "field = last_frame*50/150000\n",
    "field"
   ]
  },
  {
   "cell_type": "code",
   "execution_count": 6,
   "metadata": {},
   "outputs": [
    {
     "data": {
      "text/plain": [
       "(-100, -300)"
      ]
     },
     "execution_count": 6,
     "metadata": {},
     "output_type": "execute_result"
    },
    {
     "data": {
      "image/png": "[encoded data removed]",
      "text/plain": [
       "<Figure size 1440x1440 with 1 Axes>"
      ]
     },
     "metadata": {
      "needs_background": "light"
     },
     "output_type": "display_data"
    }
   ],
   "source": [
    "f, (ax1) = plt.subplots(1,1,figsize = (20,20))\n",
    "\n",
    "# centers\n",
    "plt.plot(col_trj.loc[last_frame].x,col_trj.loc[last_frame].y,'o', color =\"blue\")\n",
    "# colloid position\n",
    "plt.plot(col_trj.loc[last_frame].x+col_trj.loc[last_frame].cx,\n",
    "         col_trj.loc[last_frame].y+col_trj.loc[last_frame].cy, 'o', markersize = 5, color =\"limegreen\")\n",
    "# colloid direction\n",
    "plt.plot(col_trj.loc[last_frame].x+col_trj.loc[last_frame].dx,\n",
    "         col_trj.loc[last_frame].y+col_trj.loc[last_frame].dy, '.', markersize = 10, color =\"tomato\")\n",
    "plt.axis('equal')\n",
    "plt.xlim(100, 300)\n",
    "plt.ylim(-100, -300)"
   ]
  },
  {
   "cell_type": "code",
   "execution_count": 7,
   "metadata": {},
   "outputs": [
    {
     "data": {
      "text/html": [
       "<div>\n",
       "<style scoped>\n",
       "    .dataframe tbody tr th:only-of-type {\n",
       "        vertical-align: middle;\n",
       "    }\n",
       "\n",
       "    .dataframe tbody tr th {\n",
       "        vertical-align: top;\n",
       "    }\n",
       "\n",
       "    .dataframe thead th {\n",
       "        text-align: right;\n",
       "    }\n",
       "</style>\n",
       "<table border=\"1\" class=\"dataframe\">\n",
       "  <thead>\n",
       "    <tr style=\"text-align: right;\">\n",
       "      <th></th>\n",
       "      <th></th>\n",
       "      <th>type</th>\n",
       "      <th>x</th>\n",
       "      <th>y</th>\n",
       "      <th>z</th>\n",
       "      <th>dx</th>\n",
       "      <th>dy</th>\n",
       "      <th>dz</th>\n",
       "      <th>cx</th>\n",
       "      <th>cy</th>\n",
       "      <th>cz</th>\n",
       "    </tr>\n",
       "    <tr>\n",
       "      <th>frame</th>\n",
       "      <th>id</th>\n",
       "      <th></th>\n",
       "      <th></th>\n",
       "      <th></th>\n",
       "      <th></th>\n",
       "      <th></th>\n",
       "      <th></th>\n",
       "      <th></th>\n",
       "      <th></th>\n",
       "      <th></th>\n",
       "      <th></th>\n",
       "    </tr>\n",
       "  </thead>\n",
       "  <tbody>\n",
       "    <tr>\n",
       "      <th rowspan=\"5\" valign=\"top\">0</th>\n",
       "      <th>0</th>\n",
       "      <td>2</td>\n",
       "      <td>0.000000</td>\n",
       "      <td>0.000000</td>\n",
       "      <td>0.0</td>\n",
       "      <td>4.52580</td>\n",
       "      <td>0.00000</td>\n",
       "      <td>0.0</td>\n",
       "      <td>2.262900</td>\n",
       "      <td>0.000000e+00</td>\n",
       "      <td>0.0</td>\n",
       "    </tr>\n",
       "    <tr>\n",
       "      <th>1</th>\n",
       "      <td>2</td>\n",
       "      <td>0.000000</td>\n",
       "      <td>46.352001</td>\n",
       "      <td>0.0</td>\n",
       "      <td>0.00000</td>\n",
       "      <td>4.52580</td>\n",
       "      <td>0.0</td>\n",
       "      <td>0.000000</td>\n",
       "      <td>2.262897e+00</td>\n",
       "      <td>0.0</td>\n",
       "    </tr>\n",
       "    <tr>\n",
       "      <th>2</th>\n",
       "      <td>2</td>\n",
       "      <td>46.323502</td>\n",
       "      <td>-46.380402</td>\n",
       "      <td>0.0</td>\n",
       "      <td>4.52580</td>\n",
       "      <td>0.00000</td>\n",
       "      <td>0.0</td>\n",
       "      <td>2.262897</td>\n",
       "      <td>-1.136868e-13</td>\n",
       "      <td>0.0</td>\n",
       "    </tr>\n",
       "    <tr>\n",
       "      <th>3</th>\n",
       "      <td>2</td>\n",
       "      <td>46.323502</td>\n",
       "      <td>-0.028435</td>\n",
       "      <td>0.0</td>\n",
       "      <td>0.00000</td>\n",
       "      <td>4.52580</td>\n",
       "      <td>0.0</td>\n",
       "      <td>0.000000</td>\n",
       "      <td>2.262895e+00</td>\n",
       "      <td>0.0</td>\n",
       "    </tr>\n",
       "    <tr>\n",
       "      <th>4</th>\n",
       "      <td>2</td>\n",
       "      <td>92.647102</td>\n",
       "      <td>0.000000</td>\n",
       "      <td>0.0</td>\n",
       "      <td>-4.52580</td>\n",
       "      <td>-0.00000</td>\n",
       "      <td>-0.0</td>\n",
       "      <td>-2.262901</td>\n",
       "      <td>0.000000e+00</td>\n",
       "      <td>0.0</td>\n",
       "    </tr>\n",
       "    <tr>\n",
       "      <th>...</th>\n",
       "      <th>...</th>\n",
       "      <td>...</td>\n",
       "      <td>...</td>\n",
       "      <td>...</td>\n",
       "      <td>...</td>\n",
       "      <td>...</td>\n",
       "      <td>...</td>\n",
       "      <td>...</td>\n",
       "      <td>...</td>\n",
       "      <td>...</td>\n",
       "      <td>...</td>\n",
       "    </tr>\n",
       "    <tr>\n",
       "      <th rowspan=\"5\" valign=\"top\">150000</th>\n",
       "      <th>1995</th>\n",
       "      <td>3</td>\n",
       "      <td>896.192993</td>\n",
       "      <td>-869.851013</td>\n",
       "      <td>0.0</td>\n",
       "      <td>-5.00000</td>\n",
       "      <td>-8.66025</td>\n",
       "      <td>-0.0</td>\n",
       "      <td>-1.560974</td>\n",
       "      <td>-2.878967e+00</td>\n",
       "      <td>0.0</td>\n",
       "    </tr>\n",
       "    <tr>\n",
       "      <th>1996</th>\n",
       "      <td>3</td>\n",
       "      <td>896.192993</td>\n",
       "      <td>-891.581970</td>\n",
       "      <td>0.0</td>\n",
       "      <td>5.00000</td>\n",
       "      <td>-8.66025</td>\n",
       "      <td>0.0</td>\n",
       "      <td>2.296021</td>\n",
       "      <td>-4.406006e+00</td>\n",
       "      <td>0.0</td>\n",
       "    </tr>\n",
       "    <tr>\n",
       "      <th>1997</th>\n",
       "      <td>3</td>\n",
       "      <td>915.633972</td>\n",
       "      <td>-864.669983</td>\n",
       "      <td>0.0</td>\n",
       "      <td>8.66025</td>\n",
       "      <td>-5.00000</td>\n",
       "      <td>0.0</td>\n",
       "      <td>4.071045</td>\n",
       "      <td>-2.223999e+00</td>\n",
       "      <td>0.0</td>\n",
       "    </tr>\n",
       "    <tr>\n",
       "      <th>1998</th>\n",
       "      <td>3</td>\n",
       "      <td>910.424988</td>\n",
       "      <td>-845.200989</td>\n",
       "      <td>0.0</td>\n",
       "      <td>5.00000</td>\n",
       "      <td>8.66025</td>\n",
       "      <td>0.0</td>\n",
       "      <td>2.478027</td>\n",
       "      <td>4.203979e+00</td>\n",
       "      <td>0.0</td>\n",
       "    </tr>\n",
       "    <tr>\n",
       "      <th>1999</th>\n",
       "      <td>3</td>\n",
       "      <td>891.013000</td>\n",
       "      <td>-818.317993</td>\n",
       "      <td>0.0</td>\n",
       "      <td>8.66025</td>\n",
       "      <td>5.00000</td>\n",
       "      <td>0.0</td>\n",
       "      <td>1.413025</td>\n",
       "      <td>7.509766e-01</td>\n",
       "      <td>0.0</td>\n",
       "    </tr>\n",
       "  </tbody>\n",
       "</table>\n",
       "<p>3002000 rows × 10 columns</p>\n",
       "</div>"
      ],
      "text/plain": [
       "             type           x           y    z       dx       dy   dz  \\\n",
       "frame  id                                                               \n",
       "0      0        2    0.000000    0.000000  0.0  4.52580  0.00000  0.0   \n",
       "       1        2    0.000000   46.352001  0.0  0.00000  4.52580  0.0   \n",
       "       2        2   46.323502  -46.380402  0.0  4.52580  0.00000  0.0   \n",
       "       3        2   46.323502   -0.028435  0.0  0.00000  4.52580  0.0   \n",
       "       4        2   92.647102    0.000000  0.0 -4.52580 -0.00000 -0.0   \n",
       "...           ...         ...         ...  ...      ...      ...  ...   \n",
       "150000 1995     3  896.192993 -869.851013  0.0 -5.00000 -8.66025 -0.0   \n",
       "       1996     3  896.192993 -891.581970  0.0  5.00000 -8.66025  0.0   \n",
       "       1997     3  915.633972 -864.669983  0.0  8.66025 -5.00000  0.0   \n",
       "       1998     3  910.424988 -845.200989  0.0  5.00000  8.66025  0.0   \n",
       "       1999     3  891.013000 -818.317993  0.0  8.66025  5.00000  0.0   \n",
       "\n",
       "                   cx            cy   cz  \n",
       "frame  id                                 \n",
       "0      0     2.262900  0.000000e+00  0.0  \n",
       "       1     0.000000  2.262897e+00  0.0  \n",
       "       2     2.262897 -1.136868e-13  0.0  \n",
       "       3     0.000000  2.262895e+00  0.0  \n",
       "       4    -2.262901  0.000000e+00  0.0  \n",
       "...               ...           ...  ...  \n",
       "150000 1995 -1.560974 -2.878967e+00  0.0  \n",
       "       1996  2.296021 -4.406006e+00  0.0  \n",
       "       1997  4.071045 -2.223999e+00  0.0  \n",
       "       1998  2.478027  4.203979e+00  0.0  \n",
       "       1999  1.413025  7.509766e-01  0.0  \n",
       "\n",
       "[3002000 rows x 10 columns]"
      ]
     },
     "execution_count": 7,
     "metadata": {},
     "output_type": "execute_result"
    }
   ],
   "source": [
    "col_trj"
   ]
  },
  {
   "cell_type": "code",
   "execution_count": 8,
   "metadata": {},
   "outputs": [],
   "source": [
    "type2 = col_trj.query('type == 2')\n",
    "type3 = col_trj.query('type == 3')"
   ]
  },
  {
   "cell_type": "code",
   "execution_count": 9,
   "metadata": {},
   "outputs": [
    {
     "data": {
      "text/plain": [
       "(-100, -300)"
      ]
     },
     "execution_count": 9,
     "metadata": {},
     "output_type": "execute_result"
    },
    {
     "data": {
      "image/png": "[encoded data removed]",
      "text/plain": [
       "<Figure size 1440x1440 with 1 Axes>"
      ]
     },
     "metadata": {
      "needs_background": "light"
     },
     "output_type": "display_data"
    }
   ],
   "source": [
    "f, (ax1) = plt.subplots(1,1,figsize = (20,20))\n",
    "\n",
    "# centers\n",
    "plt.plot(type2.loc[last_frame].x,type2.loc[last_frame].y,'o', color =\"blue\")\n",
    "# colloid position\n",
    "plt.plot(type2.loc[last_frame].x+type2.loc[last_frame].cx,\n",
    "         type2.loc[last_frame].y+type2.loc[last_frame].cy, 'o', markersize = 5, color =\"limegreen\")\n",
    "# colloid direction\n",
    "plt.plot(type2.loc[last_frame].x+type2.loc[last_frame].dx,\n",
    "        type2.loc[last_frame].y+type2.loc[last_frame].dy, '.', markersize = 10, color =\"tomato\")\n",
    "plt.axis('equal')\n",
    "plt.xlim(100, 300)\n",
    "plt.ylim(-100, -300)"
   ]
  },
  {
   "cell_type": "code",
   "execution_count": 10,
   "metadata": {},
   "outputs": [],
   "source": [
    "type2_v = type2.query('dy == 0 or dy == -0')\n",
    "type2_h = type2.query('dx == 0 or dx == -0')"
   ]
  },
  {
   "cell_type": "code",
   "execution_count": 11,
   "metadata": {},
   "outputs": [
    {
     "data": {
      "text/plain": [
       "(<matplotlib.axes._subplots.AxesSubplot at 0x7f0c9b975690>,\n",
       " <matplotlib.axes._subplots.AxesSubplot at 0x7f0c9b975690>)"
      ]
     },
     "execution_count": 11,
     "metadata": {},
     "output_type": "execute_result"
    },
    {
     "data": {
      "image/png": "[encoded data removed]",
      "text/plain": [
       "<Figure size 432x288 with 1 Axes>"
      ]
     },
     "metadata": {
      "needs_background": "light"
     },
     "output_type": "display_data"
    }
   ],
   "source": [
    "type2_v.loc[last_frame]['cx'].hist(bins = 30), type2_h.loc[last_frame]['cy'].hist(bins = 30, alpha = 0.5)"
   ]
  },
  {
   "cell_type": "code",
   "execution_count": 12,
   "metadata": {},
   "outputs": [
    {
     "data": {
      "text/plain": [
       "(<matplotlib.axes._subplots.AxesSubplot at 0x7f0c9bae89d0>,\n",
       " <matplotlib.axes._subplots.AxesSubplot at 0x7f0c9bae89d0>)"
      ]
     },
     "execution_count": 12,
     "metadata": {},
     "output_type": "execute_result"
    },
    {
     "data": {
      "image/png": "[encoded data removed]",
      "text/plain": [
       "<Figure size 432x288 with 1 Axes>"
      ]
     },
     "metadata": {
      "needs_background": "light"
     },
     "output_type": "display_data"
    }
   ],
   "source": [
    "type2_v['cx'].hist(bins = 30), type2_h['cy'].hist(bins = 30, alpha = 0.5)"
   ]
  },
  {
   "cell_type": "code",
   "execution_count": 13,
   "metadata": {},
   "outputs": [
    {
     "data": {
      "text/plain": [
       "(-100, -300)"
      ]
     },
     "execution_count": 13,
     "metadata": {},
     "output_type": "execute_result"
    },
    {
     "data": {
      "image/png": "[encoded data removed]",
      "text/plain": [
       "<Figure size 1440x1440 with 1 Axes>"
      ]
     },
     "metadata": {
      "needs_background": "light"
     },
     "output_type": "display_data"
    }
   ],
   "source": [
    "f, (ax1) = plt.subplots(1,1,figsize = (20,20))\n",
    "\n",
    "# centers\n",
    "plt.plot(type3.loc[last_frame].x,type3.loc[last_frame].y,'o', color =\"blue\")\n",
    "# colloid position\n",
    "plt.plot(type3.loc[last_frame].x+type3.loc[last_frame].cx,\n",
    "         type3.loc[last_frame].y+type3.loc[last_frame].cy, 'o', markersize = 5, color =\"limegreen\")\n",
    "# colloid direction\n",
    "plt.plot(type3.loc[last_frame].x+type3.loc[last_frame].dx,\n",
    "         type3.loc[last_frame].y+type3.loc[last_frame].dy, '.', markersize = 10, color =\"tomato\")\n",
    "plt.axis('equal')\n",
    "plt.xlim(100, 300)\n",
    "plt.ylim(-100, -300)"
   ]
  },
  {
   "cell_type": "code",
   "execution_count": 14,
   "metadata": {},
   "outputs": [
    {
     "data": {
      "text/html": [
       "<div>\n",
       "<style scoped>\n",
       "    .dataframe tbody tr th:only-of-type {\n",
       "        vertical-align: middle;\n",
       "    }\n",
       "\n",
       "    .dataframe tbody tr th {\n",
       "        vertical-align: top;\n",
       "    }\n",
       "\n",
       "    .dataframe thead th {\n",
       "        text-align: right;\n",
       "    }\n",
       "</style>\n",
       "<table border=\"1\" class=\"dataframe\">\n",
       "  <thead>\n",
       "    <tr style=\"text-align: right;\">\n",
       "      <th></th>\n",
       "      <th></th>\n",
       "      <th>type</th>\n",
       "      <th>x</th>\n",
       "      <th>y</th>\n",
       "      <th>z</th>\n",
       "      <th>dx</th>\n",
       "      <th>dy</th>\n",
       "      <th>dz</th>\n",
       "      <th>cx</th>\n",
       "      <th>cy</th>\n",
       "      <th>cz</th>\n",
       "    </tr>\n",
       "    <tr>\n",
       "      <th>frame</th>\n",
       "      <th>id</th>\n",
       "      <th></th>\n",
       "      <th></th>\n",
       "      <th></th>\n",
       "      <th></th>\n",
       "      <th></th>\n",
       "      <th></th>\n",
       "      <th></th>\n",
       "      <th></th>\n",
       "      <th></th>\n",
       "      <th></th>\n",
       "    </tr>\n",
       "  </thead>\n",
       "  <tbody>\n",
       "    <tr>\n",
       "      <th rowspan=\"5\" valign=\"top\">0</th>\n",
       "      <th>400</th>\n",
       "      <td>3</td>\n",
       "      <td>-16.046101</td>\n",
       "      <td>10.865500</td>\n",
       "      <td>0.0</td>\n",
       "      <td>5.00000</td>\n",
       "      <td>-8.66025</td>\n",
       "      <td>-0.0</td>\n",
       "      <td>2.500001</td>\n",
       "      <td>-4.330101</td>\n",
       "      <td>0.0</td>\n",
       "    </tr>\n",
       "    <tr>\n",
       "      <th>401</th>\n",
       "      <td>3</td>\n",
       "      <td>-10.865500</td>\n",
       "      <td>30.305901</td>\n",
       "      <td>0.0</td>\n",
       "      <td>8.66025</td>\n",
       "      <td>5.00000</td>\n",
       "      <td>0.0</td>\n",
       "      <td>4.330101</td>\n",
       "      <td>2.500000</td>\n",
       "      <td>0.0</td>\n",
       "    </tr>\n",
       "    <tr>\n",
       "      <th>402</th>\n",
       "      <td>3</td>\n",
       "      <td>10.865500</td>\n",
       "      <td>30.305901</td>\n",
       "      <td>0.0</td>\n",
       "      <td>8.66025</td>\n",
       "      <td>-5.00000</td>\n",
       "      <td>-0.0</td>\n",
       "      <td>4.330199</td>\n",
       "      <td>-2.500000</td>\n",
       "      <td>0.0</td>\n",
       "    </tr>\n",
       "    <tr>\n",
       "      <th>403</th>\n",
       "      <td>3</td>\n",
       "      <td>16.046101</td>\n",
       "      <td>10.865500</td>\n",
       "      <td>0.0</td>\n",
       "      <td>5.00000</td>\n",
       "      <td>8.66025</td>\n",
       "      <td>0.0</td>\n",
       "      <td>2.500000</td>\n",
       "      <td>4.330199</td>\n",
       "      <td>0.0</td>\n",
       "    </tr>\n",
       "    <tr>\n",
       "      <th>404</th>\n",
       "      <td>3</td>\n",
       "      <td>16.046101</td>\n",
       "      <td>-10.865500</td>\n",
       "      <td>0.0</td>\n",
       "      <td>5.00000</td>\n",
       "      <td>-8.66025</td>\n",
       "      <td>0.0</td>\n",
       "      <td>2.500000</td>\n",
       "      <td>-4.330199</td>\n",
       "      <td>0.0</td>\n",
       "    </tr>\n",
       "    <tr>\n",
       "      <th>...</th>\n",
       "      <th>...</th>\n",
       "      <td>...</td>\n",
       "      <td>...</td>\n",
       "      <td>...</td>\n",
       "      <td>...</td>\n",
       "      <td>...</td>\n",
       "      <td>...</td>\n",
       "      <td>...</td>\n",
       "      <td>...</td>\n",
       "      <td>...</td>\n",
       "      <td>...</td>\n",
       "    </tr>\n",
       "    <tr>\n",
       "      <th rowspan=\"5\" valign=\"top\">150000</th>\n",
       "      <th>1995</th>\n",
       "      <td>3</td>\n",
       "      <td>896.192993</td>\n",
       "      <td>-869.851013</td>\n",
       "      <td>0.0</td>\n",
       "      <td>-5.00000</td>\n",
       "      <td>-8.66025</td>\n",
       "      <td>-0.0</td>\n",
       "      <td>-1.560974</td>\n",
       "      <td>-2.878967</td>\n",
       "      <td>0.0</td>\n",
       "    </tr>\n",
       "    <tr>\n",
       "      <th>1996</th>\n",
       "      <td>3</td>\n",
       "      <td>896.192993</td>\n",
       "      <td>-891.581970</td>\n",
       "      <td>0.0</td>\n",
       "      <td>5.00000</td>\n",
       "      <td>-8.66025</td>\n",
       "      <td>0.0</td>\n",
       "      <td>2.296021</td>\n",
       "      <td>-4.406006</td>\n",
       "      <td>0.0</td>\n",
       "    </tr>\n",
       "    <tr>\n",
       "      <th>1997</th>\n",
       "      <td>3</td>\n",
       "      <td>915.633972</td>\n",
       "      <td>-864.669983</td>\n",
       "      <td>0.0</td>\n",
       "      <td>8.66025</td>\n",
       "      <td>-5.00000</td>\n",
       "      <td>0.0</td>\n",
       "      <td>4.071045</td>\n",
       "      <td>-2.223999</td>\n",
       "      <td>0.0</td>\n",
       "    </tr>\n",
       "    <tr>\n",
       "      <th>1998</th>\n",
       "      <td>3</td>\n",
       "      <td>910.424988</td>\n",
       "      <td>-845.200989</td>\n",
       "      <td>0.0</td>\n",
       "      <td>5.00000</td>\n",
       "      <td>8.66025</td>\n",
       "      <td>0.0</td>\n",
       "      <td>2.478027</td>\n",
       "      <td>4.203979</td>\n",
       "      <td>0.0</td>\n",
       "    </tr>\n",
       "    <tr>\n",
       "      <th>1999</th>\n",
       "      <td>3</td>\n",
       "      <td>891.013000</td>\n",
       "      <td>-818.317993</td>\n",
       "      <td>0.0</td>\n",
       "      <td>8.66025</td>\n",
       "      <td>5.00000</td>\n",
       "      <td>0.0</td>\n",
       "      <td>1.413025</td>\n",
       "      <td>0.750977</td>\n",
       "      <td>0.0</td>\n",
       "    </tr>\n",
       "  </tbody>\n",
       "</table>\n",
       "<p>2401600 rows × 10 columns</p>\n",
       "</div>"
      ],
      "text/plain": [
       "             type           x           y    z       dx       dy   dz  \\\n",
       "frame  id                                                               \n",
       "0      400      3  -16.046101   10.865500  0.0  5.00000 -8.66025 -0.0   \n",
       "       401      3  -10.865500   30.305901  0.0  8.66025  5.00000  0.0   \n",
       "       402      3   10.865500   30.305901  0.0  8.66025 -5.00000 -0.0   \n",
       "       403      3   16.046101   10.865500  0.0  5.00000  8.66025  0.0   \n",
       "       404      3   16.046101  -10.865500  0.0  5.00000 -8.66025  0.0   \n",
       "...           ...         ...         ...  ...      ...      ...  ...   \n",
       "150000 1995     3  896.192993 -869.851013  0.0 -5.00000 -8.66025 -0.0   \n",
       "       1996     3  896.192993 -891.581970  0.0  5.00000 -8.66025  0.0   \n",
       "       1997     3  915.633972 -864.669983  0.0  8.66025 -5.00000  0.0   \n",
       "       1998     3  910.424988 -845.200989  0.0  5.00000  8.66025  0.0   \n",
       "       1999     3  891.013000 -818.317993  0.0  8.66025  5.00000  0.0   \n",
       "\n",
       "                   cx        cy   cz  \n",
       "frame  id                             \n",
       "0      400   2.500001 -4.330101  0.0  \n",
       "       401   4.330101  2.500000  0.0  \n",
       "       402   4.330199 -2.500000  0.0  \n",
       "       403   2.500000  4.330199  0.0  \n",
       "       404   2.500000 -4.330199  0.0  \n",
       "...               ...       ...  ...  \n",
       "150000 1995 -1.560974 -2.878967  0.0  \n",
       "       1996  2.296021 -4.406006  0.0  \n",
       "       1997  4.071045 -2.223999  0.0  \n",
       "       1998  2.478027  4.203979  0.0  \n",
       "       1999  1.413025  0.750977  0.0  \n",
       "\n",
       "[2401600 rows x 10 columns]"
      ]
     },
     "execution_count": 14,
     "metadata": {},
     "output_type": "execute_result"
    }
   ],
   "source": [
    "type3"
   ]
  },
  {
   "cell_type": "code",
   "execution_count": 15,
   "metadata": {},
   "outputs": [],
   "source": [
    "type3_v = type3.query('dx == 5 or dx == -5')\n",
    "type3_h = type3.query('dy == 5 or dy == -5')"
   ]
  },
  {
   "cell_type": "code",
   "execution_count": 16,
   "metadata": {},
   "outputs": [
    {
     "data": {
      "text/plain": [
       "(-100, -300)"
      ]
     },
     "execution_count": 16,
     "metadata": {},
     "output_type": "execute_result"
    },
    {
     "data": {
      "image/png": "[encoded data removed]",
      "text/plain": [
       "<Figure size 1440x1440 with 1 Axes>"
      ]
     },
     "metadata": {
      "needs_background": "light"
     },
     "output_type": "display_data"
    }
   ],
   "source": [
    "f, (ax1) = plt.subplots(1,1,figsize = (20,20))\n",
    "\n",
    "# centers\n",
    "plt.plot(type3_v.loc[last_frame].x,type3_v.loc[last_frame].y,'o', color =\"blue\")\n",
    "# colloid position\n",
    "plt.plot(type3_v.loc[last_frame].x+type3_v.loc[last_frame].cx,\n",
    "         type3_v.loc[last_frame].y+type3_v.loc[last_frame].cy, 'o', markersize = 5, color =\"limegreen\")\n",
    "# colloid direction\n",
    "plt.plot(type3_v.loc[last_frame].x+type3_v.loc[last_frame].dx,\n",
    "         type3_v.loc[last_frame].y+type3_v.loc[last_frame].dy, '.', markersize = 10, color =\"tomato\")\n",
    "\n",
    "plt.axis('equal')\n",
    "plt.xlim(100, 300)\n",
    "plt.ylim(-100, -300)"
   ]
  },
  {
   "cell_type": "code",
   "execution_count": 17,
   "metadata": {},
   "outputs": [],
   "source": [
    "import numpy as np"
   ]
  },
  {
   "cell_type": "code",
   "execution_count": 18,
   "metadata": {},
   "outputs": [
    {
     "name": "stderr",
     "output_type": "stream",
     "text": [
      "/home/carolina/anaconda3/lib/python3.7/site-packages/ipykernel_launcher.py:1: SettingWithCopyWarning: \n",
      "A value is trying to be set on a copy of a slice from a DataFrame.\n",
      "Try using .loc[row_indexer,col_indexer] = value instead\n",
      "\n",
      "See the caveats in the documentation: https://pandas.pydata.org/pandas-docs/stable/user_guide/indexing.html#returning-a-view-versus-a-copy\n",
      "  \"\"\"Entry point for launching an IPython kernel.\n"
     ]
    }
   ],
   "source": [
    "type3_v['cy']= type3_v['cy']/np.cos(30*np.pi/180)"
   ]
  },
  {
   "cell_type": "code",
   "execution_count": 19,
   "metadata": {},
   "outputs": [
    {
     "data": {
      "text/plain": [
       "<matplotlib.axes._subplots.AxesSubplot at 0x7f0c9b85be90>"
      ]
     },
     "execution_count": 19,
     "metadata": {},
     "output_type": "execute_result"
    },
    {
     "data": {
      "image/png": "[encoded data removed]",
      "text/plain": [
       "<Figure size 432x288 with 1 Axes>"
      ]
     },
     "metadata": {
      "needs_background": "light"
     },
     "output_type": "display_data"
    }
   ],
   "source": [
    "type3_v.loc[last_frame]['cy'].hist(bins = 30)"
   ]
  },
  {
   "cell_type": "code",
   "execution_count": 20,
   "metadata": {},
   "outputs": [
    {
     "data": {
      "text/plain": [
       "<matplotlib.axes._subplots.AxesSubplot at 0x7f0c2b6b3d90>"
      ]
     },
     "execution_count": 20,
     "metadata": {},
     "output_type": "execute_result"
    },
    {
     "data": {
      "image/png": "[encoded data removed]",
      "text/plain": [
       "<Figure size 432x288 with 1 Axes>"
      ]
     },
     "metadata": {
      "needs_background": "light"
     },
     "output_type": "display_data"
    }
   ],
   "source": [
    "type3_v['cy'].hist(bins = 30,density=1)"
   ]
  },
  {
   "cell_type": "code",
   "execution_count": 21,
   "metadata": {},
   "outputs": [
    {
     "data": {
      "text/plain": [
       "(-100, -300)"
      ]
     },
     "execution_count": 21,
     "metadata": {},
     "output_type": "execute_result"
    },
    {
     "data": {
      "image/png": "[encoded data removed]",
      "text/plain": [
       "<Figure size 1440x1440 with 1 Axes>"
      ]
     },
     "metadata": {
      "needs_background": "light"
     },
     "output_type": "display_data"
    }
   ],
   "source": [
    "f, (ax1) = plt.subplots(1,1,figsize = (20,20))\n",
    "\n",
    "# centers\n",
    "plt.plot(type3_h.loc[last_frame].x,type3_h.loc[last_frame].y,'o', color =\"blue\")\n",
    "# colloid positon\n",
    "plt.plot(type3_h.loc[last_frame].x+type3_h.loc[last_frame].cx,\n",
    "         type3_h.loc[last_frame].y+type3_h.loc[last_frame].cy, 'o', markersize = 5, color =\"limegreen\")\n",
    "# colloid direction\n",
    "plt.plot(type3_h.loc[last_frame].x+type3_h.loc[last_frame].dx,\n",
    "         type3_h.loc[last_frame].y+type3_h.loc[last_frame].dy, '.', markersize = 10, color =\"tomato\")\n",
    "\n",
    "plt.axis('equal')\n",
    "plt.xlim(100, 300)\n",
    "plt.ylim(-100, -300)"
   ]
  },
  {
   "cell_type": "code",
   "execution_count": 22,
   "metadata": {},
   "outputs": [
    {
     "name": "stderr",
     "output_type": "stream",
     "text": [
      "/home/carolina/anaconda3/lib/python3.7/site-packages/ipykernel_launcher.py:1: SettingWithCopyWarning: \n",
      "A value is trying to be set on a copy of a slice from a DataFrame.\n",
      "Try using .loc[row_indexer,col_indexer] = value instead\n",
      "\n",
      "See the caveats in the documentation: https://pandas.pydata.org/pandas-docs/stable/user_guide/indexing.html#returning-a-view-versus-a-copy\n",
      "  \"\"\"Entry point for launching an IPython kernel.\n"
     ]
    }
   ],
   "source": [
    "type3_h['cx'] = type3_h['cx']/np.cos(30*np.pi/180)"
   ]
  },
  {
   "cell_type": "code",
   "execution_count": 23,
   "metadata": {},
   "outputs": [
    {
     "data": {
      "text/plain": [
       "<matplotlib.axes._subplots.AxesSubplot at 0x7f0c96b22b10>"
      ]
     },
     "execution_count": 23,
     "metadata": {},
     "output_type": "execute_result"
    },
    {
     "data": {
      "image/png": "[encoded data removed]",
      "text/plain": [
       "<Figure size 432x288 with 1 Axes>"
      ]
     },
     "metadata": {
      "needs_background": "light"
     },
     "output_type": "display_data"
    }
   ],
   "source": [
    "type3_h.loc[last_frame]['cx'].hist(bins = 30,density=1)"
   ]
  },
  {
   "cell_type": "code",
   "execution_count": 24,
   "metadata": {},
   "outputs": [
    {
     "data": {
      "text/plain": [
       "<matplotlib.axes._subplots.AxesSubplot at 0x7f0c96ac5ad0>"
      ]
     },
     "execution_count": 24,
     "metadata": {},
     "output_type": "execute_result"
    },
    {
     "data": {
      "image/png": "[encoded data removed]",
      "text/plain": [
       "<Figure size 432x288 with 1 Axes>"
      ]
     },
     "metadata": {
      "needs_background": "light"
     },
     "output_type": "display_data"
    }
   ],
   "source": [
    "type3_h['cx'].hist(bins = 30,density=1)"
   ]
  },
  {
   "cell_type": "code",
   "execution_count": null,
   "metadata": {},
   "outputs": [],
   "source": []
  }
 ],
 "metadata": {
  "kernelspec": {
   "display_name": "Python 3",
   "language": "python",
   "name": "python3"
  },
  "language_info": {
   "codemirror_mode": {
    "name": "ipython",
    "version": 3
   },
   "file_extension": ".py",
   "mimetype": "text/x-python",
   "name": "python",
   "nbconvert_exporter": "python",
   "pygments_lexer": "ipython3",
   "version": "3.7.6"
  }
 },
 "nbformat": 4,
 "nbformat_minor": 4
}
