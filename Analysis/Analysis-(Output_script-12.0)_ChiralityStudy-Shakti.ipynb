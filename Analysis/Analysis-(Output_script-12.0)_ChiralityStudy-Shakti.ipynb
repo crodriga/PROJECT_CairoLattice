{
 "cells": [
  {
   "cell_type": "code",
   "execution_count": 1,
   "metadata": {},
   "outputs": [],
   "source": [
    "import magcolloids as mgc\n",
    "import os\n",
    "import sys\n",
    "import numpy as np\n",
    "import pandas as pd\n",
    "import scipy\n",
    "#from multiprocessing import Pool\n",
    "#import tqdm.auto as tqdm\n",
    "\n",
    "sys.path.insert(0, '../icenumerics')\n",
    "\n",
    "import icenumerics as ice\n",
    "import matplotlib.pyplot as plt\n",
    "from matplotlib import patches"
   ]
  },
  {
   "cell_type": "markdown",
   "metadata": {},
   "source": [
    "# Chirality of each Pentagon\n",
    "\n",
    "    In this script, we will define a chirality to each pentagon. The total chirality of a pentagon will be computed by the sum of the direction of each spin in the pentagon, +1 (-1) if it is clockwise (counterclockwise). Hence, the expected values for the chirality are +/- 1, +/- 1/5, +/- 3/5."
   ]
  },
  {
   "cell_type": "markdown",
   "metadata": {},
   "source": [
    "    First, we will charge the data and try to merge it with the pentagon classification of Pentagon_coordinates_Script-9.2_theta=.dat"
   ]
  },
  {
   "cell_type": "code",
   "execution_count": 2,
   "metadata": {},
   "outputs": [],
   "source": [
    "data_directory = \"/home/carolina/CairoLattice_ACI_PROJECT/Scripts/Output_Script-12.0\""
   ]
  },
  {
   "cell_type": "code",
   "execution_count": 3,
   "metadata": {},
   "outputs": [],
   "source": [
    "def get_ice_trj(trj,bounds, atom_types = None, trap_types = None):\n",
    "    \"\"\" Converts lammps trj to ice trj\n",
    "    \n",
    "    \"\"\"\n",
    "    # in the trj dataframe, traps and atoms are labeled by different types. \n",
    "    # for single trap type, and single particle type, the default behaviour is to have traps as type 2 and atoms as type 1.\n",
    "    # If the behaviour is not the default, it should be specified. \n",
    "    if trap_types is None:\n",
    "        trap_types = [2]\n",
    "       \n",
    "    try: \n",
    "        traps = trj[trj.type.isin(trap_types)].copy(deep=True)\n",
    "    except TypeError: \n",
    "        traps = trj[trj.type.isin([trap_types])].copy(deep=True)\n",
    "    \n",
    "    try:\n",
    "        atoms = trj[trj.type.isin(atom_types)].copy(deep=True)\n",
    "    except TypeError:\n",
    "        atoms = trj[trj.type.isin([atom_types])].copy(deep=True)\n",
    "    \n",
    "    traps = traps.rename(columns = {\"mux\":\"dx\",\"muy\":\"dy\",\"muz\":\"dz\"})\n",
    "    atoms = unwrap_trj(atoms.filter([\"x\",\"y\",\"z\"]),bounds.loc[[0]])\n",
    "    \n",
    "    trj = []\n",
    "    \n",
    "    ## It turns out that the traps are not in the same order as the particles, when the system is bidisperse. \n",
    "    # we first reindex the traps so that they start at zero, and increase consecutively\n",
    "    traps_id = traps.index.get_level_values(\"id\").unique()\n",
    "    reindex_traps = pd.Series({t:i for i, t in enumerate(traps_id)})\n",
    "    traps.reset_index(inplace = True)\n",
    "    traps.id = traps.id.map(reindex_traps)\n",
    "    traps = traps.set_index([\"frame\",\"id\"]).sort_index()\n",
    "    \n",
    "    # we calculate the distance between traps and particles in the first frame,\n",
    "    # and we build an atom index from the minimization of this distance\n",
    "    distances = spa.distance.cdist(traps.loc[0,[\"x\",\"y\",\"z\"]], atoms.loc[0,[\"x\",\"y\",\"z\"]])\n",
    "    reindex_atoms = pd.Series({a+1:t for a, t in enumerate(np.argmin(distances, axis = 0))})\n",
    "    \n",
    "    # now we reindex the atoms\n",
    "    atoms.reset_index(inplace = True)\n",
    "    atoms.id = atoms.id.map(reindex_atoms)\n",
    "    atoms = atoms.set_index([\"frame\",\"id\"]).sort_index()\n",
    "    \n",
    "    ## create a relative position vector. This goes from the center of the trap to the position of the particle\n",
    "    colloids = atoms-traps\n",
    "    colloids = colloids[[\"x\",\"y\",\"z\"]]\n",
    "    colloids.columns = [\"cx\",\"cy\",\"cz\"]\n",
    "    traps = pd.concat([traps,colloids],axis=1)\n",
    "    colloids = []\n",
    "    atoms = []\n",
    "\n",
    "    ## Flip those traps that are not pointing in the  direction of the colloids\n",
    "    flip = np.sign((traps[[\"dx\",\"dy\",\"dz\"]].values*traps[[\"cx\",\"cy\",\"cz\"]].values).sum(axis=1))\n",
    "    traps[[\"dx\",\"dy\",\"dz\"]] = traps[[\"dx\",\"dy\",\"dz\"]].values*flip[:,np.newaxis]\n",
    "\n",
    "    ## make the direction vector unitary\n",
    "    mag = np.sign((traps[[\"dx\",\"dy\",\"dz\"]].values**2).sum(axis=1))\n",
    "    traps[[\"dx\",\"dy\",\"dz\"]] = traps[[\"dx\",\"dy\",\"dz\"]].values*mag[:,np.newaxis]\n",
    "\n",
    "    #timestep = 10e-3 #sec\n",
    "    #traps[\"t\"] = traps.index.get_level_values(\"frame\")*timestep\n",
    "\n",
    "    return traps"
   ]
  },
  {
   "cell_type": "code",
   "execution_count": 4,
   "metadata": {},
   "outputs": [
    {
     "ename": "ValueError",
     "evalue": "cannot handle a non-unique multi-index!",
     "output_type": "error",
     "traceback": [
      "\u001b[0;31m---------------------------------------------------------------------------\u001b[0m",
      "\u001b[0;31mValueError\u001b[0m                                Traceback (most recent call last)",
      "\u001b[0;32m<ipython-input-4-0af4213bcb51>\u001b[0m in \u001b[0;36m<module>\u001b[0;34m\u001b[0m\n\u001b[1;32m      5\u001b[0m \u001b[0mbnd\u001b[0m \u001b[0;34m=\u001b[0m \u001b[0mload_obj\u001b[0m\u001b[0;34m.\u001b[0m\u001b[0mget_bounds\u001b[0m\u001b[0;34m(\u001b[0m\u001b[0;34m)\u001b[0m\u001b[0;34m\u001b[0m\u001b[0;34m\u001b[0m\u001b[0m\n\u001b[1;32m      6\u001b[0m \u001b[0mtrj\u001b[0m \u001b[0;34m=\u001b[0m \u001b[0mload_obj\u001b[0m\u001b[0;34m.\u001b[0m\u001b[0mread_trj\u001b[0m\u001b[0;34m(\u001b[0m\u001b[0;34m)\u001b[0m\u001b[0;34m\u001b[0m\u001b[0;34m\u001b[0m\u001b[0m\n\u001b[0;32m----> 7\u001b[0;31m \u001b[0mcol_trj\u001b[0m \u001b[0;34m=\u001b[0m \u001b[0mice\u001b[0m\u001b[0;34m.\u001b[0m\u001b[0mget_ice_trj\u001b[0m\u001b[0;34m(\u001b[0m\u001b[0mtrj\u001b[0m\u001b[0;34m,\u001b[0m\u001b[0mbnd\u001b[0m\u001b[0;34m,\u001b[0m \u001b[0matom_types\u001b[0m \u001b[0;34m=\u001b[0m \u001b[0;36m1\u001b[0m\u001b[0;34m,\u001b[0m \u001b[0mtrap_types\u001b[0m \u001b[0;34m=\u001b[0m \u001b[0;34m[\u001b[0m\u001b[0;36m3\u001b[0m\u001b[0;34m]\u001b[0m\u001b[0;34m)\u001b[0m\u001b[0;34m\u001b[0m\u001b[0;34m\u001b[0m\u001b[0m\n\u001b[0m",
      "\u001b[0;32m~/CairoLattice_ACI_PROJECT/icenumerics/icenumerics/trajectory.py\u001b[0m in \u001b[0;36mget_ice_trj\u001b[0;34m(trj, bounds, atom_types, trap_types)\u001b[0m\n\u001b[1;32m     83\u001b[0m     \u001b[0mcolloids\u001b[0m \u001b[0;34m=\u001b[0m \u001b[0mcolloids\u001b[0m\u001b[0;34m[\u001b[0m\u001b[0;34m[\u001b[0m\u001b[0;34m\"x\"\u001b[0m\u001b[0;34m,\u001b[0m\u001b[0;34m\"y\"\u001b[0m\u001b[0;34m,\u001b[0m\u001b[0;34m\"z\"\u001b[0m\u001b[0;34m]\u001b[0m\u001b[0;34m]\u001b[0m\u001b[0;34m\u001b[0m\u001b[0;34m\u001b[0m\u001b[0m\n\u001b[1;32m     84\u001b[0m     \u001b[0mcolloids\u001b[0m\u001b[0;34m.\u001b[0m\u001b[0mcolumns\u001b[0m \u001b[0;34m=\u001b[0m \u001b[0;34m[\u001b[0m\u001b[0;34m\"cx\"\u001b[0m\u001b[0;34m,\u001b[0m\u001b[0;34m\"cy\"\u001b[0m\u001b[0;34m,\u001b[0m\u001b[0;34m\"cz\"\u001b[0m\u001b[0;34m]\u001b[0m\u001b[0;34m\u001b[0m\u001b[0;34m\u001b[0m\u001b[0m\n\u001b[0;32m---> 85\u001b[0;31m     \u001b[0mtraps\u001b[0m \u001b[0;34m=\u001b[0m \u001b[0mpd\u001b[0m\u001b[0;34m.\u001b[0m\u001b[0mconcat\u001b[0m\u001b[0;34m(\u001b[0m\u001b[0;34m[\u001b[0m\u001b[0mtraps\u001b[0m\u001b[0;34m,\u001b[0m\u001b[0mcolloids\u001b[0m\u001b[0;34m]\u001b[0m\u001b[0;34m,\u001b[0m\u001b[0maxis\u001b[0m\u001b[0;34m=\u001b[0m\u001b[0;36m1\u001b[0m\u001b[0;34m)\u001b[0m\u001b[0;34m\u001b[0m\u001b[0;34m\u001b[0m\u001b[0m\n\u001b[0m\u001b[1;32m     86\u001b[0m     \u001b[0mcolloids\u001b[0m \u001b[0;34m=\u001b[0m \u001b[0;34m[\u001b[0m\u001b[0;34m]\u001b[0m\u001b[0;34m\u001b[0m\u001b[0;34m\u001b[0m\u001b[0m\n\u001b[1;32m     87\u001b[0m     \u001b[0matoms\u001b[0m \u001b[0;34m=\u001b[0m \u001b[0;34m[\u001b[0m\u001b[0;34m]\u001b[0m\u001b[0;34m\u001b[0m\u001b[0;34m\u001b[0m\u001b[0m\n",
      "\u001b[0;32m~/anaconda3/lib/python3.7/site-packages/pandas/core/reshape/concat.py\u001b[0m in \u001b[0;36mconcat\u001b[0;34m(objs, axis, join, ignore_index, keys, levels, names, verify_integrity, sort, copy)\u001b[0m\n\u001b[1;32m    282\u001b[0m     )\n\u001b[1;32m    283\u001b[0m \u001b[0;34m\u001b[0m\u001b[0m\n\u001b[0;32m--> 284\u001b[0;31m     \u001b[0;32mreturn\u001b[0m \u001b[0mop\u001b[0m\u001b[0;34m.\u001b[0m\u001b[0mget_result\u001b[0m\u001b[0;34m(\u001b[0m\u001b[0;34m)\u001b[0m\u001b[0;34m\u001b[0m\u001b[0;34m\u001b[0m\u001b[0m\n\u001b[0m\u001b[1;32m    285\u001b[0m \u001b[0;34m\u001b[0m\u001b[0m\n\u001b[1;32m    286\u001b[0m \u001b[0;34m\u001b[0m\u001b[0m\n",
      "\u001b[0;32m~/anaconda3/lib/python3.7/site-packages/pandas/core/reshape/concat.py\u001b[0m in \u001b[0;36mget_result\u001b[0;34m(self)\u001b[0m\n\u001b[1;32m    490\u001b[0m                     \u001b[0mobj_labels\u001b[0m \u001b[0;34m=\u001b[0m \u001b[0mmgr\u001b[0m\u001b[0;34m.\u001b[0m\u001b[0maxes\u001b[0m\u001b[0;34m[\u001b[0m\u001b[0max\u001b[0m\u001b[0;34m]\u001b[0m\u001b[0;34m\u001b[0m\u001b[0;34m\u001b[0m\u001b[0m\n\u001b[1;32m    491\u001b[0m                     \u001b[0;32mif\u001b[0m \u001b[0;32mnot\u001b[0m \u001b[0mnew_labels\u001b[0m\u001b[0;34m.\u001b[0m\u001b[0mequals\u001b[0m\u001b[0;34m(\u001b[0m\u001b[0mobj_labels\u001b[0m\u001b[0;34m)\u001b[0m\u001b[0;34m:\u001b[0m\u001b[0;34m\u001b[0m\u001b[0;34m\u001b[0m\u001b[0m\n\u001b[0;32m--> 492\u001b[0;31m                         \u001b[0mindexers\u001b[0m\u001b[0;34m[\u001b[0m\u001b[0max\u001b[0m\u001b[0;34m]\u001b[0m \u001b[0;34m=\u001b[0m \u001b[0mobj_labels\u001b[0m\u001b[0;34m.\u001b[0m\u001b[0mreindex\u001b[0m\u001b[0;34m(\u001b[0m\u001b[0mnew_labels\u001b[0m\u001b[0;34m)\u001b[0m\u001b[0;34m[\u001b[0m\u001b[0;36m1\u001b[0m\u001b[0;34m]\u001b[0m\u001b[0;34m\u001b[0m\u001b[0;34m\u001b[0m\u001b[0m\n\u001b[0m\u001b[1;32m    493\u001b[0m \u001b[0;34m\u001b[0m\u001b[0m\n\u001b[1;32m    494\u001b[0m                 \u001b[0mmgrs_indexers\u001b[0m\u001b[0;34m.\u001b[0m\u001b[0mappend\u001b[0m\u001b[0;34m(\u001b[0m\u001b[0;34m(\u001b[0m\u001b[0mobj\u001b[0m\u001b[0;34m.\u001b[0m\u001b[0m_data\u001b[0m\u001b[0;34m,\u001b[0m \u001b[0mindexers\u001b[0m\u001b[0;34m)\u001b[0m\u001b[0;34m)\u001b[0m\u001b[0;34m\u001b[0m\u001b[0;34m\u001b[0m\u001b[0m\n",
      "\u001b[0;32m~/anaconda3/lib/python3.7/site-packages/pandas/core/indexes/multi.py\u001b[0m in \u001b[0;36mreindex\u001b[0;34m(self, target, method, level, limit, tolerance)\u001b[0m\n\u001b[1;32m   2414\u001b[0m                     )\n\u001b[1;32m   2415\u001b[0m                 \u001b[0;32melse\u001b[0m\u001b[0;34m:\u001b[0m\u001b[0;34m\u001b[0m\u001b[0;34m\u001b[0m\u001b[0m\n\u001b[0;32m-> 2416\u001b[0;31m                     \u001b[0;32mraise\u001b[0m \u001b[0mValueError\u001b[0m\u001b[0;34m(\u001b[0m\u001b[0;34m\"cannot handle a non-unique multi-index!\"\u001b[0m\u001b[0;34m)\u001b[0m\u001b[0;34m\u001b[0m\u001b[0;34m\u001b[0m\u001b[0m\n\u001b[0m\u001b[1;32m   2417\u001b[0m \u001b[0;34m\u001b[0m\u001b[0m\n\u001b[1;32m   2418\u001b[0m         \u001b[0;32mif\u001b[0m \u001b[0;32mnot\u001b[0m \u001b[0misinstance\u001b[0m\u001b[0;34m(\u001b[0m\u001b[0mtarget\u001b[0m\u001b[0;34m,\u001b[0m \u001b[0mMultiIndex\u001b[0m\u001b[0;34m)\u001b[0m\u001b[0;34m:\u001b[0m\u001b[0;34m\u001b[0m\u001b[0;34m\u001b[0m\u001b[0m\n",
      "\u001b[0;31mValueError\u001b[0m: cannot handle a non-unique multi-index!"
     ]
    }
   ],
   "source": [
    "load_obj = mgc.trj_lazyread(os.path.join(data_directory,\n",
    "                                             \"ACI_ShaktiLattice_25mT-2500s_FreeBound_l10_exp0.lammpstrj\"),\n",
    "                                                output = [\"x\",\"y\",\"z\",\"mux\",\"muy\",\"muz\"]) \n",
    "    \n",
    "bnd = load_obj.get_bounds()\n",
    "trj = load_obj.read_trj()\n",
    "col_trj = ice.get_ice_trj(trj,bnd, atom_types = 1, trap_types = [3])   "
   ]
  },
  {
   "cell_type": "markdown",
   "metadata": {},
   "source": [
    "# Try to fix the bug"
   ]
  },
  {
   "cell_type": "code",
   "execution_count": 5,
   "metadata": {},
   "outputs": [],
   "source": [
    "# First, we will distinguish the long from the short traps. To make the process faster I will filter only the firt frame \n",
    "# to do this filter. \n",
    "trj0 = trj.loc[0]\n",
    "atoms = trj0.query('type == 1')"
   ]
  },
  {
   "cell_type": "code",
   "execution_count": 6,
   "metadata": {},
   "outputs": [
    {
     "data": {
      "text/html": [
       "<div>\n",
       "<style scoped>\n",
       "    .dataframe tbody tr th:only-of-type {\n",
       "        vertical-align: middle;\n",
       "    }\n",
       "\n",
       "    .dataframe tbody tr th {\n",
       "        vertical-align: top;\n",
       "    }\n",
       "\n",
       "    .dataframe thead th {\n",
       "        text-align: right;\n",
       "    }\n",
       "</style>\n",
       "<table border=\"1\" class=\"dataframe\">\n",
       "  <thead>\n",
       "    <tr style=\"text-align: right;\">\n",
       "      <th></th>\n",
       "      <th>type</th>\n",
       "      <th>x</th>\n",
       "      <th>y</th>\n",
       "      <th>z</th>\n",
       "      <th>mux</th>\n",
       "      <th>muy</th>\n",
       "      <th>muz</th>\n",
       "    </tr>\n",
       "    <tr>\n",
       "      <th>id</th>\n",
       "      <th></th>\n",
       "      <th></th>\n",
       "      <th></th>\n",
       "      <th></th>\n",
       "      <th></th>\n",
       "      <th></th>\n",
       "      <th></th>\n",
       "    </tr>\n",
       "  </thead>\n",
       "  <tbody>\n",
       "    <tr>\n",
       "      <th>1</th>\n",
       "      <td>1</td>\n",
       "      <td>0.0000</td>\n",
       "      <td>-19.1924</td>\n",
       "      <td>0.0</td>\n",
       "      <td>0.0</td>\n",
       "      <td>0.0</td>\n",
       "      <td>0.0</td>\n",
       "    </tr>\n",
       "    <tr>\n",
       "      <th>2</th>\n",
       "      <td>1</td>\n",
       "      <td>-19.1924</td>\n",
       "      <td>28.3848</td>\n",
       "      <td>0.0</td>\n",
       "      <td>0.0</td>\n",
       "      <td>0.0</td>\n",
       "      <td>0.0</td>\n",
       "    </tr>\n",
       "  </tbody>\n",
       "</table>\n",
       "</div>"
      ],
      "text/plain": [
       "    type        x        y    z  mux  muy  muz\n",
       "id                                            \n",
       "1      1   0.0000 -19.1924  0.0  0.0  0.0  0.0\n",
       "2      1 -19.1924  28.3848  0.0  0.0  0.0  0.0"
      ]
     },
     "execution_count": 6,
     "metadata": {},
     "output_type": "execute_result"
    }
   ],
   "source": [
    "atoms.head(2)"
   ]
  },
  {
   "cell_type": "code",
   "execution_count": 7,
   "metadata": {},
   "outputs": [],
   "source": [
    "trap_l = trj0.query('mux > 20 or mux < -20 or muy > 20 or muy < -20') # filtering long traps\n",
    "trap_s = trj0.query('mux == 10 or mux == -10 or muy == 10 or muy == -10') #filtering short traps"
   ]
  },
  {
   "cell_type": "code",
   "execution_count": 8,
   "metadata": {},
   "outputs": [],
   "source": [
    "def new_columns(df):\n",
    "    '''In this function I'm generating new columns for the particle information '''\n",
    "    \n",
    "    df['px'] = np.nan\n",
    "    df['py'] = np.nan\n",
    "    df['pz'] = np.nan\n",
    "    return df "
   ]
  },
  {
   "cell_type": "code",
   "execution_count": 9,
   "metadata": {},
   "outputs": [
    {
     "name": "stderr",
     "output_type": "stream",
     "text": [
      "/home/carolina/anaconda3/lib/python3.7/site-packages/ipykernel_launcher.py:4: SettingWithCopyWarning: \n",
      "A value is trying to be set on a copy of a slice from a DataFrame.\n",
      "Try using .loc[row_indexer,col_indexer] = value instead\n",
      "\n",
      "See the caveats in the documentation: https://pandas.pydata.org/pandas-docs/stable/user_guide/indexing.html#returning-a-view-versus-a-copy\n",
      "  after removing the cwd from sys.path.\n",
      "/home/carolina/anaconda3/lib/python3.7/site-packages/ipykernel_launcher.py:5: SettingWithCopyWarning: \n",
      "A value is trying to be set on a copy of a slice from a DataFrame.\n",
      "Try using .loc[row_indexer,col_indexer] = value instead\n",
      "\n",
      "See the caveats in the documentation: https://pandas.pydata.org/pandas-docs/stable/user_guide/indexing.html#returning-a-view-versus-a-copy\n",
      "  \"\"\"\n",
      "/home/carolina/anaconda3/lib/python3.7/site-packages/ipykernel_launcher.py:6: SettingWithCopyWarning: \n",
      "A value is trying to be set on a copy of a slice from a DataFrame.\n",
      "Try using .loc[row_indexer,col_indexer] = value instead\n",
      "\n",
      "See the caveats in the documentation: https://pandas.pydata.org/pandas-docs/stable/user_guide/indexing.html#returning-a-view-versus-a-copy\n",
      "  \n"
     ]
    }
   ],
   "source": [
    "trap_l = new_columns(trap_l)\n",
    "trap_s = new_columns(trap_s)"
   ]
  },
  {
   "cell_type": "markdown",
   "metadata": {},
   "source": [
    "I need to build the col_trj dataframe as in the Cairo or other lattices in order to reuse the other functions. "
   ]
  },
  {
   "cell_type": "code",
   "execution_count": 10,
   "metadata": {},
   "outputs": [],
   "source": [
    "coord = np.stack((np.ravel(trap_s.x.values), np.ravel(trap_s.y.values)), axis=-1)\n",
    "coord_atoms = np.stack((np.ravel(atoms.x.values), np.ravel(atoms.y.values)), axis=-1)"
   ]
  },
  {
   "cell_type": "code",
   "execution_count": 11,
   "metadata": {},
   "outputs": [],
   "source": [
    "KDTree = scipy.spatial.KDTree(coord_atoms)\n",
    "dist, nn_index = KDTree.query(coord, k=1)"
   ]
  },
  {
   "cell_type": "code",
   "execution_count": 14,
   "metadata": {},
   "outputs": [
    {
     "data": {
      "text/plain": [
       "array([   1,    2,    3,    4,    6,    7,    8,    9,   11,   12,   13,\n",
       "         14,   16,   17,   18,   19,   21,   22,   23,   24,   26,   27,\n",
       "         28,   29,   31,   32,   33,   34,   36,   37,   38,   39,   41,\n",
       "         42,   43,   44,   46,   47,   48,   49,   51,   52,   53,   54,\n",
       "         56,   57,   58,   59,   61,   62,   63,   64,   66,   67,   68,\n",
       "         69,   71,   72,   73,   74,   76,   77,   78,   79,   81,   82,\n",
       "         83,   84,   86,   87,   88,   89,   91,   92,   93,   94,   96,\n",
       "         97,   98,   99,  101,  102,  103,  104,  106,  107,  108,  109,\n",
       "        111,  112,  113,  114,  116,  117,  118,  119,  121,  122,  123,\n",
       "        124,  126,  127,  128,  129,  131,  132,  133,  134,  136,  137,\n",
       "        138,  139,  141,  142,  143,  144,  146,  147,  148,  149,  151,\n",
       "        152,  153,  154,  156,  157,  158,  159,  161,  162,  163,  164,\n",
       "        166,  167,  168,  169,  171,  172,  173,  174,  176,  177,  178,\n",
       "        179,  181,  182,  183,  184,  186,  187,  188,  189,  191,  192,\n",
       "        193,  194,  196,  197,  198,  199,  201,  202,  203,  204,  206,\n",
       "        207,  208,  209,  211,  212,  213,  214,  216,  217,  218,  219,\n",
       "        221,  222,  223,  224,  226,  227,  228,  229,  231,  232,  233,\n",
       "        234,  236,  237,  238,  239,  241,  242,  243,  244,  246,  247,\n",
       "        248,  249,  251,  252,  253,  254,  256,  257,  258,  259,  261,\n",
       "        262,  263,  264,  266,  267,  268,  269,  271,  272,  273,  274,\n",
       "        276,  277,  278,  279,  281,  282,  283,  284,  286,  287,  288,\n",
       "        289,  291,  292,  293,  294,  296,  297,  298,  299,  301,  302,\n",
       "        303,  304,  306,  307,  308,  309,  311,  312,  313,  314,  316,\n",
       "        317,  318,  319,  321,  322,  323,  324,  326,  327,  328,  329,\n",
       "        331,  332,  333,  334,  336,  337,  338,  339,  341,  342,  343,\n",
       "        344,  346,  347,  348,  349,  351,  352,  353,  354,  356,  357,\n",
       "        358,  359,  361,  362,  363,  364,  366,  367,  368,  369,  371,\n",
       "        372,  373,  374,  376,  377,  378,  379,  381,  382,  383,  384,\n",
       "        386,  387,  388,  389,  391,  392,  393,  394,  396,  397,  398,\n",
       "        399,  401,  402,  403,  404,  406,  407,  408,  409,  411,  412,\n",
       "        413,  414,  416,  417,  418,  419,  421,  422,  423,  424,  426,\n",
       "        427,  428,  429,  431,  432,  433,  434,  436,  437,  438,  439,\n",
       "        441,  442,  443,  444,  446,  447,  448,  449,  451,  452,  453,\n",
       "        454,  456,  457,  458,  459,  461,  462,  463,  464,  466,  467,\n",
       "        468,  469,  471,  472,  473,  474,  476,  477,  478,  479,  481,\n",
       "        482,  483,  484,  486,  487,  488,  489,  491,  492,  493,  494,\n",
       "        496,  497,  498,  499,  501,  502,  503,  504,  506,  507,  508,\n",
       "        509,  511,  512,  513,  514,  516,  517,  518,  519,  521,  522,\n",
       "        523,  524,  526,  527,  528,  529,  531,  532,  533,  534,  536,\n",
       "        537,  538,  539,  541,  542,  543,  544,  546,  547,  548,  549,\n",
       "        551,  552,  553,  554,  556,  557,  558,  559,  561,  562,  563,\n",
       "        564,  566,  567,  568,  569,  571,  572,  573,  574,  576,  577,\n",
       "        578,  579,  581,  582,  583,  584,  586,  587,  588,  589,  591,\n",
       "        592,  593,  594,  596,  597,  598,  599,  601,  602,  603,  604,\n",
       "        606,  607,  608,  609,  611,  612,  613,  614,  616,  617,  618,\n",
       "        619,  621,  622,  623,  624,  626,  627,  628,  629,  631,  632,\n",
       "        633,  634,  636,  637,  638,  639,  641,  642,  643,  644,  646,\n",
       "        647,  648,  649,  651,  652,  653,  654,  656,  657,  658,  659,\n",
       "        661,  662,  663,  664,  666,  667,  668,  669,  671,  672,  673,\n",
       "        674,  676,  677,  678,  679,  681,  682,  683,  684,  686,  687,\n",
       "        688,  689,  691,  692,  693,  694,  696,  697,  698,  699,  701,\n",
       "        702,  703,  704,  706,  707,  708,  709,  711,  712,  713,  714,\n",
       "        716,  717,  718,  719,  721,  722,  723,  724,  726,  727,  728,\n",
       "        729,  731,  732,  733,  734,  736,  737,  738,  739,  741,  742,\n",
       "        743,  744,  746,  747,  748,  749,  751,  752,  753,  754,  756,\n",
       "        757,  758,  759,  761,  762,  763,  764,  766,  767,  768,  769,\n",
       "        771,  772,  773,  774,  776,  777,  778,  779,  781,  782,  783,\n",
       "        784,  786,  787,  788,  789,  791,  792,  793,  794,  796,  797,\n",
       "        798,  799,  801,  802,  803,  804,  806,  807,  808,  809,  811,\n",
       "        812,  813,  814,  816,  817,  818,  819,  821,  822,  823,  824,\n",
       "        826,  827,  828,  829,  831,  832,  833,  834,  836,  837,  838,\n",
       "        839,  841,  842,  843,  844,  846,  847,  848,  849,  851,  852,\n",
       "        853,  854,  856,  857,  858,  859,  861,  862,  863,  864,  866,\n",
       "        867,  868,  869,  871,  872,  873,  874,  876,  877,  878,  879,\n",
       "        881,  882,  883,  884,  886,  887,  888,  889,  891,  892,  893,\n",
       "        894,  896,  897,  898,  899,  901,  902,  903,  904,  906,  907,\n",
       "        908,  909,  911,  912,  913,  914,  916,  917,  918,  919,  921,\n",
       "        922,  923,  924,  926,  927,  928,  929,  931,  932,  933,  934,\n",
       "        936,  937,  938,  939,  941,  942,  943,  944,  946,  947,  948,\n",
       "        949,  951,  952,  953,  954,  956,  957,  958,  959,  961,  962,\n",
       "        963,  964,  966,  967,  968,  969,  971,  972,  973,  974,  976,\n",
       "        977,  978,  979,  981,  982,  983,  984,  986,  987,  988,  989,\n",
       "        991,  992,  993,  994,  996,  997,  998,  999, 1001, 1002, 1003,\n",
       "       1004, 1006, 1007, 1008, 1009, 1011, 1012, 1013, 1014, 1016, 1017,\n",
       "       1018, 1019, 1021, 1022, 1023, 1024, 1026, 1027, 1028, 1029, 1031,\n",
       "       1032, 1033, 1034, 1036, 1037, 1038, 1039, 1041, 1042, 1043, 1044,\n",
       "       1046, 1047, 1048, 1049, 1051, 1052, 1053, 1054, 1056, 1057, 1058,\n",
       "       1059, 1061, 1062, 1063, 1064, 1066, 1067, 1068, 1069, 1071, 1072,\n",
       "       1073, 1074, 1076, 1077, 1078, 1079, 1081, 1082, 1083, 1084, 1086,\n",
       "       1087, 1088, 1089, 1091, 1092, 1093, 1094, 1096, 1097, 1098, 1099,\n",
       "       1101, 1102, 1103, 1104, 1106, 1107, 1108, 1109, 1111, 1112, 1113,\n",
       "       1114, 1116, 1117, 1118, 1119, 1121, 1122, 1123, 1124, 1126, 1127,\n",
       "       1128, 1129, 1131, 1132, 1133, 1134, 1136, 1137, 1138, 1139, 1141,\n",
       "       1142, 1143, 1144, 1146, 1147, 1148, 1149, 1151, 1152, 1153, 1154,\n",
       "       1156, 1157, 1158, 1159, 1161, 1162, 1163, 1164, 1166, 1167, 1168,\n",
       "       1169, 1171, 1172, 1173, 1174, 1176, 1177, 1178, 1179, 1181, 1182,\n",
       "       1183, 1184, 1186, 1187, 1188, 1189, 1191, 1192, 1193, 1194, 1196,\n",
       "       1197, 1198, 1199, 1201, 1202, 1203, 1204, 1206, 1207, 1208, 1209,\n",
       "       1211, 1212, 1213, 1214, 1216, 1217, 1218, 1219, 1221, 1222, 1223,\n",
       "       1224, 1226, 1227, 1228, 1229, 1231, 1232, 1233, 1234, 1236, 1237,\n",
       "       1238, 1239, 1241, 1242, 1243, 1244, 1246, 1247, 1248, 1249, 1251,\n",
       "       1252, 1253, 1254, 1256, 1257, 1258, 1259, 1261, 1262, 1263, 1264,\n",
       "       1266, 1267, 1268, 1269, 1271, 1272, 1273, 1274, 1276, 1277, 1278,\n",
       "       1279, 1281, 1282, 1283, 1284, 1286, 1287, 1288, 1289, 1291, 1292,\n",
       "       1293, 1294, 1296, 1297, 1298, 1299, 1301, 1302, 1303, 1304, 1306,\n",
       "       1307, 1308, 1309, 1311, 1312, 1313, 1314, 1316, 1317, 1318, 1319,\n",
       "       1321, 1322, 1323, 1324, 1326, 1327, 1328, 1329, 1331, 1332, 1333,\n",
       "       1334, 1336, 1337, 1338, 1339, 1341, 1342, 1343, 1344, 1346, 1347,\n",
       "       1348, 1349, 1351, 1352, 1353, 1354, 1356, 1357, 1358, 1359, 1361,\n",
       "       1362, 1363, 1364, 1366, 1367, 1368, 1369, 1371, 1372, 1373, 1374,\n",
       "       1376, 1377, 1378, 1379, 1381, 1382, 1383, 1384, 1386, 1387, 1388,\n",
       "       1389, 1391, 1392, 1393, 1394, 1396, 1397, 1398, 1399, 1401, 1402,\n",
       "       1403, 1404, 1406, 1407, 1408, 1409, 1411, 1412, 1413, 1414, 1416,\n",
       "       1417, 1418, 1419, 1421, 1422, 1423, 1424, 1426, 1427, 1428, 1429,\n",
       "       1431, 1432, 1433, 1434, 1436, 1437, 1438, 1439, 1441, 1442, 1443,\n",
       "       1444, 1446, 1447, 1448, 1449, 1451, 1452, 1453, 1454, 1456, 1457,\n",
       "       1458, 1459, 1461, 1462, 1463, 1464, 1466, 1467, 1468, 1469, 1471,\n",
       "       1472, 1473, 1474, 1476, 1477, 1478, 1479, 1481, 1482, 1483, 1484,\n",
       "       1486, 1487, 1488, 1489, 1491, 1492, 1493, 1494, 1496, 1497, 1498,\n",
       "       1499, 1501, 1502, 1503, 1504, 1506, 1507, 1508, 1509, 1511, 1512,\n",
       "       1513, 1514, 1516, 1517, 1518, 1519, 1521, 1522, 1523, 1524, 1526,\n",
       "       1527, 1528, 1529, 1531, 1532, 1533, 1534, 1536, 1537, 1538, 1539,\n",
       "       1541, 1542, 1543, 1544, 1546, 1547, 1548, 1549, 1551, 1552, 1553,\n",
       "       1554, 1556, 1557, 1558, 1559, 1561, 1562, 1563, 1564, 1566, 1567,\n",
       "       1568, 1569, 1571, 1572, 1573, 1574, 1576, 1577, 1578, 1579, 1581,\n",
       "       1582, 1583, 1584, 1586, 1587, 1588, 1589, 1591, 1592, 1593, 1594,\n",
       "       1596, 1597, 1598, 1599, 1601, 1602, 1603, 1604, 1606, 1607, 1608,\n",
       "       1609, 1611, 1612, 1613, 1614, 1616, 1617, 1618, 1619, 1621, 1622,\n",
       "       1623, 1624, 1626, 1627, 1628, 1629, 1631, 1632, 1633, 1634, 1636,\n",
       "       1637, 1638, 1639, 1641, 1642, 1643, 1644, 1646, 1647, 1648, 1649,\n",
       "       1651, 1652, 1653, 1654, 1656, 1657, 1658, 1659, 1661, 1662, 1663,\n",
       "       1664, 1666, 1667, 1668, 1669, 1671, 1672, 1673, 1674, 1676, 1677,\n",
       "       1678, 1679, 1681, 1682, 1683, 1684, 1686, 1687, 1688, 1689, 1691,\n",
       "       1692, 1693, 1694, 1696, 1697, 1698, 1699, 1701, 1702, 1703, 1704,\n",
       "       1706, 1707, 1708, 1709, 1711, 1712, 1713, 1714, 1716, 1717, 1718,\n",
       "       1719, 1721, 1722, 1723, 1724, 1726, 1727, 1728, 1729, 1731, 1732,\n",
       "       1733, 1734, 1736, 1737, 1738, 1739, 1741, 1742, 1743, 1744, 1746,\n",
       "       1747, 1748, 1749, 1751, 1752, 1753, 1754, 1756, 1757, 1758, 1759,\n",
       "       1761, 1762, 1763, 1764, 1766, 1767, 1768, 1769, 1771, 1772, 1773,\n",
       "       1774, 1776, 1777, 1778, 1779, 1781, 1782, 1783, 1784, 1786, 1787,\n",
       "       1788, 1789, 1791, 1792, 1793, 1794, 1796, 1797, 1798, 1799, 1801,\n",
       "       1802, 1803, 1804, 1806, 1807, 1808, 1809, 1811, 1812, 1813, 1814,\n",
       "       1816, 1817, 1818, 1819, 1821, 1822, 1823, 1824, 1826, 1827, 1828,\n",
       "       1829, 1831, 1832, 1833, 1834, 1836, 1837, 1838, 1839, 1841, 1842,\n",
       "       1843, 1844, 1846, 1847, 1848, 1849, 1851, 1852, 1853, 1854, 1856,\n",
       "       1857, 1858, 1859, 1861, 1862, 1863, 1864, 1866, 1867, 1868, 1869,\n",
       "       1871, 1872, 1873, 1874, 1876, 1877, 1878, 1879, 1881, 1882, 1883,\n",
       "       1884, 1886, 1887, 1888, 1889, 1891, 1892, 1893, 1894, 1896, 1897,\n",
       "       1898, 1899, 1901, 1902, 1903, 1904, 1906, 1907, 1908, 1909, 1911,\n",
       "       1912, 1913, 1914, 1916, 1917, 1918, 1919, 1921, 1922, 1923, 1924,\n",
       "       1926, 1927, 1928, 1929, 1931, 1932, 1933, 1934, 1936, 1937, 1938,\n",
       "       1939, 1941, 1942, 1943, 1944, 1946, 1947, 1948, 1949, 1951, 1952,\n",
       "       1953, 1954, 1956, 1957, 1958, 1959, 1961, 1962, 1963, 1964, 1966,\n",
       "       1967, 1968, 1969, 1971, 1972, 1973, 1974, 1976, 1977, 1978, 1979,\n",
       "       1981, 1982, 1983, 1984, 1986, 1987, 1988, 1989, 1991, 1992, 1993,\n",
       "       1994, 1996, 1997, 1998, 1999])"
      ]
     },
     "execution_count": 14,
     "metadata": {},
     "output_type": "execute_result"
    }
   ],
   "source": [
    "# nn_index is the index of the atom corresponding to "
   ]
  },
  {
   "cell_type": "code",
   "execution_count": 21,
   "metadata": {},
   "outputs": [
    {
     "data": {
      "text/plain": [
       "[<matplotlib.lines.Line2D at 0x7f1223ad7e90>]"
      ]
     },
     "execution_count": 21,
     "metadata": {},
     "output_type": "execute_result"
    },
    {
     "data": {
      "image/png": "[encoded data removed]",
      "text/plain": [
       "<Figure size 360x360 with 1 Axes>"
      ]
     },
     "metadata": {
      "needs_background": "light"
     },
     "output_type": "display_data"
    }
   ],
   "source": [
    "# The KDTree is working.\n",
    "fig, ax = plt.subplots(1, 1, figsize = (5,5))\n",
    "plt.plot(trap_s.x, trap_s.y, 'o')\n",
    "plt.plot(atoms.x, atoms.y, 'o')\n",
    "plt.plot(trap_s.iloc[2].x, trap_s.iloc[2].y, 'o')\n",
    "plt.plot(atoms.iloc[3].x, atoms.iloc[3].y, 'o')"
   ]
  },
  {
   "cell_type": "markdown",
   "metadata": {},
   "source": [
    "Now I need to copy the information of each row to the corresponding trap. "
   ]
  },
  {
   "cell_type": "code",
   "execution_count": 13,
   "metadata": {},
   "outputs": [],
   "source": [
    "np.set_printoptions(threshold=np.inf)"
   ]
  },
  {
   "cell_type": "code",
   "execution_count": null,
   "metadata": {},
   "outputs": [],
   "source": [
    "i = 0\n",
    "for match in nn_index:\n",
    "\n",
    "    pentagon.iloc[i,6] = col_trj_frame.loc[match].dx\n",
    "    pentagon.iloc[i,7] = col_trj_frame.loc[match].dy\n",
    "    pentagon.iloc[i,8] = col_trj_frame.loc[match].dz    \n",
    "    i = i+1"
   ]
  },
  {
   "cell_type": "code",
   "execution_count": null,
   "metadata": {},
   "outputs": [],
   "source": [
    "i = 0\n",
    "for match in nn_index:\n",
    "\n",
    "    pentagon.iloc[i,6] = col_trj_frame.loc[match].dx\n",
    "    pentagon.iloc[i,7] = col_trj_frame.loc[match].dy\n",
    "    pentagon.iloc[i,8] = col_trj_frame.loc[match].dz    \n",
    "    i = i+1"
   ]
  },
  {
   "cell_type": "markdown",
   "metadata": {},
   "source": [
    "# End tring to fix the bug"
   ]
  },
  {
   "cell_type": "code",
   "execution_count": null,
   "metadata": {},
   "outputs": [],
   "source": [
    "data_directory_1 = \"/home/carolina/CairoLattice_ACI_PROJECT/Scripts\""
   ]
  },
  {
   "cell_type": "code",
   "execution_count": null,
   "metadata": {},
   "outputs": [],
   "source": [
    "df = pd.read_csv(os.path.join(data_directory_1,\"Pentagon_coordinates_Script-9.2_theta=0.0.dat\"), sep = '\\t',index_col = [0])"
   ]
  },
  {
   "cell_type": "markdown",
   "metadata": {},
   "source": [
    "    We will copy the dx, dy, dz values form the col_trj dataframe to the df dataframe to each spin, comparing the coordenates"
   ]
  },
  {
   "cell_type": "code",
   "execution_count": null,
   "metadata": {},
   "outputs": [],
   "source": [
    "df['dx'] = np.NaN\n",
    "df['dy'] = np.NaN\n",
    "df['dz'] = np.NaN\n",
    "df['Chi'] = np.NaN"
   ]
  },
  {
   "cell_type": "code",
   "execution_count": null,
   "metadata": {},
   "outputs": [],
   "source": [
    "def take_trap_pos(col_trj, frame):\n",
    "    \n",
    "    \"\"\" The following function takes the traps positions of a certain frame from the col_trj dataframe and \n",
    "    generates an array with the coordinates \"\"\"\n",
    "    \n",
    "    col_trj_frame = col_trj.loc[frame]\n",
    "    x = col_trj_frame.x.values\n",
    "    y = col_trj_frame.y.values\n",
    "    \n",
    "    coord = np.stack((np.ravel(x), np.ravel(y)), axis=-1)\n",
    "    \n",
    "    return coord, col_trj_frame"
   ]
  },
  {
   "cell_type": "code",
   "execution_count": null,
   "metadata": {},
   "outputs": [],
   "source": [
    "def take_pentagon_coord(df, pentagon):\n",
    "    \n",
    "    \"\"\" The following function takes one pentagon and put the center positions of the edges in an array of coordinates \"\"\"\n",
    "    \n",
    "    pentagon = df.loc[pentagon]\n",
    "    x = pentagon.x.values\n",
    "    y = pentagon.y.values\n",
    "    \n",
    "    coord = np.stack((np.ravel(x), np.ravel(y)), axis=-1)\n",
    "    \n",
    "    return coord, pentagon"
   ]
  },
  {
   "cell_type": "code",
   "execution_count": null,
   "metadata": {},
   "outputs": [],
   "source": [
    "def take_spin_dir(col_trj, df, frame = int ,pentagon_n = int):\n",
    "    \n",
    "    \"\"\" This function, pairs the traps in col_trj with the corresponding pentagon of df. After that the dx, dy, dz vectors\n",
    "    from col_trj are copied next to the corresponfing pentagon position. In order to couple \"experimental\" directions with \n",
    "    the pentagons forming the system \"\"\"\n",
    "    \n",
    "    coord, col_trj_frame = take_trap_pos(col_trj, frame)\n",
    "    \n",
    "    coord_p, pentagon = take_pentagon_coord(df, pentagon_n)\n",
    "    \n",
    "    KDTree = scipy.spatial.KDTree(coord)\n",
    "    dist, nn_index = KDTree.query(coord_p, k=1)\n",
    "    \n",
    "    i = 0\n",
    "    for match in nn_index:\n",
    "        \n",
    "        pentagon.iloc[i,6] = col_trj_frame.loc[match].dx\n",
    "        pentagon.iloc[i,7] = col_trj_frame.loc[match].dy\n",
    "        pentagon.iloc[i,8] = col_trj_frame.loc[match].dz    \n",
    "        i = i+1\n",
    "    \n",
    "    \n",
    "    return pentagon"
   ]
  },
  {
   "cell_type": "code",
   "execution_count": null,
   "metadata": {},
   "outputs": [],
   "source": [
    "def take_spin_all_pentagons(col_trj, df, frame = int):\n",
    "    \n",
    "    \"\"\" In this function we will perform the same process as in take_spin_dir() but iterating along all the pentagons\n",
    "    the output will be a new pentagons dataframe with all the spin information included\"\"\"\n",
    "    \n",
    "    data = []\n",
    "    \n",
    "    for each_pen in np.unique(df.index.values): \n",
    "         \n",
    "        \n",
    "        data.append(take_spin_dir(col_trj, df, frame = frame, pentagon_n = each_pen))    \n",
    "   \n",
    "    pentagons = pd.concat(data)\n",
    "\n",
    "    return pentagons"
   ]
  },
  {
   "cell_type": "markdown",
   "metadata": {},
   "source": [
    "    Now I will do some trials in order to understand what I have to do to obtain the chirality values"
   ]
  },
  {
   "cell_type": "code",
   "execution_count": null,
   "metadata": {},
   "outputs": [],
   "source": [
    "def vector_coord( df, col1 = str, col2 = str, col3 = str):\n",
    "    \n",
    "    vec_coord = df[[col1, col2, col3]].to_numpy()\n",
    "\n",
    "    return vec_coord"
   ]
  },
  {
   "cell_type": "code",
   "execution_count": null,
   "metadata": {},
   "outputs": [],
   "source": [
    "def plot_pentagon_and_cross_prod(pentagons, n_pentagon = int):\n",
    "    \n",
    "    \n",
    "    \"\"\" The following function, plot the pentagon center, the spins, \n",
    "    and the cross product of sigma^spin_direction\"\"\"\n",
    "    \n",
    "    # < Choose one pentagon >\n",
    "    first_pen = pentagons.loc[n_pentagon]\n",
    "    \n",
    "    sigma = []\n",
    "    spin = []\n",
    "    \n",
    "    # < Compute the cross product >\n",
    "    for i in range(len(first_pen)):\n",
    "        row = first_pen.iloc[i]\n",
    "        \n",
    "        \n",
    "        sigma.append(vector_coord( row, col1 = 'dz', col2 = 'dz', col3 = 'z_c'))\n",
    "        #sigma.append(vector_coord( row, col1 = 'y_c', col2 = 'y_c', col3 = 'z_c'))\n",
    "        spin.append(vector_coord(row, col1 = 'dx', col2 = 'dy', col3 = 'dz'))\n",
    "        cross = np.cross(sigma, spin)\n",
    "        \n",
    "        \n",
    "    # < Plot results > \n",
    "    fig, ax1 = plt.subplots(figsize=(5,5))\n",
    "    for index, row in first_pen.iterrows():\n",
    "    \n",
    "        ax1.add_patch(patches.Arrow(row.x-row.dx,row.y-row.dy,2*row.dx,2*row.dy,width=5,fc='b'))\n",
    "\n",
    "    plt.plot(first_pen.x, first_pen.y, 'o', color = 'yellow')\n",
    "    plt.plot(first_pen.x_c, first_pen.y_c, 'o', color = 'green')\n",
    "    #plt.plot(first_pen.iloc[0].x, first_pen.iloc[0].y, 'o', markersize = 10, color = 'yellow')\n",
    "\n",
    "\n",
    "    for i in range(len(first_pen)):\n",
    "\n",
    "        row = first_pen.iloc[i]\n",
    "    \n",
    "        ax1.add_patch(patches.Arrow(first_pen.iloc[i].x,first_pen.iloc[i].y,cross[i,0],cross[i,1],width=5,fc='red'))\n",
    "\n",
    "    plt.axis('equal')  \n",
    "    \n",
    "    return cross"
   ]
  },
  {
   "cell_type": "markdown",
   "metadata": {},
   "source": [
    "    Now the question is: How we compute de chirality with this vectors?"
   ]
  },
  {
   "cell_type": "code",
   "execution_count": null,
   "metadata": {},
   "outputs": [],
   "source": [
    "def compute_r_vector(pentagons, n_pentagon = int):\n",
    "    \n",
    "    r = []\n",
    "    \n",
    "    first_pen = pentagons.loc[n_pentagon]\n",
    "      \n",
    "    for i in range(len(first_pen)):\n",
    "            \n",
    "        row = first_pen.iloc[i]\n",
    "    \n",
    "        r.append([row.x-row.x_c, row.y-row.y_c, row.z])\n",
    "    \n",
    "    r = np.array(r)\n",
    "    \n",
    "    return r"
   ]
  },
  {
   "cell_type": "code",
   "execution_count": null,
   "metadata": {},
   "outputs": [],
   "source": [
    "def chirality_ind_spin(pentagons, cross, n_pentagon = int):\n",
    "    \n",
    "    \"\"\" This function compute the chirality of each spin in choosen poligon \"\"\"\n",
    "    \n",
    "    cross = plot_pentagon_and_cross_prod(pentagons, n_pentagon)\n",
    "    r = compute_r_vector(pentagons, n_pentagon)\n",
    "    chi = []\n",
    "    \n",
    "    for i in range(0,5):\n",
    "        \n",
    "        chi.append(np.dot(cross[i],r[i])/abs(np.dot(cross[i],r[i])))\n",
    "        \n",
    "    Chi = np.sum(chi)/np.sum(np.abs(chi))\n",
    "    \n",
    "    first_pen = pentagons.loc[n_pentagon]\n",
    "    \n",
    "    first_pen['Chi'] = Chi\n",
    "    \n",
    "    \n",
    "    \n",
    "    return first_pen\n",
    "    "
   ]
  },
  {
   "cell_type": "code",
   "execution_count": null,
   "metadata": {},
   "outputs": [],
   "source": [
    "def chirality(pentagons):\n",
    "   \n",
    "    df = []\n",
    "    \n",
    "    for i in np.unique(pentagons.index.values):\n",
    "        \n",
    "        df.append(chirality_ind_spin(pentagons, cross, i))\n",
    "    \n",
    "    new_pentagons = pd.concat(df)\n",
    "        \n",
    "    return new_pentagons"
   ]
  },
  {
   "cell_type": "code",
   "execution_count": null,
   "metadata": {},
   "outputs": [],
   "source": [
    "pentagons = take_spin_all_pentagons(col_trj, df, frame = 0)"
   ]
  },
  {
   "cell_type": "code",
   "execution_count": null,
   "metadata": {},
   "outputs": [],
   "source": [
    "cross = plot_pentagon_and_cross_prod(pentagons, n_pentagon = 5)\n",
    "cross"
   ]
  },
  {
   "cell_type": "code",
   "execution_count": null,
   "metadata": {},
   "outputs": [],
   "source": [
    "chirality_ind_spin(pentagons, cross, 9)"
   ]
  },
  {
   "cell_type": "code",
   "execution_count": null,
   "metadata": {
    "scrolled": true
   },
   "outputs": [],
   "source": [
    "new_pentagons = chirality(pentagons);"
   ]
  },
  {
   "cell_type": "code",
   "execution_count": null,
   "metadata": {},
   "outputs": [],
   "source": [
    "new_pentagons"
   ]
  },
  {
   "cell_type": "code",
   "execution_count": null,
   "metadata": {},
   "outputs": [],
   "source": [
    "#new_pentagons.to_csv('dataframe.dat', sep = '\\t')"
   ]
  },
  {
   "cell_type": "markdown",
   "metadata": {},
   "source": [
    "    Next day I have to code a way to visualize this data and ordering the Script. Maybe I can do an additional support file, a chirality.py file. \n",
    "    "
   ]
  },
  {
   "cell_type": "code",
   "execution_count": null,
   "metadata": {},
   "outputs": [],
   "source": [
    "def show_chirality_frame(new_pentagons):\n",
    "    \n",
    "    fig, ax = plt.subplots(figsize=(15,15))\n",
    "    \n",
    "    for ind, typ in new_pentagons.groupby('pentagon index'):\n",
    "        \n",
    "        if (np.unique(typ.Chi)) == 0.2:\n",
    "            \n",
    "            ax.add_patch(patches.Circle((np.unique(typ.x_c),np.unique(typ.y_c)),radius = 15,\n",
    "                    ec='none', fc='red'))\n",
    "        \n",
    "        elif (np.unique(typ.Chi)) == -0.2:\n",
    "            \n",
    "            ax.add_patch(patches.Circle((np.unique(typ.x_c),np.unique(typ.y_c)),radius = 15,\n",
    "                    ec='none', fc='blue'))\n",
    "            \n",
    "        elif (np.unique(typ.Chi)) == 0.6:\n",
    "            \n",
    "            ax.add_patch(patches.Circle((np.unique(typ.x_c),np.unique(typ.y_c)),radius = 15,\n",
    "                    ec='none', fc='lightcoral'))\n",
    "            \n",
    "        elif (np.unique(typ.Chi)) == -0.6:\n",
    "            \n",
    "            ax.add_patch(patches.Circle((np.unique(typ.x_c),np.unique(typ.y_c)),radius = 15,\n",
    "                    ec='none', fc='cornflowerblue'))\n",
    "            \n",
    "        elif (np.unique(typ.Chi)) == 1:\n",
    "            \n",
    "            ax.add_patch(patches.Circle((np.unique(typ.x_c),np.unique(typ.y_c)),radius = 15,\n",
    "                    ec='none', fc='limegreen'))\n",
    "            \n",
    "        elif (np.unique(typ.Chi)) == -1:\n",
    "            \n",
    "            ax.add_patch(patches.Circle((np.unique(typ.x_c),np.unique(typ.y_c)),radius = 15,\n",
    "                    ec='none', fc='forestgreen'))\n",
    "    plt.legend()\n",
    "    plt.xlim(0,800)\n",
    "    plt.ylim(0,-900)\n",
    "    plt.axis('equal')\n",
    "        #print(np.unique(typ.Chi))\n",
    "        #print(typ.Chi)\n",
    "        \n",
    "    from matplotlib.patches import Patch\n",
    "    from matplotlib.lines import Line2D\n",
    "\n",
    "    legend_elements = [Line2D([0], [0], marker='o', color='w', label='$\\chi$ = + 1/5',\n",
    "                          markerfacecolor='red', markersize=30),\n",
    "                   Line2D([0], [0], marker='o', color='w', label='$\\chi$ = - 1/5',\n",
    "                          markerfacecolor='blue', markersize=30),\n",
    "                   Line2D([0], [0], marker='o', color='w', label='$\\chi$ = + 3/5',\n",
    "                          markerfacecolor='lightcoral', markersize=30),\n",
    "                  Line2D([0], [0], marker='o', color='w', label='$\\chi$ = - 3/5',\n",
    "                          markerfacecolor='cornflowerblue', markersize=30),\n",
    "                  Line2D([0], [0], marker='o', color='w', label='$\\chi$ = + 1',\n",
    "                          markerfacecolor='limegreen', markersize=30),\n",
    "                  Line2D([0], [0], marker='o', color='w', label='$\\chi$ = - 1',\n",
    "                          markerfacecolor='forestgreen', markersize=30),]\n",
    "\n",
    "# Create the figure\n",
    "#fig, ax = plt.subplots()\n",
    "    ax.legend(handles=legend_elements, bbox_to_anchor=(1, 1), fontsize = 30)\n",
    "\n",
    "    plt.axis('off') \n",
    "    \n",
    "    "
   ]
  },
  {
   "cell_type": "code",
   "execution_count": null,
   "metadata": {},
   "outputs": [],
   "source": [
    "show_chirality_frame(new_pentagons)"
   ]
  },
  {
   "cell_type": "code",
   "execution_count": null,
   "metadata": {},
   "outputs": [],
   "source": [
    "show_chirality_frame(new_pentagons)"
   ]
  },
  {
   "cell_type": "code",
   "execution_count": null,
   "metadata": {},
   "outputs": [],
   "source": []
  }
 ],
 "metadata": {
  "kernelspec": {
   "display_name": "Python 3",
   "language": "python",
   "name": "python3"
  },
  "language_info": {
   "codemirror_mode": {
    "name": "ipython",
    "version": 3
   },
   "file_extension": ".py",
   "mimetype": "text/x-python",
   "name": "python",
   "nbconvert_exporter": "python",
   "pygments_lexer": "ipython3",
   "version": "3.7.6"
  }
 },
 "nbformat": 4,
 "nbformat_minor": 4
}
