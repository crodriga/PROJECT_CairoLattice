{
 "cells": [
  {
   "cell_type": "code",
   "execution_count": 1,
   "metadata": {},
   "outputs": [],
   "source": [
    "import os\n",
    "import sys\n",
    "import fnmatch\n",
    "import pandas as pd\n",
    "from os.path import isfile, join\n",
    "import numpy as np\n",
    "import matplotlib as mpl\n",
    "import matplotlib.pyplot as plt\n",
    "import seaborn as sns\n",
    "import magcolloids as mgc\n",
    "\n",
    "sys.path.insert(0, '../icenumerics')\n",
    "\n",
    "import icenumerics as ice"
   ]
  },
  {
   "cell_type": "code",
   "execution_count": 2,
   "metadata": {},
   "outputs": [],
   "source": [
    "mpl.rc('text', usetex=False)\n",
    "mpl.rcParams['figure.dpi'] = 75\n",
    "\n",
    "mpl.rcParams['font.family'] = 'Arial'\n",
    "\n",
    "mpl.rcParams['axes.prop_cycle'] = mpl.cycler(color=[\"blue\", \"green\", \"purple\", \n",
    "                                                    \"orange\", \"royalblue\", \"limegreen\", \n",
    "                                                    \"blueviolet\",\"darkorange\", \"tomato\",\n",
    "                                                    \"red\",\"black\"])"
   ]
  },
  {
   "cell_type": "markdown",
   "metadata": {},
   "source": [
    "# Vertex Count\n",
    "\n",
    "    Change!!\n",
    "    In this script, I will analyze the vertex count in a Cairo Lattice if we increse linearly up from 0 mT to 25 mT with a rate of 0.0125 mT/s (2000 s) and then mantaining the magnetic field constant (25 mT). Then, we are analyzing the output data of Script-8.1.\n",
    "    \n"
   ]
  },
  {
   "cell_type": "code",
   "execution_count": 3,
   "metadata": {},
   "outputs": [],
   "source": [
    "#rate = 25/2000"
   ]
  },
  {
   "cell_type": "code",
   "execution_count": 4,
   "metadata": {},
   "outputs": [],
   "source": [
    "data_directory = \"/home/carolina/CairoLattice_ACI_PROJECT/Scripts/Output_Script-12.0\""
   ]
  },
  {
   "cell_type": "code",
   "execution_count": 5,
   "metadata": {},
   "outputs": [
    {
     "name": "stdout",
     "output_type": "stream",
     "text": [
      "ACI_ShaktiLattice_25mT-2500s_FreeBound_l10_exp27.dat\n",
      "ACI_ShaktiLattice_25mT-2500s_FreeBound_l10_exp5.dat\n",
      "ACI_ShaktiLattice_25mT-2500s_FreeBound_l10_exp20.dat\n",
      "ACI_ShaktiLattice_25mT-2500s_FreeBound_l10_exp14.dat\n",
      "ACI_ShaktiLattice_25mT-2500s_FreeBound_l10_exp45.dat\n",
      "ACI_ShaktiLattice_25mT-2500s_FreeBound_l10_exp11.dat\n",
      "ACI_ShaktiLattice_25mT-2500s_FreeBound_l10_exp26.dat\n",
      "ACI_ShaktiLattice_25mT-2500s_FreeBound_l10_exp32.dat\n",
      "ACI_ShaktiLattice_25mT-2500s_FreeBound_l10_exp47.dat\n",
      "ACI_ShaktiLattice_25mT-2500s_FreeBound_l10_exp44.dat\n",
      "ACI_ShaktiLattice_25mT-2500s_FreeBound_l10_exp36.dat\n",
      "ACI_ShaktiLattice_25mT-2500s_FreeBound_l10_exp39.dat\n",
      "ACI_ShaktiLattice_25mT-2500s_FreeBound_l10_exp49.dat\n",
      "ACI_ShaktiLattice_25mT-2500s_FreeBound_l10_exp16.dat\n",
      "ACI_ShaktiLattice_25mT-2500s_FreeBound_l10_exp0.dat\n",
      "ACI_ShaktiLattice_25mT-2500s_FreeBound_l10_exp33.dat\n",
      "ACI_ShaktiLattice_25mT-2500s_FreeBound_l10_exp48.dat\n",
      "ACI_ShaktiLattice_25mT-2500s_FreeBound_l10_exp23.dat\n",
      "ACI_ShaktiLattice_25mT-2500s_FreeBound_l10_exp18.dat\n",
      "ACI_ShaktiLattice_25mT-2500s_FreeBound_l10_exp29.dat\n",
      "ACI_ShaktiLattice_25mT-2500s_FreeBound_l10_exp30.dat\n",
      "ACI_ShaktiLattice_25mT-2500s_FreeBound_l10_exp34.dat\n",
      "ACI_ShaktiLattice_25mT-2500s_FreeBound_l10_exp31.dat\n",
      "ACI_ShaktiLattice_25mT-2500s_FreeBound_l10_exp25.dat\n",
      "ACI_ShaktiLattice_25mT-2500s_FreeBound_l10_exp22.dat\n",
      "ACI_ShaktiLattice_25mT-2500s_FreeBound_l10_exp9.dat\n",
      "ACI_ShaktiLattice_25mT-2500s_FreeBound_l10_exp10.dat\n",
      "ACI_ShaktiLattice_25mT-2500s_FreeBound_l10_exp40.dat\n",
      "ACI_ShaktiLattice_25mT-2500s_FreeBound_l10_exp37.dat\n",
      "ACI_ShaktiLattice_25mT-2500s_FreeBound_l10_exp43.dat\n",
      "ACI_ShaktiLattice_25mT-2500s_FreeBound_l10_exp38.dat\n",
      "ACI_ShaktiLattice_25mT-2500s_FreeBound_l10_exp19.dat\n",
      "ACI_ShaktiLattice_25mT-2500s_FreeBound_l10_exp46.dat\n",
      "ACI_ShaktiLattice_25mT-2500s_FreeBound_l10_exp21.dat\n",
      "ACI_ShaktiLattice_25mT-2500s_FreeBound_l10_exp4.dat\n",
      "ACI_ShaktiLattice_25mT-2500s_FreeBound_l10_exp35.dat\n",
      "ACI_ShaktiLattice_25mT-2500s_FreeBound_l10_exp3.dat\n",
      "ACI_ShaktiLattice_25mT-2500s_FreeBound_l10_exp6.dat\n",
      "ACI_ShaktiLattice_25mT-2500s_FreeBound_l10_exp28.dat\n",
      "ACI_ShaktiLattice_25mT-2500s_FreeBound_l10_exp1.dat\n",
      "ACI_ShaktiLattice_25mT-2500s_FreeBound_l10_exp13.dat\n",
      "ACI_ShaktiLattice_25mT-2500s_FreeBound_l10_exp41.dat\n",
      "ACI_ShaktiLattice_25mT-2500s_FreeBound_l10_exp42.dat\n",
      "ACI_ShaktiLattice_25mT-2500s_FreeBound_l10_exp2.dat\n",
      "ACI_ShaktiLattice_25mT-2500s_FreeBound_l10_exp12.dat\n",
      "ACI_ShaktiLattice_25mT-2500s_FreeBound_l10_exp17.dat\n",
      "ACI_ShaktiLattice_25mT-2500s_FreeBound_l10_exp7.dat\n",
      "ACI_ShaktiLattice_25mT-2500s_FreeBound_l10_exp15.dat\n",
      "ACI_ShaktiLattice_25mT-2500s_FreeBound_l10_exp24.dat\n",
      "ACI_ShaktiLattice_25mT-2500s_FreeBound_l10_exp8.dat\n"
     ]
    }
   ],
   "source": [
    "Shakti = []\n",
    "for file in os.listdir(data_directory):\n",
    "    if fnmatch.fnmatch(file, 'ACI_ShaktiLattice_25mT-2500s_FreeBound_l10_exp*.dat'):\n",
    "        print(file)\n",
    "        Shakti.append(pd.read_csv(join(data_directory,file), sep = \"\\t\", index_col = [0,1])) \n",
    "        \n",
    "keys_Shakti = []\n",
    "for i in range(len(Shakti)):\n",
    "    keys_Shakti.append(i)"
   ]
  },
  {
   "cell_type": "code",
   "execution_count": 6,
   "metadata": {},
   "outputs": [],
   "source": [
    "Shakti_exp = pd.concat(Shakti, keys = keys_Shakti)"
   ]
  },
  {
   "cell_type": "code",
   "execution_count": 7,
   "metadata": {},
   "outputs": [],
   "source": [
    "Shakti_exp.index.names = ['Exp', 'frame', 'id']"
   ]
  },
  {
   "cell_type": "code",
   "execution_count": 8,
   "metadata": {},
   "outputs": [
    {
     "data": {
      "text/html": [
       "<div>\n",
       "<style scoped>\n",
       "    .dataframe tbody tr th:only-of-type {\n",
       "        vertical-align: middle;\n",
       "    }\n",
       "\n",
       "    .dataframe tbody tr th {\n",
       "        vertical-align: top;\n",
       "    }\n",
       "\n",
       "    .dataframe thead th {\n",
       "        text-align: right;\n",
       "    }\n",
       "</style>\n",
       "<table border=\"1\" class=\"dataframe\">\n",
       "  <thead>\n",
       "    <tr style=\"text-align: right;\">\n",
       "      <th></th>\n",
       "      <th></th>\n",
       "      <th></th>\n",
       "      <th>x</th>\n",
       "      <th>y</th>\n",
       "      <th>coordination</th>\n",
       "      <th>charge</th>\n",
       "      <th>dx</th>\n",
       "      <th>dy</th>\n",
       "    </tr>\n",
       "    <tr>\n",
       "      <th>Exp</th>\n",
       "      <th>frame</th>\n",
       "      <th>id</th>\n",
       "      <th></th>\n",
       "      <th></th>\n",
       "      <th></th>\n",
       "      <th></th>\n",
       "      <th></th>\n",
       "      <th></th>\n",
       "    </tr>\n",
       "  </thead>\n",
       "  <tbody>\n",
       "    <tr>\n",
       "      <th rowspan=\"5\" valign=\"top\">0</th>\n",
       "      <th rowspan=\"5\" valign=\"top\">0</th>\n",
       "      <th>0</th>\n",
       "      <td>-28.384776</td>\n",
       "      <td>-56.769553</td>\n",
       "      <td>3</td>\n",
       "      <td>1</td>\n",
       "      <td>1.0</td>\n",
       "      <td>0.0</td>\n",
       "    </tr>\n",
       "    <tr>\n",
       "      <th>1</th>\n",
       "      <td>1107.006276</td>\n",
       "      <td>1021.851947</td>\n",
       "      <td>3</td>\n",
       "      <td>1</td>\n",
       "      <td>-1.0</td>\n",
       "      <td>0.0</td>\n",
       "    </tr>\n",
       "    <tr>\n",
       "      <th>2</th>\n",
       "      <td>1050.236724</td>\n",
       "      <td>1050.236724</td>\n",
       "      <td>2</td>\n",
       "      <td>0</td>\n",
       "      <td>-1.0</td>\n",
       "      <td>1.0</td>\n",
       "    </tr>\n",
       "    <tr>\n",
       "      <th>3</th>\n",
       "      <td>965.082395</td>\n",
       "      <td>709.619408</td>\n",
       "      <td>3</td>\n",
       "      <td>-1</td>\n",
       "      <td>0.0</td>\n",
       "      <td>-1.0</td>\n",
       "    </tr>\n",
       "    <tr>\n",
       "      <th>4</th>\n",
       "      <td>823.158513</td>\n",
       "      <td>1021.851947</td>\n",
       "      <td>3</td>\n",
       "      <td>1</td>\n",
       "      <td>-1.0</td>\n",
       "      <td>2.0</td>\n",
       "    </tr>\n",
       "    <tr>\n",
       "      <th>...</th>\n",
       "      <th>...</th>\n",
       "      <th>...</th>\n",
       "      <td>...</td>\n",
       "      <td>...</td>\n",
       "      <td>...</td>\n",
       "      <td>...</td>\n",
       "      <td>...</td>\n",
       "      <td>...</td>\n",
       "    </tr>\n",
       "    <tr>\n",
       "      <th rowspan=\"5\" valign=\"top\">49</th>\n",
       "      <th rowspan=\"5\" valign=\"top\">2500</th>\n",
       "      <th>1232</th>\n",
       "      <td>1107.006276</td>\n",
       "      <td>709.619408</td>\n",
       "      <td>2</td>\n",
       "      <td>0</td>\n",
       "      <td>-1.0</td>\n",
       "      <td>1.0</td>\n",
       "    </tr>\n",
       "    <tr>\n",
       "      <th>1233</th>\n",
       "      <td>652.849855</td>\n",
       "      <td>-85.154329</td>\n",
       "      <td>2</td>\n",
       "      <td>0</td>\n",
       "      <td>-1.0</td>\n",
       "      <td>-1.0</td>\n",
       "    </tr>\n",
       "    <tr>\n",
       "      <th>1234</th>\n",
       "      <td>-28.384776</td>\n",
       "      <td>936.697618</td>\n",
       "      <td>2</td>\n",
       "      <td>0</td>\n",
       "      <td>1.0</td>\n",
       "      <td>-1.0</td>\n",
       "    </tr>\n",
       "    <tr>\n",
       "      <th>1235</th>\n",
       "      <td>-28.384776</td>\n",
       "      <td>823.158513</td>\n",
       "      <td>2</td>\n",
       "      <td>0</td>\n",
       "      <td>1.0</td>\n",
       "      <td>-1.0</td>\n",
       "    </tr>\n",
       "    <tr>\n",
       "      <th>1236</th>\n",
       "      <td>-28.384776</td>\n",
       "      <td>766.388960</td>\n",
       "      <td>2</td>\n",
       "      <td>0</td>\n",
       "      <td>1.0</td>\n",
       "      <td>1.0</td>\n",
       "    </tr>\n",
       "  </tbody>\n",
       "</table>\n",
       "<p>30986850 rows × 6 columns</p>\n",
       "</div>"
      ],
      "text/plain": [
       "                          x            y  coordination  charge   dx   dy\n",
       "Exp frame id                                                            \n",
       "0   0     0      -28.384776   -56.769553             3       1  1.0  0.0\n",
       "          1     1107.006276  1021.851947             3       1 -1.0  0.0\n",
       "          2     1050.236724  1050.236724             2       0 -1.0  1.0\n",
       "          3      965.082395   709.619408             3      -1  0.0 -1.0\n",
       "          4      823.158513  1021.851947             3       1 -1.0  2.0\n",
       "...                     ...          ...           ...     ...  ...  ...\n",
       "49  2500  1232  1107.006276   709.619408             2       0 -1.0  1.0\n",
       "          1233   652.849855   -85.154329             2       0 -1.0 -1.0\n",
       "          1234   -28.384776   936.697618             2       0  1.0 -1.0\n",
       "          1235   -28.384776   823.158513             2       0  1.0 -1.0\n",
       "          1236   -28.384776   766.388960             2       0  1.0  1.0\n",
       "\n",
       "[30986850 rows x 6 columns]"
      ]
     },
     "execution_count": 8,
     "metadata": {},
     "output_type": "execute_result"
    }
   ],
   "source": [
    "Shakti_exp"
   ]
  },
  {
   "cell_type": "markdown",
   "metadata": {},
   "source": [
    "### Filter the vertices at the boundaries "
   ]
  },
  {
   "cell_type": "code",
   "execution_count": 9,
   "metadata": {},
   "outputs": [],
   "source": [
    "First_frame = Shakti_exp.loc[0,0]"
   ]
  },
  {
   "cell_type": "code",
   "execution_count": 10,
   "metadata": {},
   "outputs": [
    {
     "name": "stdout",
     "output_type": "stream",
     "text": [
      "100 1000 50 950\n"
     ]
    }
   ],
   "source": [
    "x_min = 100\n",
    "y_min = 50\n",
    "\n",
    "width = 900\n",
    "hight = 900\n",
    "\n",
    "#width = 300\n",
    "#hight = 300\n",
    "\n",
    "x_max = x_min+width\n",
    "y_max = y_min+hight\n",
    "\n",
    "print(x_min,x_max,y_min,y_max)"
   ]
  },
  {
   "cell_type": "code",
   "execution_count": 11,
   "metadata": {},
   "outputs": [
    {
     "data": {
      "text/plain": [
       "<matplotlib.patches.Rectangle at 0x7f600795ac10>"
      ]
     },
     "execution_count": 11,
     "metadata": {},
     "output_type": "execute_result"
    },
    {
     "data": {
      "image/png": "[encoded data removed]",
      "text/plain": [
       "<Figure size 1125x1125 with 1 Axes>"
      ]
     },
     "metadata": {
      "needs_background": "light"
     },
     "output_type": "display_data"
    }
   ],
   "source": [
    "from matplotlib.patches import Rectangle\n",
    "fig =plt.figure(figsize = (15,15))\n",
    "ax = fig.add_subplot(111)\n",
    "\n",
    "plt.plot(First_frame.x, First_frame.y , 'o')\n",
    "ax.add_patch(Rectangle((x_min, y_min),width, hight,fc ='none', ec ='g',lw = 5))"
   ]
  },
  {
   "cell_type": "code",
   "execution_count": 12,
   "metadata": {},
   "outputs": [],
   "source": [
    "Ca = Shakti_exp.loc[(Shakti_exp['x']<x_max) & (Shakti_exp['x']>x_min)]\n",
    "Shakti_exp = Ca.loc[(Ca['y']<y_max) & (Ca['y']>y_min)]"
   ]
  },
  {
   "cell_type": "code",
   "execution_count": 13,
   "metadata": {},
   "outputs": [
    {
     "data": {
      "text/html": [
       "<div>\n",
       "<style scoped>\n",
       "    .dataframe tbody tr th:only-of-type {\n",
       "        vertical-align: middle;\n",
       "    }\n",
       "\n",
       "    .dataframe tbody tr th {\n",
       "        vertical-align: top;\n",
       "    }\n",
       "\n",
       "    .dataframe thead th {\n",
       "        text-align: right;\n",
       "    }\n",
       "</style>\n",
       "<table border=\"1\" class=\"dataframe\">\n",
       "  <thead>\n",
       "    <tr style=\"text-align: right;\">\n",
       "      <th></th>\n",
       "      <th></th>\n",
       "      <th></th>\n",
       "      <th>x</th>\n",
       "      <th>y</th>\n",
       "      <th>coordination</th>\n",
       "      <th>charge</th>\n",
       "      <th>dx</th>\n",
       "      <th>dy</th>\n",
       "    </tr>\n",
       "    <tr>\n",
       "      <th>Exp</th>\n",
       "      <th>frame</th>\n",
       "      <th>id</th>\n",
       "      <th></th>\n",
       "      <th></th>\n",
       "      <th></th>\n",
       "      <th></th>\n",
       "      <th></th>\n",
       "      <th></th>\n",
       "    </tr>\n",
       "  </thead>\n",
       "  <tbody>\n",
       "    <tr>\n",
       "      <th rowspan=\"5\" valign=\"top\">0</th>\n",
       "      <th rowspan=\"5\" valign=\"top\">0</th>\n",
       "      <th>3</th>\n",
       "      <td>965.082395</td>\n",
       "      <td>709.619408</td>\n",
       "      <td>3</td>\n",
       "      <td>-1</td>\n",
       "      <td>0.0</td>\n",
       "      <td>-1.0</td>\n",
       "    </tr>\n",
       "    <tr>\n",
       "      <th>10</th>\n",
       "      <td>993.467171</td>\n",
       "      <td>113.539105</td>\n",
       "      <td>3</td>\n",
       "      <td>1</td>\n",
       "      <td>1.0</td>\n",
       "      <td>-2.0</td>\n",
       "    </tr>\n",
       "    <tr>\n",
       "      <th>14</th>\n",
       "      <td>454.156421</td>\n",
       "      <td>482.541197</td>\n",
       "      <td>3</td>\n",
       "      <td>-1</td>\n",
       "      <td>-2.0</td>\n",
       "      <td>-1.0</td>\n",
       "    </tr>\n",
       "    <tr>\n",
       "      <th>16</th>\n",
       "      <td>482.541197</td>\n",
       "      <td>482.541197</td>\n",
       "      <td>4</td>\n",
       "      <td>0</td>\n",
       "      <td>-2.0</td>\n",
       "      <td>-2.0</td>\n",
       "    </tr>\n",
       "    <tr>\n",
       "      <th>17</th>\n",
       "      <td>510.925974</td>\n",
       "      <td>482.541197</td>\n",
       "      <td>3</td>\n",
       "      <td>1</td>\n",
       "      <td>-2.0</td>\n",
       "      <td>-1.0</td>\n",
       "    </tr>\n",
       "    <tr>\n",
       "      <th>...</th>\n",
       "      <th>...</th>\n",
       "      <th>...</th>\n",
       "      <td>...</td>\n",
       "      <td>...</td>\n",
       "      <td>...</td>\n",
       "      <td>...</td>\n",
       "      <td>...</td>\n",
       "      <td>...</td>\n",
       "    </tr>\n",
       "    <tr>\n",
       "      <th rowspan=\"5\" valign=\"top\">49</th>\n",
       "      <th rowspan=\"5\" valign=\"top\">2500</th>\n",
       "      <th>1200</th>\n",
       "      <td>255.462987</td>\n",
       "      <td>312.232539</td>\n",
       "      <td>4</td>\n",
       "      <td>-2</td>\n",
       "      <td>0.0</td>\n",
       "      <td>2.0</td>\n",
       "    </tr>\n",
       "    <tr>\n",
       "      <th>1201</th>\n",
       "      <td>539.310750</td>\n",
       "      <td>681.234631</td>\n",
       "      <td>3</td>\n",
       "      <td>1</td>\n",
       "      <td>-1.0</td>\n",
       "      <td>0.0</td>\n",
       "    </tr>\n",
       "    <tr>\n",
       "      <th>1202</th>\n",
       "      <td>567.695526</td>\n",
       "      <td>709.619408</td>\n",
       "      <td>3</td>\n",
       "      <td>3</td>\n",
       "      <td>0.0</td>\n",
       "      <td>1.0</td>\n",
       "    </tr>\n",
       "    <tr>\n",
       "      <th>1203</th>\n",
       "      <td>255.462987</td>\n",
       "      <td>340.617316</td>\n",
       "      <td>3</td>\n",
       "      <td>1</td>\n",
       "      <td>1.0</td>\n",
       "      <td>0.0</td>\n",
       "    </tr>\n",
       "    <tr>\n",
       "      <th>1204</th>\n",
       "      <td>596.080303</td>\n",
       "      <td>738.004184</td>\n",
       "      <td>3</td>\n",
       "      <td>1</td>\n",
       "      <td>1.0</td>\n",
       "      <td>2.0</td>\n",
       "    </tr>\n",
       "  </tbody>\n",
       "</table>\n",
       "<p>19238400 rows × 6 columns</p>\n",
       "</div>"
      ],
      "text/plain": [
       "                         x           y  coordination  charge   dx   dy\n",
       "Exp frame id                                                          \n",
       "0   0     3     965.082395  709.619408             3      -1  0.0 -1.0\n",
       "          10    993.467171  113.539105             3       1  1.0 -2.0\n",
       "          14    454.156421  482.541197             3      -1 -2.0 -1.0\n",
       "          16    482.541197  482.541197             4       0 -2.0 -2.0\n",
       "          17    510.925974  482.541197             3       1 -2.0 -1.0\n",
       "...                    ...         ...           ...     ...  ...  ...\n",
       "49  2500  1200  255.462987  312.232539             4      -2  0.0  2.0\n",
       "          1201  539.310750  681.234631             3       1 -1.0  0.0\n",
       "          1202  567.695526  709.619408             3       3  0.0  1.0\n",
       "          1203  255.462987  340.617316             3       1  1.0  0.0\n",
       "          1204  596.080303  738.004184             3       1  1.0  2.0\n",
       "\n",
       "[19238400 rows x 6 columns]"
      ]
     },
     "execution_count": 13,
     "metadata": {},
     "output_type": "execute_result"
    }
   ],
   "source": [
    "Shakti_exp"
   ]
  },
  {
   "cell_type": "code",
   "execution_count": 14,
   "metadata": {},
   "outputs": [
    {
     "data": {
      "text/plain": [
       "[<matplotlib.lines.Line2D at 0x7f5fd41d1510>]"
      ]
     },
     "execution_count": 14,
     "metadata": {},
     "output_type": "execute_result"
    },
    {
     "data": {
      "image/png": "[encoded data removed]",
      "text/plain": [
       "<Figure size 450x300 with 1 Axes>"
      ]
     },
     "metadata": {
      "needs_background": "light"
     },
     "output_type": "display_data"
    }
   ],
   "source": [
    "plt.plot(Shakti_exp.loc[0,0].x,Shakti_exp.loc[0,0].y,'o')"
   ]
  },
  {
   "cell_type": "markdown",
   "metadata": {},
   "source": [
    "### Classify vertices"
   ]
  },
  {
   "cell_type": "code",
   "execution_count": 15,
   "metadata": {},
   "outputs": [
    {
     "name": "stderr",
     "output_type": "stream",
     "text": [
      "/home/carolina/anaconda3/lib/python3.7/site-packages/ipykernel_launcher.py:1: SettingWithCopyWarning: \n",
      "A value is trying to be set on a copy of a slice from a DataFrame.\n",
      "Try using .loc[row_indexer,col_indexer] = value instead\n",
      "\n",
      "See the caveats in the documentation: https://pandas.pydata.org/pandas-docs/stable/user_guide/indexing.html#returning-a-view-versus-a-copy\n",
      "  \"\"\"Entry point for launching an IPython kernel.\n",
      "/home/carolina/anaconda3/lib/python3.7/site-packages/pandas/core/indexing.py:965: SettingWithCopyWarning: \n",
      "A value is trying to be set on a copy of a slice from a DataFrame.\n",
      "Try using .loc[row_indexer,col_indexer] = value instead\n",
      "\n",
      "See the caveats in the documentation: https://pandas.pydata.org/pandas-docs/stable/user_guide/indexing.html#returning-a-view-versus-a-copy\n",
      "  self.obj[item] = s\n"
     ]
    }
   ],
   "source": [
    "Shakti_exp[\"type\"] = np.NaN\n",
    "\n",
    "# 4-fold vertices classification\n",
    "\n",
    "Shakti_exp.loc[Shakti_exp.charge==-4, \"type\"] = \"Q = -4\"\n",
    "Shakti_exp.loc[Shakti_exp.charge==-2, \"type\"] = \"Q = -2\"\n",
    "Shakti_exp.loc[Shakti_exp.charge==+2, \"type\"] = \"Q = +2\"\n",
    "Shakti_exp.loc[Shakti_exp.charge==+4, \"type\"] = \"Q = +4\"\n",
    "\n",
    "zeroq = Shakti_exp.charge==0\n",
    "\n",
    "dipole_magnitude = np.sqrt(Shakti_exp[zeroq].dx**2+Shakti_exp[zeroq].dy**2)\n",
    "\n",
    "Shakti_exp.loc[zeroq & (dipole_magnitude<1), \"type\"] = \"Q = 0\"\n",
    "Shakti_exp.loc[zeroq & (dipole_magnitude>2) , \"type\"] = \"Q = 0\"\n",
    "\n",
    "# 3-fold vertices classification\n",
    "\n",
    "Shakti_exp.loc[Shakti_exp.charge==+1, \"type\"] = \"Q = +1\"\n",
    "Shakti_exp.loc[Shakti_exp.charge==-1, \"type\"] = \"Q = -1\"\n",
    "Shakti_exp.loc[Shakti_exp.charge==+3, \"type\"] = \"Q = +3\"\n",
    "Shakti_exp.loc[Shakti_exp.charge==-3, \"type\"] = \"Q = -3\""
   ]
  },
  {
   "cell_type": "code",
   "execution_count": 16,
   "metadata": {},
   "outputs": [],
   "source": [
    "Shakti_exp =Shakti_exp.query('coordination == 4 or coordination == 3')"
   ]
  },
  {
   "cell_type": "code",
   "execution_count": 17,
   "metadata": {},
   "outputs": [
    {
     "data": {
      "text/html": [
       "<div>\n",
       "<style scoped>\n",
       "    .dataframe tbody tr th:only-of-type {\n",
       "        vertical-align: middle;\n",
       "    }\n",
       "\n",
       "    .dataframe tbody tr th {\n",
       "        vertical-align: top;\n",
       "    }\n",
       "\n",
       "    .dataframe thead th {\n",
       "        text-align: right;\n",
       "    }\n",
       "</style>\n",
       "<table border=\"1\" class=\"dataframe\">\n",
       "  <thead>\n",
       "    <tr style=\"text-align: right;\">\n",
       "      <th></th>\n",
       "      <th></th>\n",
       "      <th></th>\n",
       "      <th>x</th>\n",
       "      <th>y</th>\n",
       "      <th>coordination</th>\n",
       "      <th>charge</th>\n",
       "      <th>dx</th>\n",
       "      <th>dy</th>\n",
       "      <th>type</th>\n",
       "    </tr>\n",
       "    <tr>\n",
       "      <th>Exp</th>\n",
       "      <th>frame</th>\n",
       "      <th>id</th>\n",
       "      <th></th>\n",
       "      <th></th>\n",
       "      <th></th>\n",
       "      <th></th>\n",
       "      <th></th>\n",
       "      <th></th>\n",
       "      <th></th>\n",
       "    </tr>\n",
       "  </thead>\n",
       "  <tbody>\n",
       "    <tr>\n",
       "      <th rowspan=\"5\" valign=\"top\">0</th>\n",
       "      <th rowspan=\"5\" valign=\"top\">0</th>\n",
       "      <th>3</th>\n",
       "      <td>965.082395</td>\n",
       "      <td>709.619408</td>\n",
       "      <td>3</td>\n",
       "      <td>-1</td>\n",
       "      <td>0.0</td>\n",
       "      <td>-1.0</td>\n",
       "      <td>Q = -1</td>\n",
       "    </tr>\n",
       "    <tr>\n",
       "      <th>10</th>\n",
       "      <td>993.467171</td>\n",
       "      <td>113.539105</td>\n",
       "      <td>3</td>\n",
       "      <td>1</td>\n",
       "      <td>1.0</td>\n",
       "      <td>-2.0</td>\n",
       "      <td>Q = +1</td>\n",
       "    </tr>\n",
       "    <tr>\n",
       "      <th>14</th>\n",
       "      <td>454.156421</td>\n",
       "      <td>482.541197</td>\n",
       "      <td>3</td>\n",
       "      <td>-1</td>\n",
       "      <td>-2.0</td>\n",
       "      <td>-1.0</td>\n",
       "      <td>Q = -1</td>\n",
       "    </tr>\n",
       "    <tr>\n",
       "      <th>16</th>\n",
       "      <td>482.541197</td>\n",
       "      <td>482.541197</td>\n",
       "      <td>4</td>\n",
       "      <td>0</td>\n",
       "      <td>-2.0</td>\n",
       "      <td>-2.0</td>\n",
       "      <td>Q = 0</td>\n",
       "    </tr>\n",
       "    <tr>\n",
       "      <th>17</th>\n",
       "      <td>510.925974</td>\n",
       "      <td>482.541197</td>\n",
       "      <td>3</td>\n",
       "      <td>1</td>\n",
       "      <td>-2.0</td>\n",
       "      <td>-1.0</td>\n",
       "      <td>Q = +1</td>\n",
       "    </tr>\n",
       "    <tr>\n",
       "      <th>...</th>\n",
       "      <th>...</th>\n",
       "      <th>...</th>\n",
       "      <td>...</td>\n",
       "      <td>...</td>\n",
       "      <td>...</td>\n",
       "      <td>...</td>\n",
       "      <td>...</td>\n",
       "      <td>...</td>\n",
       "      <td>...</td>\n",
       "    </tr>\n",
       "    <tr>\n",
       "      <th rowspan=\"5\" valign=\"top\">49</th>\n",
       "      <th rowspan=\"5\" valign=\"top\">2500</th>\n",
       "      <th>1200</th>\n",
       "      <td>255.462987</td>\n",
       "      <td>312.232539</td>\n",
       "      <td>4</td>\n",
       "      <td>-2</td>\n",
       "      <td>0.0</td>\n",
       "      <td>2.0</td>\n",
       "      <td>Q = -2</td>\n",
       "    </tr>\n",
       "    <tr>\n",
       "      <th>1201</th>\n",
       "      <td>539.310750</td>\n",
       "      <td>681.234631</td>\n",
       "      <td>3</td>\n",
       "      <td>1</td>\n",
       "      <td>-1.0</td>\n",
       "      <td>0.0</td>\n",
       "      <td>Q = +1</td>\n",
       "    </tr>\n",
       "    <tr>\n",
       "      <th>1202</th>\n",
       "      <td>567.695526</td>\n",
       "      <td>709.619408</td>\n",
       "      <td>3</td>\n",
       "      <td>3</td>\n",
       "      <td>0.0</td>\n",
       "      <td>1.0</td>\n",
       "      <td>Q = +3</td>\n",
       "    </tr>\n",
       "    <tr>\n",
       "      <th>1203</th>\n",
       "      <td>255.462987</td>\n",
       "      <td>340.617316</td>\n",
       "      <td>3</td>\n",
       "      <td>1</td>\n",
       "      <td>1.0</td>\n",
       "      <td>0.0</td>\n",
       "      <td>Q = +1</td>\n",
       "    </tr>\n",
       "    <tr>\n",
       "      <th>1204</th>\n",
       "      <td>596.080303</td>\n",
       "      <td>738.004184</td>\n",
       "      <td>3</td>\n",
       "      <td>1</td>\n",
       "      <td>1.0</td>\n",
       "      <td>2.0</td>\n",
       "      <td>Q = +1</td>\n",
       "    </tr>\n",
       "  </tbody>\n",
       "</table>\n",
       "<p>19238400 rows × 7 columns</p>\n",
       "</div>"
      ],
      "text/plain": [
       "                         x           y  coordination  charge   dx   dy    type\n",
       "Exp frame id                                                                  \n",
       "0   0     3     965.082395  709.619408             3      -1  0.0 -1.0  Q = -1\n",
       "          10    993.467171  113.539105             3       1  1.0 -2.0  Q = +1\n",
       "          14    454.156421  482.541197             3      -1 -2.0 -1.0  Q = -1\n",
       "          16    482.541197  482.541197             4       0 -2.0 -2.0   Q = 0\n",
       "          17    510.925974  482.541197             3       1 -2.0 -1.0  Q = +1\n",
       "...                    ...         ...           ...     ...  ...  ...     ...\n",
       "49  2500  1200  255.462987  312.232539             4      -2  0.0  2.0  Q = -2\n",
       "          1201  539.310750  681.234631             3       1 -1.0  0.0  Q = +1\n",
       "          1202  567.695526  709.619408             3       3  0.0  1.0  Q = +3\n",
       "          1203  255.462987  340.617316             3       1  1.0  0.0  Q = +1\n",
       "          1204  596.080303  738.004184             3       1  1.0  2.0  Q = +1\n",
       "\n",
       "[19238400 rows x 7 columns]"
      ]
     },
     "execution_count": 17,
     "metadata": {},
     "output_type": "execute_result"
    }
   ],
   "source": [
    "Shakti_exp"
   ]
  },
  {
   "cell_type": "markdown",
   "metadata": {},
   "source": [
    "## Route 1: definitive"
   ]
  },
  {
   "cell_type": "code",
   "execution_count": 18,
   "metadata": {},
   "outputs": [],
   "source": [
    "def count_vertices(vrt, exp = 'Exp', column = \"type\", column1 = \"coordination\", time = \"frame\"):\n",
    "    vrt_count = vrt.groupby([exp,time,column,column1]).count().iloc[:,0].to_frame(\"number\")\n",
    "\n",
    "    vrt_count = vrt_count.reindex(pd.MultiIndex.from_product(\n",
    "        [vrt_count.index.get_level_values(exp).unique(),\n",
    "        vrt_count.index.get_level_values(time).unique(),\n",
    "        vrt_count.index.get_level_values(column).unique(),\n",
    "        vrt_count.index.get_level_values(column1).unique()]), fill_value = 0)\n",
    "\n",
    "    total_vrt = vrt_count.groupby([exp,time,column1]).sum()\n",
    "    array_coord = total_vrt.loc[vrt_count.index.get_level_values('frame')].number.values\n",
    "    array_coordT = np.tile(array_coord,int(len(vrt_count)/len(array_coord)))# 9 types of charges and 10 experiments \n",
    "    vrt_count[\"fraction\"] = vrt_count.number / array_coordT\n",
    "        \n",
    "    return vrt_count"
   ]
  },
  {
   "cell_type": "code",
   "execution_count": 19,
   "metadata": {},
   "outputs": [],
   "source": [
    "count_m = count_vertices(Shakti_exp)"
   ]
  },
  {
   "cell_type": "markdown",
   "metadata": {},
   "source": [
    "    the err of the fraction is missing..."
   ]
  },
  {
   "cell_type": "code",
   "execution_count": 20,
   "metadata": {},
   "outputs": [],
   "source": [
    "v_counts_m = count_m.groupby([\"frame\",\"type\",\"coordination\"]).mean()\n",
    "v_counts_m[\"err\"] = count_m['fraction'].groupby([\"frame\",\"type\",\"coordination\"]).std()/np.sqrt(count_m['fraction'].groupby([\"frame\",\"type\",\"coordination\"]).count().values)"
   ]
  },
  {
   "cell_type": "markdown",
   "metadata": {},
   "source": [
    "    I have to drop the rows without fraction of charge. "
   ]
  },
  {
   "cell_type": "code",
   "execution_count": 21,
   "metadata": {},
   "outputs": [
    {
     "data": {
      "text/html": [
       "<div>\n",
       "<style scoped>\n",
       "    .dataframe tbody tr th:only-of-type {\n",
       "        vertical-align: middle;\n",
       "    }\n",
       "\n",
       "    .dataframe tbody tr th {\n",
       "        vertical-align: top;\n",
       "    }\n",
       "\n",
       "    .dataframe thead th {\n",
       "        text-align: right;\n",
       "    }\n",
       "</style>\n",
       "<table border=\"1\" class=\"dataframe\">\n",
       "  <thead>\n",
       "    <tr style=\"text-align: right;\">\n",
       "      <th></th>\n",
       "      <th></th>\n",
       "      <th></th>\n",
       "      <th>number</th>\n",
       "      <th>fraction</th>\n",
       "      <th>err</th>\n",
       "    </tr>\n",
       "    <tr>\n",
       "      <th>frame</th>\n",
       "      <th>type</th>\n",
       "      <th>coordination</th>\n",
       "      <th></th>\n",
       "      <th></th>\n",
       "      <th></th>\n",
       "    </tr>\n",
       "  </thead>\n",
       "  <tbody>\n",
       "    <tr>\n",
       "      <th rowspan=\"5\" valign=\"top\">0</th>\n",
       "      <th rowspan=\"2\" valign=\"top\">Q = +1</th>\n",
       "      <th>3</th>\n",
       "      <td>193.32</td>\n",
       "      <td>0.377578</td>\n",
       "      <td>0.002611</td>\n",
       "    </tr>\n",
       "    <tr>\n",
       "      <th>4</th>\n",
       "      <td>0.00</td>\n",
       "      <td>0.000000</td>\n",
       "      <td>0.000000</td>\n",
       "    </tr>\n",
       "    <tr>\n",
       "      <th rowspan=\"2\" valign=\"top\">Q = +2</th>\n",
       "      <th>3</th>\n",
       "      <td>0.00</td>\n",
       "      <td>0.000000</td>\n",
       "      <td>0.000000</td>\n",
       "    </tr>\n",
       "    <tr>\n",
       "      <th>4</th>\n",
       "      <td>63.16</td>\n",
       "      <td>0.246719</td>\n",
       "      <td>0.004026</td>\n",
       "    </tr>\n",
       "    <tr>\n",
       "      <th>Q = +3</th>\n",
       "      <th>3</th>\n",
       "      <td>63.12</td>\n",
       "      <td>0.123281</td>\n",
       "      <td>0.002049</td>\n",
       "    </tr>\n",
       "    <tr>\n",
       "      <th>...</th>\n",
       "      <th>...</th>\n",
       "      <th>...</th>\n",
       "      <td>...</td>\n",
       "      <td>...</td>\n",
       "      <td>...</td>\n",
       "    </tr>\n",
       "    <tr>\n",
       "      <th rowspan=\"5\" valign=\"top\">2500</th>\n",
       "      <th>Q = -3</th>\n",
       "      <th>4</th>\n",
       "      <td>0.00</td>\n",
       "      <td>0.000000</td>\n",
       "      <td>0.000000</td>\n",
       "    </tr>\n",
       "    <tr>\n",
       "      <th rowspan=\"2\" valign=\"top\">Q = -4</th>\n",
       "      <th>3</th>\n",
       "      <td>0.00</td>\n",
       "      <td>0.000000</td>\n",
       "      <td>0.000000</td>\n",
       "    </tr>\n",
       "    <tr>\n",
       "      <th>4</th>\n",
       "      <td>79.66</td>\n",
       "      <td>0.311172</td>\n",
       "      <td>0.003955</td>\n",
       "    </tr>\n",
       "    <tr>\n",
       "      <th rowspan=\"2\" valign=\"top\">Q = 0</th>\n",
       "      <th>3</th>\n",
       "      <td>0.00</td>\n",
       "      <td>0.000000</td>\n",
       "      <td>0.000000</td>\n",
       "    </tr>\n",
       "    <tr>\n",
       "      <th>4</th>\n",
       "      <td>2.18</td>\n",
       "      <td>0.008516</td>\n",
       "      <td>0.000818</td>\n",
       "    </tr>\n",
       "  </tbody>\n",
       "</table>\n",
       "<p>9018 rows × 3 columns</p>\n",
       "</div>"
      ],
      "text/plain": [
       "                           number  fraction       err\n",
       "frame type   coordination                            \n",
       "0     Q = +1 3             193.32  0.377578  0.002611\n",
       "             4               0.00  0.000000  0.000000\n",
       "      Q = +2 3               0.00  0.000000  0.000000\n",
       "             4              63.16  0.246719  0.004026\n",
       "      Q = +3 3              63.12  0.123281  0.002049\n",
       "...                           ...       ...       ...\n",
       "2500  Q = -3 4               0.00  0.000000  0.000000\n",
       "      Q = -4 3               0.00  0.000000  0.000000\n",
       "             4              79.66  0.311172  0.003955\n",
       "      Q = 0  3               0.00  0.000000  0.000000\n",
       "             4               2.18  0.008516  0.000818\n",
       "\n",
       "[9018 rows x 3 columns]"
      ]
     },
     "execution_count": 21,
     "metadata": {},
     "output_type": "execute_result"
    }
   ],
   "source": [
    "v_counts_m"
   ]
  },
  {
   "cell_type": "markdown",
   "metadata": {},
   "source": [
    "    Dropping rows with zero values:"
   ]
  },
  {
   "cell_type": "code",
   "execution_count": 22,
   "metadata": {},
   "outputs": [],
   "source": [
    "v_counts_m = v_counts_m.query('number != 0')"
   ]
  },
  {
   "cell_type": "code",
   "execution_count": 23,
   "metadata": {},
   "outputs": [
    {
     "name": "stderr",
     "output_type": "stream",
     "text": [
      "/home/carolina/anaconda3/lib/python3.7/site-packages/ipykernel_launcher.py:1: SettingWithCopyWarning: \n",
      "A value is trying to be set on a copy of a slice from a DataFrame.\n",
      "Try using .loc[row_indexer,col_indexer] = value instead\n",
      "\n",
      "See the caveats in the documentation: https://pandas.pydata.org/pandas-docs/stable/user_guide/indexing.html#returning-a-view-versus-a-copy\n",
      "  \"\"\"Entry point for launching an IPython kernel.\n"
     ]
    }
   ],
   "source": [
    "v_counts_m['time'] = v_counts_m.index.get_level_values('frame')"
   ]
  },
  {
   "cell_type": "code",
   "execution_count": 24,
   "metadata": {},
   "outputs": [
    {
     "data": {
      "image/png": "[encoded data removed]",
      "text/plain": [
       "<Figure size 525x525 with 2 Axes>"
      ]
     },
     "metadata": {
      "needs_background": "light"
     },
     "output_type": "display_data"
    }
   ],
   "source": [
    "fig, ax1 = plt.subplots(figsize=(7,7))\n",
    "\n",
    "ax2 = ax1.twinx()\n",
    "\n",
    "\n",
    "\n",
    "for typ_m, mtype in v_counts_m.groupby('type'):\n",
    "    \n",
    "    ax1.errorbar(mtype['time'], mtype[\"fraction\"],yerr = mtype[\"err\"], fmt ='o', label = typ_m)\n",
    "\n",
    "ax1.tick_params(axis='y', labelsize=30)\n",
    "ax1.tick_params(axis='x', labelsize=30)  \n",
    "\n",
    "ax1.legend(fontsize = 25, bbox_to_anchor=(1.7, 1))\n",
    "ax1.set_xlabel('time (s)', size = 40)\n",
    "ax1.set_ylabel('Charge population', size = 40)\n",
    "ax1.set_title(f\"theta = 0.0 (º)\", size = 30)\n",
    "\n",
    "\n",
    "ax2.plot([0,2000,2500],[0,25,25],':', color = 'black', alpha = 0.5, lw = 5)\n",
    "\n",
    "\n",
    "ax2.set_ylabel('B (mT)', size = 40)\n",
    "ax2.tick_params(axis='y', labelsize=30)\n",
    "\n",
    "#v_counts_m.to_csv('FreeBound.dat', sep = \"\\t\")\n",
    "\n",
    "plt.show()"
   ]
  },
  {
   "cell_type": "markdown",
   "metadata": {},
   "source": [
    "Now I will filter data to merge with the charge transfer plot"
   ]
  },
  {
   "cell_type": "code",
   "execution_count": 34,
   "metadata": {},
   "outputs": [
    {
     "name": "stderr",
     "output_type": "stream",
     "text": [
      "/home/carolina/anaconda3/lib/python3.7/site-packages/ipykernel_launcher.py:2: SettingWithCopyWarning: \n",
      "A value is trying to be set on a copy of a slice from a DataFrame.\n",
      "Try using .loc[row_indexer,col_indexer] = value instead\n",
      "\n",
      "See the caveats in the documentation: https://pandas.pydata.org/pandas-docs/stable/user_guide/indexing.html#returning-a-view-versus-a-copy\n",
      "  \n",
      "/home/carolina/anaconda3/lib/python3.7/site-packages/ipykernel_launcher.py:9: SettingWithCopyWarning: \n",
      "A value is trying to be set on a copy of a slice from a DataFrame.\n",
      "Try using .loc[row_indexer,col_indexer] = value instead\n",
      "\n",
      "See the caveats in the documentation: https://pandas.pydata.org/pandas-docs/stable/user_guide/indexing.html#returning-a-view-versus-a-copy\n",
      "  if __name__ == '__main__':\n",
      "/home/carolina/anaconda3/lib/python3.7/site-packages/ipykernel_launcher.py:10: SettingWithCopyWarning: \n",
      "A value is trying to be set on a copy of a slice from a DataFrame.\n",
      "Try using .loc[row_indexer,col_indexer] = value instead\n",
      "\n",
      "See the caveats in the documentation: https://pandas.pydata.org/pandas-docs/stable/user_guide/indexing.html#returning-a-view-versus-a-copy\n",
      "  # Remove the CWD from sys.path while we load stuff.\n"
     ]
    }
   ],
   "source": [
    "LFrame = v_counts_m.loc[2500]\n",
    "LFrame['charge'] = LFrame.index.get_level_values('type')\n",
    "\n",
    "def charge_value(row):\n",
    "    \n",
    "    value = int(row['charge'][-2:])\n",
    "    return value\n",
    "\n",
    "LFrame['charge'] = LFrame.apply (lambda row: charge_value(row) , axis=1)\n",
    "LFrame['fraction*charge'] = LFrame['fraction']*LFrame['charge']\n",
    "sum_df = LFrame.groupby(['coordination']).sum()\n",
    "sum_df.to_csv('final-Charge_shakti.dat', sep = '\\t')"
   ]
  },
  {
   "cell_type": "code",
   "execution_count": 25,
   "metadata": {},
   "outputs": [],
   "source": [
    "v_counts_m3 = v_counts_m.query('coordination == 3')\n",
    "v_counts_m4 = v_counts_m.query('coordination == 4')"
   ]
  },
  {
   "cell_type": "code",
   "execution_count": 26,
   "metadata": {},
   "outputs": [],
   "source": [
    "mpl.rc('text', usetex=False)\n",
    "mpl.rcParams['figure.dpi'] = 75\n",
    "\n",
    "mpl.rcParams['font.family'] = 'Arial'\n",
    "\n",
    "mpl.rcParams['axes.prop_cycle'] = mpl.cycler(color=[\"blue\", \"navy\", \"tomato\", \n",
    "                                                    \"red\", \"plum\", \"blue\", \n",
    "                                                    \"navy\", \"tomato\",\n",
    "                                                    \"red\"]) "
   ]
  },
  {
   "cell_type": "code",
   "execution_count": 27,
   "metadata": {},
   "outputs": [
    {
     "name": "stdout",
     "output_type": "stream",
     "text": [
      "Q = +1\n",
      "Q = +3\n",
      "Q = -1\n",
      "Q = -3\n",
      "Q = +2\n",
      "Q = +4\n",
      "Q = -2\n",
      "Q = -4\n",
      "Q = 0\n"
     ]
    },
    {
     "data": {
      "image/png": "[encoded data removed]",
      "text/plain": [
       "<Figure size 750x375 with 2 Axes>"
      ]
     },
     "metadata": {
      "needs_background": "light"
     },
     "output_type": "display_data"
    }
   ],
   "source": [
    "fig, ax = plt.subplots(1, 2,figsize=(10,5))\n",
    "\n",
    "for typ_m, mtype in v_counts_m3.groupby('type'):\n",
    "    print(typ_m)\n",
    "    \n",
    "    ax[0].errorbar(mtype['time'], mtype[\"fraction\"],yerr = mtype[\"err\"],fmt = '-o', label = typ_m)\n",
    "\n",
    "for typ_m, mtype in v_counts_m4.groupby('type'):\n",
    "    print(typ_m)\n",
    "    ax[1].errorbar(mtype['time'], mtype[\"fraction\"],yerr = mtype[\"err\"], fmt ='-o',label = typ_m)\n",
    "\n",
    "ax[0].tick_params(axis='y', labelsize=30)\n",
    "ax[0].tick_params(axis='x', labelsize=30)  \n",
    "\n",
    "ax[0].legend(fontsize = 12)\n",
    "ax[0].set_xlabel('time (s)', size = 40)\n",
    "ax[0].set_ylabel('Charge population', size = 40)\n",
    "\n",
    "ax[1].tick_params(axis='y', labelsize=30)\n",
    "ax[1].tick_params(axis='x', labelsize=30)  \n",
    "\n",
    "ax[1].legend(fontsize = 12)\n",
    "ax[1].set_xlabel('B (mT)', size = 40)\n",
    "\n",
    "\n",
    "plt.tight_layout()"
   ]
  },
  {
   "cell_type": "code",
   "execution_count": null,
   "metadata": {},
   "outputs": [],
   "source": []
  }
 ],
 "metadata": {
  "kernelspec": {
   "display_name": "Python 3",
   "language": "python",
   "name": "python3"
  },
  "language_info": {
   "codemirror_mode": {
    "name": "ipython",
    "version": 3
   },
   "file_extension": ".py",
   "mimetype": "text/x-python",
   "name": "python",
   "nbconvert_exporter": "python",
   "pygments_lexer": "ipython3",
   "version": "3.7.6"
  }
 },
 "nbformat": 4,
 "nbformat_minor": 4
}
