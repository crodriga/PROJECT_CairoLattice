{
 "cells": [
  {
   "cell_type": "code",
   "execution_count": 1,
   "metadata": {},
   "outputs": [],
   "source": [
    "import os\n",
    "import fnmatch\n",
    "import pandas as pd\n",
    "from os.path import isfile, join\n",
    "import matplotlib.pyplot as plt\n",
    "import numpy as np"
   ]
  },
  {
   "cell_type": "markdown",
   "metadata": {},
   "source": [
    "# Total Charge evolution"
   ]
  },
  {
   "cell_type": "code",
   "execution_count": 2,
   "metadata": {},
   "outputs": [],
   "source": [
    "data_directory =  \"/media/Carol/Magnetic/Experiments/Colloidal_Ice/Cairo_lattice/preAnalysis_17-05-2022/vertices\""
   ]
  },
  {
   "cell_type": "code",
   "execution_count": 3,
   "metadata": {},
   "outputs": [
    {
     "name": "stdout",
     "output_type": "stream",
     "text": [
      "vertices_h=2_w=2_Exp21.dat\n",
      "vertices_h=2_w=2_Exp2.dat\n",
      "vertices_h=2_w=2_Exp8.dat\n",
      "vertices_h=2_w=2_Exp5.dat\n",
      "vertices_h=2_w=2_Exp4.dat\n",
      "vertices_h=2_w=2_Exp23.dat\n",
      "vertices_h=2_w=2_Exp24.dat\n",
      "vertices_h=2_w=2_Exp31.dat\n",
      "vertices_h=2_w=2_Exp10.dat\n",
      "vertices_h=2_w=2_Exp7.dat\n",
      "vertices_h=2_w=2_Exp14.dat\n",
      "vertices_h=2_w=2_Exp26.dat\n",
      "vertices_h=2_w=2_Exp28.dat\n",
      "vertices_h=2_w=2_Exp20.dat\n",
      "vertices_h=2_w=2_Exp29.dat\n",
      "vertices_h=2_w=2_Exp30.dat\n",
      "vertices_h=2_w=2_Exp11.dat\n",
      "vertices_h=2_w=2_Exp25.dat\n",
      "vertices_h=2_w=2_Exp6.dat\n",
      "vertices_h=2_w=2_Exp19.dat\n",
      "vertices_h=2_w=2_Exp17.dat\n",
      "vertices_h=2_w=2_Exp9.dat\n",
      "vertices_h=2_w=2_Exp22.dat\n",
      "vertices_h=2_w=2_Exp16.dat\n",
      "vertices_h=2_w=2_Exp18.dat\n",
      "vertices_h=2_w=2_Exp27.dat\n",
      "vertices_h=2_w=2_Exp1.dat\n",
      "vertices_h=2_w=2_Exp0.dat\n",
      "vertices_h=2_w=2_Exp3.dat\n",
      "vertices_h=2_w=2_Exp12.dat\n",
      "vertices_h=2_w=2_Exp15.dat\n"
     ]
    }
   ],
   "source": [
    "Cairo = []\n",
    "for file in os.listdir(data_directory):\n",
    "    if fnmatch.fnmatch(file, \"vertices_h=2_w=2_Exp*.dat\"):\n",
    "        print(file)\n",
    "        Cairo.append(pd.read_csv(join(data_directory,file), sep = \"\\t\", index_col = [0,1])) \n",
    "        \n",
    "keys_Cairo = []\n",
    "for i in range(len(Cairo)):\n",
    "    keys_Cairo.append(i)"
   ]
  },
  {
   "cell_type": "code",
   "execution_count": 4,
   "metadata": {},
   "outputs": [],
   "source": [
    "Cairo_exp = pd.concat(Cairo, keys = keys_Cairo)\n",
    "Cairo_exp.index.names = ['Exp', 'frame', 'id']\n",
    "Cairo_exp = Cairo_exp.query('coordination != 2')\n"
   ]
  },
  {
   "cell_type": "code",
   "execution_count": 5,
   "metadata": {},
   "outputs": [
    {
     "data": {
      "text/plain": [
       "(177.66494975561886, 790.0711415555263, 180.10684358020103, 790.9721809687384)"
      ]
     },
     "execution_count": 5,
     "metadata": {},
     "output_type": "execute_result"
    },
    {
     "data": {
      "image/png": "[encoded data removed]",
      "text/plain": [
       "<Figure size 432x288 with 1 Axes>"
      ]
     },
     "metadata": {
      "needs_background": "light"
     },
     "output_type": "display_data"
    }
   ],
   "source": [
    "plt.plot(Cairo_exp.x,Cairo_exp.y, 'o', c= 'blue' )\n",
    "plt.axis('equal')"
   ]
  },
  {
   "cell_type": "markdown",
   "metadata": {},
   "source": [
    "## First method"
   ]
  },
  {
   "cell_type": "markdown",
   "metadata": {},
   "source": [
    "As far as the analyzed system has 2 3-coordination vertices for each 4-oordination vertex we need to preserve this proportion in order to reproduce data from simulations. To do that, we can only made the analysis of 3 vertices (two 3-coordination and one 4-coordination). But we will loose a lot of data doing that. Instead we propose to weight each vertex. Vertices at the corners will have a weight of 1/4 (Only one particle inside the structure). At the edges 1/2 and inside the boundaries 1."
   ]
  },
  {
   "cell_type": "code",
   "execution_count": 6,
   "metadata": {},
   "outputs": [],
   "source": [
    "Cairo_exp['weigth'] = 1"
   ]
  },
  {
   "cell_type": "code",
   "execution_count": 7,
   "metadata": {},
   "outputs": [],
   "source": [
    "Cairo_exp.loc[(Cairo_exp['x'] < 100) & (Cairo_exp['y'] < 300) & (Cairo_exp['y'] > 140) , 'weigth'] = 1/2\n",
    "Cairo_exp.loc[(Cairo_exp['x'] > 305) & (Cairo_exp['y'] < 300) & (Cairo_exp['y'] > 140) , 'weigth'] = 1/2\n",
    "\n",
    "Cairo_exp.loc[(Cairo_exp['y'] > 300) & (Cairo_exp['x'] > 100) & (Cairo_exp['x'] < 300) , 'weigth'] = 1/2\n",
    "Cairo_exp.loc[(Cairo_exp['y'] < 100) & (Cairo_exp['x'] > 100) & (Cairo_exp['y'] < 300) , 'weigth'] = 1/2\n",
    "\n",
    "Cairo_exp.loc[(Cairo_exp['x'] < 100) & (Cairo_exp['y'] > 300)  , 'weigth'] = 1/4\n",
    "Cairo_exp.loc[(Cairo_exp['x'] < 100) & (Cairo_exp['y'] < 100)  , 'weigth'] = 1/4\n",
    "Cairo_exp.loc[(Cairo_exp['x'] > 300) & (Cairo_exp['y'] < 100)  , 'weigth'] = 1/4\n",
    "Cairo_exp.loc[(Cairo_exp['x'] > 300) & (Cairo_exp['y'] > 300)  , 'weigth'] = 1/4"
   ]
  },
  {
   "cell_type": "code",
   "execution_count": 8,
   "metadata": {},
   "outputs": [],
   "source": [
    "edges = Cairo_exp.query('weigth == 1/2')\n",
    "corners = Cairo_exp.query('weigth == 1/4')\n",
    "bulk =  Cairo_exp.query('weigth == 1')"
   ]
  },
  {
   "cell_type": "code",
   "execution_count": 9,
   "metadata": {},
   "outputs": [
    {
     "data": {
      "text/plain": [
       "(177.66494975561886, 790.0711415555263, 180.10684358020103, 790.9721809687384)"
      ]
     },
     "execution_count": 9,
     "metadata": {},
     "output_type": "execute_result"
    },
    {
     "data": {
      "image/png": "[encoded data removed]",
      "text/plain": [
       "<Figure size 432x288 with 1 Axes>"
      ]
     },
     "metadata": {
      "needs_background": "light"
     },
     "output_type": "display_data"
    }
   ],
   "source": [
    "plt.plot(edges.x, edges.y ,'.', color = 'blue')\n",
    "plt.plot(corners.x, corners.y ,'.', color = 'red')\n",
    "plt.plot(bulk.x, bulk.y ,'.', color = 'cyan')\n",
    "plt.axis('equal')"
   ]
  },
  {
   "cell_type": "markdown",
   "metadata": {},
   "source": [
    "## Second method"
   ]
  },
  {
   "cell_type": "code",
   "execution_count": 10,
   "metadata": {},
   "outputs": [],
   "source": [
    "#Ca = Cairo_exp.query('x < 290 and x > 120') # 4 pentagons\n",
    "#C = Ca.query('y > 130 and y < 265')\n",
    "\n",
    "# Ca = Cairo_exp.query('x < 305 and x > 0')\n",
    "# C = Ca.query('y > 90 and y < 400')\n",
    "\n",
    "C = Cairo_exp"
   ]
  },
  {
   "cell_type": "code",
   "execution_count": 11,
   "metadata": {},
   "outputs": [
    {
     "data": {
      "text/plain": [
       "(177.66494975561886, 790.0711415555263, 180.10684358020103, 790.9721809687384)"
      ]
     },
     "execution_count": 11,
     "metadata": {},
     "output_type": "execute_result"
    },
    {
     "data": {
      "image/png": "[encoded data removed]",
      "text/plain": [
       "<Figure size 432x288 with 1 Axes>"
      ]
     },
     "metadata": {
      "needs_background": "light"
     },
     "output_type": "display_data"
    }
   ],
   "source": [
    "plt.plot(C.x, C.y, 'o')\n",
    "plt.axis('equal')"
   ]
  },
  {
   "cell_type": "code",
   "execution_count": 13,
   "metadata": {},
   "outputs": [],
   "source": [
    "def magnetic_field_value(time):\n",
    "    \n",
    "    m = 6.82628571 \n",
    "    b = 0.55685714\n",
    "    slope = 4/600 # 4V in 600s\n",
    "    \n",
    "    magnetic_field_value = (m*(time*slope)+b)\n",
    "    \n",
    "    return magnetic_field_value # in mT\n",
    "\n",
    "C['mT'] = magnetic_field_value(C.index.get_level_values('frame')/30)"
   ]
  },
  {
   "cell_type": "code",
   "execution_count": 19,
   "metadata": {},
   "outputs": [
    {
     "data": {
      "image/png": "[encoded data removed]",
      "text/plain": [
       "<Figure size 504x360 with 1 Axes>"
      ]
     },
     "metadata": {
      "needs_background": "light"
     },
     "output_type": "display_data"
    }
   ],
   "source": [
    "fig, ax = plt.subplots(1, 1, figsize=(7,5))\n",
    "\n",
    "Sep_charge_tot = C.groupby(['frame','coordination']).sum()\n",
    "\n",
    "Sep_charge = C.groupby(['frame','coordination']).sum()/C.groupby(['frame','coordination']).count()\n",
    "\n",
    "for typ_m, mtype in Sep_charge.groupby('coordination'):\n",
    "    \n",
    "    ax.plot(mtype['mT'], mtype['charge'],'-o', label = typ_m)\n",
    "    \n",
    "\n",
    "\n",
    "    \n",
    "ax.tick_params(axis='y', labelsize=35)\n",
    "ax.tick_params(axis='x', labelsize=35) \n",
    "ax.legend(fontsize = 12, title= 'Lattice coordination', title_fontsize = 12, ncol = 1)\n",
    "ax.set_xlim(0,10)\n",
    "\n",
    "\n",
    "ax.set_xlabel('B (mT)', size = 40)\n",
    "ax.set_ylabel('$\\sum$(Q) / N', size = 40)\n",
    "\n",
    "\n",
    "\n",
    "\n",
    "plt.tight_layout()"
   ]
  },
  {
   "cell_type": "code",
   "execution_count": null,
   "metadata": {},
   "outputs": [],
   "source": []
  }
 ],
 "metadata": {
  "kernelspec": {
   "display_name": "Python 3",
   "language": "python",
   "name": "python3"
  },
  "language_info": {
   "codemirror_mode": {
    "name": "ipython",
    "version": 3
   },
   "file_extension": ".py",
   "mimetype": "text/x-python",
   "name": "python",
   "nbconvert_exporter": "python",
   "pygments_lexer": "ipython3",
   "version": "3.7.6"
  }
 },
 "nbformat": 4,
 "nbformat_minor": 4
}
