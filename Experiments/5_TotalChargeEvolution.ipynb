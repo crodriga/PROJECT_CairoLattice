{
 "cells": [
  {
   "cell_type": "code",
   "execution_count": 1,
   "metadata": {},
   "outputs": [],
   "source": [
    "import os\n",
    "import fnmatch\n",
    "import pandas as pd\n",
    "from os.path import isfile, join\n",
    "import matplotlib.pyplot as plt\n",
    "import numpy as np"
   ]
  },
  {
   "cell_type": "markdown",
   "metadata": {},
   "source": [
    "# Total Charge evolution"
   ]
  },
  {
   "cell_type": "code",
   "execution_count": 2,
   "metadata": {},
   "outputs": [],
   "source": [
    "data_directory =  \"/media/Carol/Magnetic/Experiments/Colloidal_Ice/Cairo_lattice/29-03-2022/Processed_vid\""
   ]
  },
  {
   "cell_type": "code",
   "execution_count": 3,
   "metadata": {},
   "outputs": [
    {
     "name": "stdout",
     "output_type": "stream",
     "text": [
      "vertices_h=3_w=2_Exp8.dat\n",
      "vertices_h=3_w=2_Exp7.dat\n",
      "vertices_h=3_w=2_Exp1.dat\n",
      "vertices_h=3_w=2_Exp3.dat\n",
      "vertices_h=3_w=2_Exp2.dat\n",
      "vertices_h=3_w=2_Exp5.dat\n",
      "vertices_h=3_w=2_Exp4.dat\n",
      "vertices_h=3_w=2_Exp6.dat\n",
      "vertices_h=3_w=2_Exp0.dat\n"
     ]
    }
   ],
   "source": [
    "Cairo = []\n",
    "for file in os.listdir(data_directory):\n",
    "    if fnmatch.fnmatch(file, \"vertices_h=3_w=2_Exp*.dat\"):\n",
    "        print(file)\n",
    "        Cairo.append(pd.read_csv(join(data_directory,file), sep = \"\\t\", index_col = [0,1])) \n",
    "        \n",
    "keys_Cairo = []\n",
    "for i in range(len(Cairo)):\n",
    "    keys_Cairo.append(i)"
   ]
  },
  {
   "cell_type": "code",
   "execution_count": 4,
   "metadata": {},
   "outputs": [],
   "source": [
    "Cairo_exp = pd.concat(Cairo, keys = keys_Cairo)\n",
    "Cairo_exp.index.names = ['Exp', 'frame', 'id']"
   ]
  },
  {
   "cell_type": "code",
   "execution_count": 5,
   "metadata": {},
   "outputs": [
    {
     "data": {
      "text/plain": [
       "(67.92616526188812, 333.46078031049694, 66.3769889558158, 330.8463324141322)"
      ]
     },
     "execution_count": 5,
     "metadata": {},
     "output_type": "execute_result"
    },
    {
     "data": {
      "image/png": "[encoded data removed]",
      "text/plain": [
       "<Figure size 432x288 with 1 Axes>"
      ]
     },
     "metadata": {
      "needs_background": "light"
     },
     "output_type": "display_data"
    }
   ],
   "source": [
    "plt.plot(Cairo_exp.x,Cairo_exp.y, 'o', c= 'blue' )\n",
    "plt.axis('equal')"
   ]
  },
  {
   "cell_type": "markdown",
   "metadata": {},
   "source": [
    "## First method"
   ]
  },
  {
   "cell_type": "markdown",
   "metadata": {},
   "source": [
    "As far as the analyzed system has 2 3-coordination vertices for each 4-oordination vertex we need to preserve this proportion in order to reproduce data from simulations. To do that, we can only made the analysis of 3 vertices (two 3-coordination and one 4-coordination). But we will loose a lot of data doing that. Instead we propose to weight each vertex. Vertices at the corners will have a weight of 1/4 (Only one particle inside the structure). At the edges 1/2 and inside the boundaries 1."
   ]
  },
  {
   "cell_type": "code",
   "execution_count": 6,
   "metadata": {},
   "outputs": [],
   "source": [
    "Cairo_exp['weigth'] = 1"
   ]
  },
  {
   "cell_type": "code",
   "execution_count": 7,
   "metadata": {},
   "outputs": [],
   "source": [
    "Cairo_exp.loc[(Cairo_exp['x'] < 100) & (Cairo_exp['y'] < 300) & (Cairo_exp['y'] > 140) , 'weigth'] = 1/2\n",
    "Cairo_exp.loc[(Cairo_exp['x'] > 305) & (Cairo_exp['y'] < 300) & (Cairo_exp['y'] > 140) , 'weigth'] = 1/2\n",
    "\n",
    "Cairo_exp.loc[(Cairo_exp['y'] > 300) & (Cairo_exp['x'] > 100) & (Cairo_exp['x'] < 300) , 'weigth'] = 1/2\n",
    "Cairo_exp.loc[(Cairo_exp['y'] < 100) & (Cairo_exp['x'] > 100) & (Cairo_exp['y'] < 300) , 'weigth'] = 1/2\n",
    "\n",
    "Cairo_exp.loc[(Cairo_exp['x'] < 100) & (Cairo_exp['y'] > 300)  , 'weigth'] = 1/4\n",
    "Cairo_exp.loc[(Cairo_exp['x'] < 100) & (Cairo_exp['y'] < 100)  , 'weigth'] = 1/4\n",
    "Cairo_exp.loc[(Cairo_exp['x'] > 300) & (Cairo_exp['y'] < 100)  , 'weigth'] = 1/4\n",
    "Cairo_exp.loc[(Cairo_exp['x'] > 300) & (Cairo_exp['y'] > 300)  , 'weigth'] = 1/4"
   ]
  },
  {
   "cell_type": "code",
   "execution_count": 8,
   "metadata": {},
   "outputs": [],
   "source": [
    "edges = Cairo_exp.query('weigth == 1/2')\n",
    "corners = Cairo_exp.query('weigth == 1/4')\n",
    "bulk =  Cairo_exp.query('weigth == 1')"
   ]
  },
  {
   "cell_type": "code",
   "execution_count": 9,
   "metadata": {},
   "outputs": [
    {
     "data": {
      "text/plain": [
       "(67.92616526188812, 333.46078031049694, 66.3769889558158, 330.8463324141322)"
      ]
     },
     "execution_count": 9,
     "metadata": {},
     "output_type": "execute_result"
    },
    {
     "data": {
      "image/png": "[encoded data removed]",
      "text/plain": [
       "<Figure size 432x288 with 1 Axes>"
      ]
     },
     "metadata": {
      "needs_background": "light"
     },
     "output_type": "display_data"
    }
   ],
   "source": [
    "plt.plot(edges.x, edges.y ,'.', color = 'blue')\n",
    "plt.plot(corners.x, corners.y ,'.', color = 'red')\n",
    "plt.plot(bulk.x, bulk.y ,'.', color = 'cyan')\n",
    "plt.axis('equal')"
   ]
  },
  {
   "cell_type": "markdown",
   "metadata": {},
   "source": [
    "## Second method"
   ]
  },
  {
   "cell_type": "code",
   "execution_count": 44,
   "metadata": {},
   "outputs": [],
   "source": [
    "Ca = Cairo_exp.query('x < 230 and x > 150')\n",
    "C = Ca.query('y > 180 and y < 250')"
   ]
  },
  {
   "cell_type": "code",
   "execution_count": 45,
   "metadata": {},
   "outputs": [
    {
     "data": {
      "text/plain": [
       "(155.74617083282357, 222.8579376411148, 194.43466106517812, 242.1798166590824)"
      ]
     },
     "execution_count": 45,
     "metadata": {},
     "output_type": "execute_result"
    },
    {
     "data": {
      "image/png": "[encoded data removed]",
      "text/plain": [
       "<Figure size 432x288 with 1 Axes>"
      ]
     },
     "metadata": {
      "needs_background": "light"
     },
     "output_type": "display_data"
    }
   ],
   "source": [
    "plt.plot(C.x, C.y, 'o')\n",
    "plt.axis('equal')"
   ]
  },
  {
   "cell_type": "code",
   "execution_count": 46,
   "metadata": {},
   "outputs": [
    {
     "data": {
      "text/html": [
       "<div>\n",
       "<style scoped>\n",
       "    .dataframe tbody tr th:only-of-type {\n",
       "        vertical-align: middle;\n",
       "    }\n",
       "\n",
       "    .dataframe tbody tr th {\n",
       "        vertical-align: top;\n",
       "    }\n",
       "\n",
       "    .dataframe thead th {\n",
       "        text-align: right;\n",
       "    }\n",
       "</style>\n",
       "<table border=\"1\" class=\"dataframe\">\n",
       "  <thead>\n",
       "    <tr style=\"text-align: right;\">\n",
       "      <th></th>\n",
       "      <th></th>\n",
       "      <th>x</th>\n",
       "      <th>y</th>\n",
       "      <th>charge</th>\n",
       "      <th>dx</th>\n",
       "      <th>dy</th>\n",
       "      <th>weigth</th>\n",
       "    </tr>\n",
       "    <tr>\n",
       "      <th>frame</th>\n",
       "      <th>coordination</th>\n",
       "      <th></th>\n",
       "      <th></th>\n",
       "      <th></th>\n",
       "      <th></th>\n",
       "      <th></th>\n",
       "      <th></th>\n",
       "    </tr>\n",
       "  </thead>\n",
       "  <tbody>\n",
       "    <tr>\n",
       "      <th rowspan=\"2\" valign=\"top\">0</th>\n",
       "      <th>3</th>\n",
       "      <td>18</td>\n",
       "      <td>18</td>\n",
       "      <td>18</td>\n",
       "      <td>18</td>\n",
       "      <td>18</td>\n",
       "      <td>18</td>\n",
       "    </tr>\n",
       "    <tr>\n",
       "      <th>4</th>\n",
       "      <td>9</td>\n",
       "      <td>9</td>\n",
       "      <td>9</td>\n",
       "      <td>9</td>\n",
       "      <td>9</td>\n",
       "      <td>9</td>\n",
       "    </tr>\n",
       "    <tr>\n",
       "      <th rowspan=\"2\" valign=\"top\">100</th>\n",
       "      <th>3</th>\n",
       "      <td>18</td>\n",
       "      <td>18</td>\n",
       "      <td>18</td>\n",
       "      <td>18</td>\n",
       "      <td>18</td>\n",
       "      <td>18</td>\n",
       "    </tr>\n",
       "    <tr>\n",
       "      <th>4</th>\n",
       "      <td>9</td>\n",
       "      <td>9</td>\n",
       "      <td>9</td>\n",
       "      <td>9</td>\n",
       "      <td>9</td>\n",
       "      <td>9</td>\n",
       "    </tr>\n",
       "    <tr>\n",
       "      <th>200</th>\n",
       "      <th>3</th>\n",
       "      <td>18</td>\n",
       "      <td>18</td>\n",
       "      <td>18</td>\n",
       "      <td>18</td>\n",
       "      <td>18</td>\n",
       "      <td>18</td>\n",
       "    </tr>\n",
       "    <tr>\n",
       "      <th>...</th>\n",
       "      <th>...</th>\n",
       "      <td>...</td>\n",
       "      <td>...</td>\n",
       "      <td>...</td>\n",
       "      <td>...</td>\n",
       "      <td>...</td>\n",
       "      <td>...</td>\n",
       "    </tr>\n",
       "    <tr>\n",
       "      <th>4200</th>\n",
       "      <th>4</th>\n",
       "      <td>2</td>\n",
       "      <td>2</td>\n",
       "      <td>2</td>\n",
       "      <td>2</td>\n",
       "      <td>2</td>\n",
       "      <td>2</td>\n",
       "    </tr>\n",
       "    <tr>\n",
       "      <th rowspan=\"2\" valign=\"top\">4300</th>\n",
       "      <th>3</th>\n",
       "      <td>2</td>\n",
       "      <td>2</td>\n",
       "      <td>2</td>\n",
       "      <td>2</td>\n",
       "      <td>2</td>\n",
       "      <td>2</td>\n",
       "    </tr>\n",
       "    <tr>\n",
       "      <th>4</th>\n",
       "      <td>1</td>\n",
       "      <td>1</td>\n",
       "      <td>1</td>\n",
       "      <td>1</td>\n",
       "      <td>1</td>\n",
       "      <td>1</td>\n",
       "    </tr>\n",
       "    <tr>\n",
       "      <th rowspan=\"2\" valign=\"top\">4400</th>\n",
       "      <th>3</th>\n",
       "      <td>2</td>\n",
       "      <td>2</td>\n",
       "      <td>2</td>\n",
       "      <td>2</td>\n",
       "      <td>2</td>\n",
       "      <td>2</td>\n",
       "    </tr>\n",
       "    <tr>\n",
       "      <th>4</th>\n",
       "      <td>1</td>\n",
       "      <td>1</td>\n",
       "      <td>1</td>\n",
       "      <td>1</td>\n",
       "      <td>1</td>\n",
       "      <td>1</td>\n",
       "    </tr>\n",
       "  </tbody>\n",
       "</table>\n",
       "<p>90 rows × 6 columns</p>\n",
       "</div>"
      ],
      "text/plain": [
       "                     x   y  charge  dx  dy  weigth\n",
       "frame coordination                                \n",
       "0     3             18  18      18  18  18      18\n",
       "      4              9   9       9   9   9       9\n",
       "100   3             18  18      18  18  18      18\n",
       "      4              9   9       9   9   9       9\n",
       "200   3             18  18      18  18  18      18\n",
       "...                 ..  ..     ...  ..  ..     ...\n",
       "4200  4              2   2       2   2   2       2\n",
       "4300  3              2   2       2   2   2       2\n",
       "      4              1   1       1   1   1       1\n",
       "4400  3              2   2       2   2   2       2\n",
       "      4              1   1       1   1   1       1\n",
       "\n",
       "[90 rows x 6 columns]"
      ]
     },
     "execution_count": 46,
     "metadata": {},
     "output_type": "execute_result"
    }
   ],
   "source": [
    "C.groupby(['frame','coordination']).count()"
   ]
  },
  {
   "cell_type": "code",
   "execution_count": 47,
   "metadata": {},
   "outputs": [
    {
     "data": {
      "text/html": [
       "<div>\n",
       "<style scoped>\n",
       "    .dataframe tbody tr th:only-of-type {\n",
       "        vertical-align: middle;\n",
       "    }\n",
       "\n",
       "    .dataframe tbody tr th {\n",
       "        vertical-align: top;\n",
       "    }\n",
       "\n",
       "    .dataframe thead th {\n",
       "        text-align: right;\n",
       "    }\n",
       "</style>\n",
       "<table border=\"1\" class=\"dataframe\">\n",
       "  <thead>\n",
       "    <tr style=\"text-align: right;\">\n",
       "      <th></th>\n",
       "      <th></th>\n",
       "      <th>x</th>\n",
       "      <th>y</th>\n",
       "      <th>charge</th>\n",
       "      <th>dx</th>\n",
       "      <th>dy</th>\n",
       "      <th>weigth</th>\n",
       "    </tr>\n",
       "    <tr>\n",
       "      <th>frame</th>\n",
       "      <th>coordination</th>\n",
       "      <th></th>\n",
       "      <th></th>\n",
       "      <th></th>\n",
       "      <th></th>\n",
       "      <th></th>\n",
       "      <th></th>\n",
       "    </tr>\n",
       "  </thead>\n",
       "  <tbody>\n",
       "    <tr>\n",
       "      <th rowspan=\"2\" valign=\"top\">0</th>\n",
       "      <th>3</th>\n",
       "      <td>3603.482510</td>\n",
       "      <td>3574.888117</td>\n",
       "      <td>4</td>\n",
       "      <td>-12.000000</td>\n",
       "      <td>0.0</td>\n",
       "      <td>18.0</td>\n",
       "    </tr>\n",
       "    <tr>\n",
       "      <th>4</th>\n",
       "      <td>1447.189140</td>\n",
       "      <td>2142.067747</td>\n",
       "      <td>2</td>\n",
       "      <td>1.732051</td>\n",
       "      <td>1.0</td>\n",
       "      <td>9.0</td>\n",
       "    </tr>\n",
       "    <tr>\n",
       "      <th rowspan=\"2\" valign=\"top\">100</th>\n",
       "      <th>3</th>\n",
       "      <td>3603.482510</td>\n",
       "      <td>3574.888117</td>\n",
       "      <td>4</td>\n",
       "      <td>-12.000000</td>\n",
       "      <td>0.0</td>\n",
       "      <td>18.0</td>\n",
       "    </tr>\n",
       "    <tr>\n",
       "      <th>4</th>\n",
       "      <td>1447.189140</td>\n",
       "      <td>2142.067747</td>\n",
       "      <td>2</td>\n",
       "      <td>1.732051</td>\n",
       "      <td>1.0</td>\n",
       "      <td>9.0</td>\n",
       "    </tr>\n",
       "    <tr>\n",
       "      <th>200</th>\n",
       "      <th>3</th>\n",
       "      <td>3603.482510</td>\n",
       "      <td>3574.888117</td>\n",
       "      <td>4</td>\n",
       "      <td>-12.000000</td>\n",
       "      <td>0.0</td>\n",
       "      <td>18.0</td>\n",
       "    </tr>\n",
       "    <tr>\n",
       "      <th>...</th>\n",
       "      <th>...</th>\n",
       "      <td>...</td>\n",
       "      <td>...</td>\n",
       "      <td>...</td>\n",
       "      <td>...</td>\n",
       "      <td>...</td>\n",
       "      <td>...</td>\n",
       "    </tr>\n",
       "    <tr>\n",
       "      <th>4200</th>\n",
       "      <th>4</th>\n",
       "      <td>324.598109</td>\n",
       "      <td>476.013662</td>\n",
       "      <td>0</td>\n",
       "      <td>0.000000</td>\n",
       "      <td>0.0</td>\n",
       "      <td>2.0</td>\n",
       "    </tr>\n",
       "    <tr>\n",
       "      <th rowspan=\"2\" valign=\"top\">4300</th>\n",
       "      <th>3</th>\n",
       "      <td>406.386946</td>\n",
       "      <td>397.209791</td>\n",
       "      <td>4</td>\n",
       "      <td>2.000000</td>\n",
       "      <td>0.0</td>\n",
       "      <td>2.0</td>\n",
       "    </tr>\n",
       "    <tr>\n",
       "      <th>4</th>\n",
       "      <td>163.794289</td>\n",
       "      <td>238.004080</td>\n",
       "      <td>0</td>\n",
       "      <td>0.000000</td>\n",
       "      <td>0.0</td>\n",
       "      <td>1.0</td>\n",
       "    </tr>\n",
       "    <tr>\n",
       "      <th rowspan=\"2\" valign=\"top\">4400</th>\n",
       "      <th>3</th>\n",
       "      <td>406.386946</td>\n",
       "      <td>397.209791</td>\n",
       "      <td>4</td>\n",
       "      <td>2.000000</td>\n",
       "      <td>0.0</td>\n",
       "      <td>2.0</td>\n",
       "    </tr>\n",
       "    <tr>\n",
       "      <th>4</th>\n",
       "      <td>163.794289</td>\n",
       "      <td>238.004080</td>\n",
       "      <td>0</td>\n",
       "      <td>0.000000</td>\n",
       "      <td>0.0</td>\n",
       "      <td>1.0</td>\n",
       "    </tr>\n",
       "  </tbody>\n",
       "</table>\n",
       "<p>90 rows × 6 columns</p>\n",
       "</div>"
      ],
      "text/plain": [
       "                              x            y  charge         dx   dy  weigth\n",
       "frame coordination                                                          \n",
       "0     3             3603.482510  3574.888117       4 -12.000000  0.0    18.0\n",
       "      4             1447.189140  2142.067747       2   1.732051  1.0     9.0\n",
       "100   3             3603.482510  3574.888117       4 -12.000000  0.0    18.0\n",
       "      4             1447.189140  2142.067747       2   1.732051  1.0     9.0\n",
       "200   3             3603.482510  3574.888117       4 -12.000000  0.0    18.0\n",
       "...                         ...          ...     ...        ...  ...     ...\n",
       "4200  4              324.598109   476.013662       0   0.000000  0.0     2.0\n",
       "4300  3              406.386946   397.209791       4   2.000000  0.0     2.0\n",
       "      4              163.794289   238.004080       0   0.000000  0.0     1.0\n",
       "4400  3              406.386946   397.209791       4   2.000000  0.0     2.0\n",
       "      4              163.794289   238.004080       0   0.000000  0.0     1.0\n",
       "\n",
       "[90 rows x 6 columns]"
      ]
     },
     "execution_count": 47,
     "metadata": {},
     "output_type": "execute_result"
    }
   ],
   "source": [
    "C.groupby(['frame','coordination']).sum()"
   ]
  },
  {
   "cell_type": "code",
   "execution_count": 58,
   "metadata": {},
   "outputs": [],
   "source": [
    "C = Cairo_exp.groupby(['frame']).sum()/Cairo_exp.groupby('frame').count()"
   ]
  },
  {
   "cell_type": "code",
   "execution_count": 59,
   "metadata": {},
   "outputs": [
    {
     "data": {
      "text/plain": [
       "[<matplotlib.lines.Line2D at 0x7fc6e0f319d0>]"
      ]
     },
     "execution_count": 59,
     "metadata": {},
     "output_type": "execute_result"
    },
    {
     "data": {
      "image/png": "[encoded data removed]",
      "text/plain": [
       "<Figure size 432x288 with 1 Axes>"
      ]
     },
     "metadata": {
      "needs_background": "light"
     },
     "output_type": "display_data"
    }
   ],
   "source": [
    "plt.plot(C.index.get_level_values('frame'),C.charge, 'o')"
   ]
  },
  {
   "cell_type": "code",
   "execution_count": 61,
   "metadata": {},
   "outputs": [
    {
     "data": {
      "image/png": "[encoded data removed]",
      "text/plain": [
       "<Figure size 504x504 with 2 Axes>"
      ]
     },
     "metadata": {
      "needs_background": "light"
     },
     "output_type": "display_data"
    }
   ],
   "source": [
    "fig, ax = plt.subplots(2, 1, figsize=(7,7))\n",
    "\n",
    "Sep_charge_tot = Cairo_exp.groupby(['frame','coordination']).sum()\n",
    "\n",
    "Sep_charge = Cairo_exp.groupby(['frame','coordination']).sum()/Cairo_exp.groupby(['frame','coordination']).count()\n",
    "\n",
    "for typ_m, mtype in Sep_charge.groupby('coordination'):\n",
    "    \n",
    "    ax[0].plot(mtype.index.get_level_values(\"frame\"), mtype['charge'],'-o', label = typ_m)\n",
    "    \n",
    "for typ_m, mtype in Sep_charge_tot.groupby('coordination'):\n",
    "    \n",
    "    ax[1].plot(mtype.index.get_level_values(\"frame\"), mtype[\"charge\"],'-o', label = typ_m)\n",
    "\n",
    "    \n",
    "ax[0].tick_params(axis='y', labelsize=35)\n",
    "ax[0].tick_params(axis='x', labelsize=35) \n",
    "ax[0].legend(fontsize = 12, title= 'Lattice coordination', title_fontsize = 12, ncol = 1)\n",
    "\n",
    "\n",
    "ax[0].set_xlabel('B (mT)', size = 40)\n",
    "ax[0].set_ylabel('$\\sum$(Q) / N', size = 40)\n",
    "\n",
    "ax[1].tick_params(axis='y', labelsize=35)\n",
    "ax[1].tick_params(axis='x', labelsize=35)  \n",
    "\n",
    "ax[1].legend(fontsize = 12, title= 'Lattice coordination', title_fontsize = 12, ncol = 1)\n",
    "ax[1].set_xlabel('B (mT)', size = 40)\n",
    "ax[1].set_ylabel('$\\sum$(Q)', size = 40)\n",
    "\n",
    "\n",
    "plt.tight_layout()"
   ]
  },
  {
   "cell_type": "code",
   "execution_count": null,
   "metadata": {},
   "outputs": [],
   "source": []
  }
 ],
 "metadata": {
  "kernelspec": {
   "display_name": "Python 3",
   "language": "python",
   "name": "python3"
  },
  "language_info": {
   "codemirror_mode": {
    "name": "ipython",
    "version": 3
   },
   "file_extension": ".py",
   "mimetype": "text/x-python",
   "name": "python",
   "nbconvert_exporter": "python",
   "pygments_lexer": "ipython3",
   "version": "3.7.6"
  }
 },
 "nbformat": 4,
 "nbformat_minor": 4
}
