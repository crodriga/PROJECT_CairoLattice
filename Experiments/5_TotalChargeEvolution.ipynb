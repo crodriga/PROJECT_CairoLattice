{
 "cells": [
  {
   "cell_type": "code",
   "execution_count": 1,
   "metadata": {},
   "outputs": [],
   "source": [
    "import os\n",
    "import fnmatch\n",
    "import pandas as pd\n",
    "from os.path import isfile, join\n",
    "import matplotlib as mpl\n",
    "import matplotlib.pyplot as plt\n",
    "import numpy as np"
   ]
  },
  {
   "cell_type": "markdown",
   "metadata": {},
   "source": [
    "# Total Charge evolution"
   ]
  },
  {
   "cell_type": "code",
   "execution_count": 2,
   "metadata": {},
   "outputs": [],
   "source": [
    "data_directory =  \"/media/Carol/Magnetic/Experiments/Colloidal_Ice/Cairo_lattice/preAnalysis_17-05-2022/vertices\""
   ]
  },
  {
   "cell_type": "code",
   "execution_count": 3,
   "metadata": {},
   "outputs": [
    {
     "name": "stdout",
     "output_type": "stream",
     "text": [
      "vertices_h=2_w=2_Exp21.dat\n",
      "vertices_h=2_w=2_Exp2.dat\n",
      "vertices_h=2_w=2_Exp8.dat\n",
      "vertices_h=2_w=2_Exp5.dat\n",
      "vertices_h=2_w=2_Exp4.dat\n",
      "vertices_h=2_w=2_Exp23.dat\n",
      "vertices_h=2_w=2_Exp24.dat\n",
      "vertices_h=2_w=2_Exp31.dat\n",
      "vertices_h=2_w=2_Exp10.dat\n",
      "vertices_h=2_w=2_Exp7.dat\n",
      "vertices_h=2_w=2_Exp14.dat\n",
      "vertices_h=2_w=2_Exp26.dat\n",
      "vertices_h=2_w=2_Exp28.dat\n",
      "vertices_h=2_w=2_Exp20.dat\n",
      "vertices_h=2_w=2_Exp29.dat\n",
      "vertices_h=2_w=2_Exp30.dat\n",
      "vertices_h=2_w=2_Exp11.dat\n",
      "vertices_h=2_w=2_Exp25.dat\n",
      "vertices_h=2_w=2_Exp6.dat\n",
      "vertices_h=2_w=2_Exp19.dat\n",
      "vertices_h=2_w=2_Exp17.dat\n",
      "vertices_h=2_w=2_Exp9.dat\n",
      "vertices_h=2_w=2_Exp22.dat\n",
      "vertices_h=2_w=2_Exp16.dat\n",
      "vertices_h=2_w=2_Exp18.dat\n",
      "vertices_h=2_w=2_Exp27.dat\n",
      "vertices_h=2_w=2_Exp1.dat\n",
      "vertices_h=2_w=2_Exp0.dat\n",
      "vertices_h=2_w=2_Exp3.dat\n",
      "vertices_h=2_w=2_Exp12.dat\n",
      "vertices_h=2_w=2_Exp15.dat\n"
     ]
    }
   ],
   "source": [
    "Cairo = []\n",
    "for file in os.listdir(data_directory):\n",
    "    if fnmatch.fnmatch(file, \"vertices_h=2_w=2_Exp*.dat\"):\n",
    "        print(file)\n",
    "        Cairo.append(pd.read_csv(join(data_directory,file), sep = \"\\t\", index_col = [0,1])) \n",
    "        \n",
    "keys_Cairo = []\n",
    "for i in range(len(Cairo)):\n",
    "    keys_Cairo.append(i)"
   ]
  },
  {
   "cell_type": "code",
   "execution_count": 4,
   "metadata": {},
   "outputs": [],
   "source": [
    "Cairo_exp = pd.concat(Cairo, keys = keys_Cairo)\n",
    "Cairo_exp.index.names = ['Exp', 'frame', 'id']\n",
    "Cairo_exp = Cairo_exp.query('coordination != 2')\n"
   ]
  },
  {
   "cell_type": "code",
   "execution_count": 5,
   "metadata": {},
   "outputs": [
    {
     "data": {
      "text/plain": [
       "(177.66494975561886, 790.0711415555263, 180.10684358020103, 790.9721809687384)"
      ]
     },
     "execution_count": 5,
     "metadata": {},
     "output_type": "execute_result"
    },
    {
     "data": {
      "image/png": "[encoded data removed]",
      "text/plain": [
       "<Figure size 432x288 with 1 Axes>"
      ]
     },
     "metadata": {
      "needs_background": "light"
     },
     "output_type": "display_data"
    }
   ],
   "source": [
    "plt.plot(Cairo_exp.x,Cairo_exp.y, 'o', c= 'blue' )\n",
    "plt.axis('equal')"
   ]
  },
  {
   "cell_type": "markdown",
   "metadata": {},
   "source": [
    "## First method"
   ]
  },
  {
   "cell_type": "markdown",
   "metadata": {},
   "source": [
    "As far as the analyzed system has 2 3-coordination vertices for each 4-oordination vertex we need to preserve this proportion in order to reproduce data from simulations. To do that, we can only made the analysis of 3 vertices (two 3-coordination and one 4-coordination). But we will loose a lot of data doing that. Instead we propose to weight each vertex. Vertices at the corners will have a weight of 1/4 (Only one particle inside the structure). At the edges 1/2 and inside the boundaries 1."
   ]
  },
  {
   "cell_type": "code",
   "execution_count": 6,
   "metadata": {},
   "outputs": [],
   "source": [
    "Cairo_exp['weigth'] = 1"
   ]
  },
  {
   "cell_type": "code",
   "execution_count": 7,
   "metadata": {},
   "outputs": [],
   "source": [
    "Cairo_exp.loc[(Cairo_exp['x'] < 100) & (Cairo_exp['y'] < 300) & (Cairo_exp['y'] > 140) , 'weigth'] = 1/2\n",
    "Cairo_exp.loc[(Cairo_exp['x'] > 305) & (Cairo_exp['y'] < 300) & (Cairo_exp['y'] > 140) , 'weigth'] = 1/2\n",
    "\n",
    "Cairo_exp.loc[(Cairo_exp['y'] > 300) & (Cairo_exp['x'] > 100) & (Cairo_exp['x'] < 300) , 'weigth'] = 1/2\n",
    "Cairo_exp.loc[(Cairo_exp['y'] < 100) & (Cairo_exp['x'] > 100) & (Cairo_exp['y'] < 300) , 'weigth'] = 1/2\n",
    "\n",
    "Cairo_exp.loc[(Cairo_exp['x'] < 100) & (Cairo_exp['y'] > 300)  , 'weigth'] = 1/4\n",
    "Cairo_exp.loc[(Cairo_exp['x'] < 100) & (Cairo_exp['y'] < 100)  , 'weigth'] = 1/4\n",
    "Cairo_exp.loc[(Cairo_exp['x'] > 300) & (Cairo_exp['y'] < 100)  , 'weigth'] = 1/4\n",
    "Cairo_exp.loc[(Cairo_exp['x'] > 300) & (Cairo_exp['y'] > 300)  , 'weigth'] = 1/4"
   ]
  },
  {
   "cell_type": "code",
   "execution_count": 8,
   "metadata": {},
   "outputs": [],
   "source": [
    "edges = Cairo_exp.query('weigth == 1/2')\n",
    "corners = Cairo_exp.query('weigth == 1/4')\n",
    "bulk =  Cairo_exp.query('weigth == 1')"
   ]
  },
  {
   "cell_type": "code",
   "execution_count": 9,
   "metadata": {},
   "outputs": [
    {
     "data": {
      "text/plain": [
       "(177.66494975561886, 790.0711415555263, 180.10684358020103, 790.9721809687384)"
      ]
     },
     "execution_count": 9,
     "metadata": {},
     "output_type": "execute_result"
    },
    {
     "data": {
      "image/png": "[encoded data removed]",
      "text/plain": [
       "<Figure size 432x288 with 1 Axes>"
      ]
     },
     "metadata": {
      "needs_background": "light"
     },
     "output_type": "display_data"
    }
   ],
   "source": [
    "plt.plot(edges.x, edges.y ,'.', color = 'blue')\n",
    "plt.plot(corners.x, corners.y ,'.', color = 'red')\n",
    "plt.plot(bulk.x, bulk.y ,'.', color = 'cyan')\n",
    "plt.axis('equal')"
   ]
  },
  {
   "cell_type": "markdown",
   "metadata": {},
   "source": [
    "## Second method"
   ]
  },
  {
   "cell_type": "code",
   "execution_count": 10,
   "metadata": {},
   "outputs": [],
   "source": [
    "#Ca = Cairo_exp.query('x < 290 and x > 120') # 4 pentagons\n",
    "#C = Ca.query('y > 130 and y < 265')\n",
    "\n",
    "# Ca = Cairo_exp.query('x < 305 and x > 0')\n",
    "# C = Ca.query('y > 90 and y < 400')\n",
    "\n",
    "C = Cairo_exp"
   ]
  },
  {
   "cell_type": "code",
   "execution_count": 11,
   "metadata": {},
   "outputs": [
    {
     "data": {
      "text/plain": [
       "(177.66494975561886, 790.0711415555263, 180.10684358020103, 790.9721809687384)"
      ]
     },
     "execution_count": 11,
     "metadata": {},
     "output_type": "execute_result"
    },
    {
     "data": {
      "image/png": "[encoded data removed]",
      "text/plain": [
       "<Figure size 432x288 with 1 Axes>"
      ]
     },
     "metadata": {
      "needs_background": "light"
     },
     "output_type": "display_data"
    }
   ],
   "source": [
    "plt.plot(C.x, C.y, 'o')\n",
    "plt.axis('equal')"
   ]
  },
  {
   "cell_type": "code",
   "execution_count": 12,
   "metadata": {},
   "outputs": [],
   "source": [
    "def magnetic_field_value(time):\n",
    "    \n",
    "    m = 6.82628571 \n",
    "    b = 0.55685714\n",
    "    slope = 4/600 # 4V in 600s\n",
    "    \n",
    "    magnetic_field_value = (m*(time*slope)+b)\n",
    "    \n",
    "    return magnetic_field_value # in mT\n",
    "\n",
    "C['mT'] = magnetic_field_value(C.index.get_level_values('frame')/30)"
   ]
  },
  {
   "cell_type": "code",
   "execution_count": 13,
   "metadata": {},
   "outputs": [],
   "source": [
    "mpl.rcParams['axes.prop_cycle'] = mpl.cycler(color=[\"blue\", \n",
    "                                                    \"red\"])"
   ]
  },
  {
   "cell_type": "code",
   "execution_count": 20,
   "metadata": {},
   "outputs": [
    {
     "data": {
      "image/png": "[encoded data removed]",
      "text/plain": [
       "<Figure size 720x360 with 1 Axes>"
      ]
     },
     "metadata": {
      "needs_background": "light"
     },
     "output_type": "display_data"
    }
   ],
   "source": [
    "fig, ax = plt.subplots(1, 1, figsize=(10,5))\n",
    "\n",
    "Sep_charge_tot = C.groupby(['frame','coordination']).sum()\n",
    "\n",
    "Sep_charge = C.groupby(['frame','coordination']).sum()/C.groupby(['frame','coordination']).count()\n",
    "\n",
    "Sep_charge['err'] = (C.groupby(['frame','coordination'])['charge'].std())/np.sqrt(C.groupby(['frame','coordination'])['charge'].count())\n",
    "\n",
    "for typ_m, mtype in Sep_charge.groupby('coordination'):\n",
    "    \n",
    "    ax.errorbar(mtype['mT'], mtype['charge'],yerr = mtype['err'],fmt = '-o', label = typ_m)\n",
    "    \n",
    "\n",
    "\n",
    "    \n",
    "ax.tick_params(axis='y', labelsize=35)\n",
    "ax.tick_params(axis='x', labelsize=35) \n",
    "ax.legend(fontsize = 12, title= 'Lattice coordination', title_fontsize = 12, ncol = 1, loc = 'upper left')\n",
    "ax.set_xlim(0,10)\n",
    "\n",
    "\n",
    "ax.set_xlabel('B (mT)', size = 40)\n",
    "ax.set_ylabel('$\\sum$(Q) / N', size = 40)\n",
    "\n",
    "\n",
    "\n",
    "\n",
    "plt.tight_layout()"
   ]
  },
  {
   "cell_type": "code",
   "execution_count": 21,
   "metadata": {},
   "outputs": [],
   "source": [
    "del Sep_charge['x']\n",
    "del Sep_charge['y']\n",
    "del Sep_charge['dx']\n",
    "del Sep_charge['dy']\n",
    "del Sep_charge['weigth']\n",
    "\n"
   ]
  },
  {
   "cell_type": "code",
   "execution_count": 22,
   "metadata": {},
   "outputs": [],
   "source": [
    "Sep_charge = Sep_charge.query('mT < 10')\n",
    "Sep_charge.to_csv('Experimental_Charge_evolution.dat', sep='\\t')"
   ]
  },
  {
   "cell_type": "code",
   "execution_count": 23,
   "metadata": {},
   "outputs": [
    {
     "data": {
      "text/html": [
       "<div>\n",
       "<style scoped>\n",
       "    .dataframe tbody tr th:only-of-type {\n",
       "        vertical-align: middle;\n",
       "    }\n",
       "\n",
       "    .dataframe tbody tr th {\n",
       "        vertical-align: top;\n",
       "    }\n",
       "\n",
       "    .dataframe thead th {\n",
       "        text-align: right;\n",
       "    }\n",
       "</style>\n",
       "<table border=\"1\" class=\"dataframe\">\n",
       "  <thead>\n",
       "    <tr style=\"text-align: right;\">\n",
       "      <th></th>\n",
       "      <th></th>\n",
       "      <th>charge</th>\n",
       "      <th>mT</th>\n",
       "      <th>err</th>\n",
       "    </tr>\n",
       "    <tr>\n",
       "      <th>frame</th>\n",
       "      <th>coordination</th>\n",
       "      <th></th>\n",
       "      <th></th>\n",
       "      <th></th>\n",
       "    </tr>\n",
       "  </thead>\n",
       "  <tbody>\n",
       "    <tr>\n",
       "      <th rowspan=\"2\" valign=\"top\">0</th>\n",
       "      <th>3</th>\n",
       "      <td>0.042339</td>\n",
       "      <td>0.556857</td>\n",
       "      <td>0.055152</td>\n",
       "    </tr>\n",
       "    <tr>\n",
       "      <th>4</th>\n",
       "      <td>0.021505</td>\n",
       "      <td>0.556857</td>\n",
       "      <td>0.121228</td>\n",
       "    </tr>\n",
       "    <tr>\n",
       "      <th rowspan=\"2\" valign=\"top\">100</th>\n",
       "      <th>3</th>\n",
       "      <td>0.030242</td>\n",
       "      <td>0.708552</td>\n",
       "      <td>0.055012</td>\n",
       "    </tr>\n",
       "    <tr>\n",
       "      <th>4</th>\n",
       "      <td>0.021505</td>\n",
       "      <td>0.708552</td>\n",
       "      <td>0.117776</td>\n",
       "    </tr>\n",
       "    <tr>\n",
       "      <th>200</th>\n",
       "      <th>3</th>\n",
       "      <td>0.042339</td>\n",
       "      <td>0.860248</td>\n",
       "      <td>0.054259</td>\n",
       "    </tr>\n",
       "    <tr>\n",
       "      <th>...</th>\n",
       "      <th>...</th>\n",
       "      <td>...</td>\n",
       "      <td>...</td>\n",
       "      <td>...</td>\n",
       "    </tr>\n",
       "    <tr>\n",
       "      <th>6000</th>\n",
       "      <th>4</th>\n",
       "      <td>0.451613</td>\n",
       "      <td>9.658571</td>\n",
       "      <td>0.083986</td>\n",
       "    </tr>\n",
       "    <tr>\n",
       "      <th rowspan=\"2\" valign=\"top\">6100</th>\n",
       "      <th>3</th>\n",
       "      <td>-0.423387</td>\n",
       "      <td>9.810267</td>\n",
       "      <td>0.038672</td>\n",
       "    </tr>\n",
       "    <tr>\n",
       "      <th>4</th>\n",
       "      <td>0.501792</td>\n",
       "      <td>9.810267</td>\n",
       "      <td>0.087494</td>\n",
       "    </tr>\n",
       "    <tr>\n",
       "      <th rowspan=\"2\" valign=\"top\">6200</th>\n",
       "      <th>3</th>\n",
       "      <td>-0.469758</td>\n",
       "      <td>9.961962</td>\n",
       "      <td>0.038972</td>\n",
       "    </tr>\n",
       "    <tr>\n",
       "      <th>4</th>\n",
       "      <td>0.587814</td>\n",
       "      <td>9.961962</td>\n",
       "      <td>0.089666</td>\n",
       "    </tr>\n",
       "  </tbody>\n",
       "</table>\n",
       "<p>126 rows × 3 columns</p>\n",
       "</div>"
      ],
      "text/plain": [
       "                      charge        mT       err\n",
       "frame coordination                              \n",
       "0     3             0.042339  0.556857  0.055152\n",
       "      4             0.021505  0.556857  0.121228\n",
       "100   3             0.030242  0.708552  0.055012\n",
       "      4             0.021505  0.708552  0.117776\n",
       "200   3             0.042339  0.860248  0.054259\n",
       "...                      ...       ...       ...\n",
       "6000  4             0.451613  9.658571  0.083986\n",
       "6100  3            -0.423387  9.810267  0.038672\n",
       "      4             0.501792  9.810267  0.087494\n",
       "6200  3            -0.469758  9.961962  0.038972\n",
       "      4             0.587814  9.961962  0.089666\n",
       "\n",
       "[126 rows x 3 columns]"
      ]
     },
     "execution_count": 23,
     "metadata": {},
     "output_type": "execute_result"
    }
   ],
   "source": [
    "Sep_charge"
   ]
  },
  {
   "cell_type": "code",
   "execution_count": null,
   "metadata": {},
   "outputs": [],
   "source": []
  }
 ],
 "metadata": {
  "kernelspec": {
   "display_name": "Python 3",
   "language": "python",
   "name": "python3"
  },
  "language_info": {
   "codemirror_mode": {
    "name": "ipython",
    "version": 3
   },
   "file_extension": ".py",
   "mimetype": "text/x-python",
   "name": "python",
   "nbconvert_exporter": "python",
   "pygments_lexer": "ipython3",
   "version": "3.7.6"
  }
 },
 "nbformat": 4,
 "nbformat_minor": 4
}
