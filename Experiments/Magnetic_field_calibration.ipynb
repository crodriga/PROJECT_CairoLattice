{
 "cells": [
  {
   "cell_type": "code",
   "execution_count": 1,
   "metadata": {},
   "outputs": [],
   "source": [
    "import numpy as np\n",
    "import matplotlib.pyplot as plt"
   ]
  },
  {
   "cell_type": "markdown",
   "metadata": {},
   "source": [
    "# Magnetic field calibration\n",
    "\n",
    "In this script, I will convert the voltage applied to the coils to a magnetic field, that was previously calibrated with a teslameter. As far as I applied a magnetic field ramp then I have to assign to each magnetic field value a time. Magnetic field calibration at a distance from the coil of 1 mm."
   ]
  },
  {
   "cell_type": "markdown",
   "metadata": {},
   "source": [
    "The voltage ramp was from 0V to 4V in 600 sec."
   ]
  },
  {
   "cell_type": "code",
   "execution_count": 2,
   "metadata": {},
   "outputs": [],
   "source": [
    "voltage = np.array([0,0.5,1,1.5,2,2.5,3])\n",
    "B1 = np.array([-0.05,3.90,7.80,11.5,14.93,17.91,20.47])\n",
    "B2 = np.array([-0.06,3.98,7.90,11.66,15.0,17.99,20.51])\n",
    "B3 = np.array([-0.06,3.85,7.7,11.37,14.75,17.75,20.25])\n",
    "B4 = np.array([-0.06,3.71,7.53,11.15,14.5,17.53,20.09])\n",
    "B5 = np.array([-0.04,3.82,7.69,11.25,14.45,17.38,19.82])"
   ]
  },
  {
   "cell_type": "code",
   "execution_count": 3,
   "metadata": {},
   "outputs": [],
   "source": [
    "meanB = np.mean([B1,B2,B3,B4,B5], axis = 0)\n",
    "stdB = np.std([B1,B2,B3,B4,B5], axis = 0)"
   ]
  },
  {
   "cell_type": "code",
   "execution_count": 4,
   "metadata": {},
   "outputs": [
    {
     "data": {
      "text/plain": [
       "array([-0.054,  3.852,  7.724, 11.386, 14.726, 17.712, 20.228])"
      ]
     },
     "execution_count": 4,
     "metadata": {},
     "output_type": "execute_result"
    }
   ],
   "source": [
    "meanB"
   ]
  },
  {
   "cell_type": "code",
   "execution_count": 5,
   "metadata": {},
   "outputs": [
    {
     "data": {
      "text/plain": [
       "array([0.008     , 0.08930845, 0.12338557, 0.18028866, 0.22114249,\n",
       "       0.22859571, 0.25458987])"
      ]
     },
     "execution_count": 5,
     "metadata": {},
     "output_type": "execute_result"
    }
   ],
   "source": [
    "stdB"
   ]
  },
  {
   "cell_type": "code",
   "execution_count": 6,
   "metadata": {},
   "outputs": [],
   "source": [
    "err = stdB/np.sqrt(5)"
   ]
  },
  {
   "cell_type": "code",
   "execution_count": 7,
   "metadata": {},
   "outputs": [],
   "source": [
    "linear_model, cov=np.polyfit(voltage,meanB,1, cov=True)\n",
    "linear_model_fn=np.poly1d(linear_model)\n",
    "x_s=np.arange(0,4)"
   ]
  },
  {
   "cell_type": "code",
   "execution_count": 8,
   "metadata": {},
   "outputs": [
    {
     "data": {
      "text/plain": [
       "poly1d([6.82628571, 0.55685714])"
      ]
     },
     "execution_count": 8,
     "metadata": {},
     "output_type": "execute_result"
    }
   ],
   "source": [
    "linear_model_fn"
   ]
  },
  {
   "cell_type": "code",
   "execution_count": 9,
   "metadata": {},
   "outputs": [
    {
     "data": {
      "text/plain": [
       "array([[ 0.05080751, -0.07621127],\n",
       "       [-0.07621127,  0.16512441]])"
      ]
     },
     "execution_count": 9,
     "metadata": {},
     "output_type": "execute_result"
    }
   ],
   "source": [
    "cov"
   ]
  },
  {
   "cell_type": "code",
   "execution_count": 10,
   "metadata": {},
   "outputs": [
    {
     "data": {
      "text/plain": [
       "Text(0, 0.5, 'Magnetic field (mT)')"
      ]
     },
     "execution_count": 10,
     "metadata": {},
     "output_type": "execute_result"
    },
    {
     "data": {
      "image/png": "[encoded data removed]",
      "text/plain": [
       "<Figure size 504x504 with 1 Axes>"
      ]
     },
     "metadata": {
      "needs_background": "light"
     },
     "output_type": "display_data"
    }
   ],
   "source": [
    "fig, ax1 = plt.subplots(figsize=(7,7))\n",
    "plt.errorbar(voltage, meanB, yerr = 0.8, fmt = '.')\n",
    "plt.plot(x_s,linear_model_fn(x_s),color=\"green\")\n",
    "plt.xlabel('voltage', size = 25)\n",
    "plt.ylabel('Magnetic field (mT)', size = 25)"
   ]
  },
  {
   "cell_type": "markdown",
   "metadata": {},
   "source": [
    "The estimated uncertainty in the magnetic field value is 0.8"
   ]
  },
  {
   "cell_type": "code",
   "execution_count": 11,
   "metadata": {},
   "outputs": [],
   "source": [
    "time = 200 # in sec\n",
    "slope = 4/600\n",
    "max_time = 600 #in sec"
   ]
  },
  {
   "cell_type": "markdown",
   "metadata": {},
   "source": [
    "Conversion from time to magnetic field value:"
   ]
  },
  {
   "cell_type": "code",
   "execution_count": 12,
   "metadata": {},
   "outputs": [
    {
     "data": {
      "text/plain": [
       "9.658571428571427"
      ]
     },
     "execution_count": 12,
     "metadata": {},
     "output_type": "execute_result"
    }
   ],
   "source": [
    "magnetic_field_value = (linear_model_fn[1]*(time*slope)+linear_model_fn[0])\n",
    "magnetic_field_value"
   ]
  },
  {
   "cell_type": "markdown",
   "metadata": {},
   "source": [
    "Let's generate a function to use it in other scripts"
   ]
  },
  {
   "cell_type": "code",
   "execution_count": 13,
   "metadata": {},
   "outputs": [],
   "source": [
    "def magnetic_field_value(time):\n",
    "    \n",
    "    m = 6.82628571 \n",
    "    b = 0.55685714\n",
    "    slope = 4/600 # 4V in 600s\n",
    "    \n",
    "    magnetic_field_value = (m*(time*slope)+b)\n",
    "    \n",
    "    return magnetic_field_value # in mT"
   ]
  },
  {
   "cell_type": "code",
   "execution_count": 14,
   "metadata": {},
   "outputs": [
    {
     "data": {
      "text/plain": [
       "0.76619656844"
      ]
     },
     "execution_count": 14,
     "metadata": {},
     "output_type": "execute_result"
    }
   ],
   "source": [
    "magnetic_field_value(4.6) "
   ]
  },
  {
   "cell_type": "code",
   "execution_count": null,
   "metadata": {},
   "outputs": [],
   "source": []
  }
 ],
 "metadata": {
  "kernelspec": {
   "display_name": "Python 3",
   "language": "python",
   "name": "python3"
  },
  "language_info": {
   "codemirror_mode": {
    "name": "ipython",
    "version": 3
   },
   "file_extension": ".py",
   "mimetype": "text/x-python",
   "name": "python",
   "nbconvert_exporter": "python",
   "pygments_lexer": "ipython3",
   "version": "3.7.6"
  }
 },
 "nbformat": 4,
 "nbformat_minor": 4
}
