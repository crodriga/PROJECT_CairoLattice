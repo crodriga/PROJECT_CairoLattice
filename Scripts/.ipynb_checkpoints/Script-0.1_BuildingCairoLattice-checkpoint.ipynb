{
 "cells": [
  {
   "cell_type": "markdown",
   "metadata": {},
   "source": [
    "# Building a Cairo Spin Lattice\n",
    "\n",
    "In this script we will draw the unit cell of a Cairo Lattice. The goal is to build a cairo.py script that will be added to the geometry folder of icenumerics. "
   ]
  },
  {
   "cell_type": "code",
   "execution_count": 1,
   "metadata": {},
   "outputs": [],
   "source": [
    "import icenumerics as ice\n",
    "import numpy as np\n",
    "import matplotlib.pyplot as plt"
   ]
  },
  {
   "cell_type": "markdown",
   "metadata": {},
   "source": [
    "## Unit cell:"
   ]
  },
  {
   "cell_type": "markdown",
   "metadata": {},
   "source": [
    "![CairoLattice](CairoLattice.png)"
   ]
  },
  {
   "cell_type": "code",
   "execution_count": 2,
   "metadata": {},
   "outputs": [],
   "source": [
    "a = 1\n",
    "l = 1.37\n",
    "torad = np.pi/180"
   ]
  },
  {
   "cell_type": "markdown",
   "metadata": {},
   "source": [
    "First pentagon"
   ]
  },
  {
   "cell_type": "code",
   "execution_count": 3,
   "metadata": {},
   "outputs": [],
   "source": [
    "unit_cell0 = np.array([[0,0], #A\n",
    "             [-l/2*np.cos(60*torad)-a/2,l/2*np.cos(30*torad)], #B\n",
    "             [-l/2*np.cos(30*torad),l*np.cos(30*torad)+l/2*np.cos(60*torad)], #C\n",
    "             [+l/2*np.cos(30*torad),l*np.cos(30*torad)+l/2*np.cos(60*torad)], #D\n",
    "             [+l/2*np.cos(60*torad)+a/2,l/2*np.cos(30*torad)]]) #E"
   ]
  },
  {
   "cell_type": "markdown",
   "metadata": {},
   "source": [
    "Second pentagon"
   ]
  },
  {
   "cell_type": "code",
   "execution_count": 4,
   "metadata": {},
   "outputs": [],
   "source": [
    "unit_cell1 = np.array([[0,0],\n",
    "             [-l/2*np.cos(60*torad)-a/2,-l/2*np.cos(30*torad)],\n",
    "             [-l/2*np.cos(30*torad),-l*np.cos(30*torad)-l/2*np.cos(60*torad)],\n",
    "             [+l/2*np.cos(30*torad),-l*np.cos(30*torad)-l/2*np.cos(60*torad)],\n",
    "             [+l/2*np.cos(60*torad)+a/2,-l/2*np.cos(30*torad)]])"
   ]
  },
  {
   "cell_type": "markdown",
   "metadata": {},
   "source": [
    "Third pentagon"
   ]
  },
  {
   "cell_type": "code",
   "execution_count": 5,
   "metadata": {},
   "outputs": [],
   "source": [
    "unit_cell2 = np.array([[+l/2*np.cos(60*torad)+a/2,l/2*np.cos(30*torad)],\n",
    "                       [+l/2*np.cos(60*torad)+a/2,-l/2*np.cos(30*torad)],\n",
    "                       [a/2+l*np.cos(60*torad)+l/2*np.cos(30*torad),a/2+l/2*np.sin(30*torad)],\n",
    "                       [a/2+l*np.cos(60*torad)+l/2*np.cos(30*torad),-a/2-l/2*np.sin(30*torad)],\n",
    "                       [a/2+l*np.sin(30*torad)+l*np.cos(30*torad),0]])"
   ]
  },
  {
   "cell_type": "markdown",
   "metadata": {},
   "source": [
    "Fourth pentagon"
   ]
  },
  {
   "cell_type": "code",
   "execution_count": 6,
   "metadata": {},
   "outputs": [],
   "source": [
    "unit_cell3 = np.array([[a/2+l*np.cos(60*torad)+l/2*np.cos(30*torad),a/2+l/2*np.sin(30*torad)],\n",
    "                       [a/2+l*np.cos(60*torad)+l/2*np.cos(30*torad)+2*l/2*np.cos(30*torad),a/2+l/2*np.sin(30*torad)],\n",
    "                       [a/2+(l+l/2)*np.cos(60*torad),(l+l/2)*np.sin(60*torad)],\n",
    "                       [a/2+2*l*np.cos(60*torad)+a+l/2*np.sin(30*torad),(l+l/2)*np.sin(60*torad)],\n",
    "                       [a/2+2*l*np.cos(60*torad)+a/2,2*l*np.sin(60*torad)]])"
   ]
  },
  {
   "cell_type": "markdown",
   "metadata": {},
   "source": [
    "Fiveth pentagon"
   ]
  },
  {
   "cell_type": "code",
   "execution_count": 7,
   "metadata": {},
   "outputs": [],
   "source": [
    "unit_cell4 = np.array([[a/2+(l+l/2)*np.cos(60*torad),(l+l/2)*np.sin(60*torad)],\n",
    "                       [a/2+(l+l/2)*np.cos(60*torad),(l+l/2)*np.sin(60*torad)+l*np.sin(60*torad)],\n",
    "                       [l/2*np.cos(30*torad),l*np.cos(30*torad)+l*np.sin(30*torad)+a+l/2*np.sin(30*torad)],\n",
    "                       [0,l*np.cos(30*torad)+l*np.sin(30*torad)+a/2]])"
   ]
  },
  {
   "cell_type": "code",
   "execution_count": 8,
   "metadata": {},
   "outputs": [],
   "source": [
    "to_close = np.array([[-a/2,0],\n",
    "                    [-l*np.sin(30*torad)-a/2, l*np.cos(30*torad)],\n",
    "                    [0, l*np.cos(30*torad)+l*np.cos(60*torad)],\n",
    "                    [+l*np.sin(30*torad)+a/2, l*np.cos(30*torad)],\n",
    "                    [a/2,0]\n",
    "                    ])"
   ]
  },
  {
   "cell_type": "code",
   "execution_count": 9,
   "metadata": {},
   "outputs": [
    {
     "data": {
      "text/plain": [
       "(-1.404875, 3.432375, -1.045322740159234, 3.416777543343915)"
      ]
     },
     "execution_count": 9,
     "metadata": {},
     "output_type": "execute_result"
    },
    {
     "data": {
      "image/png": "[encoded data removed]",
      "text/plain": [
       "<Figure size 432x288 with 1 Axes>"
      ]
     },
     "metadata": {
      "needs_background": "light"
     },
     "output_type": "display_data"
    }
   ],
   "source": [
    "plt.plot(to_close[:,0],to_close[:,1],'-')\n",
    "plt.plot(unit_cell0[:,0],unit_cell0[:,1],'o')\n",
    "#plt.plot(unit_cell1[:,0],unit_cell1[:,1],'o')\n",
    "plt.plot(unit_cell2[:,0],unit_cell2[:,1],'o')\n",
    "plt.plot(unit_cell3[:,0],unit_cell3[:,1],'o')\n",
    "plt.plot(unit_cell4[:,0],unit_cell4[:,1],'o')\n",
    "\n",
    "\n",
    "plt.xlim(-3,3)\n",
    "plt.ylim(-3,3)\n",
    "plt.axis('equal')"
   ]
  },
  {
   "cell_type": "markdown",
   "metadata": {},
   "source": [
    "## Create the unit cell\n",
    "\n",
    "Building a function:"
   ]
  },
  {
   "cell_type": "code",
   "execution_count": 10,
   "metadata": {},
   "outputs": [],
   "source": [
    "def unit_cell_Cairo(a):\n",
    "    \n",
    "    \"\"\"This function generates a unit cell of a Cairo lattice. The input parameter is the size of the shorter side.\n",
    "    The output of the function is the (x,y) collection of the unit cell.\"\"\"\n",
    "    ureg = ice.ureg\n",
    "    a = a\n",
    "    l = 1.37*a\n",
    "    torad = np.pi/180\n",
    "    \n",
    "    unit_cell = np.array([[0,0], \n",
    "             [-l/2*np.cos(60*torad)-a/2,l/2*np.cos(30*torad)], \n",
    "             [-l/2*np.cos(30*torad),l*np.cos(30*torad)+l/2*np.cos(60*torad)], \n",
    "             [+l/2*np.cos(30*torad),l*np.cos(30*torad)+l/2*np.cos(60*torad)], \n",
    "             [+l/2*np.cos(60*torad)+a/2,l/2*np.cos(30*torad)],\n",
    "             [+l/2*np.cos(60*torad)+a/2,-l/2*np.cos(30*torad)],\n",
    "             [a/2+l*np.cos(60*torad)+l/2*np.cos(30*torad),a/2+l/2*np.sin(30*torad)],\n",
    "             [a/2+l*np.cos(60*torad)+l/2*np.cos(30*torad),-a/2-l/2*np.sin(30*torad)],\n",
    "             [a/2+l*np.sin(30*torad)+l*np.cos(30*torad),0],\n",
    "             [a/2+l*np.cos(60*torad)+l/2*np.cos(30*torad)+2*l/2*np.cos(30*torad),a/2+l/2*np.sin(30*torad)],\n",
    "             [a/2+2*l*np.cos(60*torad)+a+l/2*np.sin(30*torad),(l+l/2)*np.sin(60*torad)],\n",
    "             [a/2+2*l*np.cos(60*torad)+a/2,2*l*np.sin(60*torad)],\n",
    "             [a/2+(l+l/2)*np.cos(60*torad),(l+l/2)*np.sin(60*torad)],\n",
    "             [a/2+(l+l/2)*np.cos(60*torad),(l+l/2)*np.sin(60*torad)+l*np.sin(60*torad)],\n",
    "             [l/2*np.cos(30*torad),l*np.cos(30*torad)+l*np.sin(30*torad)+a+l/2*np.sin(30*torad)],\n",
    "             [0,l*np.cos(30*torad)+l*np.sin(30*torad)+a/2]])*ureg.um\n",
    "    \n",
    "    return unit_cell"
   ]
  },
  {
   "cell_type": "code",
   "execution_count": 11,
   "metadata": {},
   "outputs": [
    {
     "name": "stderr",
     "output_type": "stream",
     "text": [
      "/home/carolina/anaconda3/lib/python3.7/site-packages/numpy/core/_asarray.py:85: UnitStrippedWarning: The unit of the quantity is stripped when downcasting to ndarray.\n",
      "  return array(a, dtype, copy=False, order=order)\n"
     ]
    },
    {
     "data": {
      "text/plain": [
       "(-20.905, 68.305, -20.906454803184683, 68.3355508668783)"
      ]
     },
     "execution_count": 11,
     "metadata": {},
     "output_type": "execute_result"
    },
    {
     "data": {
      "image/png": "[encoded data removed]",
      "text/plain": [
       "<Figure size 432x288 with 1 Axes>"
      ]
     },
     "metadata": {
      "needs_background": "light"
     },
     "output_type": "display_data"
    }
   ],
   "source": [
    "unit_cell = unit_cell_Cairo(20)\n",
    "plt.plot(unit_cell[:,0], unit_cell[:,1], 'o')\n",
    "plt.axis('equal')"
   ]
  },
  {
   "cell_type": "code",
   "execution_count": 12,
   "metadata": {},
   "outputs": [
    {
     "data": {
      "text/html": [
       "\\[\\begin{pmatrix}0.0 & 0.0\\\\ \n",
       "-16.85 & 11.86454803184681\\\\ \n",
       "-11.86454803184681 & 30.579096063693623\\\\ \n",
       "11.86454803184681 & 30.579096063693623\\\\ \n",
       "16.85 & 11.86454803184681\\\\ \n",
       "16.85 & -11.86454803184681\\\\ \n",
       "35.56454803184681 & 16.85\\\\ \n",
       "35.56454803184681 & -16.85\\\\ \n",
       "47.42909606369362 & 0.0\\\\ \n",
       "59.29364409554043 & 16.85\\\\ \n",
       "64.25 & 35.59364409554043\\\\ \n",
       "47.400000000000006 & 47.458192127387235\\\\ \n",
       "30.550000000000004 & 35.59364409554043\\\\ \n",
       "30.550000000000004 & 59.322740159234044\\\\ \n",
       "11.86454803184681 & 64.27909606369361\\\\ \n",
       "0.0 & 47.42909606369362\\end{pmatrix} micrometer\\]"
      ],
      "text/latex": [
       "$\\begin{pmatrix}0.0 & 0.0\\\\ \n",
       "-16.85 & 11.86454803184681\\\\ \n",
       "-11.86454803184681 & 30.579096063693623\\\\ \n",
       "11.86454803184681 & 30.579096063693623\\\\ \n",
       "16.85 & 11.86454803184681\\\\ \n",
       "16.85 & -11.86454803184681\\\\ \n",
       "35.56454803184681 & 16.85\\\\ \n",
       "35.56454803184681 & -16.85\\\\ \n",
       "47.42909606369362 & 0.0\\\\ \n",
       "59.29364409554043 & 16.85\\\\ \n",
       "64.25 & 35.59364409554043\\\\ \n",
       "47.400000000000006 & 47.458192127387235\\\\ \n",
       "30.550000000000004 & 35.59364409554043\\\\ \n",
       "30.550000000000004 & 59.322740159234044\\\\ \n",
       "11.86454803184681 & 64.27909606369361\\\\ \n",
       "0.0 & 47.42909606369362\\end{pmatrix}\\ \\mathrm{micrometer}$"
      ],
      "text/plain": [
       "array([[  0.        ,   0.        ],\n",
       "       [-16.85      ,  11.86454803],\n",
       "       [-11.86454803,  30.57909606],\n",
       "       [ 11.86454803,  30.57909606],\n",
       "       [ 16.85      ,  11.86454803],\n",
       "       [ 16.85      , -11.86454803],\n",
       "       [ 35.56454803,  16.85      ],\n",
       "       [ 35.56454803, -16.85      ],\n",
       "       [ 47.42909606,   0.        ],\n",
       "       [ 59.2936441 ,  16.85      ],\n",
       "       [ 64.25      ,  35.5936441 ],\n",
       "       [ 47.4       ,  47.45819213],\n",
       "       [ 30.55      ,  35.5936441 ],\n",
       "       [ 30.55      ,  59.32274016],\n",
       "       [ 11.86454803,  64.27909606],\n",
       "       [  0.        ,  47.42909606]]) <Unit('micrometer')>"
      ]
     },
     "execution_count": 12,
     "metadata": {},
     "output_type": "execute_result"
    }
   ],
   "source": [
    "unit_cell"
   ]
  },
  {
   "cell_type": "markdown",
   "metadata": {},
   "source": [
    "## How we can build a spin lattice?"
   ]
  },
  {
   "cell_type": "code",
   "execution_count": 13,
   "metadata": {},
   "outputs": [
    {
     "data": {
      "image/png": "[encoded data removed]",
      "text/plain": [
       "<Figure size 576x576 with 1 Axes>"
      ]
     },
     "metadata": {
      "needs_background": "light"
     },
     "output_type": "display_data"
    }
   ],
   "source": [
    "ureg = ice.ureg\n",
    "\n",
    "sp = ice.spins(centers = [[1,0]*ureg.um,[0,1]*ureg.um], directions =[[np.sin(30*torad),np.cos(30*torad)]*ureg.um,[1,0]*ureg.um])\n",
    "\n",
    "f, (ax1) = plt.subplots(1,1,figsize = (8,8))\n",
    "sp.display(ax1)"
   ]
  },
  {
   "cell_type": "markdown",
   "metadata": {},
   "source": [
    "## Building Cairo Spin lattice"
   ]
  },
  {
   "cell_type": "code",
   "execution_count": 15,
   "metadata": {},
   "outputs": [
    {
     "data": {
      "text/plain": [
       "(-21.09013843876331, 68.5301825845992, -21.09963171772092, 68.5206893056416)"
      ]
     },
     "execution_count": 15,
     "metadata": {},
     "output_type": "execute_result"
    },
    {
     "data": {
      "image/png": "[encoded data removed]",
      "text/plain": [
       "<Figure size 576x576 with 1 Axes>"
      ]
     },
     "metadata": {
      "needs_background": "light"
     },
     "output_type": "display_data"
    }
   ],
   "source": [
    "sp = ice.spins(centers = unit_cell,\n",
    "               \n",
    "               directions =[[1,0],[-np.sin(30*torad),np.cos(30*torad)],\n",
    "                            [np.sin(60*torad),np.cos(60*torad)],\n",
    "                            [-np.sin(60*torad),np.cos(60*torad)],\n",
    "                            [np.sin(30*torad),np.cos(30*torad)],\n",
    "                            [np.cos(60*torad),-np.sin(60*torad)],\n",
    "                            [np.sin(60*torad),-np.cos(60*torad)],\n",
    "                            [np.cos(30*torad),np.sin(30*torad)],\n",
    "                            [0,1],\n",
    "                            [np.sin(60*torad),np.cos(60*torad)],\n",
    "                            [-np.sin(30*torad),np.cos(30*torad)],\n",
    "                            [1,0],\n",
    "                            [np.sin(30*torad),np.cos(30*torad)],\n",
    "                            [-np.cos(60*torad),np.sin(60*torad)],\n",
    "                            [np.cos(30*torad),np.sin(30*torad)],\n",
    "                            [0,1]]*ureg.um)\n",
    "\n",
    "f, (ax1) = plt.subplots(1,1,figsize = (8,8))\n",
    "sp.display(ax1)\n",
    "plt.axis('square')"
   ]
  },
  {
   "cell_type": "markdown",
   "metadata": {},
   "source": [
    "The content of this notebook will be placed in a support.py file."
   ]
  }
 ],
 "metadata": {
  "kernelspec": {
   "display_name": "Python 3",
   "language": "python",
   "name": "python3"
  },
  "language_info": {
   "codemirror_mode": {
    "name": "ipython",
    "version": 3
   },
   "file_extension": ".py",
   "mimetype": "text/x-python",
   "name": "python",
   "nbconvert_exporter": "python",
   "pygments_lexer": "ipython3",
   "version": "3.7.6"
  }
 },
 "nbformat": 4,
 "nbformat_minor": 4
}
