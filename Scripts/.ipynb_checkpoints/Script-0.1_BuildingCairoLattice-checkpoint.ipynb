{
 "cells": [
  {
   "cell_type": "markdown",
   "metadata": {},
   "source": [
    "# Building a Cairo Spin Lattice\n",
    "\n",
    "In this script we will draw the unit cell of a Cairo Lattice. The goal is to build a cairo.py script that will be added to the geometry folder of icenumerics. "
   ]
  },
  {
   "cell_type": "code",
   "execution_count": 1,
   "metadata": {},
   "outputs": [],
   "source": [
    "import icenumerics as ice\n",
    "import numpy as np\n",
    "import matplotlib.pyplot as plt"
   ]
  },
  {
   "cell_type": "markdown",
   "metadata": {},
   "source": [
    "## Unit cell:"
   ]
  },
  {
   "cell_type": "markdown",
   "metadata": {},
   "source": [
    "![CairoLattice](CairoLattice.png)"
   ]
  },
  {
   "cell_type": "code",
   "execution_count": 2,
   "metadata": {},
   "outputs": [],
   "source": [
    "a = 1\n",
    "l = 1.37\n",
    "torad = np.pi/180"
   ]
  },
  {
   "cell_type": "markdown",
   "metadata": {},
   "source": [
    "First pentagon"
   ]
  },
  {
   "cell_type": "code",
   "execution_count": 3,
   "metadata": {},
   "outputs": [],
   "source": [
    "unit_cell0 = np.array([[0,0], #A\n",
    "             [-l/2*np.cos(60*torad)-a/2,l/2*np.cos(30*torad)], #B\n",
    "             [-l/2*np.cos(30*torad),l*np.cos(30*torad)+l/2*np.cos(60*torad)], #C\n",
    "             [+l/2*np.cos(30*torad),l*np.cos(30*torad)+l/2*np.cos(60*torad)], #D\n",
    "             [+l/2*np.cos(60*torad)+a/2,l/2*np.cos(30*torad)]]) #E"
   ]
  },
  {
   "cell_type": "markdown",
   "metadata": {},
   "source": [
    "Second pentagon"
   ]
  },
  {
   "cell_type": "code",
   "execution_count": 4,
   "metadata": {},
   "outputs": [],
   "source": [
    "unit_cell1 = np.array([[0,0],\n",
    "             [-l/2*np.cos(60*torad)-a/2,-l/2*np.cos(30*torad)],\n",
    "             [-l/2*np.cos(30*torad),-l*np.cos(30*torad)-l/2*np.cos(60*torad)],\n",
    "             [+l/2*np.cos(30*torad),-l*np.cos(30*torad)-l/2*np.cos(60*torad)],\n",
    "             [+l/2*np.cos(60*torad)+a/2,-l/2*np.cos(30*torad)]])"
   ]
  },
  {
   "cell_type": "markdown",
   "metadata": {},
   "source": [
    "Third pentagon"
   ]
  },
  {
   "cell_type": "code",
   "execution_count": 5,
   "metadata": {},
   "outputs": [],
   "source": [
    "unit_cell2 = np.array([[+l/2*np.cos(60*torad)+a/2,l/2*np.cos(30*torad)],\n",
    "                       [+l/2*np.cos(60*torad)+a/2,-l/2*np.cos(30*torad)],\n",
    "                       [a/2+l*np.cos(60*torad)+l/2*np.cos(30*torad),a/2+l/2*np.sin(30*torad)],\n",
    "                       [a/2+l*np.cos(60*torad)+l/2*np.cos(30*torad),-a/2-l/2*np.sin(30*torad)],\n",
    "                       [a/2+l*np.sin(30*torad)+l*np.cos(30*torad),0]])"
   ]
  },
  {
   "cell_type": "markdown",
   "metadata": {},
   "source": [
    "Fourth pentagon"
   ]
  },
  {
   "cell_type": "code",
   "execution_count": 6,
   "metadata": {},
   "outputs": [],
   "source": [
    "unit_cell3 = np.array([[a/2+l*np.cos(60*torad)+l/2*np.cos(30*torad),a/2+l/2*np.sin(30*torad)],\n",
    "                       [a/2+l*np.cos(60*torad)+l/2*np.cos(30*torad)+2*l/2*np.cos(30*torad),a/2+l/2*np.sin(30*torad)],\n",
    "                       [a/2+(l+l/2)*np.cos(60*torad),(l+l/2)*np.sin(60*torad)],\n",
    "                       [a/2+2*l*np.cos(60*torad)+a+l/2*np.sin(30*torad),(l+l/2)*np.sin(60*torad)],\n",
    "                       [a/2+2*l*np.cos(60*torad)+a/2,2*l*np.sin(60*torad)]])"
   ]
  },
  {
   "cell_type": "markdown",
   "metadata": {},
   "source": [
    "Fiveth pentagon"
   ]
  },
  {
   "cell_type": "code",
   "execution_count": 7,
   "metadata": {},
   "outputs": [],
   "source": [
    "unit_cell4 = np.array([[a/2+(l+l/2)*np.cos(60*torad),(l+l/2)*np.sin(60*torad)],\n",
    "                       [a/2+(l+l/2)*np.cos(60*torad),(l+l/2)*np.sin(60*torad)+l*np.sin(60*torad)],\n",
    "                       [l/2*np.cos(30*torad),l*np.cos(30*torad)+l*np.sin(30*torad)+a+l/2*np.sin(30*torad)],\n",
    "                       [0,l*np.cos(30*torad)+l*np.sin(30*torad)+a/2]])"
   ]
  },
  {
   "cell_type": "code",
   "execution_count": 8,
   "metadata": {},
   "outputs": [],
   "source": [
    "to_close = np.array([[-a/2,0],\n",
    "                    [-l*np.sin(30*torad)-a/2, l*np.cos(30*torad)],\n",
    "                    [0, l*np.cos(30*torad)+l*np.cos(60*torad)],\n",
    "                    [+l*np.sin(30*torad)+a/2, l*np.cos(30*torad)],\n",
    "                    [a/2,0]\n",
    "                    ])"
   ]
  },
  {
   "cell_type": "code",
   "execution_count": 9,
   "metadata": {},
   "outputs": [
    {
     "data": {
      "text/plain": [
       "(-1.404875, 3.432375, -1.045322740159234, 3.416777543343915)"
      ]
     },
     "execution_count": 9,
     "metadata": {},
     "output_type": "execute_result"
    },
    {
     "data": {
      "image/png": "[encoded data removed]",
      "text/plain": [
       "<Figure size 432x288 with 1 Axes>"
      ]
     },
     "metadata": {
      "needs_background": "light"
     },
     "output_type": "display_data"
    }
   ],
   "source": [
    "plt.plot(to_close[:,0],to_close[:,1],'-')\n",
    "plt.plot(unit_cell0[:,0],unit_cell0[:,1],'o')\n",
    "#plt.plot(unit_cell1[:,0],unit_cell1[:,1],'o')\n",
    "plt.plot(unit_cell2[:,0],unit_cell2[:,1],'o')\n",
    "plt.plot(unit_cell3[:,0],unit_cell3[:,1],'o')\n",
    "plt.plot(unit_cell4[:,0],unit_cell4[:,1],'o')\n",
    "\n",
    "\n",
    "plt.xlim(-3,3)\n",
    "plt.ylim(-3,3)\n",
    "plt.axis('equal')"
   ]
  },
  {
   "cell_type": "markdown",
   "metadata": {},
   "source": [
    "## How we can build a new lattice?"
   ]
  },
  {
   "cell_type": "code",
   "execution_count": 10,
   "metadata": {},
   "outputs": [
    {
     "data": {
      "image/png": "[encoded data removed]",
      "text/plain": [
       "<Figure size 576x576 with 1 Axes>"
      ]
     },
     "metadata": {
      "needs_background": "light"
     },
     "output_type": "display_data"
    }
   ],
   "source": [
    "ureg = ice.ureg\n",
    "\n",
    "sp = ice.spins(centers = [[1,0]*ureg.um,[0,1]*ureg.um], directions =[[0,1]*ureg.um,[1,0]*ureg.um,[1,0]*ureg.um,[1,0]*ureg.um])\n",
    "\n",
    "f, (ax1) = plt.subplots(1,1,figsize = (8,8))\n",
    "sp.display(ax1)"
   ]
  },
  {
   "cell_type": "markdown",
   "metadata": {},
   "source": [
    "Now let's try to build a lattice with the centers of a cairo lattice"
   ]
  },
  {
   "cell_type": "code",
   "execution_count": 11,
   "metadata": {},
   "outputs": [
    {
     "data": {
      "image/png": "[encoded data removed]",
      "text/plain": [
       "<Figure size 576x576 with 1 Axes>"
      ]
     },
     "metadata": {
      "needs_background": "light"
     },
     "output_type": "display_data"
    }
   ],
   "source": [
    "sp = ice.spins(centers = [[a/2+(l+l/2)*np.cos(60*torad),(l+l/2)*np.sin(60*torad)]*ureg.um,\n",
    "                       [a/2+(l+l/2)*np.cos(60*torad),(l+l/2)*np.sin(60*torad)+l*np.sin(60*torad)]*ureg.um,\n",
    "                       [l/2*np.cos(30*torad),l*np.cos(30*torad)+l*np.sin(30*torad)+a+l/2*np.sin(30*torad)]*ureg.um,\n",
    "                       [0,l*np.cos(30*torad)+l*np.sin(30*torad)+a/2]*ureg.um],\n",
    "               \n",
    "               directions =[[np.cos(30*torad),np.cos(30*torad)]*ureg.um,[0,1]*ureg.um,[1,0]*ureg.um,[1,0]*ureg.um])\n",
    "\n",
    "f, (ax1) = plt.subplots(1,1,figsize = (8,8))\n",
    "sp.display(ax1)"
   ]
  },
  {
   "cell_type": "code",
   "execution_count": null,
   "metadata": {},
   "outputs": [],
   "source": []
  }
 ],
 "metadata": {
  "kernelspec": {
   "display_name": "Python 3",
   "language": "python",
   "name": "python3"
  },
  "language_info": {
   "codemirror_mode": {
    "name": "ipython",
    "version": 3
   },
   "file_extension": ".py",
   "mimetype": "text/x-python",
   "name": "python",
   "nbconvert_exporter": "python",
   "pygments_lexer": "ipython3",
   "version": "3.7.6"
  }
 },
 "nbformat": 4,
 "nbformat_minor": 4
}
