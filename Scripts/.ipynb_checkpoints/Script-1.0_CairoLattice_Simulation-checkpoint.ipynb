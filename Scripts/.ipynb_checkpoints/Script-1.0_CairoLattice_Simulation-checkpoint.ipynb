{
 "cells": [
  {
   "cell_type": "markdown",
   "metadata": {},
   "source": [
    "# Cairo lattice ACI\n",
    "\n",
    "    In this notebook, I will perform the first steps of the simulations of a Cairo lattice. I will start by applying a magnetic field ramp and save the trajectories in order to analyze (In other notebook) the vertex fraction versus the interparticle interaction. This way, we will be able to conclude if the lattice is degenerate or not. "
   ]
  },
  {
   "cell_type": "code",
   "execution_count": 1,
   "metadata": {},
   "outputs": [],
   "source": [
    "import os\n",
    "import sys\n",
    "import numpy as np\n",
    "from importlib import reload  \n",
    "import support as sup\n",
    "reload(sup)\n",
    "sys.path.insert(0, '../icenumerics')\n",
    "\n",
    "import icenumerics as ice\n",
    "\n",
    "from icenumerics.geometry import ordering \n",
    "import magcolloids as mgc\n",
    "\n",
    "import matplotlib.pyplot as plt\n",
    "ureg = ice.ureg\n",
    "from string import Template\n",
    "\n",
    "%load_ext autoreload\n",
    "%autoreload 2"
   ]
  },
  {
   "cell_type": "code",
   "execution_count": 2,
   "metadata": {},
   "outputs": [],
   "source": [
    "output = \"/home/carolina/CairoLattice_ACI_PROJECT/Scripts/Output_Script-1.0\""
   ]
  },
  {
   "cell_type": "markdown",
   "metadata": {},
   "source": [
    "    I'm using this lattice contant parameter because is the same as the experimental microstructures. The same occur with the two type trap_sep parameter. \n",
    "    \n",
    "    lattice_constant=19.5458*ureg.um\n",
    "    lattice_constant=21.3759*ureg.um\n",
    "    lattice_constant=23.2919*ureg.um"
   ]
  },
  {
   "cell_type": "code",
   "execution_count": 3,
   "metadata": {},
   "outputs": [
    {
     "name": "stderr",
     "output_type": "stream",
     "text": [
      "/home/carolina/CairoLattice_ACI_PROJECT/Scripts/support.py:62: UnitStrippedWarning: The unit of the quantity is stripped when downcasting to ndarray.\n",
      "  new[:,0] = centers_toAddX\n",
      "/home/carolina/CairoLattice_ACI_PROJECT/Scripts/support.py:63: UnitStrippedWarning: The unit of the quantity is stripped when downcasting to ndarray.\n",
      "  new[:,1] = centers_toAddY\n",
      "/home/carolina/CairoLattice_ACI_PROJECT/Scripts/support.py:170: UnitStrippedWarning: The unit of the quantity is stripped when downcasting to ndarray.\n",
      "  new_centers[:,1] = centersY\n"
     ]
    }
   ],
   "source": [
    "np.random.seed()\n",
    "\n",
    "l = 10\n",
    "\n",
    "sp = sup.spins()\n",
    "ureg = ice.ureg\n",
    "sp.create_lattice(geometry = \"cairo\",size =[l,l],lattice_constant=23.2919*ureg.um, border=\"closed spin\")\n",
    "sp.order_spins(ordering.random_ordering)"
   ]
  },
  {
   "cell_type": "code",
   "execution_count": 4,
   "metadata": {},
   "outputs": [],
   "source": [
    "particle = ice.particle(radius = 5*ureg.um,\n",
    "             susceptibility = 0.0019,\n",
    "             diffusion = 0.125*ureg.um**2/ureg.s,\n",
    "             temperature = 300*ureg.K,\n",
    "             density = 1000*ureg.kg/ureg.m**3)\n",
    "\n",
    "trap_long = ice.trap(trap_sep = 10*ureg.um,\n",
    "               height = 0.5*ureg.pN*ureg.nm,\n",
    "               stiffness = 6e-3*ureg.pN/ureg.nm)\n",
    "\n",
    "trap_short = ice.trap(trap_sep = 4.5258*ureg.um,\n",
    "               height = 0.5*ureg.pN*ureg.nm,\n",
    "               stiffness = 6e-3*ureg.pN/ureg.nm)\n",
    "\n",
    "traps = []"
   ]
  },
  {
   "cell_type": "markdown",
   "metadata": {},
   "source": [
    "    In this Kenrel I will define which traps have to be shorter"
   ]
  },
  {
   "cell_type": "code",
   "execution_count": 5,
   "metadata": {},
   "outputs": [],
   "source": [
    "for s in sp:\n",
    "    \n",
    "    if ( s.direction[0].magnitude == 1.0 or s.direction[0].magnitude == -1.0 or \n",
    "        s.direction[1].magnitude == 1.0 or s.direction[1].magnitude == -1.0 ):\n",
    "        \n",
    "        traps.append(trap_short)\n",
    "        \n",
    "    else:\n",
    "        \n",
    "        traps.append(trap_long)"
   ]
  },
  {
   "cell_type": "code",
   "execution_count": 6,
   "metadata": {},
   "outputs": [],
   "source": [
    "col = ice.colloidal_ice(sp, particle, traps, height_spread = 0, susceptibility_spread = 0.1)\n",
    "\n",
    "col.pad_region(5*ureg.um) # Why is this important?? Whitout this line the simulation do not run.  "
   ]
  },
  {
   "cell_type": "code",
   "execution_count": null,
   "metadata": {},
   "outputs": [],
   "source": [
    "f, (ax1) = plt.subplots(1,1,figsize = (15,15))\n",
    "col.display(ax1)"
   ]
  },
  {
   "cell_type": "code",
   "execution_count": null,
   "metadata": {},
   "outputs": [],
   "source": [
    "world = ice.world(\n",
    "    field = 50*ureg.mT,\n",
    "    temperature = 300*ureg.K,\n",
    "    dipole_cutoff = 200*ureg.um)\n",
    "#    boundaries = [\"p\", \"p\", \"p\"])"
   ]
  },
  {
   "cell_type": "code",
   "execution_count": null,
   "metadata": {},
   "outputs": [],
   "source": [
    "change_m_time = 1200*ureg.s\n",
    "total_time = change_m_time*2\n",
    "col.simulate(world,\n",
    "             name = \"ACI_CairoLattice_l%u_15mT-800s\"%(l),\n",
    "             include_timestamp = False,\n",
    "             targetdir = output,\n",
    "             framerate = 1*ureg.Hz,\n",
    "             timestep = 10*ureg.ms,\n",
    "             run_time = total_time,\n",
    "             output = [\"x\",\"y\",\"z\",\"mux\",\"muy\",\"muz\"])\n",
    "\n",
    "# Porque parece que corra la simulacion directamente desde aqui??"
   ]
  },
  {
   "cell_type": "code",
   "execution_count": null,
   "metadata": {},
   "outputs": [],
   "source": [
    "# an increasing and decreasing ramp."
   ]
  },
  {
   "cell_type": "code",
   "execution_count": null,
   "metadata": {},
   "outputs": [],
   "source": [
    "string_field = \"(time<$Qt)*v_Bmag*time/%f+(time>=$Qt)*v_Bmag*$Qt/$Qt-(time>=$Qt)*v_Bmag*(time-$Qt)/$Qt\"\n",
    "field_s = Template(string_field)\n",
    "field_d = field_s.substitute(Qt = change_m_time.to(ureg.us).magnitude)\n",
    "col.sim.field.fieldz = field_d%(change_m_time.to(ureg.us).magnitude)\n",
    "col.run_simulation()"
   ]
  },
  {
   "cell_type": "code",
   "execution_count": null,
   "metadata": {},
   "outputs": [],
   "source": [
    "# Only an increasing ramp."
   ]
  },
  {
   "cell_type": "code",
   "execution_count": null,
   "metadata": {},
   "outputs": [],
   "source": [
    "# col.sim.field.fieldz = \"v_Bmag*time/%f\"%total_time.to(ureg.us).magnitude\n",
    "# col.run_simulation()"
   ]
  },
  {
   "cell_type": "code",
   "execution_count": null,
   "metadata": {},
   "outputs": [],
   "source": [
    "col.load_simulation(slice(0,None,1))"
   ]
  },
  {
   "cell_type": "code",
   "execution_count": null,
   "metadata": {},
   "outputs": [],
   "source": [
    "f, (ax1) = plt.subplots(1,1,figsize = (15,15))\n",
    "v = ice.vertices()\n",
    "col.set_state_from_frame(0)\n",
    "v = v.colloids_to_vertices(col)\n",
    "\n",
    "col.display(ax1)\n",
    "v.display(ax1)\n",
    "v.vertices.groupby('charge').count()"
   ]
  },
  {
   "cell_type": "code",
   "execution_count": null,
   "metadata": {},
   "outputs": [],
   "source": [
    "f, (ax1) = plt.subplots(1,1,figsize = (15,15))\n",
    "v = ice.vertices()\n",
    "col.set_state_from_frame(-1)\n",
    "v = v.colloids_to_vertices(col)\n",
    "\n",
    "col.display(ax1)\n",
    "v.display(ax1)\n",
    "v.vertices.groupby('charge').count()"
   ]
  },
  {
   "cell_type": "markdown",
   "metadata": {},
   "source": [
    "# How much space do the particles explore?"
   ]
  },
  {
   "cell_type": "code",
   "execution_count": null,
   "metadata": {},
   "outputs": [],
   "source": [
    "col.trj"
   ]
  },
  {
   "cell_type": "code",
   "execution_count": null,
   "metadata": {},
   "outputs": [],
   "source": []
  },
  {
   "cell_type": "code",
   "execution_count": null,
   "metadata": {
    "scrolled": false
   },
   "outputs": [],
   "source": [
    "ids = col.trj.groupby('id')"
   ]
  },
  {
   "cell_type": "code",
   "execution_count": null,
   "metadata": {},
   "outputs": [],
   "source": [
    "f, (ax1) = plt.subplots(1,1,figsize = (15,15))\n",
    "\n",
    "col.set_state_from_frame(0)\n",
    "\n",
    "col.display(ax1)\n",
    "\n",
    "\n",
    "for i, int in ids:\n",
    "    \n",
    "    plt.plot(int.x, int.y)\n"
   ]
  },
  {
   "cell_type": "markdown",
   "metadata": {},
   "source": [
    "# Is possible to compute vertices 'a posteriori' ?"
   ]
  },
  {
   "cell_type": "code",
   "execution_count": null,
   "metadata": {},
   "outputs": [],
   "source": [
    "load_obj = mgc.trj_lazyread(os.path.join(output,\"ACI_CairoLattice_l8_15mT-800s.lammpstrj\"), output = [\"x\",\"y\",\"z\",\"mux\",\"muy\",\"muz\"])"
   ]
  },
  {
   "cell_type": "code",
   "execution_count": null,
   "metadata": {},
   "outputs": [],
   "source": [
    "bnd = load_obj.get_bounds()\n",
    "trj = load_obj.read_trj()"
   ]
  },
  {
   "cell_type": "code",
   "execution_count": null,
   "metadata": {},
   "outputs": [],
   "source": [
    "trj"
   ]
  },
  {
   "cell_type": "code",
   "execution_count": null,
   "metadata": {},
   "outputs": [],
   "source": [
    "col_trj = ice.get_ice_trj(trj,bnd, atom_types = 1, trap_types = [2,3])"
   ]
  },
  {
   "cell_type": "code",
   "execution_count": null,
   "metadata": {},
   "outputs": [],
   "source": [
    "col_trj"
   ]
  },
  {
   "cell_type": "code",
   "execution_count": null,
   "metadata": {},
   "outputs": [],
   "source": [
    "frame = 1\n",
    "type2 = col_trj.loc[:].query('type == 2')\n",
    "type3 = col_trj.loc[:].query('type == 3')\n",
    "\n",
    "type2_v = type2.query('dy == 5 or dy == -5')\n",
    "type2_h = type2.query('dx > 6 or dx < -6')\n",
    "\n",
    "type3_v = type3.query('dy == 0 or dy == -0')\n",
    "type3_h = type3.query('dx == 0 or dx == -0')"
   ]
  },
  {
   "cell_type": "code",
   "execution_count": null,
   "metadata": {},
   "outputs": [],
   "source": [
    "type2"
   ]
  },
  {
   "cell_type": "code",
   "execution_count": null,
   "metadata": {},
   "outputs": [],
   "source": [
    "type2_v['cx'].hist(bins = 20)\n",
    "#type2_h['cx'].hist(bins = 20,alpha = 0.2)"
   ]
  },
  {
   "cell_type": "code",
   "execution_count": null,
   "metadata": {},
   "outputs": [],
   "source": [
    "type2_v['cx'].hist(bins = 20)"
   ]
  },
  {
   "cell_type": "code",
   "execution_count": null,
   "metadata": {},
   "outputs": [],
   "source": [
    "type3_v['cx'].hist(bins = 20)"
   ]
  },
  {
   "cell_type": "code",
   "execution_count": null,
   "metadata": {},
   "outputs": [],
   "source": [
    "type3_h['cy'].hist(bins = 20)"
   ]
  },
  {
   "cell_type": "code",
   "execution_count": null,
   "metadata": {},
   "outputs": [],
   "source": [
    "f, (ax1) = plt.subplots(1,1,figsize = (15,15))\n",
    "\n",
    "v = ice.vertices()\n",
    "#v.trj_to_vertices(col_trj.loc[frames[::1]]) # Analog to v.trj_to_vertices(col_trj)\n",
    "v.trj_to_vertices(col_trj.loc[120000])\n",
    "\n",
    "plt.plot(col_trj.loc[120000].x+col_trj.loc[120000].cx,\n",
    "         col_trj.loc[120000].y+col_trj.loc[120000].cy, 'o', markersize = 5)\n",
    "\n",
    "plt.plot(col_trj.loc[120000].x+col_trj.loc[120000].dx,\n",
    "         col_trj.loc[120000].y+col_trj.loc[120000].dy, '.', markersize = 10)\n",
    "\n",
    "plt.plot(col_trj.loc[120000].x, col_trj.loc[120000].y, '.', markersize = 10)\n",
    "plt.axis('equal')\n",
    "v.display(ax1)"
   ]
  },
  {
   "cell_type": "code",
   "execution_count": null,
   "metadata": {},
   "outputs": [],
   "source": [
    "## Infer Vertices\n",
    "frames = col_trj.index.get_level_values(\"frame\").unique()\n",
    "\n",
    "v = ice.vertices()\n",
    "v.trj_to_vertices(col_trj.loc[frames[::10]])"
   ]
  },
  {
   "cell_type": "code",
   "execution_count": null,
   "metadata": {},
   "outputs": [],
   "source": [
    "v.vertices.loc[80000].query('charge == -4')"
   ]
  },
  {
   "cell_type": "markdown",
   "metadata": {},
   "source": [
    "# Issues\n",
    "\n",
    "    \n",
    "    - 1. ice.get_ice_trj() function is not working properly. It only works for one type of particles and traps.\n",
    "        (Solution: Allow to have more than one type of trap. Modified function in support.py file)\n",
    "        \n",
    "<font color='red'> SOLVED! </font>\n",
    "        \n",
    "    - 2. trj_to_vertices() function is not working properly. It cannot reproduce the vertex dataframe obtained with the col object.\n",
    "        (Solution: The directions are not well defined. The pairs trap-particle are not correct!)\n",
    "    \n",
    "<font color='red'> @aortiza SOLVED the problem in commit 983bfff the trjayectory.py file was sostituted by the one of the commit</font>"
   ]
  },
  {
   "cell_type": "code",
   "execution_count": null,
   "metadata": {},
   "outputs": [],
   "source": []
  }
 ],
 "metadata": {
  "kernelspec": {
   "display_name": "Python 3",
   "language": "python",
   "name": "python3"
  },
  "language_info": {
   "codemirror_mode": {
    "name": "ipython",
    "version": 3
   },
   "file_extension": ".py",
   "mimetype": "text/x-python",
   "name": "python",
   "nbconvert_exporter": "python",
   "pygments_lexer": "ipython3",
   "version": "3.7.6"
  }
 },
 "nbformat": 4,
 "nbformat_minor": 4
}
