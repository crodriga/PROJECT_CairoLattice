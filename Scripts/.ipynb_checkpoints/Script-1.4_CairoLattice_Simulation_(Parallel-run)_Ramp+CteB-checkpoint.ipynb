{
 "cells": [
  {
   "cell_type": "code",
   "execution_count": 1,
   "metadata": {},
   "outputs": [],
   "source": [
    "import os\n",
    "import sys\n",
    "import numpy as np\n",
    "import pandas as pd\n",
    "import csv as csv\n",
    "import tqdm.auto as tqdm\n",
    "from multiprocessing import Pool\n",
    "from importlib import reload  \n",
    "import support as sup\n",
    "reload(sup)\n",
    "sys.path.insert(0, '../icenumerics')\n",
    "\n",
    "import icenumerics as ice\n",
    "from icenumerics.geometry import ordering \n",
    "import magcolloids as mgc\n",
    "\n",
    "import matplotlib.pyplot as plt\n",
    "import time\n",
    "ureg = ice.ureg"
   ]
  },
  {
   "cell_type": "code",
   "execution_count": 2,
   "metadata": {},
   "outputs": [],
   "source": [
    "output = \"/home/carolina/CairoLattice_ACI_PROJECT/Scripts/Output_Script-1.4\""
   ]
  },
  {
   "cell_type": "markdown",
   "metadata": {},
   "source": [
    "# Cairo Lattice \n",
    "\n",
    "    In this script I will run simulations in parallel with the following parameters. In this script, I will leave the magnetic field constant after performing the ramp. "
   ]
  },
  {
   "cell_type": "code",
   "execution_count": 3,
   "metadata": {},
   "outputs": [],
   "source": [
    "def do_everything(exp_entry):\n",
    "    \n",
    "    e = exp_entry[1].e \n",
    "    l = exp_entry[1].l\n",
    "    \n",
    "    # <To change the seed of the thermal noise>\n",
    "    \n",
    "    np.random.seed()\n",
    "    \n",
    "    # <Introduce the parameters for the simulation>\n",
    "\n",
    "    sp = sup.spins()\n",
    "    ureg = ice.ureg\n",
    "    sp.create_lattice(geometry = \"cairo\",size =[l,l],lattice_constant=19.5458*ureg.um, border=\"closed spin\")\n",
    "    sp.order_spins(ordering.random_ordering)\n",
    "\n",
    "    particle = ice.particle(radius = 5*ureg.um,\n",
    "                 susceptibility = 0.005,\n",
    "                 diffusion = 0.125*ureg.um**2/ureg.s,\n",
    "                 temperature = 300*ureg.K,\n",
    "                 density = 1000*ureg.kg/ureg.m**3)\n",
    "\n",
    "    trap_long = ice.trap(trap_sep = 10*ureg.um,\n",
    "                   height = 0.3*ureg.pN*ureg.nm,\n",
    "                   stiffness = 6e-4*ureg.pN/ureg.nm)\n",
    "\n",
    "    trap_short = ice.trap(trap_sep = 4.5258*ureg.um,\n",
    "                   height = 0.3*ureg.pN*ureg.nm,\n",
    "                   stiffness = 6e-4*ureg.pN/ureg.nm)\n",
    "\n",
    "    traps = []\n",
    "\n",
    "    # <In this loop, I will define which traps have to be shortere>\n",
    "\n",
    "    for s in sp:\n",
    "\n",
    "        if ( s.direction[0].magnitude == 1.0 or s.direction[0].magnitude == -1.0 or \n",
    "            s.direction[1].magnitude == 1.0 or s.direction[1].magnitude == -1.0 ):\n",
    "\n",
    "            traps.append(trap_short)\n",
    "\n",
    "        else:\n",
    "\n",
    "            traps.append(trap_long) \n",
    "\n",
    "    col = ice.colloidal_ice(sp, particle, traps, height_spread = 0, susceptibility_spread = 0.1)\n",
    "\n",
    "    col.pad_region(30*ureg.um) # Why is this important?? Whitout this line the simulation do not run.  \n",
    "    \n",
    "    # <Introduce the simulation parameters>\n",
    "    \n",
    "    world = ice.world(\n",
    "        field = 50*ureg.mT,\n",
    "        temperature = 300*ureg.K,\n",
    "        dipole_cutoff = 200*ureg.um)\n",
    "    \n",
    "    total_time = 6000*ureg.s\n",
    "    col.simulate(world,\n",
    "                 name = \"ACI_CairoLattice_50mT-3000s+cte_l%u_exp%u\"%(l,e),\n",
    "                 include_timestamp = False,\n",
    "                 targetdir = output,\n",
    "                 framerate = 1*ureg.Hz,\n",
    "                 timestep = 10*ureg.ms,\n",
    "                 run_time = total_time,\n",
    "                 output = [\"x\",\"y\",\"z\",\"mux\",\"muy\",\"muz\"])\n",
    "\n",
    "    col.sim.field.fieldz = \"(time<3000000000)*v_Bmag*time/%f+(time>=3000000000)*v_Bmag\"%(total_time.to(ureg.us).magnitude)\n",
    "    col.run_simulation()    \n",
    "    \n",
    "    name = os.path.split(col.sim.base_name)[1]\n",
    "    with open(os.path.join(output,\"index_Cairo_50mT-3000s+cte.dat\"),'a',newline='') as file:\n",
    "        writer = csv.writer(file,delimiter='\\t')\n",
    "        writer.writerow([name, l, e])"
   ]
  },
  {
   "cell_type": "code",
   "execution_count": 4,
   "metadata": {},
   "outputs": [],
   "source": [
    "e =  np.arange(0,10)\n",
    "l =  [10]\n",
    "L, E = np.meshgrid(l,e)\n",
    "experiments = pd.DataFrame({\"e\":E.flatten(),\"l\":L.flatten()})"
   ]
  },
  {
   "cell_type": "code",
   "execution_count": 5,
   "metadata": {},
   "outputs": [
    {
     "name": "stderr",
     "output_type": "stream",
     "text": [
      "/home/carolina/CairoLattice_ACI_PROJECT/Scripts/support.py:62: UnitStrippedWarning: The unit of the quantity is stripped when downcasting to ndarray.\n",
      "  new[:,0] = centers_toAddX\n",
      "/home/carolina/CairoLattice_ACI_PROJECT/Scripts/support.py:62: UnitStrippedWarning: The unit of the quantity is stripped when downcasting to ndarray.\n",
      "  new[:,0] = centers_toAddX\n"
     ]
    },
    {
     "data": {
      "application/vnd.jupyter.widget-view+json": {
       "model_id": "51531b9eebb5410d9c93f74bb70aefcf",
       "version_major": 2,
       "version_minor": 0
      },
      "text/plain": [
       "HBox(children=(FloatProgress(value=0.0, max=10.0), HTML(value='')))"
      ]
     },
     "metadata": {},
     "output_type": "display_data"
    },
    {
     "name": "stderr",
     "output_type": "stream",
     "text": [
      "/home/carolina/CairoLattice_ACI_PROJECT/Scripts/support.py:62: UnitStrippedWarning: The unit of the quantity is stripped when downcasting to ndarray.\n",
      "  new[:,0] = centers_toAddX\n",
      "/home/carolina/CairoLattice_ACI_PROJECT/Scripts/support.py:62: UnitStrippedWarning: The unit of the quantity is stripped when downcasting to ndarray.\n",
      "  new[:,0] = centers_toAddX\n",
      "/home/carolina/CairoLattice_ACI_PROJECT/Scripts/support.py:62: UnitStrippedWarning: The unit of the quantity is stripped when downcasting to ndarray.\n",
      "  new[:,0] = centers_toAddX\n",
      "/home/carolina/CairoLattice_ACI_PROJECT/Scripts/support.py:62: UnitStrippedWarning: The unit of the quantity is stripped when downcasting to ndarray.\n",
      "  new[:,0] = centers_toAddX\n",
      "/home/carolina/CairoLattice_ACI_PROJECT/Scripts/support.py:62: UnitStrippedWarning: The unit of the quantity is stripped when downcasting to ndarray.\n",
      "  new[:,0] = centers_toAddX\n",
      "/home/carolina/CairoLattice_ACI_PROJECT/Scripts/support.py:63: UnitStrippedWarning: The unit of the quantity is stripped when downcasting to ndarray.\n",
      "  new[:,1] = centers_toAddY\n",
      "/home/carolina/CairoLattice_ACI_PROJECT/Scripts/support.py:63: UnitStrippedWarning: The unit of the quantity is stripped when downcasting to ndarray.\n",
      "  new[:,1] = centers_toAddY\n",
      "/home/carolina/CairoLattice_ACI_PROJECT/Scripts/support.py:62: UnitStrippedWarning: The unit of the quantity is stripped when downcasting to ndarray.\n",
      "  new[:,0] = centers_toAddX\n",
      "/home/carolina/CairoLattice_ACI_PROJECT/Scripts/support.py:62: UnitStrippedWarning: The unit of the quantity is stripped when downcasting to ndarray.\n",
      "  new[:,0] = centers_toAddX\n",
      "/home/carolina/CairoLattice_ACI_PROJECT/Scripts/support.py:62: UnitStrippedWarning: The unit of the quantity is stripped when downcasting to ndarray.\n",
      "  new[:,0] = centers_toAddX\n",
      "/home/carolina/CairoLattice_ACI_PROJECT/Scripts/support.py:63: UnitStrippedWarning: The unit of the quantity is stripped when downcasting to ndarray.\n",
      "  new[:,1] = centers_toAddY\n",
      "/home/carolina/CairoLattice_ACI_PROJECT/Scripts/support.py:63: UnitStrippedWarning: The unit of the quantity is stripped when downcasting to ndarray.\n",
      "  new[:,1] = centers_toAddY\n",
      "/home/carolina/CairoLattice_ACI_PROJECT/Scripts/support.py:63: UnitStrippedWarning: The unit of the quantity is stripped when downcasting to ndarray.\n",
      "  new[:,1] = centers_toAddY\n",
      "/home/carolina/CairoLattice_ACI_PROJECT/Scripts/support.py:63: UnitStrippedWarning: The unit of the quantity is stripped when downcasting to ndarray.\n",
      "  new[:,1] = centers_toAddY\n",
      "/home/carolina/CairoLattice_ACI_PROJECT/Scripts/support.py:63: UnitStrippedWarning: The unit of the quantity is stripped when downcasting to ndarray.\n",
      "  new[:,1] = centers_toAddY\n",
      "/home/carolina/CairoLattice_ACI_PROJECT/Scripts/support.py:63: UnitStrippedWarning: The unit of the quantity is stripped when downcasting to ndarray.\n",
      "  new[:,1] = centers_toAddY\n",
      "/home/carolina/CairoLattice_ACI_PROJECT/Scripts/support.py:63: UnitStrippedWarning: The unit of the quantity is stripped when downcasting to ndarray.\n",
      "  new[:,1] = centers_toAddY\n",
      "/home/carolina/CairoLattice_ACI_PROJECT/Scripts/support.py:63: UnitStrippedWarning: The unit of the quantity is stripped when downcasting to ndarray.\n",
      "  new[:,1] = centers_toAddY\n",
      "/home/carolina/CairoLattice_ACI_PROJECT/Scripts/support.py:170: UnitStrippedWarning: The unit of the quantity is stripped when downcasting to ndarray.\n",
      "  new_centers[:,1] = centersY\n",
      "/home/carolina/CairoLattice_ACI_PROJECT/Scripts/support.py:170: UnitStrippedWarning: The unit of the quantity is stripped when downcasting to ndarray.\n",
      "  new_centers[:,1] = centersY\n",
      "/home/carolina/CairoLattice_ACI_PROJECT/Scripts/support.py:170: UnitStrippedWarning: The unit of the quantity is stripped when downcasting to ndarray.\n",
      "  new_centers[:,1] = centersY\n",
      "/home/carolina/CairoLattice_ACI_PROJECT/Scripts/support.py:170: UnitStrippedWarning: The unit of the quantity is stripped when downcasting to ndarray.\n",
      "  new_centers[:,1] = centersY\n",
      "/home/carolina/CairoLattice_ACI_PROJECT/Scripts/support.py:170: UnitStrippedWarning: The unit of the quantity is stripped when downcasting to ndarray.\n",
      "  new_centers[:,1] = centersY\n",
      "/home/carolina/CairoLattice_ACI_PROJECT/Scripts/support.py:170: UnitStrippedWarning: The unit of the quantity is stripped when downcasting to ndarray.\n",
      "  new_centers[:,1] = centersY\n",
      "/home/carolina/CairoLattice_ACI_PROJECT/Scripts/support.py:170: UnitStrippedWarning: The unit of the quantity is stripped when downcasting to ndarray.\n",
      "  new_centers[:,1] = centersY\n",
      "/home/carolina/CairoLattice_ACI_PROJECT/Scripts/support.py:170: UnitStrippedWarning: The unit of the quantity is stripped when downcasting to ndarray.\n",
      "  new_centers[:,1] = centersY\n",
      "/home/carolina/CairoLattice_ACI_PROJECT/Scripts/support.py:170: UnitStrippedWarning: The unit of the quantity is stripped when downcasting to ndarray.\n",
      "  new_centers[:,1] = centersY\n",
      "/home/carolina/CairoLattice_ACI_PROJECT/Scripts/support.py:170: UnitStrippedWarning: The unit of the quantity is stripped when downcasting to ndarray.\n",
      "  new_centers[:,1] = centersY\n"
     ]
    },
    {
     "name": "stdout",
     "output_type": "stream",
     "text": [
      "scanning file\n"
     ]
    },
    {
     "data": {
      "application/vnd.jupyter.widget-view+json": {
       "model_id": "1577634a36964040a754283ce365e26b",
       "version_major": 2,
       "version_minor": 0
      },
      "text/plain": [
       "HBox(children=(FloatProgress(value=0.0, max=986492625.0), HTML(value='')))"
      ]
     },
     "metadata": {},
     "output_type": "display_data"
    },
    {
     "name": "stdout",
     "output_type": "stream",
     "text": [
      "scanning file\n"
     ]
    },
    {
     "data": {
      "application/vnd.jupyter.widget-view+json": {
       "model_id": "5c361d03fc2c40e8b0e0a84676a58423",
       "version_major": 2,
       "version_minor": 0
      },
      "text/plain": [
       "HBox(children=(FloatProgress(value=0.0, max=986729595.0), HTML(value='')))"
      ]
     },
     "metadata": {},
     "output_type": "display_data"
    },
    {
     "name": "stdout",
     "output_type": "stream",
     "text": [
      "scanning file\n"
     ]
    },
    {
     "data": {
      "application/vnd.jupyter.widget-view+json": {
       "model_id": "9d4292d0194e4e1f989354a987faa1a2",
       "version_major": 2,
       "version_minor": 0
      },
      "text/plain": [
       "HBox(children=(FloatProgress(value=0.0, max=987088459.0), HTML(value='')))"
      ]
     },
     "metadata": {},
     "output_type": "display_data"
    },
    {
     "name": "stdout",
     "output_type": "stream",
     "text": [
      "scanning file\n"
     ]
    },
    {
     "data": {
      "application/vnd.jupyter.widget-view+json": {
       "model_id": "73659286fb464181b7011d55f2560a86",
       "version_major": 2,
       "version_minor": 0
      },
      "text/plain": [
       "HBox(children=(FloatProgress(value=0.0, max=987008522.0), HTML(value='')))"
      ]
     },
     "metadata": {},
     "output_type": "display_data"
    },
    {
     "name": "stdout",
     "output_type": "stream",
     "text": [
      "scanning file\n"
     ]
    },
    {
     "data": {
      "application/vnd.jupyter.widget-view+json": {
       "model_id": "36e9c82e95de451a82ce296ac765f623",
       "version_major": 2,
       "version_minor": 0
      },
      "text/plain": [
       "HBox(children=(FloatProgress(value=0.0, max=986526741.0), HTML(value='')))"
      ]
     },
     "metadata": {},
     "output_type": "display_data"
    },
    {
     "name": "stdout",
     "output_type": "stream",
     "text": [
      "scanning file\n"
     ]
    },
    {
     "data": {
      "application/vnd.jupyter.widget-view+json": {
       "model_id": "31bebdd06073496485f0aa78def686da",
       "version_major": 2,
       "version_minor": 0
      },
      "text/plain": [
       "HBox(children=(FloatProgress(value=0.0, max=987689633.0), HTML(value='')))"
      ]
     },
     "metadata": {},
     "output_type": "display_data"
    },
    {
     "name": "stdout",
     "output_type": "stream",
     "text": [
      "scanning file\n"
     ]
    },
    {
     "data": {
      "application/vnd.jupyter.widget-view+json": {
       "model_id": "0cdd2b5b16b24213a0a427bf2c693a60",
       "version_major": 2,
       "version_minor": 0
      },
      "text/plain": [
       "HBox(children=(FloatProgress(value=0.0, max=986076940.0), HTML(value='')))"
      ]
     },
     "metadata": {},
     "output_type": "display_data"
    },
    {
     "name": "stdout",
     "output_type": "stream",
     "text": [
      "scanning file\n"
     ]
    },
    {
     "data": {
      "application/vnd.jupyter.widget-view+json": {
       "model_id": "5ee0d00032ee4ddaa6efca528c361a32",
       "version_major": 2,
       "version_minor": 0
      },
      "text/plain": [
       "HBox(children=(FloatProgress(value=0.0, max=986969251.0), HTML(value='')))"
      ]
     },
     "metadata": {},
     "output_type": "display_data"
    },
    {
     "name": "stdout",
     "output_type": "stream",
     "text": [
      "scanning file\n"
     ]
    },
    {
     "data": {
      "application/vnd.jupyter.widget-view+json": {
       "model_id": "91781560cd9341d0aafbd859a87ac9c1",
       "version_major": 2,
       "version_minor": 0
      },
      "text/plain": [
       "HBox(children=(FloatProgress(value=0.0, max=986764742.0), HTML(value='')))"
      ]
     },
     "metadata": {},
     "output_type": "display_data"
    },
    {
     "name": "stdout",
     "output_type": "stream",
     "text": [
      "scanning file\n"
     ]
    },
    {
     "data": {
      "application/vnd.jupyter.widget-view+json": {
       "model_id": "32babb7205b841c8956444f7918c4d46",
       "version_major": 2,
       "version_minor": 0
      },
      "text/plain": [
       "HBox(children=(FloatProgress(value=0.0, max=987374700.0), HTML(value='')))"
      ]
     },
     "metadata": {},
     "output_type": "display_data"
    },
    {
     "name": "stdout",
     "output_type": "stream",
     "text": [
      "\n"
     ]
    }
   ],
   "source": [
    "# %%time\n",
    "if __name__ ==  '__main__': \n",
    "    num_processors = 10\n",
    "    p=Pool(processes = num_processors)\n",
    "    \n",
    "    ## Create index text file\n",
    "    if not os.path.exists(output):\n",
    "        os.makedirs(output)\n",
    "    with open(os.path.join(output,\"index_Cairo_50mT-3000s+cte.dat\"),'w',newline='') as file:\n",
    "        writer = csv.writer(file,delimiter='\\t')\n",
    "        writer.writerow([\"filename\", \"l\", \"exp\"])\n",
    "        \n",
    "    list(tqdm.tqdm(p.imap(do_everything, experiments.iterrows()), total=len(experiments)));"
   ]
  },
  {
   "cell_type": "code",
   "execution_count": null,
   "metadata": {},
   "outputs": [],
   "source": []
  }
 ],
 "metadata": {
  "kernelspec": {
   "display_name": "Python 3",
   "language": "python",
   "name": "python3"
  },
  "language_info": {
   "codemirror_mode": {
    "name": "ipython",
    "version": 3
   },
   "file_extension": ".py",
   "mimetype": "text/x-python",
   "name": "python",
   "nbconvert_exporter": "python",
   "pygments_lexer": "ipython3",
   "version": "3.7.6"
  }
 },
 "nbformat": 4,
 "nbformat_minor": 4
}
