{
 "cells": [
  {
   "cell_type": "code",
   "execution_count": 1,
   "metadata": {},
   "outputs": [],
   "source": [
    "import sys\n",
    "import os\n",
    "sys.path.insert(0, '../icenumerics')\n",
    "import icenumerics as ice\n",
    "import numpy as np\n",
    "import matplotlib.pyplot as plt\n",
    "import pandas as pd\n",
    "import tqdm.notebook as tqdm\n",
    "\n",
    "ureg = ice.ureg\n",
    "\n",
    "from importlib import reload  \n",
    "import shakti as sha\n",
    "reload(sha)\n",
    "\n",
    "from icenumerics.geometry import ordering \n",
    "\n",
    "%load_ext autoreload\n",
    "%autoreload 2\n",
    "\n",
    "\n",
    "import csv as csv\n",
    "#import tqdm.auto as tqdm\n",
    "from multiprocessing import Pool\n"
   ]
  },
  {
   "cell_type": "code",
   "execution_count": 2,
   "metadata": {},
   "outputs": [],
   "source": [
    "output = \"/home/carolina/CairoLattice_ACI_PROJECT/Scripts/Output_Script-12.0\""
   ]
  },
  {
   "cell_type": "markdown",
   "metadata": {},
   "source": [
    "# Shakti Lattice \n",
    "\n",
    "    In this script, I will run simulations with open boundaries. I will run simulations in parallel."
   ]
  },
  {
   "cell_type": "code",
   "execution_count": 4,
   "metadata": {},
   "outputs": [],
   "source": [
    "def do_everything(exp_entry):\n",
    "    \n",
    "    e = exp_entry[1].e \n",
    "    l = exp_entry[1].l\n",
    "    \n",
    "    trap_sep = 10 # Short trap\n",
    "    radius = 5\n",
    "    distance = 3\n",
    "    interparticle_distance = 2*radius + distance # distance among a particle next to the other \n",
    "    part_d = interparticle_distance*np.cos(np.pi/4) # distance among a particle in front of the other \n",
    "    plaquette_cte = part_d*4+2*trap_sep\n",
    "\n",
    "    sp = sha.spins()\n",
    "    ureg = ice.ureg\n",
    "\n",
    "    sp.create_lattice(geometry = \"shakti\",size =[10,10],lattice_constant=plaquette_cte*ureg.um , border=\"periodic\")\n",
    "    sp.order_spins(ordering.random_ordering)\n",
    "\n",
    "    particle = ice.particle(radius = 5*ureg.um,\n",
    "                 susceptibility = 0.005,\n",
    "                 diffusion = 0.125*ureg.um**2/ureg.s,\n",
    "                 temperature = 300*ureg.K,\n",
    "                 density = 1000*ureg.kg/ureg.m**3)\n",
    "\n",
    "    trap_short = ice.trap(trap_sep = 10*ureg.um,\n",
    "                   height = 25*ureg.pN*ureg.nm,\n",
    "                   stiffness = 0.1*ureg.fN/ureg.nm)\n",
    "\n",
    "    trap_long = ice.trap(trap_sep =(20+13*np.sqrt(2))*ureg.um,\n",
    "                   height = 25*ureg.pN*ureg.nm,\n",
    "                   stiffness = 0.1*ureg.fN/ureg.nm)\n",
    "\n",
    "    traps = []\n",
    "\n",
    "    for s in sp:\n",
    "\n",
    "        if ( s.direction[0].magnitude >= plaquette_cte or s.direction[0].magnitude <= -plaquette_cte or \n",
    "            s.direction[1].magnitude >= plaquette_cte or s.direction[1].magnitude <= -plaquette_cte):\n",
    "\n",
    "            traps.append(trap_long)\n",
    "\n",
    "        else:\n",
    "\n",
    "            traps.append(trap_short)\n",
    "\n",
    "    col = ice.colloidal_ice(sp, particle, traps, height_spread = 0, susceptibility_spread = 0.1)\n",
    "    col.pad_region(5*ureg.um)\n",
    "\n",
    "    world = ice.world(\n",
    "        field = 25*ureg.mT,\n",
    "        temperature = 300*ureg.K,\n",
    "        dipole_cutoff = 200*ureg.um)\n",
    "\n",
    "    change_m_time = 2000*ureg.s\n",
    "    total_time = 2500*ureg.s\n",
    "    col.simulate(world,\n",
    "                 name = \"ACI_ShaktiLattice_25mT-2500s_FreeBound_l%u_exp%u\"%(l,e),\n",
    "                 include_timestamp = False,\n",
    "                 targetdir = output,\n",
    "                 framerate = 1*ureg.Hz,\n",
    "                 timestep = 10*ureg.ms,\n",
    "                 run_time = total_time,\n",
    "                 output = [\"x\",\"y\",\"z\",\"mux\",\"muy\",\"muz\"])\n",
    "\n",
    "    col.sim.field.fieldz = \"(time<2000000000)*v_Bmag*time/%f+(time>=2000000000)*v_Bmag\"%(change_m_time.to(ureg.us).magnitude)\n",
    "    col.run_simulation() \n",
    "    \n",
    "    edges_shakti_values = pd.read_csv('edges_shakti_10x10.dat')\n",
    "    vertices = pd.read_csv('vertices_shakti_10x10.dat')\n",
    "\n",
    "    v_non_inferred = ice.vertices(\n",
    "        positions = vertices[[\"x\",\"y\"]].values,\n",
    "        edges = edges_shakti_values[[\"start\",\"stop\"]].values)\n",
    "\n",
    "    frames = col.trj.index.get_level_values(\"frame\").unique()\n",
    "\n",
    "    v_df = []\n",
    "\n",
    "    for f in tqdm.tqdm(frames[::5]):\n",
    "        col.set_state_from_frame(f)\n",
    "        \n",
    "        v_non_inferred.update_directions(col)\n",
    "        v_non_inferred.classify_vertices(ice.ice_to_spins(col))\n",
    "        vertices = v_non_inferred.vertices\n",
    "\n",
    "        v_df.append(vertices.copy())\n",
    "\n",
    "\n",
    "    v_df = pd.concat(v_df,keys=frames[::5], names = [\"frame\"])\n",
    "\n",
    "    v_df.to_csv(os.path.join(output,\"ACI_ShaktiLattice_25mT-2500s_FreeBound_l%u_exp%u.dat\"%(l,e)), sep='\\t')"
   ]
  },
  {
   "cell_type": "code",
   "execution_count": 5,
   "metadata": {},
   "outputs": [
    {
     "data": {
      "text/html": [
       "<div>\n",
       "<style scoped>\n",
       "    .dataframe tbody tr th:only-of-type {\n",
       "        vertical-align: middle;\n",
       "    }\n",
       "\n",
       "    .dataframe tbody tr th {\n",
       "        vertical-align: top;\n",
       "    }\n",
       "\n",
       "    .dataframe thead th {\n",
       "        text-align: right;\n",
       "    }\n",
       "</style>\n",
       "<table border=\"1\" class=\"dataframe\">\n",
       "  <thead>\n",
       "    <tr style=\"text-align: right;\">\n",
       "      <th></th>\n",
       "      <th>e</th>\n",
       "      <th>l</th>\n",
       "    </tr>\n",
       "  </thead>\n",
       "  <tbody>\n",
       "    <tr>\n",
       "      <th>0</th>\n",
       "      <td>0</td>\n",
       "      <td>10</td>\n",
       "    </tr>\n",
       "    <tr>\n",
       "      <th>1</th>\n",
       "      <td>1</td>\n",
       "      <td>10</td>\n",
       "    </tr>\n",
       "    <tr>\n",
       "      <th>2</th>\n",
       "      <td>2</td>\n",
       "      <td>10</td>\n",
       "    </tr>\n",
       "    <tr>\n",
       "      <th>3</th>\n",
       "      <td>3</td>\n",
       "      <td>10</td>\n",
       "    </tr>\n",
       "    <tr>\n",
       "      <th>4</th>\n",
       "      <td>4</td>\n",
       "      <td>10</td>\n",
       "    </tr>\n",
       "    <tr>\n",
       "      <th>5</th>\n",
       "      <td>5</td>\n",
       "      <td>10</td>\n",
       "    </tr>\n",
       "    <tr>\n",
       "      <th>6</th>\n",
       "      <td>6</td>\n",
       "      <td>10</td>\n",
       "    </tr>\n",
       "    <tr>\n",
       "      <th>7</th>\n",
       "      <td>7</td>\n",
       "      <td>10</td>\n",
       "    </tr>\n",
       "    <tr>\n",
       "      <th>8</th>\n",
       "      <td>8</td>\n",
       "      <td>10</td>\n",
       "    </tr>\n",
       "    <tr>\n",
       "      <th>9</th>\n",
       "      <td>9</td>\n",
       "      <td>10</td>\n",
       "    </tr>\n",
       "  </tbody>\n",
       "</table>\n",
       "</div>"
      ],
      "text/plain": [
       "   e   l\n",
       "0  0  10\n",
       "1  1  10\n",
       "2  2  10\n",
       "3  3  10\n",
       "4  4  10\n",
       "5  5  10\n",
       "6  6  10\n",
       "7  7  10\n",
       "8  8  10\n",
       "9  9  10"
      ]
     },
     "execution_count": 5,
     "metadata": {},
     "output_type": "execute_result"
    }
   ],
   "source": [
    "e =  np.arange(0,10)\n",
    "l =  [10]\n",
    "L, E = np.meshgrid(l,e)\n",
    "experiments = pd.DataFrame({\"e\":E.flatten(),\"l\":L.flatten()})\n",
    "experiments"
   ]
  },
  {
   "cell_type": "code",
   "execution_count": null,
   "metadata": {},
   "outputs": [
    {
     "name": "stderr",
     "output_type": "stream",
     "text": [
      "/home/carolina/CairoLattice_ACI_PROJECT/Scripts/shakti.py:251: UnitStrippedWarning: The unit of the quantity is stripped when downcasting to ndarray.\n",
      "  new_centers[:,1] = centersY\n",
      "/home/carolina/CairoLattice_ACI_PROJECT/Scripts/shakti.py:251: UnitStrippedWarning: The unit of the quantity is stripped when downcasting to ndarray.\n",
      "  new_centers[:,1] = centersY\n"
     ]
    },
    {
     "data": {
      "application/vnd.jupyter.widget-view+json": {
       "model_id": "9d77fecef87b4afc8b8d32e5def1cc53",
       "version_major": 2,
       "version_minor": 0
      },
      "text/plain": [
       "HBox(children=(FloatProgress(value=0.0, max=10.0), HTML(value='')))"
      ]
     },
     "metadata": {},
     "output_type": "display_data"
    },
    {
     "name": "stdout",
     "output_type": "stream",
     "text": [
      "scanning file\n"
     ]
    },
    {
     "data": {
      "application/vnd.jupyter.widget-view+json": {
       "model_id": "0b77bd6f64714a26a22c90069d290d0c",
       "version_major": 2,
       "version_minor": 0
      },
      "text/plain": [
       "HBox(children=(FloatProgress(value=0.0, max=384011063.0), HTML(value='')))"
      ]
     },
     "metadata": {},
     "output_type": "display_data"
    },
    {
     "name": "stdout",
     "output_type": "stream",
     "text": [
      "scanning file\n"
     ]
    },
    {
     "data": {
      "application/vnd.jupyter.widget-view+json": {
       "model_id": "d7a23de4bec14a37804d40af00f44e3f",
       "version_major": 2,
       "version_minor": 0
      },
      "text/plain": [
       "HBox(children=(FloatProgress(value=0.0, max=384120721.0), HTML(value='')))"
      ]
     },
     "metadata": {},
     "output_type": "display_data"
    },
    {
     "name": "stdout",
     "output_type": "stream",
     "text": [
      "\r"
     ]
    },
    {
     "data": {
      "application/vnd.jupyter.widget-view+json": {
       "model_id": "677027b002b04a55af0886a8f601b9fd",
       "version_major": 2,
       "version_minor": 0
      },
      "text/plain": [
       "HBox(children=(FloatProgress(value=0.0, max=500.0), HTML(value='')))"
      ]
     },
     "metadata": {},
     "output_type": "display_data"
    },
    {
     "name": "stdout",
     "output_type": "stream",
     "text": [
      "\r"
     ]
    },
    {
     "data": {
      "application/vnd.jupyter.widget-view+json": {
       "model_id": "25ef365a941247e393564455d4ae76b9",
       "version_major": 2,
       "version_minor": 0
      },
      "text/plain": [
       "HBox(children=(FloatProgress(value=0.0, max=500.0), HTML(value='')))"
      ]
     },
     "metadata": {},
     "output_type": "display_data"
    },
    {
     "name": "stdout",
     "output_type": "stream",
     "text": [
      "\n",
      "\n",
      "scanning file\n"
     ]
    },
    {
     "data": {
      "application/vnd.jupyter.widget-view+json": {
       "model_id": "b7c7cae404b245ecaddf9c55e05c5ee2",
       "version_major": 2,
       "version_minor": 0
      },
      "text/plain": [
       "HBox(children=(FloatProgress(value=0.0, max=383884935.0), HTML(value='')))"
      ]
     },
     "metadata": {},
     "output_type": "display_data"
    },
    {
     "name": "stdout",
     "output_type": "stream",
     "text": [
      "scanning file\n"
     ]
    },
    {
     "data": {
      "application/vnd.jupyter.widget-view+json": {
       "model_id": "469de4b7a66d4906ba02a2b083bce07a",
       "version_major": 2,
       "version_minor": 0
      },
      "text/plain": [
       "HBox(children=(FloatProgress(value=0.0, max=384222215.0), HTML(value='')))"
      ]
     },
     "metadata": {},
     "output_type": "display_data"
    },
    {
     "name": "stdout",
     "output_type": "stream",
     "text": [
      "\r"
     ]
    },
    {
     "data": {
      "application/vnd.jupyter.widget-view+json": {
       "model_id": "4be5c253e5fa42258d4eb67b2fdce209",
       "version_major": 2,
       "version_minor": 0
      },
      "text/plain": [
       "HBox(children=(FloatProgress(value=0.0, max=500.0), HTML(value='')))"
      ]
     },
     "metadata": {},
     "output_type": "display_data"
    },
    {
     "name": "stdout",
     "output_type": "stream",
     "text": [
      "\r"
     ]
    },
    {
     "data": {
      "application/vnd.jupyter.widget-view+json": {
       "model_id": "d8cdcf4b1a8241e69060a3fae4720ab5",
       "version_major": 2,
       "version_minor": 0
      },
      "text/plain": [
       "HBox(children=(FloatProgress(value=0.0, max=500.0), HTML(value='')))"
      ]
     },
     "metadata": {},
     "output_type": "display_data"
    }
   ],
   "source": [
    "# %%time\n",
    "if __name__ ==  '__main__': \n",
    "    num_processors = 2\n",
    "    p=Pool(processes = num_processors)\n",
    "    \n",
    "    ## Create index text file\n",
    "    if not os.path.exists(output):\n",
    "        os.makedirs(output)\n",
    "    with open(os.path.join(output,\"index_ACI_ShaktiLattice_25mT-2500s_FreeBound.dat\"),'w',newline='') as file:\n",
    "        writer = csv.writer(file,delimiter='\\t')\n",
    "        writer.writerow([\"filename\", \"l\", \"exp\"])\n",
    "        \n",
    "    list(tqdm.tqdm(p.imap(do_everything, experiments.iterrows()), total=len(experiments)))"
   ]
  }
 ],
 "metadata": {
  "kernelspec": {
   "display_name": "Python 3",
   "language": "python",
   "name": "python3"
  },
  "language_info": {
   "codemirror_mode": {
    "name": "ipython",
    "version": 3
   },
   "file_extension": ".py",
   "mimetype": "text/x-python",
   "name": "python",
   "nbconvert_exporter": "python",
   "pygments_lexer": "ipython3",
   "version": "3.7.6"
  }
 },
 "nbformat": 4,
 "nbformat_minor": 4
}
