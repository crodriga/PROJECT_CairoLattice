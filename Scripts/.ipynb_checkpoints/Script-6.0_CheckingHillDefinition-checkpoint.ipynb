{
 "cells": [
  {
   "cell_type": "code",
   "execution_count": 1,
   "metadata": {},
   "outputs": [],
   "source": [
    "import os\n",
    "import sys\n",
    "import numpy as np\n",
    "from importlib import reload  \n",
    "import support as sup\n",
    "reload(sup)\n",
    "sys.path.insert(0, '../icenumerics')\n",
    "\n",
    "import icenumerics as ice\n",
    "\n",
    "from icenumerics.geometry import ordering \n",
    "import magcolloids as mgc\n",
    "\n",
    "import matplotlib.pyplot as plt\n",
    "ureg = ice.ureg\n",
    "from string import Template\n",
    "\n",
    "%load_ext autoreload\n",
    "%autoreload 2"
   ]
  },
  {
   "cell_type": "code",
   "execution_count": 2,
   "metadata": {},
   "outputs": [],
   "source": [
    "output = \"/home/carolina/CairoLattice_ACI_PROJECT/Scripts/Output_Script-6.0\""
   ]
  },
  {
   "cell_type": "code",
   "execution_count": 3,
   "metadata": {},
   "outputs": [
    {
     "name": "stderr",
     "output_type": "stream",
     "text": [
      "/home/carolina/CairoLattice_ACI_PROJECT/Scripts/support.py:62: UnitStrippedWarning: The unit of the quantity is stripped when downcasting to ndarray.\n",
      "  new[:,0] = centers_toAddX\n",
      "/home/carolina/CairoLattice_ACI_PROJECT/Scripts/support.py:63: UnitStrippedWarning: The unit of the quantity is stripped when downcasting to ndarray.\n",
      "  new[:,1] = centers_toAddY\n",
      "/home/carolina/CairoLattice_ACI_PROJECT/Scripts/support.py:170: UnitStrippedWarning: The unit of the quantity is stripped when downcasting to ndarray.\n",
      "  new_centers[:,1] = centersY\n"
     ]
    }
   ],
   "source": [
    "np.random.seed()\n",
    "\n",
    "l = 2\n",
    "\n",
    "sp = sup.spins()\n",
    "ureg = ice.ureg\n",
    "sp.create_lattice(geometry = \"cairo\",size =[l,l],lattice_constant=19.5458*ureg.um, border=\"closed spin\")\n",
    "sp.order_spins(ordering.random_ordering)"
   ]
  },
  {
   "cell_type": "code",
   "execution_count": 4,
   "metadata": {},
   "outputs": [],
   "source": [
    "particle = ice.particle(radius = 5*ureg.um,\n",
    "             susceptibility = 0.005,\n",
    "             diffusion = 0.125*ureg.um**2/ureg.s,\n",
    "             temperature = 300*ureg.K,\n",
    "             density = 1000*ureg.kg/ureg.m**3)\n",
    "\n",
    "trap_long = ice.trap(trap_sep = 10*ureg.um,\n",
    "               height = 30*ureg.pN*ureg.nm,\n",
    "               stiffness = 6e-3*ureg.pN/ureg.nm)\n",
    "\n",
    "trap_short = ice.trap(trap_sep = 4.5258*ureg.um,\n",
    "               height = 30*ureg.pN*ureg.nm,\n",
    "               stiffness = 6e-3*ureg.pN/ureg.nm)\n",
    "\n",
    "traps = []"
   ]
  },
  {
   "cell_type": "code",
   "execution_count": 5,
   "metadata": {},
   "outputs": [],
   "source": [
    "for s in sp:\n",
    "    \n",
    "    if ( s.direction[0].magnitude == 1.0 or s.direction[0].magnitude == -1.0 or \n",
    "        s.direction[1].magnitude == 1.0 or s.direction[1].magnitude == -1.0 ):\n",
    "        \n",
    "        traps.append(trap_short)\n",
    "        \n",
    "    else:\n",
    "        \n",
    "        traps.append(trap_long)"
   ]
  },
  {
   "cell_type": "code",
   "execution_count": 6,
   "metadata": {},
   "outputs": [],
   "source": [
    "col = ice.colloidal_ice(sp, particle, traps, height_spread = 0, susceptibility_spread = 0.1)\n",
    "col.pad_region(5*ureg.um)"
   ]
  },
  {
   "cell_type": "code",
   "execution_count": 7,
   "metadata": {},
   "outputs": [],
   "source": [
    "world = ice.world(\n",
    "    field = 0*ureg.mT,\n",
    "    temperature = 300*ureg.K,\n",
    "    dipole_cutoff = 200*ureg.um)"
   ]
  },
  {
   "cell_type": "markdown",
   "metadata": {},
   "source": [
    "    Change ouput diiirr!!!!! and move files!!\n",
    "    "
   ]
  },
  {
   "cell_type": "code",
   "execution_count": null,
   "metadata": {},
   "outputs": [],
   "source": [
    "%%time\n",
    "col.simulation(world,\n",
    "             name = \"test\",\n",
    "             include_timestamp = False,\n",
    "             targetdir = r\".\",\n",
    "             framerate = 10*ureg.Hz,\n",
    "             timestep = 1000*ureg.us,\n",
    "             run_time = 10000*ureg.s,\n",
    "             output = [\"x\",\"y\",\"z\",\"fx\",\"fy\",\"fz\"])\n",
    "\n",
    "col.run_simulation()\n",
    "col.load_simulation()"
   ]
  },
  {
   "cell_type": "code",
   "execution_count": null,
   "metadata": {},
   "outputs": [],
   "source": [
    "fig, ax = plt.subplots(1,3,figsize=(9,2),dpi=150)\n",
    "\n",
    "col.display(ax = ax[0])\n",
    "ax[0].plot(col.trj[col.trj.type==1].x, col.trj[col.trj.type==1].y)\n",
    "\n",
    "ax[1].hist(col.trj[col.trj.type==1].x, bins=20, density=True);\n",
    "ax[1].set_xlabel(\"x\")\n",
    "ax[1].set_xlabel(\"P(x)\")\n",
    "ax[2].hist(col.trj[col.trj.type==1].y, bins=20, density=True);\n",
    "ax[1].set_xlabel(\"x\")\n",
    "ax[1].set_xlabel(\"P(y)\")\n",
    "\n"
   ]
  }
 ],
 "metadata": {
  "kernelspec": {
   "display_name": "Python 3",
   "language": "python",
   "name": "python3"
  },
  "language_info": {
   "codemirror_mode": {
    "name": "ipython",
    "version": 3
   },
   "file_extension": ".py",
   "mimetype": "text/x-python",
   "name": "python",
   "nbconvert_exporter": "python",
   "pygments_lexer": "ipython3",
   "version": "3.7.6"
  }
 },
 "nbformat": 4,
 "nbformat_minor": 4
}
