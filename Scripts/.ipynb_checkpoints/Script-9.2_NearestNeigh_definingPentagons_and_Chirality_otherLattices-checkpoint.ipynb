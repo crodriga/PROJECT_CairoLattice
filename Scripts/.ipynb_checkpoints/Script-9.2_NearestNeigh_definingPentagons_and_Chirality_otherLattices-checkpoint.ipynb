{
 "cells": [
  {
   "cell_type": "markdown",
   "metadata": {},
   "source": [
    "# Find points that belongs to pentagons\n",
    "\n",
    "In this script, we want to group the data by pentagons. This way we can compute the chirality of each pentagon by looking at the spin values."
   ]
  },
  {
   "cell_type": "code",
   "execution_count": null,
   "metadata": {},
   "outputs": [],
   "source": [
    "import os\n",
    "import sys\n",
    "import numpy as np\n",
    "import scipy\n",
    "from importlib import reload  \n",
    "import support as sup\n",
    "reload(sup)\n",
    "sys.path.insert(0, '../icenumerics')\n",
    "\n",
    "import icenumerics as ice\n",
    "import From_Cairo_to_Shakti as lattices\n",
    "reload(lattices)\n",
    "\n",
    "import matplotlib.pyplot as plt\n",
    "ureg = ice.ureg\n",
    "from string import Template\n",
    "\n",
    "import pandas as pd\n",
    "\n",
    "%load_ext autoreload\n",
    "%autoreload 2"
   ]
  },
  {
   "cell_type": "markdown",
   "metadata": {},
   "source": [
    "First, we build our lattice"
   ]
  },
  {
   "cell_type": "code",
   "execution_count": null,
   "metadata": {},
   "outputs": [],
   "source": [
    "d = 13 # Interparticle distance\n",
    "trap_sep_l = 10 # trap_sep parameter of the edge connecting 3 coordination and 4 coordination vertices\n",
    "trap_sep_a = 4.5258\n",
    "s_l4 = d*np.sqrt(2)/2\n",
    "theta = 21*np.pi/180\n",
    "theta"
   ]
  },
  {
   "cell_type": "code",
   "execution_count": null,
   "metadata": {},
   "outputs": [],
   "source": [
    "trap_sep_a_var, s_l3, a, l, plaquette_cte = lattices.lattice_parameters(theta, d, trap_sep_l, s_l4)"
   ]
  },
  {
   "cell_type": "code",
   "execution_count": null,
   "metadata": {},
   "outputs": [],
   "source": [
    "np.random.seed()\n",
    "\n",
    "sp = lattices.spins()\n",
    "ureg = ice.ureg\n",
    "Sx = 10\n",
    "sp.create_lattice(geometry = \"from_cairo_to_shakti\", size =[Sx,Sx], theta = theta,d = d ,trap_sep_l = trap_sep_l ,s_l4 = s_l4, plaquette_cte = plaquette_cte*ureg.um, border=\"periodic\")"
   ]
  },
  {
   "cell_type": "code",
   "execution_count": 8,
   "metadata": {},
   "outputs": [
    {
     "ename": "ValueError",
     "evalue": "From_cairo_to_shakti is not a supporteed geometry.",
     "output_type": "error",
     "traceback": [
      "\u001b[0;31m---------------------------------------------------------------------------\u001b[0m",
      "\u001b[0;31mValueError\u001b[0m                                Traceback (most recent call last)",
      "\u001b[0;32m<ipython-input-8-55b84e27ca19>\u001b[0m in \u001b[0;36m<module>\u001b[0;34m\u001b[0m\n\u001b[1;32m      5\u001b[0m \u001b[0msp\u001b[0m \u001b[0;34m=\u001b[0m \u001b[0msup\u001b[0m\u001b[0;34m.\u001b[0m\u001b[0mspins\u001b[0m\u001b[0;34m(\u001b[0m\u001b[0;34m)\u001b[0m\u001b[0;34m\u001b[0m\u001b[0;34m\u001b[0m\u001b[0m\n\u001b[1;32m      6\u001b[0m \u001b[0mureg\u001b[0m \u001b[0;34m=\u001b[0m \u001b[0mice\u001b[0m\u001b[0;34m.\u001b[0m\u001b[0mureg\u001b[0m\u001b[0;34m\u001b[0m\u001b[0;34m\u001b[0m\u001b[0m\n\u001b[0;32m----> 7\u001b[0;31m \u001b[0msp\u001b[0m\u001b[0;34m.\u001b[0m\u001b[0mcreate_lattice\u001b[0m\u001b[0;34m(\u001b[0m\u001b[0mgeometry\u001b[0m \u001b[0;34m=\u001b[0m \u001b[0;34m\"From_cairo_to_shakti\"\u001b[0m\u001b[0;34m,\u001b[0m\u001b[0msize\u001b[0m \u001b[0;34m=\u001b[0m\u001b[0;34m[\u001b[0m\u001b[0ml\u001b[0m\u001b[0;34m,\u001b[0m\u001b[0ml\u001b[0m\u001b[0;34m]\u001b[0m\u001b[0;34m,\u001b[0m\u001b[0mlattice_constant\u001b[0m\u001b[0;34m=\u001b[0m\u001b[0;36m19.5458\u001b[0m\u001b[0;34m*\u001b[0m\u001b[0mureg\u001b[0m\u001b[0;34m.\u001b[0m\u001b[0mum\u001b[0m\u001b[0;34m,\u001b[0m \u001b[0mborder\u001b[0m\u001b[0;34m=\u001b[0m\u001b[0;34m\"periodic\"\u001b[0m\u001b[0;34m)\u001b[0m\u001b[0;34m\u001b[0m\u001b[0;34m\u001b[0m\u001b[0m\n\u001b[0m",
      "\u001b[0;32m~/CairoLattice_ACI_PROJECT/Scripts/support.py\u001b[0m in \u001b[0;36mcreate_lattice\u001b[0;34m(self, geometry, size, lattice_constant, border, height)\u001b[0m\n\u001b[1;32m    406\u001b[0m \u001b[0;34m\u001b[0m\u001b[0m\n\u001b[1;32m    407\u001b[0m         \u001b[0;32melse\u001b[0m\u001b[0;34m:\u001b[0m\u001b[0;34m\u001b[0m\u001b[0;34m\u001b[0m\u001b[0m\n\u001b[0;32m--> 408\u001b[0;31m             \u001b[0;32mraise\u001b[0m\u001b[0;34m(\u001b[0m\u001b[0mValueError\u001b[0m\u001b[0;34m(\u001b[0m\u001b[0mgeometry\u001b[0m\u001b[0;34m+\u001b[0m\u001b[0;34m\" is not a supporteed geometry.\"\u001b[0m\u001b[0;34m)\u001b[0m\u001b[0;34m)\u001b[0m\u001b[0;34m\u001b[0m\u001b[0;34m\u001b[0m\u001b[0m\n\u001b[0m\u001b[1;32m    409\u001b[0m \u001b[0;34m\u001b[0m\u001b[0m\n\u001b[1;32m    410\u001b[0m         \u001b[0mself\u001b[0m\u001b[0;34m.\u001b[0m\u001b[0m__init__\u001b[0m\u001b[0;34m(\u001b[0m\u001b[0mcenter\u001b[0m\u001b[0;34m*\u001b[0m\u001b[0mlatticeunits\u001b[0m\u001b[0;34m,\u001b[0m\u001b[0mdirection\u001b[0m\u001b[0;34m*\u001b[0m\u001b[0mlatticeunits\u001b[0m\u001b[0;34m)\u001b[0m\u001b[0;34m\u001b[0m\u001b[0;34m\u001b[0m\u001b[0m\n",
      "\u001b[0;31mValueError\u001b[0m: From_cairo_to_shakti is not a supporteed geometry."
     ]
    }
   ],
   "source": [
    "np.random.seed()\n",
    "\n",
    "l = 10\n",
    "a = 19.5458*ureg.um\n",
    "sp = sup.spins()\n",
    "ureg = ice.ureg\n",
    "sp.create_lattice(geometry = \"From_cairo_to_shakti\",size =[l,l],lattice_constant=19.5458*ureg.um, border=\"periodic\")"
   ]
  },
  {
   "cell_type": "code",
   "execution_count": null,
   "metadata": {},
   "outputs": [],
   "source": [
    "sp"
   ]
  },
  {
   "cell_type": "code",
   "execution_count": 9,
   "metadata": {},
   "outputs": [
    {
     "ename": "ValueError",
     "evalue": "zero-size array to reduction operation minimum which has no identity",
     "output_type": "error",
     "traceback": [
      "\u001b[0;31m---------------------------------------------------------------------------\u001b[0m",
      "\u001b[0;31mValueError\u001b[0m                                Traceback (most recent call last)",
      "\u001b[0;32m<ipython-input-9-6d0a30400fc3>\u001b[0m in \u001b[0;36m<module>\u001b[0;34m\u001b[0m\n\u001b[1;32m      1\u001b[0m \u001b[0mfig\u001b[0m\u001b[0;34m,\u001b[0m \u001b[0max1\u001b[0m \u001b[0;34m=\u001b[0m \u001b[0mplt\u001b[0m\u001b[0;34m.\u001b[0m\u001b[0msubplots\u001b[0m\u001b[0;34m(\u001b[0m\u001b[0mfigsize\u001b[0m\u001b[0;34m=\u001b[0m\u001b[0;34m(\u001b[0m\u001b[0;36m10\u001b[0m\u001b[0;34m,\u001b[0m\u001b[0;36m7\u001b[0m\u001b[0;34m)\u001b[0m\u001b[0;34m)\u001b[0m\u001b[0;34m\u001b[0m\u001b[0;34m\u001b[0m\u001b[0m\n\u001b[0;32m----> 2\u001b[0;31m \u001b[0msp\u001b[0m\u001b[0;34m.\u001b[0m\u001b[0mdisplay\u001b[0m\u001b[0;34m(\u001b[0m\u001b[0max1\u001b[0m\u001b[0;34m)\u001b[0m\u001b[0;34m\u001b[0m\u001b[0;34m\u001b[0m\u001b[0m\n\u001b[0m",
      "\u001b[0;32m~/CairoLattice_ACI_PROJECT/Scripts/support.py\u001b[0m in \u001b[0;36mdisplay\u001b[0;34m(self, ax, ix)\u001b[0m\n\u001b[1;32m    357\u001b[0m         \u001b[0mextrema\u001b[0m \u001b[0;34m=\u001b[0m \u001b[0mnp\u001b[0m\u001b[0;34m.\u001b[0m\u001b[0mconcatenate\u001b[0m\u001b[0;34m(\u001b[0m\u001b[0;34m[\u001b[0m\u001b[0mcenter\u001b[0m\u001b[0;34m+\u001b[0m\u001b[0mdirection\u001b[0m\u001b[0;34m+\u001b[0m\u001b[0mwidth\u001b[0m\u001b[0;34m,\u001b[0m\u001b[0mcenter\u001b[0m\u001b[0;34m-\u001b[0m\u001b[0mdirection\u001b[0m\u001b[0;34m-\u001b[0m\u001b[0mwidth\u001b[0m\u001b[0;34m]\u001b[0m\u001b[0;34m)\u001b[0m\u001b[0;34m\u001b[0m\u001b[0;34m\u001b[0m\u001b[0m\n\u001b[1;32m    358\u001b[0m \u001b[0;34m\u001b[0m\u001b[0m\n\u001b[0;32m--> 359\u001b[0;31m         \u001b[0mregion\u001b[0m \u001b[0;34m=\u001b[0m \u001b[0mnp\u001b[0m\u001b[0;34m.\u001b[0m\u001b[0marray\u001b[0m\u001b[0;34m(\u001b[0m\u001b[0;34m[\u001b[0m\u001b[0mnp\u001b[0m\u001b[0;34m.\u001b[0m\u001b[0mmin\u001b[0m\u001b[0;34m(\u001b[0m\u001b[0mextrema\u001b[0m\u001b[0;34m,\u001b[0m\u001b[0maxis\u001b[0m\u001b[0;34m=\u001b[0m\u001b[0;36m0\u001b[0m\u001b[0;34m)\u001b[0m\u001b[0;34m[\u001b[0m\u001b[0;34m:\u001b[0m\u001b[0;36m2\u001b[0m\u001b[0;34m]\u001b[0m\u001b[0;34m,\u001b[0m\u001b[0mnp\u001b[0m\u001b[0;34m.\u001b[0m\u001b[0mmax\u001b[0m\u001b[0;34m(\u001b[0m\u001b[0mextrema\u001b[0m\u001b[0;34m,\u001b[0m\u001b[0maxis\u001b[0m\u001b[0;34m=\u001b[0m\u001b[0;36m0\u001b[0m\u001b[0;34m)\u001b[0m\u001b[0;34m[\u001b[0m\u001b[0;34m:\u001b[0m\u001b[0;36m2\u001b[0m\u001b[0;34m]\u001b[0m\u001b[0;34m]\u001b[0m\u001b[0;34m)\u001b[0m\u001b[0;34m.\u001b[0m\u001b[0mtranspose\u001b[0m\u001b[0;34m(\u001b[0m\u001b[0;34m)\u001b[0m\u001b[0;34m.\u001b[0m\u001b[0mflatten\u001b[0m\u001b[0;34m(\u001b[0m\u001b[0;34m)\u001b[0m\u001b[0;34m\u001b[0m\u001b[0;34m\u001b[0m\u001b[0m\n\u001b[0m\u001b[1;32m    360\u001b[0m \u001b[0;34m\u001b[0m\u001b[0m\n\u001b[1;32m    361\u001b[0m         \u001b[0max\u001b[0m\u001b[0;34m.\u001b[0m\u001b[0maxis\u001b[0m\u001b[0;34m(\u001b[0m\u001b[0mregion\u001b[0m\u001b[0;34m)\u001b[0m\u001b[0;34m\u001b[0m\u001b[0;34m\u001b[0m\u001b[0m\n",
      "\u001b[0;32m<__array_function__ internals>\u001b[0m in \u001b[0;36mamin\u001b[0;34m(*args, **kwargs)\u001b[0m\n",
      "\u001b[0;32m~/anaconda3/lib/python3.7/site-packages/numpy/core/fromnumeric.py\u001b[0m in \u001b[0;36mamin\u001b[0;34m(a, axis, out, keepdims, initial, where)\u001b[0m\n\u001b[1;32m   2791\u001b[0m     \"\"\"\n\u001b[1;32m   2792\u001b[0m     return _wrapreduction(a, np.minimum, 'min', axis, None, out,\n\u001b[0;32m-> 2793\u001b[0;31m                           keepdims=keepdims, initial=initial, where=where)\n\u001b[0m\u001b[1;32m   2794\u001b[0m \u001b[0;34m\u001b[0m\u001b[0m\n\u001b[1;32m   2795\u001b[0m \u001b[0;34m\u001b[0m\u001b[0m\n",
      "\u001b[0;32m~/anaconda3/lib/python3.7/site-packages/numpy/core/fromnumeric.py\u001b[0m in \u001b[0;36m_wrapreduction\u001b[0;34m(obj, ufunc, method, axis, dtype, out, **kwargs)\u001b[0m\n\u001b[1;32m     88\u001b[0m                 \u001b[0;32mreturn\u001b[0m \u001b[0mreduction\u001b[0m\u001b[0;34m(\u001b[0m\u001b[0maxis\u001b[0m\u001b[0;34m=\u001b[0m\u001b[0maxis\u001b[0m\u001b[0;34m,\u001b[0m \u001b[0mout\u001b[0m\u001b[0;34m=\u001b[0m\u001b[0mout\u001b[0m\u001b[0;34m,\u001b[0m \u001b[0;34m**\u001b[0m\u001b[0mpasskwargs\u001b[0m\u001b[0;34m)\u001b[0m\u001b[0;34m\u001b[0m\u001b[0;34m\u001b[0m\u001b[0m\n\u001b[1;32m     89\u001b[0m \u001b[0;34m\u001b[0m\u001b[0m\n\u001b[0;32m---> 90\u001b[0;31m     \u001b[0;32mreturn\u001b[0m \u001b[0mufunc\u001b[0m\u001b[0;34m.\u001b[0m\u001b[0mreduce\u001b[0m\u001b[0;34m(\u001b[0m\u001b[0mobj\u001b[0m\u001b[0;34m,\u001b[0m \u001b[0maxis\u001b[0m\u001b[0;34m,\u001b[0m \u001b[0mdtype\u001b[0m\u001b[0;34m,\u001b[0m \u001b[0mout\u001b[0m\u001b[0;34m,\u001b[0m \u001b[0;34m**\u001b[0m\u001b[0mpasskwargs\u001b[0m\u001b[0;34m)\u001b[0m\u001b[0;34m\u001b[0m\u001b[0;34m\u001b[0m\u001b[0m\n\u001b[0m\u001b[1;32m     91\u001b[0m \u001b[0;34m\u001b[0m\u001b[0m\n\u001b[1;32m     92\u001b[0m \u001b[0;34m\u001b[0m\u001b[0m\n",
      "\u001b[0;31mValueError\u001b[0m: zero-size array to reduction operation minimum which has no identity"
     ]
    },
    {
     "data": {
      "image/png": "[encoded data removed]",
      "text/plain": [
       "<Figure size 720x504 with 1 Axes>"
      ]
     },
     "metadata": {
      "needs_background": "light"
     },
     "output_type": "display_data"
    }
   ],
   "source": [
    "fig, ax1 = plt.subplots(figsize=(10,7))\n",
    "sp.display(ax1)"
   ]
  },
  {
   "cell_type": "markdown",
   "metadata": {},
   "source": [
    "And find the centers of the pentagons"
   ]
  },
  {
   "cell_type": "code",
   "execution_count": 4,
   "metadata": {},
   "outputs": [],
   "source": [
    "def filtrate_horiz_and_vert_spins(sp):\n",
    "    \n",
    "    \"\"\" Whit this function we filtrate the center values of vertical and horizontal traps. \n",
    "    The input parameter is the sp lattice \"\"\"\n",
    "    \n",
    "    cent_vertical = []\n",
    "    cent_horizontal = []\n",
    "    cent_all = []\n",
    "    \n",
    "    for s in sp:\n",
    "        \n",
    "        cent_all.append(s.center.magnitude)\n",
    "\n",
    "        if (s.direction.magnitude[0] == 0.):\n",
    "\n",
    "            cent_vertical.append(s.center)\n",
    "\n",
    "        elif (s.direction.magnitude[1] == 0.):\n",
    "\n",
    "            cent_horizontal.append(s.center)\n",
    "            \n",
    "    return cent_vertical, cent_horizontal, cent_all"
   ]
  },
  {
   "cell_type": "code",
   "execution_count": 5,
   "metadata": {},
   "outputs": [],
   "source": [
    "vertical, horizontal, cent_all = filtrate_horiz_and_vert_spins(sp)"
   ]
  },
  {
   "cell_type": "code",
   "execution_count": 6,
   "metadata": {
    "scrolled": true
   },
   "outputs": [],
   "source": [
    "def pentagon_centers(vertical, horizontal):\n",
    "    \n",
    "    \"\"\" Whit this function we will define the central points of the pentagons, as input parameters\n",
    "    it takes the output of the function filtrate_horiz_and_vert() and the output are the centers of the poligon.\"\"\"\n",
    "    \n",
    "    pentagon_centers = []\n",
    "    \n",
    "    l = 19.5458*ureg.um*1.37 # Geometrical parameters\n",
    "    \n",
    "    for i in vertical:\n",
    "        \n",
    "        pentagon_centers.append([i[0].magnitude+(l.magnitude/2*(np.cos(60*np.pi/180)+np.cos(30*np.pi/180))),i[1].magnitude, 0])\n",
    "        pentagon_centers.append([i[0].magnitude-(l.magnitude/2*(np.cos(60*np.pi/180)+np.cos(30*np.pi/180))),i[1].magnitude, 0])\n",
    "        \n",
    "    for i in horizontal:\n",
    "        \n",
    "        pentagon_centers.append([i[0].magnitude,i[1].magnitude+(l.magnitude/2*(np.cos(60*np.pi/180)+np.cos(30*np.pi/180))), 0])\n",
    "        pentagon_centers.append([i[0].magnitude,i[1].magnitude-(l.magnitude/2*(np.cos(60*np.pi/180)+np.cos(30*np.pi/180))), 0])\n",
    "        \n",
    "     \n",
    "    pentagon_cent = np.array(pentagon_centers)\n",
    "    \n",
    "    return pentagon_cent\n",
    "        "
   ]
  },
  {
   "cell_type": "code",
   "execution_count": 7,
   "metadata": {},
   "outputs": [],
   "source": [
    "center_pentagon_points = pentagon_centers(vertical, horizontal)"
   ]
  },
  {
   "cell_type": "code",
   "execution_count": 8,
   "metadata": {},
   "outputs": [],
   "source": [
    "lattice_points = np.stack( cent_all, axis=0 )"
   ]
  },
  {
   "cell_type": "code",
   "execution_count": 9,
   "metadata": {},
   "outputs": [
    {
     "data": {
      "text/plain": [
       "[<matplotlib.lines.Line2D at 0x7ff6e3a93650>]"
      ]
     },
     "execution_count": 9,
     "metadata": {},
     "output_type": "execute_result"
    },
    {
     "data": {
      "image/png": "[encoded data removed]",
      "text/plain": [
       "<Figure size 720x504 with 1 Axes>"
      ]
     },
     "metadata": {
      "needs_background": "light"
     },
     "output_type": "display_data"
    }
   ],
   "source": [
    "fig, ax1 = plt.subplots(figsize=(10,7))\n",
    "sp.display(ax1)\n",
    "plt.plot(center_pentagon_points[:,0],center_pentagon_points[:,1],'o')"
   ]
  },
  {
   "cell_type": "markdown",
   "metadata": {},
   "source": [
    "To find the 5 nearest neighbours of each center we will build a kdtree and find the nn"
   ]
  },
  {
   "cell_type": "code",
   "execution_count": 10,
   "metadata": {},
   "outputs": [],
   "source": [
    "KDTree = scipy.spatial.KDTree(lattice_points)"
   ]
  },
  {
   "cell_type": "code",
   "execution_count": 11,
   "metadata": {},
   "outputs": [],
   "source": [
    "dist, nn_index = KDTree.query(center_pentagon_points, k=5)"
   ]
  },
  {
   "cell_type": "code",
   "execution_count": 12,
   "metadata": {},
   "outputs": [
    {
     "data": {
      "text/plain": [
       "array([[   6,    7,    1,    3,    0],\n",
       "       [   2,    4,    0,    1,    3],\n",
       "       [  32,   33,   17,   19,   15],\n",
       "       ...,\n",
       "       [1996, 1997, 1987, 1989, 1985],\n",
       "       [1983, 1984, 1991, 1992, 1990],\n",
       "       [1993, 1994, 1990, 1991, 1992]])"
      ]
     },
     "execution_count": 12,
     "metadata": {},
     "output_type": "execute_result"
    }
   ],
   "source": [
    "nn_index"
   ]
  },
  {
   "cell_type": "code",
   "execution_count": 13,
   "metadata": {},
   "outputs": [],
   "source": [
    "nn = []\n",
    "for i in nn_index[19]:\n",
    "    nn.append(KDTree.data[i])\n"
   ]
  },
  {
   "cell_type": "code",
   "execution_count": 14,
   "metadata": {},
   "outputs": [],
   "source": [
    "nn = np.stack( nn, axis=0 )"
   ]
  },
  {
   "cell_type": "code",
   "execution_count": 15,
   "metadata": {},
   "outputs": [
    {
     "data": {
      "text/plain": [
       "(385.3466704777669,\n",
       " 418.68312501692793,\n",
       " -64.00270617422197,\n",
       " -28.701256409952308)"
      ]
     },
     "execution_count": 15,
     "metadata": {},
     "output_type": "execute_result"
    },
    {
     "data": {
      "image/png": "[encoded data removed]",
      "text/plain": [
       "<Figure size 432x288 with 1 Axes>"
      ]
     },
     "metadata": {
      "needs_background": "light"
     },
     "output_type": "display_data"
    }
   ],
   "source": [
    "plt.plot(nn[:,0],nn[:,1],'o')\n",
    "plt.axis('equal')"
   ]
  },
  {
   "cell_type": "markdown",
   "metadata": {},
   "source": [
    "    It works!!"
   ]
  },
  {
   "cell_type": "markdown",
   "metadata": {},
   "source": [
    "To get into the position of each label of each side of the pentagon we can write as following:\n",
    "For the dataset [ 0,  1,  3,  6,  7], the traps involved have the labels 0, 1, 3, 6 and 7. To have the positions we simply do KDTree.data[label]"
   ]
  },
  {
   "cell_type": "code",
   "execution_count": 16,
   "metadata": {},
   "outputs": [
    {
     "data": {
      "text/plain": [
       "array([10.86552456, 16.04611353,  0.        ])"
      ]
     },
     "execution_count": 16,
     "metadata": {},
     "output_type": "execute_result"
    }
   ],
   "source": [
    "KDTree.data[1]"
   ]
  },
  {
   "cell_type": "markdown",
   "metadata": {},
   "source": [
    "It would be nice to have a collection of traps positions grouped by the index of the pentagon that belong to. After that, we will need to compare this dataframe with the experimental one, and match the indices. Let's do that:"
   ]
  },
  {
   "cell_type": "code",
   "execution_count": 30,
   "metadata": {},
   "outputs": [],
   "source": [
    "def save_pentagons_and_coord(nn_index, center_pentagon_points):\n",
    "    \n",
    "    \"\"\" This function takes the indices of the spins forming each pentagon and have as an output a dataframe\n",
    "    with the index of the pentagon (form 0 to N) and the coordinates of each spin that belongs to the pentagon.\n",
    "    \n",
    "    In this dataframe we also have coordinate of the center of the pentagons (x_c, y_c, z_c) \"\"\"\n",
    "\n",
    "    index = []\n",
    "    x = []\n",
    "    y = []\n",
    "    z = []\n",
    "    x_c = []\n",
    "    y_c = []\n",
    "    z_c = []\n",
    "\n",
    "    i = 0\n",
    "\n",
    "    for pentagon in nn_index:\n",
    "\n",
    "\n",
    "        for spin_index in pentagon:\n",
    "\n",
    "            index.append(i)\n",
    "            x.append(KDTree.data[spin_index][0])\n",
    "            y.append(KDTree.data[spin_index][1])\n",
    "            z.append(KDTree.data[spin_index][2])\n",
    "            x_c.append(center_pentagon_points[i,0])\n",
    "            y_c.append(center_pentagon_points[i,1])\n",
    "            #x_c.append(0)\n",
    "            #y_c.append(0)\n",
    "            z_c.append(1)\n",
    "\n",
    "        i = i+1\n",
    "\n",
    "\n",
    "    d = {'x': x, 'y': y, 'z': z,'x_c': x_c, 'y_c': y_c, 'z_c': z_c}\n",
    "\n",
    "    df = pd.DataFrame(data=d, index = index)\n",
    "    df.index.name = 'pentagon index'\n",
    "\n",
    "    return df"
   ]
  },
  {
   "cell_type": "code",
   "execution_count": 31,
   "metadata": {},
   "outputs": [],
   "source": [
    "df = save_pentagons_and_coord(nn_index, center_pentagon_points)"
   ]
  },
  {
   "cell_type": "code",
   "execution_count": 32,
   "metadata": {},
   "outputs": [
    {
     "data": {
      "text/html": [
       "<div>\n",
       "<style scoped>\n",
       "    .dataframe tbody tr th:only-of-type {\n",
       "        vertical-align: middle;\n",
       "    }\n",
       "\n",
       "    .dataframe tbody tr th {\n",
       "        vertical-align: top;\n",
       "    }\n",
       "\n",
       "    .dataframe thead th {\n",
       "        text-align: right;\n",
       "    }\n",
       "</style>\n",
       "<table border=\"1\" class=\"dataframe\">\n",
       "  <thead>\n",
       "    <tr style=\"text-align: right;\">\n",
       "      <th></th>\n",
       "      <th>x</th>\n",
       "      <th>y</th>\n",
       "      <th>z</th>\n",
       "      <th>x_c</th>\n",
       "      <th>y_c</th>\n",
       "      <th>z_c</th>\n",
       "    </tr>\n",
       "    <tr>\n",
       "      <th>pentagon index</th>\n",
       "      <th></th>\n",
       "      <th></th>\n",
       "      <th></th>\n",
       "      <th></th>\n",
       "      <th></th>\n",
       "      <th></th>\n",
       "    </tr>\n",
       "  </thead>\n",
       "  <tbody>\n",
       "    <tr>\n",
       "      <th>0</th>\n",
       "      <td>30.305868</td>\n",
       "      <td>10.865525</td>\n",
       "      <td>0.0</td>\n",
       "      <td>18.289541</td>\n",
       "      <td>0.000000</td>\n",
       "      <td>1</td>\n",
       "    </tr>\n",
       "    <tr>\n",
       "      <th>0</th>\n",
       "      <td>30.305868</td>\n",
       "      <td>-10.865525</td>\n",
       "      <td>0.0</td>\n",
       "      <td>18.289541</td>\n",
       "      <td>0.000000</td>\n",
       "      <td>1</td>\n",
       "    </tr>\n",
       "    <tr>\n",
       "      <th>0</th>\n",
       "      <td>10.865525</td>\n",
       "      <td>16.046114</td>\n",
       "      <td>0.0</td>\n",
       "      <td>18.289541</td>\n",
       "      <td>0.000000</td>\n",
       "      <td>1</td>\n",
       "    </tr>\n",
       "    <tr>\n",
       "      <th>0</th>\n",
       "      <td>10.865525</td>\n",
       "      <td>-16.046114</td>\n",
       "      <td>0.0</td>\n",
       "      <td>18.289541</td>\n",
       "      <td>0.000000</td>\n",
       "      <td>1</td>\n",
       "    </tr>\n",
       "    <tr>\n",
       "      <th>0</th>\n",
       "      <td>0.000000</td>\n",
       "      <td>0.000000</td>\n",
       "      <td>0.0</td>\n",
       "      <td>18.289541</td>\n",
       "      <td>0.000000</td>\n",
       "      <td>1</td>\n",
       "    </tr>\n",
       "    <tr>\n",
       "      <th>1</th>\n",
       "      <td>-10.865525</td>\n",
       "      <td>16.046114</td>\n",
       "      <td>0.0</td>\n",
       "      <td>-18.289541</td>\n",
       "      <td>0.000000</td>\n",
       "      <td>1</td>\n",
       "    </tr>\n",
       "    <tr>\n",
       "      <th>1</th>\n",
       "      <td>-10.865525</td>\n",
       "      <td>-16.046114</td>\n",
       "      <td>0.0</td>\n",
       "      <td>-18.289541</td>\n",
       "      <td>0.000000</td>\n",
       "      <td>1</td>\n",
       "    </tr>\n",
       "    <tr>\n",
       "      <th>1</th>\n",
       "      <td>0.000000</td>\n",
       "      <td>0.000000</td>\n",
       "      <td>0.0</td>\n",
       "      <td>-18.289541</td>\n",
       "      <td>0.000000</td>\n",
       "      <td>1</td>\n",
       "    </tr>\n",
       "    <tr>\n",
       "      <th>1</th>\n",
       "      <td>10.865525</td>\n",
       "      <td>16.046114</td>\n",
       "      <td>0.0</td>\n",
       "      <td>-18.289541</td>\n",
       "      <td>0.000000</td>\n",
       "      <td>1</td>\n",
       "    </tr>\n",
       "    <tr>\n",
       "      <th>1</th>\n",
       "      <td>10.865525</td>\n",
       "      <td>-16.046114</td>\n",
       "      <td>0.0</td>\n",
       "      <td>-18.289541</td>\n",
       "      <td>0.000000</td>\n",
       "      <td>1</td>\n",
       "    </tr>\n",
       "    <tr>\n",
       "      <th>2</th>\n",
       "      <td>76.657849</td>\n",
       "      <td>-35.486457</td>\n",
       "      <td>0.0</td>\n",
       "      <td>64.641522</td>\n",
       "      <td>-46.351981</td>\n",
       "      <td>1</td>\n",
       "    </tr>\n",
       "    <tr>\n",
       "      <th>2</th>\n",
       "      <td>76.657849</td>\n",
       "      <td>-57.217506</td>\n",
       "      <td>0.0</td>\n",
       "      <td>64.641522</td>\n",
       "      <td>-46.351981</td>\n",
       "      <td>1</td>\n",
       "    </tr>\n",
       "    <tr>\n",
       "      <th>2</th>\n",
       "      <td>57.217506</td>\n",
       "      <td>-30.305868</td>\n",
       "      <td>0.0</td>\n",
       "      <td>64.641522</td>\n",
       "      <td>-46.351981</td>\n",
       "      <td>1</td>\n",
       "    </tr>\n",
       "    <tr>\n",
       "      <th>2</th>\n",
       "      <td>57.217506</td>\n",
       "      <td>-62.398095</td>\n",
       "      <td>0.0</td>\n",
       "      <td>64.641522</td>\n",
       "      <td>-46.351981</td>\n",
       "      <td>1</td>\n",
       "    </tr>\n",
       "    <tr>\n",
       "      <th>2</th>\n",
       "      <td>46.351981</td>\n",
       "      <td>-46.351981</td>\n",
       "      <td>0.0</td>\n",
       "      <td>64.641522</td>\n",
       "      <td>-46.351981</td>\n",
       "      <td>1</td>\n",
       "    </tr>\n",
       "  </tbody>\n",
       "</table>\n",
       "</div>"
      ],
      "text/plain": [
       "                        x          y    z        x_c        y_c  z_c\n",
       "pentagon index                                                      \n",
       "0               30.305868  10.865525  0.0  18.289541   0.000000    1\n",
       "0               30.305868 -10.865525  0.0  18.289541   0.000000    1\n",
       "0               10.865525  16.046114  0.0  18.289541   0.000000    1\n",
       "0               10.865525 -16.046114  0.0  18.289541   0.000000    1\n",
       "0                0.000000   0.000000  0.0  18.289541   0.000000    1\n",
       "1              -10.865525  16.046114  0.0 -18.289541   0.000000    1\n",
       "1              -10.865525 -16.046114  0.0 -18.289541   0.000000    1\n",
       "1                0.000000   0.000000  0.0 -18.289541   0.000000    1\n",
       "1               10.865525  16.046114  0.0 -18.289541   0.000000    1\n",
       "1               10.865525 -16.046114  0.0 -18.289541   0.000000    1\n",
       "2               76.657849 -35.486457  0.0  64.641522 -46.351981    1\n",
       "2               76.657849 -57.217506  0.0  64.641522 -46.351981    1\n",
       "2               57.217506 -30.305868  0.0  64.641522 -46.351981    1\n",
       "2               57.217506 -62.398095  0.0  64.641522 -46.351981    1\n",
       "2               46.351981 -46.351981  0.0  64.641522 -46.351981    1"
      ]
     },
     "execution_count": 32,
     "metadata": {},
     "output_type": "execute_result"
    }
   ],
   "source": [
    "df.head(15)"
   ]
  },
  {
   "cell_type": "markdown",
   "metadata": {},
   "source": [
    "We save the data to compare it with the experimental one. "
   ]
  },
  {
   "cell_type": "code",
   "execution_count": 33,
   "metadata": {},
   "outputs": [],
   "source": [
    "df.to_csv('Pentagon_coordinates_Script-9.2.dat' , sep='\\t')"
   ]
  },
  {
   "cell_type": "code",
   "execution_count": 34,
   "metadata": {},
   "outputs": [
    {
     "data": {
      "text/html": [
       "<div>\n",
       "<style scoped>\n",
       "    .dataframe tbody tr th:only-of-type {\n",
       "        vertical-align: middle;\n",
       "    }\n",
       "\n",
       "    .dataframe tbody tr th {\n",
       "        vertical-align: top;\n",
       "    }\n",
       "\n",
       "    .dataframe thead th {\n",
       "        text-align: right;\n",
       "    }\n",
       "</style>\n",
       "<table border=\"1\" class=\"dataframe\">\n",
       "  <thead>\n",
       "    <tr style=\"text-align: right;\">\n",
       "      <th></th>\n",
       "      <th>x</th>\n",
       "      <th>y</th>\n",
       "      <th>z</th>\n",
       "      <th>x_c</th>\n",
       "      <th>y_c</th>\n",
       "      <th>z_c</th>\n",
       "    </tr>\n",
       "    <tr>\n",
       "      <th>pentagon index</th>\n",
       "      <th></th>\n",
       "      <th></th>\n",
       "      <th></th>\n",
       "      <th></th>\n",
       "      <th></th>\n",
       "      <th></th>\n",
       "    </tr>\n",
       "  </thead>\n",
       "  <tbody>\n",
       "    <tr>\n",
       "      <th>0</th>\n",
       "      <td>30.305868</td>\n",
       "      <td>10.865525</td>\n",
       "      <td>0.0</td>\n",
       "      <td>18.289541</td>\n",
       "      <td>0.000000</td>\n",
       "      <td>1</td>\n",
       "    </tr>\n",
       "    <tr>\n",
       "      <th>0</th>\n",
       "      <td>30.305868</td>\n",
       "      <td>-10.865525</td>\n",
       "      <td>0.0</td>\n",
       "      <td>18.289541</td>\n",
       "      <td>0.000000</td>\n",
       "      <td>1</td>\n",
       "    </tr>\n",
       "    <tr>\n",
       "      <th>0</th>\n",
       "      <td>10.865525</td>\n",
       "      <td>16.046114</td>\n",
       "      <td>0.0</td>\n",
       "      <td>18.289541</td>\n",
       "      <td>0.000000</td>\n",
       "      <td>1</td>\n",
       "    </tr>\n",
       "    <tr>\n",
       "      <th>0</th>\n",
       "      <td>10.865525</td>\n",
       "      <td>-16.046114</td>\n",
       "      <td>0.0</td>\n",
       "      <td>18.289541</td>\n",
       "      <td>0.000000</td>\n",
       "      <td>1</td>\n",
       "    </tr>\n",
       "    <tr>\n",
       "      <th>0</th>\n",
       "      <td>0.000000</td>\n",
       "      <td>0.000000</td>\n",
       "      <td>0.0</td>\n",
       "      <td>18.289541</td>\n",
       "      <td>0.000000</td>\n",
       "      <td>1</td>\n",
       "    </tr>\n",
       "    <tr>\n",
       "      <th>...</th>\n",
       "      <td>...</td>\n",
       "      <td>...</td>\n",
       "      <td>...</td>\n",
       "      <td>...</td>\n",
       "      <td>...</td>\n",
       "      <td>...</td>\n",
       "    </tr>\n",
       "    <tr>\n",
       "      <th>799</th>\n",
       "      <td>818.289550</td>\n",
       "      <td>-891.553169</td>\n",
       "      <td>0.0</td>\n",
       "      <td>834.335663</td>\n",
       "      <td>-898.977185</td>\n",
       "      <td>1</td>\n",
       "    </tr>\n",
       "    <tr>\n",
       "      <th>799</th>\n",
       "      <td>850.381777</td>\n",
       "      <td>-891.553169</td>\n",
       "      <td>0.0</td>\n",
       "      <td>834.335663</td>\n",
       "      <td>-898.977185</td>\n",
       "      <td>1</td>\n",
       "    </tr>\n",
       "    <tr>\n",
       "      <th>799</th>\n",
       "      <td>834.335663</td>\n",
       "      <td>-880.687645</td>\n",
       "      <td>0.0</td>\n",
       "      <td>834.335663</td>\n",
       "      <td>-898.977185</td>\n",
       "      <td>1</td>\n",
       "    </tr>\n",
       "    <tr>\n",
       "      <th>799</th>\n",
       "      <td>850.381777</td>\n",
       "      <td>-869.822120</td>\n",
       "      <td>0.0</td>\n",
       "      <td>834.335663</td>\n",
       "      <td>-898.977185</td>\n",
       "      <td>1</td>\n",
       "    </tr>\n",
       "    <tr>\n",
       "      <th>799</th>\n",
       "      <td>818.289550</td>\n",
       "      <td>-869.822120</td>\n",
       "      <td>0.0</td>\n",
       "      <td>834.335663</td>\n",
       "      <td>-898.977185</td>\n",
       "      <td>1</td>\n",
       "    </tr>\n",
       "  </tbody>\n",
       "</table>\n",
       "<p>4000 rows × 6 columns</p>\n",
       "</div>"
      ],
      "text/plain": [
       "                         x           y    z         x_c         y_c  z_c\n",
       "pentagon index                                                          \n",
       "0                30.305868   10.865525  0.0   18.289541    0.000000    1\n",
       "0                30.305868  -10.865525  0.0   18.289541    0.000000    1\n",
       "0                10.865525   16.046114  0.0   18.289541    0.000000    1\n",
       "0                10.865525  -16.046114  0.0   18.289541    0.000000    1\n",
       "0                 0.000000    0.000000  0.0   18.289541    0.000000    1\n",
       "...                    ...         ...  ...         ...         ...  ...\n",
       "799             818.289550 -891.553169  0.0  834.335663 -898.977185    1\n",
       "799             850.381777 -891.553169  0.0  834.335663 -898.977185    1\n",
       "799             834.335663 -880.687645  0.0  834.335663 -898.977185    1\n",
       "799             850.381777 -869.822120  0.0  834.335663 -898.977185    1\n",
       "799             818.289550 -869.822120  0.0  834.335663 -898.977185    1\n",
       "\n",
       "[4000 rows x 6 columns]"
      ]
     },
     "execution_count": 34,
     "metadata": {},
     "output_type": "execute_result"
    }
   ],
   "source": [
    "df"
   ]
  },
  {
   "cell_type": "code",
   "execution_count": null,
   "metadata": {},
   "outputs": [],
   "source": []
  },
  {
   "cell_type": "code",
   "execution_count": null,
   "metadata": {},
   "outputs": [],
   "source": []
  }
 ],
 "metadata": {
  "kernelspec": {
   "display_name": "Python 3",
   "language": "python",
   "name": "python3"
  },
  "language_info": {
   "codemirror_mode": {
    "name": "ipython",
    "version": 3
   },
   "file_extension": ".py",
   "mimetype": "text/x-python",
   "name": "python",
   "nbconvert_exporter": "python",
   "pygments_lexer": "ipython3",
   "version": "3.7.6"
  }
 },
 "nbformat": 4,
 "nbformat_minor": 4
}
