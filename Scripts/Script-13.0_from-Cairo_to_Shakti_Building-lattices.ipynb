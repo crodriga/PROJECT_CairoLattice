{
 "cells": [
  {
   "cell_type": "code",
   "execution_count": 3,
   "metadata": {},
   "outputs": [],
   "source": [
    "import numpy as np"
   ]
  },
  {
   "cell_type": "code",
   "execution_count": 4,
   "metadata": {},
   "outputs": [
    {
     "data": {
      "text/plain": [
       "46.38041658417428"
      ]
     },
     "execution_count": 4,
     "metadata": {},
     "output_type": "execute_result"
    }
   ],
   "source": [
    "torad = np.pi/180\n",
    "\n",
    "# <Parameters from the Cairo lattice>\n",
    "a = 19.5458\n",
    "l = 1.37*a\n",
    "\n",
    "2*l*np.cos(30*torad)"
   ]
  },
  {
   "cell_type": "code",
   "execution_count": 5,
   "metadata": {},
   "outputs": [
    {
     "data": {
      "text/plain": [
       "56.76955262170048"
      ]
     },
     "execution_count": 5,
     "metadata": {},
     "output_type": "execute_result"
    }
   ],
   "source": [
    "trap_sep = 10 # Short trap\n",
    "radius = 5\n",
    "distance = 3\n",
    "interparticle_distance = 2*radius + distance # distance among a particle next to the other \n",
    "part_d = interparticle_distance*np.cos(np.pi/4) # distance among a particle in front of the other \n",
    "plaquette_cte = part_d*4+2*trap_sep\n",
    "plaquette_cte"
   ]
  },
  {
   "cell_type": "code",
   "execution_count": null,
   "metadata": {},
   "outputs": [],
   "source": []
  }
 ],
 "metadata": {
  "kernelspec": {
   "display_name": "Python 3",
   "language": "python",
   "name": "python3"
  },
  "language_info": {
   "codemirror_mode": {
    "name": "ipython",
    "version": 3
   },
   "file_extension": ".py",
   "mimetype": "text/x-python",
   "name": "python",
   "nbconvert_exporter": "python",
   "pygments_lexer": "ipython3",
   "version": "3.7.6"
  }
 },
 "nbformat": 4,
 "nbformat_minor": 4
}
