{
 "cells": [
  {
   "cell_type": "code",
   "execution_count": 1,
   "metadata": {},
   "outputs": [],
   "source": [
    "import os\n",
    "import sys\n",
    "import numpy as np\n",
    "import pandas as pd\n",
    "import csv as csv\n",
    "import tqdm.auto as tqdm\n",
    "from multiprocessing import Pool\n",
    "from importlib import reload  \n",
    "import support as sup\n",
    "reload(sup)\n",
    "sys.path.insert(0, '../icenumerics')\n",
    "\n",
    "import icenumerics as ice\n",
    "from icenumerics.geometry import ordering \n",
    "import magcolloids as mgc\n",
    "from string import Template\n",
    "\n",
    "\n",
    "import matplotlib.pyplot as plt\n",
    "import time\n",
    "ureg = ice.ureg"
   ]
  },
  {
   "cell_type": "code",
   "execution_count": 2,
   "metadata": {},
   "outputs": [],
   "source": [
    "output = \"/home/carolina/CairoLattice_ACI_PROJECT/Scripts/Output_Script-5.0\""
   ]
  },
  {
   "cell_type": "markdown",
   "metadata": {},
   "source": [
    "# Cairo Lattice \n",
    "\n",
    "    In this script I will run the preliminarly simulations. I will run simulations in parallel and I will also extract the vertices pandas dataframes to analyze the vertex evolution in front of the interaction strenght."
   ]
  },
  {
   "cell_type": "code",
   "execution_count": 3,
   "metadata": {},
   "outputs": [],
   "source": [
    "def do_everything(exp_entry):\n",
    "    \n",
    "    e = exp_entry[1].e \n",
    "    l = exp_entry[1].l\n",
    "    \n",
    "    # <To change the seed of the thermal noise>\n",
    "    \n",
    "    np.random.seed()\n",
    "    \n",
    "    # <Introduce the parameters for the simulation>\n",
    "\n",
    "    sp = sup.spins()\n",
    "    ureg = ice.ureg\n",
    "    sp.create_lattice(geometry = \"cairo\",size =[l,l],lattice_constant=19.5458*ureg.um, border=\"closed spin\")\n",
    "    sp.order_spins(ordering.random_ordering)\n",
    "\n",
    "    particle = ice.particle(radius = 5*ureg.um,\n",
    "                 susceptibility = 0.005,\n",
    "                 diffusion = 0.125*ureg.um**2/ureg.s,\n",
    "                 temperature = 300*ureg.K,\n",
    "                 density = 1000*ureg.kg/ureg.m**3)\n",
    "\n",
    "    trap_long = ice.trap(trap_sep = 10*ureg.um,\n",
    "                   height = 30*ureg.pN*ureg.nm,\n",
    "                   stiffness = 6e-4*ureg.pN/ureg.nm)\n",
    "\n",
    "    trap_short = ice.trap(trap_sep = 4.5258*ureg.um,\n",
    "                   height = 30*ureg.pN*ureg.nm,\n",
    "                   stiffness = 6e-4*ureg.pN/ureg.nm)\n",
    "\n",
    "    traps = []\n",
    "\n",
    "    # <In this loop, I will define which traps have to be shortere>\n",
    "\n",
    "    for s in sp:\n",
    "\n",
    "        if ( s.direction[0].magnitude == 1.0 or s.direction[0].magnitude == -1.0 or \n",
    "            s.direction[1].magnitude == 1.0 or s.direction[1].magnitude == -1.0 ):\n",
    "\n",
    "            traps.append(trap_short)\n",
    "\n",
    "        else:\n",
    "\n",
    "            traps.append(trap_long) \n",
    "\n",
    "    col = ice.colloidal_ice(sp, particle, traps, height_spread = 0, susceptibility_spread = 0.1)\n",
    "\n",
    "    col.pad_region(30*ureg.um) # Why is this important?? Whitout this line the simulation do not run.  \n",
    "    \n",
    "    # <Introduce the simulation parameters>\n",
    "    \n",
    "    world = ice.world(\n",
    "        field = 25*ureg.mT,\n",
    "        temperature = 300*ureg.K,\n",
    "        dipole_cutoff = 200*ureg.um)\n",
    "    \n",
    "    change_m_time = 1200*ureg.s\n",
    "    total_time = change_m_time*2\n",
    "    col.simulate(world,\n",
    "                 name = \"ACI_CairoLattice_25mT-2400s_1cycle_HigherHill_l%u_exp%u\"%(l,e),\n",
    "                 include_timestamp = False,\n",
    "                 targetdir = output,\n",
    "                 framerate = 1*ureg.Hz,\n",
    "                 timestep = 10*ureg.ms,\n",
    "                 run_time = total_time,\n",
    "                 output = [\"x\",\"y\",\"z\",\"mux\",\"muy\",\"muz\"])\n",
    "\n",
    "    string_field = \"(time<$Qt)*v_Bmag*time/%f+(time>=$Qt)*v_Bmag*$Qt/$Qt-(time>=$Qt)*v_Bmag*(time-$Qt)/$Qt\"\n",
    "    field_s = Template(string_field)\n",
    "    field_d = field_s.substitute(Qt = change_m_time.to(ureg.us).magnitude)\n",
    "    col.sim.field.fieldz = field_d%(change_m_time.to(ureg.us).magnitude)\n",
    "    col.run_simulation()\n",
    "    \n",
    "#     # <Load simulation and compute vertices dataframes>\n",
    "    \n",
    "#     col.load_simulation(slice(0,None,1))\n",
    "\n",
    "#     frames = col.trj.index.get_level_values(\"frame\").unique()\n",
    "\n",
    "#     v_df = []\n",
    "\n",
    "#     for f in tqdm.tqdm(frames[::1]):\n",
    "#         col.set_state_from_frame(f)\n",
    "#         v = ice.vertices()\n",
    "#         v = v.colloids_to_vertices(col)\n",
    "\n",
    "#         v_df.append(v.vertices)\n",
    "\n",
    "#     v_df = pd.concat(v_df, keys=frames[::1], names = [\"frame\"])\n",
    "    \n",
    "#     # <Save the dataframe and create index of the runned simulation>\n",
    "    \n",
    "#     v_df.to_csv(os.path.join(output,\"ACI_CairoLattice_20mT-1200s_l%u_exp%u\"%(l,e)+\".dat\"), sep='\\t')\n",
    "    \n",
    "    name = os.path.split(col.sim.base_name)[1]\n",
    "    with open(os.path.join(output,\"index_Cairo_25mT-2400s_1cycle_HigherHill.dat\"),'a',newline='') as file:\n",
    "        writer = csv.writer(file,delimiter='\\t')\n",
    "        writer.writerow([name, l, e])"
   ]
  },
  {
   "cell_type": "code",
   "execution_count": 4,
   "metadata": {
    "scrolled": true
   },
   "outputs": [
    {
     "data": {
      "text/html": [
       "<div>\n",
       "<style scoped>\n",
       "    .dataframe tbody tr th:only-of-type {\n",
       "        vertical-align: middle;\n",
       "    }\n",
       "\n",
       "    .dataframe tbody tr th {\n",
       "        vertical-align: top;\n",
       "    }\n",
       "\n",
       "    .dataframe thead th {\n",
       "        text-align: right;\n",
       "    }\n",
       "</style>\n",
       "<table border=\"1\" class=\"dataframe\">\n",
       "  <thead>\n",
       "    <tr style=\"text-align: right;\">\n",
       "      <th></th>\n",
       "      <th>e</th>\n",
       "      <th>l</th>\n",
       "    </tr>\n",
       "  </thead>\n",
       "  <tbody>\n",
       "    <tr>\n",
       "      <th>0</th>\n",
       "      <td>0</td>\n",
       "      <td>10</td>\n",
       "    </tr>\n",
       "    <tr>\n",
       "      <th>1</th>\n",
       "      <td>1</td>\n",
       "      <td>10</td>\n",
       "    </tr>\n",
       "    <tr>\n",
       "      <th>2</th>\n",
       "      <td>2</td>\n",
       "      <td>10</td>\n",
       "    </tr>\n",
       "    <tr>\n",
       "      <th>3</th>\n",
       "      <td>3</td>\n",
       "      <td>10</td>\n",
       "    </tr>\n",
       "    <tr>\n",
       "      <th>4</th>\n",
       "      <td>4</td>\n",
       "      <td>10</td>\n",
       "    </tr>\n",
       "    <tr>\n",
       "      <th>5</th>\n",
       "      <td>5</td>\n",
       "      <td>10</td>\n",
       "    </tr>\n",
       "    <tr>\n",
       "      <th>6</th>\n",
       "      <td>6</td>\n",
       "      <td>10</td>\n",
       "    </tr>\n",
       "    <tr>\n",
       "      <th>7</th>\n",
       "      <td>7</td>\n",
       "      <td>10</td>\n",
       "    </tr>\n",
       "    <tr>\n",
       "      <th>8</th>\n",
       "      <td>8</td>\n",
       "      <td>10</td>\n",
       "    </tr>\n",
       "    <tr>\n",
       "      <th>9</th>\n",
       "      <td>9</td>\n",
       "      <td>10</td>\n",
       "    </tr>\n",
       "  </tbody>\n",
       "</table>\n",
       "</div>"
      ],
      "text/plain": [
       "   e   l\n",
       "0  0  10\n",
       "1  1  10\n",
       "2  2  10\n",
       "3  3  10\n",
       "4  4  10\n",
       "5  5  10\n",
       "6  6  10\n",
       "7  7  10\n",
       "8  8  10\n",
       "9  9  10"
      ]
     },
     "execution_count": 4,
     "metadata": {},
     "output_type": "execute_result"
    }
   ],
   "source": [
    "e =  np.arange(0,10)\n",
    "l =  [10]\n",
    "L, E = np.meshgrid(l,e)\n",
    "experiments = pd.DataFrame({\"e\":E.flatten(),\"l\":L.flatten()})\n",
    "experiments"
   ]
  },
  {
   "cell_type": "code",
   "execution_count": 5,
   "metadata": {},
   "outputs": [
    {
     "name": "stderr",
     "output_type": "stream",
     "text": [
      "/home/carolina/CairoLattice_ACI_PROJECT/Scripts/support.py:62: UnitStrippedWarning: The unit of the quantity is stripped when downcasting to ndarray.\n",
      "  new[:,0] = centers_toAddX\n"
     ]
    },
    {
     "data": {
      "application/vnd.jupyter.widget-view+json": {
       "model_id": "01520e43678c4ec68b260fdc776807f0",
       "version_major": 2,
       "version_minor": 0
      },
      "text/plain": [
       "HBox(children=(FloatProgress(value=0.0, max=10.0), HTML(value='')))"
      ]
     },
     "metadata": {},
     "output_type": "display_data"
    },
    {
     "name": "stderr",
     "output_type": "stream",
     "text": [
      "/home/carolina/CairoLattice_ACI_PROJECT/Scripts/support.py:62: UnitStrippedWarning: The unit of the quantity is stripped when downcasting to ndarray.\n",
      "  new[:,0] = centers_toAddX\n",
      "/home/carolina/CairoLattice_ACI_PROJECT/Scripts/support.py:62: UnitStrippedWarning: The unit of the quantity is stripped when downcasting to ndarray.\n",
      "  new[:,0] = centers_toAddX\n",
      "/home/carolina/CairoLattice_ACI_PROJECT/Scripts/support.py:63: UnitStrippedWarning: The unit of the quantity is stripped when downcasting to ndarray.\n",
      "  new[:,1] = centers_toAddY\n",
      "/home/carolina/CairoLattice_ACI_PROJECT/Scripts/support.py:63: UnitStrippedWarning: The unit of the quantity is stripped when downcasting to ndarray.\n",
      "  new[:,1] = centers_toAddY\n",
      "/home/carolina/CairoLattice_ACI_PROJECT/Scripts/support.py:63: UnitStrippedWarning: The unit of the quantity is stripped when downcasting to ndarray.\n",
      "  new[:,1] = centers_toAddY\n",
      "/home/carolina/CairoLattice_ACI_PROJECT/Scripts/support.py:170: UnitStrippedWarning: The unit of the quantity is stripped when downcasting to ndarray.\n",
      "  new_centers[:,1] = centersY\n",
      "/home/carolina/CairoLattice_ACI_PROJECT/Scripts/support.py:170: UnitStrippedWarning: The unit of the quantity is stripped when downcasting to ndarray.\n",
      "  new_centers[:,1] = centersY\n",
      "/home/carolina/CairoLattice_ACI_PROJECT/Scripts/support.py:170: UnitStrippedWarning: The unit of the quantity is stripped when downcasting to ndarray.\n",
      "  new_centers[:,1] = centersY\n",
      "/home/carolina/CairoLattice_ACI_PROJECT/Scripts/support.py:62: UnitStrippedWarning: The unit of the quantity is stripped when downcasting to ndarray.\n",
      "  new[:,0] = centers_toAddX\n",
      "/home/carolina/CairoLattice_ACI_PROJECT/Scripts/support.py:62: UnitStrippedWarning: The unit of the quantity is stripped when downcasting to ndarray.\n",
      "  new[:,0] = centers_toAddX\n",
      "/home/carolina/CairoLattice_ACI_PROJECT/Scripts/support.py:62: UnitStrippedWarning: The unit of the quantity is stripped when downcasting to ndarray.\n",
      "  new[:,0] = centers_toAddX\n",
      "/home/carolina/CairoLattice_ACI_PROJECT/Scripts/support.py:62: UnitStrippedWarning: The unit of the quantity is stripped when downcasting to ndarray.\n",
      "  new[:,0] = centers_toAddX\n",
      "/home/carolina/CairoLattice_ACI_PROJECT/Scripts/support.py:63: UnitStrippedWarning: The unit of the quantity is stripped when downcasting to ndarray.\n",
      "  new[:,1] = centers_toAddY\n",
      "/home/carolina/CairoLattice_ACI_PROJECT/Scripts/support.py:63: UnitStrippedWarning: The unit of the quantity is stripped when downcasting to ndarray.\n",
      "  new[:,1] = centers_toAddY\n",
      "/home/carolina/CairoLattice_ACI_PROJECT/Scripts/support.py:63: UnitStrippedWarning: The unit of the quantity is stripped when downcasting to ndarray.\n",
      "  new[:,1] = centers_toAddY\n",
      "/home/carolina/CairoLattice_ACI_PROJECT/Scripts/support.py:63: UnitStrippedWarning: The unit of the quantity is stripped when downcasting to ndarray.\n",
      "  new[:,1] = centers_toAddY\n",
      "/home/carolina/CairoLattice_ACI_PROJECT/Scripts/support.py:170: UnitStrippedWarning: The unit of the quantity is stripped when downcasting to ndarray.\n",
      "  new_centers[:,1] = centersY\n",
      "/home/carolina/CairoLattice_ACI_PROJECT/Scripts/support.py:170: UnitStrippedWarning: The unit of the quantity is stripped when downcasting to ndarray.\n",
      "  new_centers[:,1] = centersY\n",
      "/home/carolina/CairoLattice_ACI_PROJECT/Scripts/support.py:170: UnitStrippedWarning: The unit of the quantity is stripped when downcasting to ndarray.\n",
      "  new_centers[:,1] = centersY\n",
      "/home/carolina/CairoLattice_ACI_PROJECT/Scripts/support.py:170: UnitStrippedWarning: The unit of the quantity is stripped when downcasting to ndarray.\n",
      "  new_centers[:,1] = centersY\n",
      "/home/carolina/CairoLattice_ACI_PROJECT/Scripts/support.py:62: UnitStrippedWarning: The unit of the quantity is stripped when downcasting to ndarray.\n",
      "  new[:,0] = centers_toAddX\n",
      "/home/carolina/CairoLattice_ACI_PROJECT/Scripts/support.py:62: UnitStrippedWarning: The unit of the quantity is stripped when downcasting to ndarray.\n",
      "  new[:,0] = centers_toAddX\n",
      "/home/carolina/CairoLattice_ACI_PROJECT/Scripts/support.py:62: UnitStrippedWarning: The unit of the quantity is stripped when downcasting to ndarray.\n",
      "  new[:,0] = centers_toAddX\n",
      "/home/carolina/CairoLattice_ACI_PROJECT/Scripts/support.py:63: UnitStrippedWarning: The unit of the quantity is stripped when downcasting to ndarray.\n",
      "  new[:,1] = centers_toAddY\n",
      "/home/carolina/CairoLattice_ACI_PROJECT/Scripts/support.py:63: UnitStrippedWarning: The unit of the quantity is stripped when downcasting to ndarray.\n",
      "  new[:,1] = centers_toAddY\n",
      "/home/carolina/CairoLattice_ACI_PROJECT/Scripts/support.py:63: UnitStrippedWarning: The unit of the quantity is stripped when downcasting to ndarray.\n",
      "  new[:,1] = centers_toAddY\n",
      "/home/carolina/CairoLattice_ACI_PROJECT/Scripts/support.py:170: UnitStrippedWarning: The unit of the quantity is stripped when downcasting to ndarray.\n",
      "  new_centers[:,1] = centersY\n",
      "/home/carolina/CairoLattice_ACI_PROJECT/Scripts/support.py:170: UnitStrippedWarning: The unit of the quantity is stripped when downcasting to ndarray.\n",
      "  new_centers[:,1] = centersY\n",
      "/home/carolina/CairoLattice_ACI_PROJECT/Scripts/support.py:170: UnitStrippedWarning: The unit of the quantity is stripped when downcasting to ndarray.\n",
      "  new_centers[:,1] = centersY\n"
     ]
    },
    {
     "name": "stdout",
     "output_type": "stream",
     "text": [
      "scanning file\n"
     ]
    },
    {
     "data": {
      "application/vnd.jupyter.widget-view+json": {
       "model_id": "1a36b1b29b3e4ffd8508a84929a01236",
       "version_major": 2,
       "version_minor": 0
      },
      "text/plain": [
       "HBox(children=(FloatProgress(value=0.0, max=394843348.0), HTML(value='')))"
      ]
     },
     "metadata": {},
     "output_type": "display_data"
    },
    {
     "name": "stdout",
     "output_type": "stream",
     "text": [
      "scanning file\n"
     ]
    },
    {
     "data": {
      "application/vnd.jupyter.widget-view+json": {
       "model_id": "08a1f0e53afd43108a3fec3289fff6d5",
       "version_major": 2,
       "version_minor": 0
      },
      "text/plain": [
       "HBox(children=(FloatProgress(value=0.0, max=394879925.0), HTML(value='')))"
      ]
     },
     "metadata": {},
     "output_type": "display_data"
    },
    {
     "name": "stdout",
     "output_type": "stream",
     "text": [
      "scanning file\n"
     ]
    },
    {
     "data": {
      "application/vnd.jupyter.widget-view+json": {
       "model_id": "337a9c37ed014937b7e4516678e7f1d2",
       "version_major": 2,
       "version_minor": 0
      },
      "text/plain": [
       "HBox(children=(FloatProgress(value=0.0, max=394923184.0), HTML(value='')))"
      ]
     },
     "metadata": {},
     "output_type": "display_data"
    },
    {
     "name": "stdout",
     "output_type": "stream",
     "text": [
      "scanning file\n"
     ]
    },
    {
     "data": {
      "application/vnd.jupyter.widget-view+json": {
       "model_id": "14b3d8ed125440b7bac87a67a32198ae",
       "version_major": 2,
       "version_minor": 0
      },
      "text/plain": [
       "HBox(children=(FloatProgress(value=0.0, max=394934865.0), HTML(value='')))"
      ]
     },
     "metadata": {},
     "output_type": "display_data"
    },
    {
     "name": "stdout",
     "output_type": "stream",
     "text": [
      "scanning file\n"
     ]
    },
    {
     "data": {
      "application/vnd.jupyter.widget-view+json": {
       "model_id": "fb1a129731724b87aff40f7f9e9a6c32",
       "version_major": 2,
       "version_minor": 0
      },
      "text/plain": [
       "HBox(children=(FloatProgress(value=0.0, max=394950071.0), HTML(value='')))"
      ]
     },
     "metadata": {},
     "output_type": "display_data"
    },
    {
     "name": "stdout",
     "output_type": "stream",
     "text": [
      "scanning file\n"
     ]
    },
    {
     "data": {
      "application/vnd.jupyter.widget-view+json": {
       "model_id": "35b0ec888f624648b6ce131e58ac2bae",
       "version_major": 2,
       "version_minor": 0
      },
      "text/plain": [
       "HBox(children=(FloatProgress(value=0.0, max=394843896.0), HTML(value='')))"
      ]
     },
     "metadata": {},
     "output_type": "display_data"
    },
    {
     "name": "stdout",
     "output_type": "stream",
     "text": [
      "scanning file\n"
     ]
    },
    {
     "data": {
      "application/vnd.jupyter.widget-view+json": {
       "model_id": "058b465034fc47fe9b6b7a1313f52104",
       "version_major": 2,
       "version_minor": 0
      },
      "text/plain": [
       "HBox(children=(FloatProgress(value=0.0, max=394777911.0), HTML(value='')))"
      ]
     },
     "metadata": {},
     "output_type": "display_data"
    },
    {
     "name": "stdout",
     "output_type": "stream",
     "text": [
      "scanning file\n"
     ]
    },
    {
     "data": {
      "application/vnd.jupyter.widget-view+json": {
       "model_id": "00d6caf7d47342228da61b7d4a310a0f",
       "version_major": 2,
       "version_minor": 0
      },
      "text/plain": [
       "HBox(children=(FloatProgress(value=0.0, max=394995858.0), HTML(value='')))"
      ]
     },
     "metadata": {},
     "output_type": "display_data"
    },
    {
     "name": "stdout",
     "output_type": "stream",
     "text": [
      "scanning file\n"
     ]
    },
    {
     "data": {
      "application/vnd.jupyter.widget-view+json": {
       "model_id": "7b993455847546c09f058f30a1a3bbc0",
       "version_major": 2,
       "version_minor": 0
      },
      "text/plain": [
       "HBox(children=(FloatProgress(value=0.0, max=395067536.0), HTML(value='')))"
      ]
     },
     "metadata": {},
     "output_type": "display_data"
    },
    {
     "name": "stdout",
     "output_type": "stream",
     "text": [
      "scanning file\n"
     ]
    },
    {
     "data": {
      "application/vnd.jupyter.widget-view+json": {
       "model_id": "0b847a94c71142e19e2398feb16a5be1",
       "version_major": 2,
       "version_minor": 0
      },
      "text/plain": [
       "HBox(children=(FloatProgress(value=0.0, max=394932836.0), HTML(value='')))"
      ]
     },
     "metadata": {},
     "output_type": "display_data"
    },
    {
     "name": "stdout",
     "output_type": "stream",
     "text": [
      "\n"
     ]
    }
   ],
   "source": [
    "# %%time\n",
    "if __name__ ==  '__main__': \n",
    "    num_processors = 10\n",
    "    p=Pool(processes = num_processors)\n",
    "    \n",
    "    ## Create index text file\n",
    "    if not os.path.exists(output):\n",
    "        os.makedirs(output)\n",
    "    with open(os.path.join(output,\"index_Cairo_25mT-2400s_1cycle_CondD.dat\"),'w',newline='') as file:\n",
    "        writer = csv.writer(file,delimiter='\\t')\n",
    "        writer.writerow([\"filename\", \"l\", \"exp\"])\n",
    "        \n",
    "    list(tqdm.tqdm(p.imap(do_everything, experiments.iterrows()), total=len(experiments)))"
   ]
  },
  {
   "cell_type": "code",
   "execution_count": null,
   "metadata": {},
   "outputs": [],
   "source": []
  }
 ],
 "metadata": {
  "kernelspec": {
   "display_name": "Python 3",
   "language": "python",
   "name": "python3"
  },
  "language_info": {
   "codemirror_mode": {
    "name": "ipython",
    "version": 3
   },
   "file_extension": ".py",
   "mimetype": "text/x-python",
   "name": "python",
   "nbconvert_exporter": "python",
   "pygments_lexer": "ipython3",
   "version": "3.7.6"
  }
 },
 "nbformat": 4,
 "nbformat_minor": 4
}
