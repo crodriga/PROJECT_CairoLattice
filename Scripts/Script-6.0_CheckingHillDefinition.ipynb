{
 "cells": [
  {
   "cell_type": "markdown",
   "metadata": {},
   "source": [
    "# Cheking hill shape\n",
    "\n",
    "    In this script, we will run a simulation of two particles one in a long trap and the other in a short trap of the cairo lattice. We will set B = 0 mT along the whole experiment and we will focus our attention in the diffusion of the particle along the trap. This way we'll be able to check the shape of the biharmonical trap. We follow the idea of: https://aortiza.github.io/icenumerics/OtherNotebooks/ForcesOfTheSimulation.html  "
   ]
  },
  {
   "cell_type": "code",
   "execution_count": 1,
   "metadata": {},
   "outputs": [],
   "source": [
    "import sys\n",
    "import numpy as np\n",
    "from importlib import reload  \n",
    "import support as sup\n",
    "reload(sup)\n",
    "sys.path.insert(0, '../icenumerics')\n",
    "\n",
    "import icenumerics as ice\n",
    "from icenumerics.geometry import ordering \n",
    "\n",
    "import matplotlib.pyplot as plt\n",
    "ureg = ice.ureg"
   ]
  },
  {
   "cell_type": "code",
   "execution_count": 2,
   "metadata": {},
   "outputs": [],
   "source": [
    "output = \"/home/carolina/CairoLattice_ACI_PROJECT/Scripts/Output_Script-6.0\""
   ]
  },
  {
   "cell_type": "code",
   "execution_count": 3,
   "metadata": {},
   "outputs": [
    {
     "name": "stderr",
     "output_type": "stream",
     "text": [
      "/home/carolina/CairoLattice_ACI_PROJECT/Scripts/support.py:62: UnitStrippedWarning: The unit of the quantity is stripped when downcasting to ndarray.\n",
      "  new[:,0] = centers_toAddX\n",
      "/home/carolina/CairoLattice_ACI_PROJECT/Scripts/support.py:63: UnitStrippedWarning: The unit of the quantity is stripped when downcasting to ndarray.\n",
      "  new[:,1] = centers_toAddY\n"
     ]
    }
   ],
   "source": [
    "centers, directions = sup.unit_cell_Cairo(20)"
   ]
  },
  {
   "cell_type": "code",
   "execution_count": 4,
   "metadata": {},
   "outputs": [
    {
     "data": {
      "text/html": [
       "\\[\\begin{pmatrix}0 & 0 & 0\\\\ \n",
       "0 & 11 & 0\\end{pmatrix} micrometer\\]"
      ],
      "text/latex": [
       "$\\begin{pmatrix}0 & 0 & 0\\\\ \n",
       "0 & 11 & 0\\end{pmatrix}\\ \\mathrm{micrometer}$"
      ],
      "text/plain": [
       "array([[ 0,  0,  0],\n",
       "       [ 0, 11,  0]]) <Unit('micrometer')>"
      ]
     },
     "execution_count": 4,
     "metadata": {},
     "output_type": "execute_result"
    }
   ],
   "source": [
    "centers = [[0,0,0],[0,11,0]]*ureg.um\n",
    "directions = directions[:2]\n",
    "centers"
   ]
  },
  {
   "cell_type": "code",
   "execution_count": 5,
   "metadata": {},
   "outputs": [
    {
     "data": {
      "text/plain": [
       "(-0.32999999999999996, 11.967999999999998, -0.649, 11.648999999999997)"
      ]
     },
     "execution_count": 5,
     "metadata": {},
     "output_type": "execute_result"
    },
    {
     "data": {
      "image/png": "[encoded data removed]",
      "text/plain": [
       "<Figure size 576x576 with 1 Axes>"
      ]
     },
     "metadata": {
      "needs_background": "light"
     },
     "output_type": "display_data"
    }
   ],
   "source": [
    "sp = ice.spins(centers = centers, directions = [[1,0,0],[1,0,0]]*ureg.um)\n",
    "\n",
    "f, (ax1) = plt.subplots(1,1,figsize = (8,8))\n",
    "sp.display(ax1)\n",
    "\n",
    "plt.axis('square')"
   ]
  },
  {
   "cell_type": "code",
   "execution_count": 6,
   "metadata": {},
   "outputs": [],
   "source": [
    "particle = ice.particle(radius = 5*ureg.um,\n",
    "             susceptibility = 0.005,\n",
    "             diffusion = 1*ureg.um**2/ureg.s,\n",
    "             temperature = 300*ureg.K,\n",
    "             density = 1000*ureg.kg/ureg.m**3)\n",
    "\n",
    "trap_long = ice.trap(trap_sep = 10*ureg.um,\n",
    "               height = 30*ureg.pN*ureg.nm,\n",
    "               stiffness = 0.1*ureg.fN/ureg.nm)\n",
    "\n",
    "trap_short = ice.trap(trap_sep = 4.5258*ureg.um,\n",
    "               height = 30*ureg.pN*ureg.nm,\n",
    "               stiffness = 0.1*ureg.fN/ureg.nm)\n",
    "\n",
    "traps = [trap_short,trap_long]"
   ]
  },
  {
   "cell_type": "code",
   "execution_count": 7,
   "metadata": {},
   "outputs": [
    {
     "data": {
      "text/html": [
       "\\[30\\ nanometer\\ piconewton\\]"
      ],
      "text/latex": [
       "$30\\ \\mathrm{nanometer} \\cdot \\mathrm{piconewton}$"
      ],
      "text/plain": [
       "30 <Unit('nanometer * piconewton')>"
      ]
     },
     "execution_count": 7,
     "metadata": {},
     "output_type": "execute_result"
    }
   ],
   "source": [
    "30*ureg.pN*ureg.nm"
   ]
  },
  {
   "cell_type": "code",
   "execution_count": 8,
   "metadata": {},
   "outputs": [],
   "source": [
    "col = ice.colloidal_ice(sp, particle, traps, height_spread = 0, susceptibility_spread = 0.1)\n",
    "\n",
    "col.pad_region(12*ureg.um)"
   ]
  },
  {
   "cell_type": "code",
   "execution_count": 9,
   "metadata": {},
   "outputs": [
    {
     "data": {
      "image/png": "[encoded data removed]",
      "text/plain": [
       "<Figure size 288x288 with 1 Axes>"
      ]
     },
     "metadata": {
      "needs_background": "light"
     },
     "output_type": "display_data"
    }
   ],
   "source": [
    "f, (ax1) = plt.subplots(1,1,figsize = (4,4))\n",
    "col.display(ax1)"
   ]
  },
  {
   "cell_type": "code",
   "execution_count": 10,
   "metadata": {},
   "outputs": [],
   "source": [
    "world = ice.world(\n",
    "    field = 0*ureg.mT,\n",
    "    temperature = 300*ureg.K,\n",
    "    dipole_cutoff = 200*ureg.um)"
   ]
  },
  {
   "cell_type": "code",
   "execution_count": 11,
   "metadata": {},
   "outputs": [
    {
     "name": "stdout",
     "output_type": "stream",
     "text": [
      "CPU times: user 24.2 ms, sys: 4.86 ms, total: 29.1 ms\n",
      "Wall time: 11min 17s\n"
     ]
    }
   ],
   "source": [
    "%%time\n",
    "col.simulation(world,\n",
    "             name = \"test_new\",\n",
    "             include_timestamp = False,\n",
    "             targetdir = output,\n",
    "             framerate = 10*ureg.Hz,\n",
    "             timestep = 1000*ureg.us,\n",
    "             run_time = 100000*ureg.s,\n",
    "             output = [\"x\",\"y\",\"z\",\"mux\",\"muy\",\"muz\"])\n",
    "\n",
    "col.run_simulation()"
   ]
  },
  {
   "cell_type": "code",
   "execution_count": 12,
   "metadata": {},
   "outputs": [
    {
     "name": "stdout",
     "output_type": "stream",
     "text": [
      "scanning file\n"
     ]
    },
    {
     "data": {
      "application/vnd.jupyter.widget-view+json": {
       "model_id": "db064b0942b740f29f4e442d60e1dfe3",
       "version_major": 2,
       "version_minor": 0
      },
      "text/plain": [
       "HBox(children=(FloatProgress(value=0.0, max=355460991.0), HTML(value='')))"
      ]
     },
     "metadata": {},
     "output_type": "display_data"
    },
    {
     "name": "stdout",
     "output_type": "stream",
     "text": [
      "\r"
     ]
    }
   ],
   "source": [
    "col.load_simulation()"
   ]
  },
  {
   "cell_type": "code",
   "execution_count": 13,
   "metadata": {},
   "outputs": [
    {
     "data": {
      "text/html": [
       "<div>\n",
       "<style scoped>\n",
       "    .dataframe tbody tr th:only-of-type {\n",
       "        vertical-align: middle;\n",
       "    }\n",
       "\n",
       "    .dataframe tbody tr th {\n",
       "        vertical-align: top;\n",
       "    }\n",
       "\n",
       "    .dataframe thead th {\n",
       "        text-align: right;\n",
       "    }\n",
       "</style>\n",
       "<table border=\"1\" class=\"dataframe\">\n",
       "  <thead>\n",
       "    <tr style=\"text-align: right;\">\n",
       "      <th></th>\n",
       "      <th></th>\n",
       "      <th>type</th>\n",
       "      <th>x</th>\n",
       "      <th>y</th>\n",
       "      <th>z</th>\n",
       "      <th>mux</th>\n",
       "      <th>muy</th>\n",
       "      <th>muz</th>\n",
       "      <th>t</th>\n",
       "    </tr>\n",
       "    <tr>\n",
       "      <th>frame</th>\n",
       "      <th>id</th>\n",
       "      <th></th>\n",
       "      <th></th>\n",
       "      <th></th>\n",
       "      <th></th>\n",
       "      <th></th>\n",
       "      <th></th>\n",
       "      <th></th>\n",
       "      <th></th>\n",
       "    </tr>\n",
       "  </thead>\n",
       "  <tbody>\n",
       "    <tr>\n",
       "      <th rowspan=\"4\" valign=\"top\">0</th>\n",
       "      <th>1</th>\n",
       "      <td>1</td>\n",
       "      <td>2.26290</td>\n",
       "      <td>0.000000</td>\n",
       "      <td>0.0</td>\n",
       "      <td>0.0000</td>\n",
       "      <td>0.0</td>\n",
       "      <td>0.0</td>\n",
       "      <td>0.0</td>\n",
       "    </tr>\n",
       "    <tr>\n",
       "      <th>2</th>\n",
       "      <td>1</td>\n",
       "      <td>5.00000</td>\n",
       "      <td>11.000000</td>\n",
       "      <td>0.0</td>\n",
       "      <td>0.0000</td>\n",
       "      <td>0.0</td>\n",
       "      <td>0.0</td>\n",
       "      <td>0.0</td>\n",
       "    </tr>\n",
       "    <tr>\n",
       "      <th>3</th>\n",
       "      <td>2</td>\n",
       "      <td>0.00000</td>\n",
       "      <td>0.000000</td>\n",
       "      <td>0.0</td>\n",
       "      <td>4.5258</td>\n",
       "      <td>0.0</td>\n",
       "      <td>0.0</td>\n",
       "      <td>0.0</td>\n",
       "    </tr>\n",
       "    <tr>\n",
       "      <th>4</th>\n",
       "      <td>3</td>\n",
       "      <td>0.00000</td>\n",
       "      <td>11.000000</td>\n",
       "      <td>0.0</td>\n",
       "      <td>10.0000</td>\n",
       "      <td>0.0</td>\n",
       "      <td>0.0</td>\n",
       "      <td>0.0</td>\n",
       "    </tr>\n",
       "    <tr>\n",
       "      <th>1</th>\n",
       "      <th>1</th>\n",
       "      <td>1</td>\n",
       "      <td>2.37991</td>\n",
       "      <td>0.078355</td>\n",
       "      <td>0.0</td>\n",
       "      <td>0.0000</td>\n",
       "      <td>0.0</td>\n",
       "      <td>0.0</td>\n",
       "      <td>0.1</td>\n",
       "    </tr>\n",
       "    <tr>\n",
       "      <th>...</th>\n",
       "      <th>...</th>\n",
       "      <td>...</td>\n",
       "      <td>...</td>\n",
       "      <td>...</td>\n",
       "      <td>...</td>\n",
       "      <td>...</td>\n",
       "      <td>...</td>\n",
       "      <td>...</td>\n",
       "      <td>...</td>\n",
       "    </tr>\n",
       "    <tr>\n",
       "      <th>999998</th>\n",
       "      <th>4</th>\n",
       "      <td>3</td>\n",
       "      <td>0.00000</td>\n",
       "      <td>11.000000</td>\n",
       "      <td>0.0</td>\n",
       "      <td>10.0000</td>\n",
       "      <td>0.0</td>\n",
       "      <td>0.0</td>\n",
       "      <td>99999.8</td>\n",
       "    </tr>\n",
       "    <tr>\n",
       "      <th rowspan=\"4\" valign=\"top\">999999</th>\n",
       "      <th>1</th>\n",
       "      <td>1</td>\n",
       "      <td>-2.53152</td>\n",
       "      <td>0.244312</td>\n",
       "      <td>0.0</td>\n",
       "      <td>0.0000</td>\n",
       "      <td>0.0</td>\n",
       "      <td>0.0</td>\n",
       "      <td>99999.9</td>\n",
       "    </tr>\n",
       "    <tr>\n",
       "      <th>2</th>\n",
       "      <td>1</td>\n",
       "      <td>-3.58191</td>\n",
       "      <td>11.321500</td>\n",
       "      <td>0.0</td>\n",
       "      <td>0.0000</td>\n",
       "      <td>0.0</td>\n",
       "      <td>0.0</td>\n",
       "      <td>99999.9</td>\n",
       "    </tr>\n",
       "    <tr>\n",
       "      <th>3</th>\n",
       "      <td>2</td>\n",
       "      <td>0.00000</td>\n",
       "      <td>0.000000</td>\n",
       "      <td>0.0</td>\n",
       "      <td>4.5258</td>\n",
       "      <td>0.0</td>\n",
       "      <td>0.0</td>\n",
       "      <td>99999.9</td>\n",
       "    </tr>\n",
       "    <tr>\n",
       "      <th>4</th>\n",
       "      <td>3</td>\n",
       "      <td>0.00000</td>\n",
       "      <td>11.000000</td>\n",
       "      <td>0.0</td>\n",
       "      <td>10.0000</td>\n",
       "      <td>0.0</td>\n",
       "      <td>0.0</td>\n",
       "      <td>99999.9</td>\n",
       "    </tr>\n",
       "  </tbody>\n",
       "</table>\n",
       "<p>4000000 rows × 8 columns</p>\n",
       "</div>"
      ],
      "text/plain": [
       "           type        x          y    z      mux  muy  muz        t\n",
       "frame  id                                                           \n",
       "0      1      1  2.26290   0.000000  0.0   0.0000  0.0  0.0      0.0\n",
       "       2      1  5.00000  11.000000  0.0   0.0000  0.0  0.0      0.0\n",
       "       3      2  0.00000   0.000000  0.0   4.5258  0.0  0.0      0.0\n",
       "       4      3  0.00000  11.000000  0.0  10.0000  0.0  0.0      0.0\n",
       "1      1      1  2.37991   0.078355  0.0   0.0000  0.0  0.0      0.1\n",
       "...         ...      ...        ...  ...      ...  ...  ...      ...\n",
       "999998 4      3  0.00000  11.000000  0.0  10.0000  0.0  0.0  99999.8\n",
       "999999 1      1 -2.53152   0.244312  0.0   0.0000  0.0  0.0  99999.9\n",
       "       2      1 -3.58191  11.321500  0.0   0.0000  0.0  0.0  99999.9\n",
       "       3      2  0.00000   0.000000  0.0   4.5258  0.0  0.0  99999.9\n",
       "       4      3  0.00000  11.000000  0.0  10.0000  0.0  0.0  99999.9\n",
       "\n",
       "[4000000 rows x 8 columns]"
      ]
     },
     "execution_count": 13,
     "metadata": {},
     "output_type": "execute_result"
    }
   ],
   "source": [
    "col.trj"
   ]
  },
  {
   "cell_type": "code",
   "execution_count": 14,
   "metadata": {},
   "outputs": [],
   "source": [
    "uno = col.trj.query('id == 1')"
   ]
  },
  {
   "cell_type": "code",
   "execution_count": 15,
   "metadata": {},
   "outputs": [
    {
     "data": {
      "text/plain": [
       "Text(0.5, 0, 'P(y)')"
      ]
     },
     "execution_count": 15,
     "metadata": {},
     "output_type": "execute_result"
    },
    {
     "data": {
      "image/png": "[encoded data removed]",
      "text/plain": [
       "<Figure size 1350x300 with 3 Axes>"
      ]
     },
     "metadata": {
      "needs_background": "light"
     },
     "output_type": "display_data"
    }
   ],
   "source": [
    "fig, ax = plt.subplots(1,3,figsize=(9,2),dpi=150)\n",
    "\n",
    "col.display(ax = ax[0])\n",
    "ax[0].plot(uno.x, uno.y)\n",
    "\n",
    "ax[1].hist(uno.x, bins=20, density=True);\n",
    "ax[1].set_xlabel(\"x\")\n",
    "ax[1].set_xlabel(\"P(x)\")\n",
    "ax[2].hist(uno.y, bins=20, density=True);\n",
    "ax[1].set_xlabel(\"x\")\n",
    "ax[1].set_xlabel(\"P(y)\")"
   ]
  },
  {
   "cell_type": "code",
   "execution_count": 16,
   "metadata": {},
   "outputs": [
    {
     "data": {
      "text/plain": [
       "(4.5258 <Unit('micrometer')>,\n",
       " 30 <Unit('nanometer * piconewton')>,\n",
       " 0.1 <Unit('femtonewton / nanometer')>)"
      ]
     },
     "execution_count": 16,
     "metadata": {},
     "output_type": "execute_result"
    }
   ],
   "source": [
    "k = col[0].trap.stiffness\n",
    "d = col[0].trap.trap_sep\n",
    "h = col[0].trap.height\n",
    "kB = 1.38064852e-23*ureg.J/ureg.K\n",
    "\n",
    "def bistable_trap(x,y):\n",
    "\n",
    "    Uy = (k*y**2/2).to(\"pN nm\")\n",
    "\n",
    "\n",
    "    Ux = ((-4*x**2/d**2+1)*h).to(\"pN nm\")\n",
    "    Ux1 = (k * (abs(x)-d/2)**2 / 2).to(\"pN nm\")\n",
    "\n",
    "    Ux[abs(x)>(d/2)] = Ux1[abs(x)>(d/2)]\n",
    "\n",
    "    return Ux+Uy\n",
    "\n",
    "d,h,k"
   ]
  },
  {
   "cell_type": "code",
   "execution_count": 17,
   "metadata": {},
   "outputs": [
    {
     "data": {
      "text/plain": [
       "(array([0.00126194, 0.0867202 , 0.72868035, 0.50807699, 0.08332196,\n",
       "        0.0180516 , 0.00546013, 0.00205569, 0.00112241, 0.00095188,\n",
       "        0.0010759 , 0.00134565, 0.00222622, 0.00537021, 0.018064  ,\n",
       "        0.08170346, 0.48434823, 0.92894699, 0.13945491, 0.00234404]),\n",
       " array([-3.24269   , -2.92017   , -2.59765   , -2.27513   , -1.95261   ,\n",
       "        -1.63009   , -1.3075701 , -0.98505   , -0.66253006, -0.34001005,\n",
       "        -0.01749003,  0.30503   ,  0.62755   ,  0.95006996,  1.27259   ,\n",
       "         1.5951099 ,  1.91763   ,  2.24015   ,  2.56267   ,  2.88519   ,\n",
       "         3.20771   ], dtype=float32))"
      ]
     },
     "execution_count": 17,
     "metadata": {},
     "output_type": "execute_result"
    }
   ],
   "source": [
    "np.histogram(uno.x, bins = 20, density=True)"
   ]
  },
  {
   "cell_type": "code",
   "execution_count": 18,
   "metadata": {},
   "outputs": [
    {
     "data": {
      "text/plain": [
       "<matplotlib.legend.Legend at 0x7f2e300d6510>"
      ]
     },
     "execution_count": 18,
     "metadata": {},
     "output_type": "execute_result"
    },
    {
     "data": {
      "image/png": "[encoded data removed]",
      "text/plain": [
       "<Figure size 900x300 with 2 Axes>"
      ]
     },
     "metadata": {
      "needs_background": "light"
     },
     "output_type": "display_data"
    }
   ],
   "source": [
    "fig, ax = plt.subplots(1,2,figsize=(6,2),dpi=150)\n",
    "\n",
    "## parallel dependence\n",
    "[p, x] = np.histogram(uno.x, bins = 20, density=True)\n",
    "ax[0].plot(x[1:]-np.diff(x)/2, max(np.log(p))-np.log(p), label=\"log(P(x))\")\n",
    "\n",
    "x = np.linspace(min(x),max(x),1000) * ureg.um\n",
    "y = np.array([0])*ureg.um\n",
    "T = col.sim.world.temperature\n",
    "\n",
    "ax[0].plot(x.magnitude, (bistable_trap(x,y)/(kB*T)).to(\" \").magnitude, label=\"U(x)/$k_BT$\")\n",
    "ax[0].set_xlabel(\"x\")\n",
    "ax[0].legend()\n",
    "\n",
    "## perpendicular dependence\n",
    "[p, y] = np.histogram(uno.y, bins = 20, density=True)\n",
    "ax[1].plot(y[1:]-np.diff(y)/2, max(np.log(p))-np.log(p),label=\"log(P(y))\")\n",
    "\n",
    "x = np.array([d.magnitude/2])*d.units\n",
    "y = np.linspace(min(y),max(y),1000) * ureg.um\n",
    "T = col.sim.world.temperature\n",
    "\n",
    "ax[1].plot(y.magnitude, (bistable_trap(x,y)/(kB*T)).to(\" \").magnitude,label=\"U(y)/$k_BT$\")\n",
    "ax[1].set_xlabel(\"y\")\n",
    "ax[1].legend()"
   ]
  },
  {
   "cell_type": "code",
   "execution_count": 19,
   "metadata": {},
   "outputs": [
    {
     "data": {
      "text/html": [
       "<div>\n",
       "<style scoped>\n",
       "    .dataframe tbody tr th:only-of-type {\n",
       "        vertical-align: middle;\n",
       "    }\n",
       "\n",
       "    .dataframe tbody tr th {\n",
       "        vertical-align: top;\n",
       "    }\n",
       "\n",
       "    .dataframe thead th {\n",
       "        text-align: right;\n",
       "    }\n",
       "</style>\n",
       "<table border=\"1\" class=\"dataframe\">\n",
       "  <thead>\n",
       "    <tr style=\"text-align: right;\">\n",
       "      <th></th>\n",
       "      <th></th>\n",
       "      <th>type</th>\n",
       "      <th>x</th>\n",
       "      <th>y</th>\n",
       "      <th>z</th>\n",
       "      <th>mux</th>\n",
       "      <th>muy</th>\n",
       "      <th>muz</th>\n",
       "      <th>t</th>\n",
       "    </tr>\n",
       "    <tr>\n",
       "      <th>frame</th>\n",
       "      <th>id</th>\n",
       "      <th></th>\n",
       "      <th></th>\n",
       "      <th></th>\n",
       "      <th></th>\n",
       "      <th></th>\n",
       "      <th></th>\n",
       "      <th></th>\n",
       "      <th></th>\n",
       "    </tr>\n",
       "  </thead>\n",
       "  <tbody>\n",
       "    <tr>\n",
       "      <th>0</th>\n",
       "      <th>2</th>\n",
       "      <td>1</td>\n",
       "      <td>5.00000</td>\n",
       "      <td>11.0000</td>\n",
       "      <td>0.0</td>\n",
       "      <td>0.0</td>\n",
       "      <td>0.0</td>\n",
       "      <td>0.0</td>\n",
       "      <td>0.0</td>\n",
       "    </tr>\n",
       "    <tr>\n",
       "      <th>1</th>\n",
       "      <th>2</th>\n",
       "      <td>1</td>\n",
       "      <td>4.68720</td>\n",
       "      <td>10.7482</td>\n",
       "      <td>0.0</td>\n",
       "      <td>0.0</td>\n",
       "      <td>0.0</td>\n",
       "      <td>0.0</td>\n",
       "      <td>0.1</td>\n",
       "    </tr>\n",
       "    <tr>\n",
       "      <th>2</th>\n",
       "      <th>2</th>\n",
       "      <td>1</td>\n",
       "      <td>5.03866</td>\n",
       "      <td>11.1164</td>\n",
       "      <td>0.0</td>\n",
       "      <td>0.0</td>\n",
       "      <td>0.0</td>\n",
       "      <td>0.0</td>\n",
       "      <td>0.2</td>\n",
       "    </tr>\n",
       "    <tr>\n",
       "      <th>3</th>\n",
       "      <th>2</th>\n",
       "      <td>1</td>\n",
       "      <td>5.13158</td>\n",
       "      <td>11.0497</td>\n",
       "      <td>0.0</td>\n",
       "      <td>0.0</td>\n",
       "      <td>0.0</td>\n",
       "      <td>0.0</td>\n",
       "      <td>0.3</td>\n",
       "    </tr>\n",
       "    <tr>\n",
       "      <th>4</th>\n",
       "      <th>2</th>\n",
       "      <td>1</td>\n",
       "      <td>4.67063</td>\n",
       "      <td>11.1083</td>\n",
       "      <td>0.0</td>\n",
       "      <td>0.0</td>\n",
       "      <td>0.0</td>\n",
       "      <td>0.0</td>\n",
       "      <td>0.4</td>\n",
       "    </tr>\n",
       "    <tr>\n",
       "      <th>...</th>\n",
       "      <th>...</th>\n",
       "      <td>...</td>\n",
       "      <td>...</td>\n",
       "      <td>...</td>\n",
       "      <td>...</td>\n",
       "      <td>...</td>\n",
       "      <td>...</td>\n",
       "      <td>...</td>\n",
       "      <td>...</td>\n",
       "    </tr>\n",
       "    <tr>\n",
       "      <th>999995</th>\n",
       "      <th>2</th>\n",
       "      <td>1</td>\n",
       "      <td>-2.30369</td>\n",
       "      <td>11.1495</td>\n",
       "      <td>0.0</td>\n",
       "      <td>0.0</td>\n",
       "      <td>0.0</td>\n",
       "      <td>0.0</td>\n",
       "      <td>99999.5</td>\n",
       "    </tr>\n",
       "    <tr>\n",
       "      <th>999996</th>\n",
       "      <th>2</th>\n",
       "      <td>1</td>\n",
       "      <td>-2.94187</td>\n",
       "      <td>11.1893</td>\n",
       "      <td>0.0</td>\n",
       "      <td>0.0</td>\n",
       "      <td>0.0</td>\n",
       "      <td>0.0</td>\n",
       "      <td>99999.6</td>\n",
       "    </tr>\n",
       "    <tr>\n",
       "      <th>999997</th>\n",
       "      <th>2</th>\n",
       "      <td>1</td>\n",
       "      <td>-3.28803</td>\n",
       "      <td>11.2437</td>\n",
       "      <td>0.0</td>\n",
       "      <td>0.0</td>\n",
       "      <td>0.0</td>\n",
       "      <td>0.0</td>\n",
       "      <td>99999.7</td>\n",
       "    </tr>\n",
       "    <tr>\n",
       "      <th>999998</th>\n",
       "      <th>2</th>\n",
       "      <td>1</td>\n",
       "      <td>-3.34629</td>\n",
       "      <td>10.9566</td>\n",
       "      <td>0.0</td>\n",
       "      <td>0.0</td>\n",
       "      <td>0.0</td>\n",
       "      <td>0.0</td>\n",
       "      <td>99999.8</td>\n",
       "    </tr>\n",
       "    <tr>\n",
       "      <th>999999</th>\n",
       "      <th>2</th>\n",
       "      <td>1</td>\n",
       "      <td>-3.58191</td>\n",
       "      <td>11.3215</td>\n",
       "      <td>0.0</td>\n",
       "      <td>0.0</td>\n",
       "      <td>0.0</td>\n",
       "      <td>0.0</td>\n",
       "      <td>99999.9</td>\n",
       "    </tr>\n",
       "  </tbody>\n",
       "</table>\n",
       "<p>1000000 rows × 8 columns</p>\n",
       "</div>"
      ],
      "text/plain": [
       "           type        x        y    z  mux  muy  muz        t\n",
       "frame  id                                                     \n",
       "0      2      1  5.00000  11.0000  0.0  0.0  0.0  0.0      0.0\n",
       "1      2      1  4.68720  10.7482  0.0  0.0  0.0  0.0      0.1\n",
       "2      2      1  5.03866  11.1164  0.0  0.0  0.0  0.0      0.2\n",
       "3      2      1  5.13158  11.0497  0.0  0.0  0.0  0.0      0.3\n",
       "4      2      1  4.67063  11.1083  0.0  0.0  0.0  0.0      0.4\n",
       "...         ...      ...      ...  ...  ...  ...  ...      ...\n",
       "999995 2      1 -2.30369  11.1495  0.0  0.0  0.0  0.0  99999.5\n",
       "999996 2      1 -2.94187  11.1893  0.0  0.0  0.0  0.0  99999.6\n",
       "999997 2      1 -3.28803  11.2437  0.0  0.0  0.0  0.0  99999.7\n",
       "999998 2      1 -3.34629  10.9566  0.0  0.0  0.0  0.0  99999.8\n",
       "999999 2      1 -3.58191  11.3215  0.0  0.0  0.0  0.0  99999.9\n",
       "\n",
       "[1000000 rows x 8 columns]"
      ]
     },
     "execution_count": 19,
     "metadata": {},
     "output_type": "execute_result"
    }
   ],
   "source": [
    "dos = col.trj.query('id == 2')\n",
    "dos"
   ]
  },
  {
   "cell_type": "code",
   "execution_count": 20,
   "metadata": {},
   "outputs": [
    {
     "data": {
      "text/plain": [
       "Text(0.5, 0, 'P(y)')"
      ]
     },
     "execution_count": 20,
     "metadata": {},
     "output_type": "execute_result"
    },
    {
     "data": {
      "image/png": "[encoded data removed]",
      "text/plain": [
       "<Figure size 1350x300 with 3 Axes>"
      ]
     },
     "metadata": {
      "needs_background": "light"
     },
     "output_type": "display_data"
    }
   ],
   "source": [
    "fig, ax = plt.subplots(1,3,figsize=(9,2),dpi=150)\n",
    "\n",
    "col.display(ax = ax[0])\n",
    "ax[0].plot(dos.x, dos.y)\n",
    "\n",
    "ax[1].hist(dos.x, bins=20, density=True);\n",
    "ax[1].set_xlabel(\"x\")\n",
    "ax[1].set_xlabel(\"P(x)\")\n",
    "ax[2].hist(dos.y, bins=20, density=True);\n",
    "ax[1].set_xlabel(\"x\")\n",
    "ax[1].set_xlabel(\"P(y)\")"
   ]
  },
  {
   "cell_type": "code",
   "execution_count": 21,
   "metadata": {},
   "outputs": [
    {
     "data": {
      "text/plain": [
       "(10 <Unit('micrometer')>,\n",
       " 30 <Unit('nanometer * piconewton')>,\n",
       " 0.1 <Unit('femtonewton / nanometer')>)"
      ]
     },
     "execution_count": 21,
     "metadata": {},
     "output_type": "execute_result"
    }
   ],
   "source": [
    "k = col[1].trap.stiffness\n",
    "d = col[1].trap.trap_sep\n",
    "h = col[1].trap.height\n",
    "kB = 1.38064852e-23*ureg.J/ureg.K\n",
    "\n",
    "def bistable_trap(x,y):\n",
    "\n",
    "    Uy = (k*y**2/2).to(\"pN nm\")\n",
    "\n",
    "\n",
    "    Ux = ((-4*x**2/d**2+1)*h).to(\"pN nm\")\n",
    "    Ux1 = (k * (abs(x)-d/2)**2 / 2).to(\"pN nm\")\n",
    "\n",
    "    Ux[abs(x)>(d/2)] = Ux1[abs(x)>(d/2)]\n",
    "\n",
    "    return Ux+Uy\n",
    "\n",
    "d,h,k"
   ]
  },
  {
   "cell_type": "code",
   "execution_count": 22,
   "metadata": {},
   "outputs": [
    {
     "data": {
      "text/plain": [
       "(array([4.56745745e-02, 6.94861514e-01, 2.41350879e-01, 5.65375573e-02,\n",
       "        1.61127243e-02, 5.57281970e-03, 2.42128344e-03, 1.37637905e-03,\n",
       "        9.17025257e-04, 6.51172063e-04, 5.26658542e-04, 6.04058839e-04,\n",
       "        8.58133640e-04, 1.67588486e-03, 3.45777309e-03, 1.00654048e-02,\n",
       "        3.49798899e-02, 1.52927797e-01, 3.93725412e-01, 1.83186256e-02]),\n",
       " array([-5.92504   , -5.3307266 , -4.736414  , -4.142101  , -3.547788  ,\n",
       "        -2.953475  , -2.3591619 , -1.764849  , -1.1705359 , -0.57622296,\n",
       "         0.01809001,  0.612403  ,  1.206716  ,  1.801029  ,  2.3953419 ,\n",
       "         2.989655  ,  3.583968  ,  4.178281  ,  4.772594  ,  5.3669066 ,\n",
       "         5.96122   ], dtype=float32))"
      ]
     },
     "execution_count": 22,
     "metadata": {},
     "output_type": "execute_result"
    }
   ],
   "source": [
    "np.histogram(dos.x, bins = 20, density=True)"
   ]
  },
  {
   "cell_type": "code",
   "execution_count": 23,
   "metadata": {},
   "outputs": [
    {
     "data": {
      "text/plain": [
       "<matplotlib.legend.Legend at 0x7f2d286fa350>"
      ]
     },
     "execution_count": 23,
     "metadata": {},
     "output_type": "execute_result"
    },
    {
     "data": {
      "image/png": "[encoded data removed]",
      "text/plain": [
       "<Figure size 900x300 with 2 Axes>"
      ]
     },
     "metadata": {
      "needs_background": "light"
     },
     "output_type": "display_data"
    }
   ],
   "source": [
    "fig, ax = plt.subplots(1,2,figsize=(6,2),dpi=150)\n",
    "\n",
    "## parallel dependence\n",
    "[p, x] = np.histogram(dos.x, bins = 20, density=True)\n",
    "ax[0].plot(x[1:]-np.diff(x)/2, max(np.log(p))-np.log(p), label=\"log(P(x))\")\n",
    "\n",
    "x = np.linspace(min(x),max(x),1000) * ureg.um\n",
    "y = np.array([0])*ureg.um\n",
    "T = col.sim.world.temperature\n",
    "\n",
    "ax[0].plot(x.magnitude, (bistable_trap(x,y)/(kB*T)).to(\" \").magnitude, label=\"U(x)/$k_BT$\")\n",
    "ax[0].set_xlabel(\"x\")\n",
    "ax[0].legend()\n",
    "\n",
    "## perpendicular dependence\n",
    "[p, y] = np.histogram(dos.y, bins = 20, density=True)\n",
    "ax[1].plot(y[1:]-np.diff(y)/2, max(np.log(p))-np.log(p),label=\"log(P(y))\")\n",
    "\n",
    "x = np.array([d.magnitude/2])*d.units\n",
    "y = np.linspace(min(y),max(y),1000) * ureg.um\n",
    "T = col.sim.world.temperature\n",
    "\n",
    "#ax[1].plot(y.magnitude, (bistable_trap(x,y)/(kB*T)).to(\" \").magnitude,label=\"U(y)/$k_BT$\")\n",
    "ax[1].set_xlabel(\"y\")\n",
    "ax[1].legend()"
   ]
  },
  {
   "cell_type": "code",
   "execution_count": null,
   "metadata": {},
   "outputs": [],
   "source": []
  }
 ],
 "metadata": {
  "kernelspec": {
   "display_name": "Python 3",
   "language": "python",
   "name": "python3"
  },
  "language_info": {
   "codemirror_mode": {
    "name": "ipython",
    "version": 3
   },
   "file_extension": ".py",
   "mimetype": "text/x-python",
   "name": "python",
   "nbconvert_exporter": "python",
   "pygments_lexer": "ipython3",
   "version": "3.7.6"
  }
 },
 "nbformat": 4,
 "nbformat_minor": 4
}
