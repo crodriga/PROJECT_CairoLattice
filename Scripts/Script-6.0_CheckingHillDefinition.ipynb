{
 "cells": [
  {
   "cell_type": "markdown",
   "metadata": {},
   "source": [
    "# Cheking hill shape\n",
    "\n",
    "    In this script, we will run a simulation of two particles one in a long trap and the other in the short trap of the cairo lattice. We will set B = 0 mT along the whole experiment and we will focus our attention in the diffusion of the particle along the trap. This way we'll be able to check the shape of the biharmonical trap. We follow the idea of: https://aortiza.github.io/icenumerics/OtherNotebooks/ForcesOfTheSimulation.html  "
   ]
  },
  {
   "cell_type": "code",
   "execution_count": 1,
   "metadata": {},
   "outputs": [],
   "source": [
    "import sys\n",
    "import numpy as np\n",
    "from importlib import reload  \n",
    "import support as sup\n",
    "reload(sup)\n",
    "sys.path.insert(0, '../icenumerics')\n",
    "\n",
    "import icenumerics as ice\n",
    "from icenumerics.geometry import ordering \n",
    "\n",
    "import matplotlib.pyplot as plt\n",
    "ureg = ice.ureg"
   ]
  },
  {
   "cell_type": "code",
   "execution_count": 2,
   "metadata": {},
   "outputs": [],
   "source": [
    "output = \"/home/carolina/CairoLattice_ACI_PROJECT/Scripts/Output_Script-6.0\""
   ]
  },
  {
   "cell_type": "code",
   "execution_count": 3,
   "metadata": {},
   "outputs": [
    {
     "name": "stderr",
     "output_type": "stream",
     "text": [
      "/home/carolina/CairoLattice_ACI_PROJECT/Scripts/support.py:62: UnitStrippedWarning: The unit of the quantity is stripped when downcasting to ndarray.\n",
      "  new[:,0] = centers_toAddX\n",
      "/home/carolina/CairoLattice_ACI_PROJECT/Scripts/support.py:63: UnitStrippedWarning: The unit of the quantity is stripped when downcasting to ndarray.\n",
      "  new[:,1] = centers_toAddY\n"
     ]
    }
   ],
   "source": [
    "centers, directions = sup.unit_cell_Cairo(20)"
   ]
  },
  {
   "cell_type": "code",
   "execution_count": 4,
   "metadata": {},
   "outputs": [
    {
     "data": {
      "text/html": [
       "\\[\\begin{pmatrix}0 & 0 & 0\\\\ \n",
       "0 & 11 & 0\\end{pmatrix} micrometer\\]"
      ],
      "text/latex": [
       "$\\begin{pmatrix}0 & 0 & 0\\\\ \n",
       "0 & 11 & 0\\end{pmatrix}\\ \\mathrm{micrometer}$"
      ],
      "text/plain": [
       "array([[ 0,  0,  0],\n",
       "       [ 0, 11,  0]]) <Unit('micrometer')>"
      ]
     },
     "execution_count": 4,
     "metadata": {},
     "output_type": "execute_result"
    }
   ],
   "source": [
    "centers = [[0,0,0],[0,11,0]]*ureg.um\n",
    "directions = directions[:2]\n",
    "centers"
   ]
  },
  {
   "cell_type": "code",
   "execution_count": 5,
   "metadata": {},
   "outputs": [
    {
     "data": {
      "text/plain": [
       "(-0.32999999999999996, 11.967999999999998, -0.649, 11.648999999999997)"
      ]
     },
     "execution_count": 5,
     "metadata": {},
     "output_type": "execute_result"
    },
    {
     "data": {
      "image/png": "[encoded data removed]",
      "text/plain": [
       "<Figure size 576x576 with 1 Axes>"
      ]
     },
     "metadata": {
      "needs_background": "light"
     },
     "output_type": "display_data"
    }
   ],
   "source": [
    "sp = ice.spins(centers = centers, directions = [[1,0,0],[1,0,0]]*ureg.um)\n",
    "\n",
    "f, (ax1) = plt.subplots(1,1,figsize = (8,8))\n",
    "sp.display(ax1)\n",
    "\n",
    "plt.axis('square')"
   ]
  },
  {
   "cell_type": "code",
   "execution_count": 6,
   "metadata": {},
   "outputs": [],
   "source": [
    "particle = ice.particle(radius = 5*ureg.um,\n",
    "             susceptibility = 0.005,\n",
    "             diffusion = 1*ureg.um**2/ureg.s,\n",
    "             temperature = 300*ureg.K,\n",
    "             density = 1000*ureg.kg/ureg.m**3)\n",
    "\n",
    "trap_long = ice.trap(trap_sep = 10*ureg.um,\n",
    "               height = 30*ureg.pN*ureg.nm,\n",
    "               stiffness = 1*ureg.fN/ureg.nm)\n",
    "\n",
    "trap_short = ice.trap(trap_sep = 4.5258*ureg.um,\n",
    "               height = 30*ureg.pN*ureg.nm,\n",
    "               stiffness = 1*ureg.fN/ureg.nm)\n",
    "\n",
    "traps = [trap_short,trap_long]"
   ]
  },
  {
   "cell_type": "code",
   "execution_count": 7,
   "metadata": {},
   "outputs": [
    {
     "data": {
      "text/html": [
       "\\[30\\ nanometer\\ piconewton\\]"
      ],
      "text/latex": [
       "$30\\ \\mathrm{nanometer} \\cdot \\mathrm{piconewton}$"
      ],
      "text/plain": [
       "30 <Unit('nanometer * piconewton')>"
      ]
     },
     "execution_count": 7,
     "metadata": {},
     "output_type": "execute_result"
    }
   ],
   "source": [
    "30*ureg.pN*ureg.nm"
   ]
  },
  {
   "cell_type": "code",
   "execution_count": 8,
   "metadata": {},
   "outputs": [],
   "source": [
    "col = ice.colloidal_ice(sp, particle, traps, height_spread = 0, susceptibility_spread = 0.1)\n",
    "\n",
    "col.pad_region(12*ureg.um)"
   ]
  },
  {
   "cell_type": "code",
   "execution_count": 9,
   "metadata": {},
   "outputs": [
    {
     "data": {
      "image/png": "[encoded data removed]",
      "text/plain": [
       "<Figure size 288x288 with 1 Axes>"
      ]
     },
     "metadata": {
      "needs_background": "light"
     },
     "output_type": "display_data"
    }
   ],
   "source": [
    "f, (ax1) = plt.subplots(1,1,figsize = (4,4))\n",
    "col.display(ax1)"
   ]
  },
  {
   "cell_type": "code",
   "execution_count": 10,
   "metadata": {},
   "outputs": [],
   "source": [
    "world = ice.world(\n",
    "    field = 0*ureg.mT,\n",
    "    temperature = 300*ureg.K,\n",
    "    dipole_cutoff = 200*ureg.um)"
   ]
  },
  {
   "cell_type": "code",
   "execution_count": null,
   "metadata": {},
   "outputs": [],
   "source": [
    "%%time\n",
    "col.simulation(world,\n",
    "             name = \"test_new\",\n",
    "             include_timestamp = False,\n",
    "             targetdir = output,\n",
    "             framerate = 10*ureg.Hz,\n",
    "             timestep = 1000*ureg.us,\n",
    "             run_time = 100000*ureg.s,\n",
    "             output = [\"x\",\"y\",\"z\",\"mux\",\"muy\",\"muz\"])\n",
    "\n",
    "col.run_simulation()"
   ]
  },
  {
   "cell_type": "code",
   "execution_count": null,
   "metadata": {},
   "outputs": [],
   "source": [
    "col.load_simulation()"
   ]
  },
  {
   "cell_type": "code",
   "execution_count": null,
   "metadata": {},
   "outputs": [],
   "source": [
    "col.trj"
   ]
  },
  {
   "cell_type": "code",
   "execution_count": null,
   "metadata": {},
   "outputs": [],
   "source": [
    "uno = col.trj.query('id == 1')"
   ]
  },
  {
   "cell_type": "code",
   "execution_count": null,
   "metadata": {},
   "outputs": [],
   "source": [
    "fig, ax = plt.subplots(1,3,figsize=(9,2),dpi=150)\n",
    "\n",
    "col.display(ax = ax[0])\n",
    "ax[0].plot(uno.x, uno.y)\n",
    "\n",
    "ax[1].hist(uno.x, bins=20, density=True);\n",
    "ax[1].set_xlabel(\"x\")\n",
    "ax[1].set_xlabel(\"P(x)\")\n",
    "ax[2].hist(uno.y, bins=20, density=True);\n",
    "ax[1].set_xlabel(\"x\")\n",
    "ax[1].set_xlabel(\"P(y)\")"
   ]
  },
  {
   "cell_type": "code",
   "execution_count": null,
   "metadata": {},
   "outputs": [],
   "source": [
    "k = col[0].trap.stiffness\n",
    "d = col[0].trap.trap_sep\n",
    "h = col[0].trap.height\n",
    "kB = 1.38064852e-23*ureg.J/ureg.K\n",
    "\n",
    "def bistable_trap(x,y):\n",
    "\n",
    "    Uy = (k*y**2/2).to(\"pN nm\")\n",
    "\n",
    "\n",
    "    Ux = ((-4*x**2/d**2+1)*h).to(\"pN nm\")\n",
    "    Ux1 = (k * (abs(x)-d/2)**2 / 2).to(\"pN nm\")\n",
    "\n",
    "    Ux[abs(x)>(d/2)] = Ux1[abs(x)>(d/2)]\n",
    "\n",
    "    return Ux+Uy\n",
    "\n",
    "d,h,k"
   ]
  },
  {
   "cell_type": "code",
   "execution_count": null,
   "metadata": {},
   "outputs": [],
   "source": [
    "np.histogram(uno.x, bins = 20, density=True)"
   ]
  },
  {
   "cell_type": "code",
   "execution_count": null,
   "metadata": {},
   "outputs": [],
   "source": [
    "fig, ax = plt.subplots(1,2,figsize=(6,2),dpi=150)\n",
    "\n",
    "## parallel dependence\n",
    "[p, x] = np.histogram(uno.x, bins = 20, density=True)\n",
    "ax[0].plot(x[1:]-np.diff(x)/2, max(np.log(p))-np.log(p), label=\"log(P(x))\")\n",
    "\n",
    "x = np.linspace(min(x),max(x),1000) * ureg.um\n",
    "y = np.array([0])*ureg.um\n",
    "T = col.sim.world.temperature\n",
    "\n",
    "ax[0].plot(x.magnitude, (bistable_trap(x,y)/(kB*T)).to(\" \").magnitude, label=\"U(x)/$k_BT$\")\n",
    "ax[0].set_xlabel(\"x\")\n",
    "ax[0].legend()\n",
    "\n",
    "## perpendicular dependence\n",
    "[p, y] = np.histogram(uno.y, bins = 20, density=True)\n",
    "ax[1].plot(y[1:]-np.diff(y)/2, max(np.log(p))-np.log(p),label=\"log(P(y))\")\n",
    "\n",
    "x = np.array([d.magnitude/2])*d.units\n",
    "y = np.linspace(min(y),max(y),1000) * ureg.um\n",
    "T = col.sim.world.temperature\n",
    "\n",
    "ax[1].plot(y.magnitude, (bistable_trap(x,y)/(kB*T)).to(\" \").magnitude,label=\"U(y)/$k_BT$\")\n",
    "ax[1].set_xlabel(\"y\")\n",
    "ax[1].legend()"
   ]
  },
  {
   "cell_type": "code",
   "execution_count": null,
   "metadata": {},
   "outputs": [],
   "source": [
    "dos = col.trj.query('id == 2')\n",
    "dos"
   ]
  },
  {
   "cell_type": "code",
   "execution_count": null,
   "metadata": {},
   "outputs": [],
   "source": [
    "fig, ax = plt.subplots(1,3,figsize=(9,2),dpi=150)\n",
    "\n",
    "col.display(ax = ax[0])\n",
    "ax[0].plot(dos.x, dos.y)\n",
    "\n",
    "ax[1].hist(dos.x, bins=20, density=True);\n",
    "ax[1].set_xlabel(\"x\")\n",
    "ax[1].set_xlabel(\"P(x)\")\n",
    "ax[2].hist(dos.y, bins=20, density=True);\n",
    "ax[1].set_xlabel(\"x\")\n",
    "ax[1].set_xlabel(\"P(y)\")"
   ]
  },
  {
   "cell_type": "code",
   "execution_count": null,
   "metadata": {},
   "outputs": [],
   "source": [
    "k = col[1].trap.stiffness\n",
    "d = col[1].trap.trap_sep\n",
    "h = col[1].trap.height\n",
    "kB = 1.38064852e-23*ureg.J/ureg.K\n",
    "\n",
    "def bistable_trap(x,y):\n",
    "\n",
    "    Uy = (k*y**2/2).to(\"pN nm\")\n",
    "\n",
    "\n",
    "    Ux = ((-4*x**2/d**2+1)*h).to(\"pN nm\")\n",
    "    Ux1 = (k * (abs(x)-d/2)**2 / 2).to(\"pN nm\")\n",
    "\n",
    "    Ux[abs(x)>(d/2)] = Ux1[abs(x)>(d/2)]\n",
    "\n",
    "    return Ux+Uy\n",
    "\n",
    "d,h,k"
   ]
  },
  {
   "cell_type": "code",
   "execution_count": null,
   "metadata": {},
   "outputs": [],
   "source": [
    "np.histogram(dos.x, bins = 20, density=True)"
   ]
  },
  {
   "cell_type": "code",
   "execution_count": null,
   "metadata": {},
   "outputs": [],
   "source": [
    "fig, ax = plt.subplots(1,2,figsize=(6,2),dpi=150)\n",
    "\n",
    "## parallel dependence\n",
    "[p, x] = np.histogram(dos.x, bins = 20, density=True)\n",
    "ax[0].plot(x[1:]-np.diff(x)/2, max(np.log(p))-np.log(p), label=\"log(P(x))\")\n",
    "\n",
    "x = np.linspace(min(x),max(x),1000) * ureg.um\n",
    "y = np.array([0])*ureg.um\n",
    "T = col.sim.world.temperature\n",
    "\n",
    "ax[0].plot(x.magnitude, (bistable_trap(x,y)/(kB*T)).to(\" \").magnitude, label=\"U(x)/$k_BT$\")\n",
    "ax[0].set_xlabel(\"x\")\n",
    "ax[0].legend()\n",
    "\n",
    "## perpendicular dependence\n",
    "[p, y] = np.histogram(dos.y, bins = 20, density=True)\n",
    "ax[1].plot(y[1:]-np.diff(y)/2, max(np.log(p))-np.log(p),label=\"log(P(y))\")\n",
    "\n",
    "x = np.array([d.magnitude/2])*d.units\n",
    "y = np.linspace(min(y),max(y),1000) * ureg.um\n",
    "T = col.sim.world.temperature\n",
    "\n",
    "#ax[1].plot(y.magnitude, (bistable_trap(x,y)/(kB*T)).to(\" \").magnitude,label=\"U(y)/$k_BT$\")\n",
    "ax[1].set_xlabel(\"y\")\n",
    "ax[1].legend()"
   ]
  },
  {
   "cell_type": "code",
   "execution_count": null,
   "metadata": {},
   "outputs": [],
   "source": [
    "Correr con mas estadistica\n",
    "crear issue en aortiza, crear link a notebook. "
   ]
  },
  {
   "cell_type": "code",
   "execution_count": null,
   "metadata": {},
   "outputs": [],
   "source": []
  }
 ],
 "metadata": {
  "kernelspec": {
   "display_name": "Python 3",
   "language": "python",
   "name": "python3"
  },
  "language_info": {
   "codemirror_mode": {
    "name": "ipython",
    "version": 3
   },
   "file_extension": ".py",
   "mimetype": "text/x-python",
   "name": "python",
   "nbconvert_exporter": "python",
   "pygments_lexer": "ipython3",
   "version": "3.7.6"
  }
 },
 "nbformat": 4,
 "nbformat_minor": 4
}
