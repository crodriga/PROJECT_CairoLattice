{
 "cells": [
  {
   "cell_type": "markdown",
   "metadata": {},
   "source": [
    "# Group spins that belong to the same pentagon\n",
    "\n",
    "The objective of this script is to build a method to group spins belonging to the same pentagon. This way, we will assign to each pentagon a certain degree of chirality coming from the spins directions. "
   ]
  },
  {
   "cell_type": "code",
   "execution_count": 1,
   "metadata": {},
   "outputs": [],
   "source": [
    "import os\n",
    "import sys\n",
    "import numpy as np\n",
    "from importlib import reload  \n",
    "import support as sup\n",
    "reload(sup)\n",
    "sys.path.insert(0, '../icenumerics')\n",
    "\n",
    "import icenumerics as ice\n",
    "\n",
    "import matplotlib.pyplot as plt\n",
    "ureg = ice.ureg\n",
    "from string import Template\n",
    "\n",
    "%load_ext autoreload\n",
    "%autoreload 2\n",
    "\n",
    "from scipy.spatial import Voronoi, voronoi_plot_2d"
   ]
  },
  {
   "cell_type": "markdown",
   "metadata": {},
   "source": [
    "First, we generate our set of center points of the cairo lattice"
   ]
  },
  {
   "cell_type": "code",
   "execution_count": 2,
   "metadata": {},
   "outputs": [],
   "source": [
    "def unit_cell_Cairo_periodic(a):\n",
    "    \n",
    "        \n",
    "    \"\"\"This function generates a unit cell of a Cairo lattice. The input parameter is the size of the shorter side.\n",
    "    The output of the function is the (x,y) collection of the unit cells (centers) and the directions of the spins. This function will define the Cairo lattice as a squere lattice in order to set periodic boundaries.\"\"\"\n",
    "\n",
    "    ureg = ice.ureg\n",
    "    l = 1.37*a\n",
    "    torad = np.pi/180\n",
    "\n",
    "    centers = [[0,0,0], # First plaquette \n",
    "                [(417/890)*l*np.cos(30*torad),a/2+(417/890)*l*np.sin(30*torad),0],\n",
    "                [-(417/890)*l*np.cos(30*torad),a/2+(417/890)*l*np.sin(30*torad),0],\n",
    "                [(417/890)*l*np.cos(30*torad),-a/2-(417/890)*l*np.sin(30*torad),0],\n",
    "                [-(417/890)*l*np.cos(30*torad),-a/2-(417/890)*l*np.sin(30*torad),0],\n",
    "                \n",
    "                [a/2+(l*(np.cos(30*torad)+np.cos(60*torad))),0,0],# Second plaquette\n",
    "                [l*np.cos(30*torad)+(473/890)*l*np.cos(60*torad),(417/890)*l*np.sin(60*torad),0],\n",
    "                [l*np.cos(30*torad)+(473/890)*l*np.cos(60*torad),-(417/890)*l*np.sin(60*torad),0],\n",
    "                [a+(l*(np.cos(30*torad)+np.cos(60*torad)))+(417/890)*l*np.cos(60*torad),(417/890)*l*np.sin(60*torad),0],\n",
    "                [a+(l*(np.cos(30*torad)+np.cos(60*torad)))+(417/890)*l*np.cos(60*torad),-(417/890)*l*np.sin(60*torad),0],\n",
    "                \n",
    "                [0,-a/2-l*(np.cos(30*torad)+np.cos(60*torad)),0],# Third plaquette\n",
    "                [a/2+(417/890)*l*np.sin(30*torad),-a/2-l*np.cos(60*torad)-(473/890)*l*np.cos(30*torad),0],\n",
    "                [-a/2-(417/890)*l*np.cos(60*torad),-a/2-l*np.cos(60*torad)-(473/890)*l*np.cos(30*torad),0],\n",
    "                [-a/2-(417/890)*l*np.sin(30*torad),-a/2-l*np.cos(60*torad)-l*np.cos(30*torad)-(417/890)*l*np.cos(30*torad),0],\n",
    "                [a/2+(417/890)*l*np.cos(60*torad),-a/2-l*np.cos(60*torad)-l*np.cos(30*torad)-(417/890)*l*np.cos(30*torad),0],\n",
    "                \n",
    "                [a/2+(l*(np.cos(30*torad)+np.cos(60*torad))),-a/2-l*(np.cos(30*torad)+np.cos(60*torad)),0],# Fourth plaquette\n",
    "                [a/2+l*np.cos(60*torad)+(473/890)*l*np.cos(30*torad),-l*np.cos(30*torad)-(473/890)*l*np.cos(60*torad),0],\n",
    "                \n",
    "               [a/2+l*np.cos(60*torad)+l*np.cos(30*torad)+(417/890)*l*np.sin(60*torad),-l*np.cos(30*torad)-(473/890)*l*np.cos(60*torad),0],\n",
    "                [a/2+l*np.cos(60*torad)+(473/890)*l*np.cos(30*torad),-l*np.cos(30*torad)-l*np.cos(60*torad)-a-(417/890)*l*np.sin(30*torad),0],\n",
    "                [a/2+l*np.cos(60*torad)+l*np.cos(30*torad)+l*(417/890)*np.cos(30*torad),-l*np.cos(30*torad)-l*np.cos(60*torad)-a-(417/890)*l*np.cos(60*torad),0]\n",
    "              ]*ureg.um\n",
    "    directions = [[0,a,0],# First plaquette\n",
    "                  [a*np.cos(30*torad),a*np.sin(30*torad),a*0],\n",
    "                  [-a*np.cos(30*torad),a*np.sin(30*torad),a*0],\n",
    "                  [a*np.cos(30*torad),-a*np.sin(30*torad),a*0],\n",
    "                  [-a*np.cos(30*torad),-a*np.sin(30*torad),a*0],\n",
    "                  \n",
    "                  [a,0,0],# Second plaquette \n",
    "                  [-a*np.cos(60*torad),a*np.sin(60*torad),0],\n",
    "                  [a*np.cos(60*torad),a*np.sin(60*torad),0],\n",
    "                  [a*np.cos(60*torad),a*np.sin(60*torad),0],\n",
    "                  [-a*np.cos(60*torad),a*np.sin(60*torad),0],\n",
    "                  \n",
    "                  [a,0,0], #Third plaquette\n",
    "                  [a*np.cos(60*torad),a*np.sin(60*torad),0],\n",
    "                  [-a*np.cos(60*torad),a*np.sin(60*torad),0],\n",
    "                  [a*np.cos(60*torad),a*np.sin(60*torad),0],\n",
    "                  [-a*np.cos(60*torad),a*np.sin(60*torad),0],\n",
    "                  \n",
    "                  [0,a,0], # Fourth plaquette\n",
    "                  [-a*np.cos(30*torad),a*np.sin(30*torad),a*0],\n",
    "                  [a*np.cos(30*torad),a*np.sin(30*torad),a*0],\n",
    "                  [a*np.cos(30*torad),a*np.sin(30*torad),a*0],\n",
    "                  [a*np.cos(30*torad),-a*np.sin(30*torad),a*0]\n",
    "                 ]*ureg.um\n",
    "    \n",
    "    \n",
    "    return centers, directions\n",
    "\n",
    "centers, directions = unit_cell_Cairo_periodic(19.5458)"
   ]
  },
  {
   "cell_type": "code",
   "execution_count": 3,
   "metadata": {},
   "outputs": [],
   "source": [
    "#np.random.seed()\n",
    "\n",
    "#l = 2\n",
    "#a = 19.5458*ureg.um\n",
    "#sp = sup.spins()\n",
    "#ureg = ice.ureg\n",
    "#sp.create_lattice(geometry = \"cairo\",size =[l,l],lattice_constant=19.5458*ureg.um, border=\"periodic\")"
   ]
  },
  {
   "cell_type": "code",
   "execution_count": 4,
   "metadata": {},
   "outputs": [],
   "source": [
    "#fig, ax1 = plt.subplots(figsize=(10,7))\n",
    "#sp.display(ax1)"
   ]
  },
  {
   "cell_type": "code",
   "execution_count": 5,
   "metadata": {},
   "outputs": [
    {
     "name": "stdout",
     "output_type": "stream",
     "text": [
      "[0. 0. 0.]\n",
      "[10.86552456 16.04611353  0.        ]\n",
      "[-10.86552456  16.04611353   0.        ]\n",
      "[ 10.86552456 -16.04611353   0.        ]\n",
      "[-10.86552456 -16.04611353   0.        ]\n",
      "[46.35198129  0.          0.        ]\n",
      "[30.30586776 10.86552456  0.        ]\n",
      "[ 30.30586776 -10.86552456   0.        ]\n",
      "[62.39809482 10.86552456  0.        ]\n",
      "[ 62.39809482 -10.86552456   0.        ]\n",
      "[  0.         -46.35198129   0.        ]\n",
      "[ 16.04611353 -35.48645673   0.        ]\n",
      "[-16.04611353 -35.48645673   0.        ]\n",
      "[-16.04611353 -57.21750585   0.        ]\n",
      "[ 16.04611353 -57.21750585   0.        ]\n",
      "[ 46.35198129 -46.35198129   0.        ]\n",
      "[ 35.48645673 -30.30586776   0.        ]\n",
      "[ 57.21750585 -30.30586776   0.        ]\n",
      "[ 35.48645673 -62.39809482   0.        ]\n",
      "[ 57.21750585 -62.39809482   0.        ]\n"
     ]
    }
   ],
   "source": [
    "for i in centers:\n",
    "    print(i.magnitude)"
   ]
  },
  {
   "cell_type": "code",
   "execution_count": 27,
   "metadata": {},
   "outputs": [
    {
     "name": "stderr",
     "output_type": "stream",
     "text": [
      "/home/carolina/anaconda3/lib/python3.7/site-packages/numpy/core/_asarray.py:85: UnitStrippedWarning: The unit of the quantity is stripped when downcasting to ndarray.\n",
      "  return array(a, dtype, copy=False, order=order)\n"
     ]
    },
    {
     "data": {
      "text/plain": [
       "[<matplotlib.lines.Line2D at 0x7f08e5298310>]"
      ]
     },
     "execution_count": 27,
     "metadata": {},
     "output_type": "execute_result"
    },
    {
     "data": {
      "image/png": "[encoded data removed]",
      "text/plain": [
       "<Figure size 432x288 with 1 Axes>"
      ]
     },
     "metadata": {
      "needs_background": "light"
     },
     "output_type": "display_data"
    }
   ],
   "source": [
    "plt.plot(centers[:,0],centers[:,1],'o')"
   ]
  },
  {
   "cell_type": "code",
   "execution_count": 22,
   "metadata": {},
   "outputs": [],
   "source": [
    "points = []\n",
    "for i in centers:\n",
    "    points.append([i.magnitude[0],i.magnitude[1]])"
   ]
  },
  {
   "cell_type": "code",
   "execution_count": 7,
   "metadata": {},
   "outputs": [],
   "source": [
    "points = np.array(points)"
   ]
  },
  {
   "cell_type": "code",
   "execution_count": 19,
   "metadata": {},
   "outputs": [],
   "source": [
    "vor = Voronoi(points)"
   ]
  },
  {
   "cell_type": "code",
   "execution_count": 20,
   "metadata": {},
   "outputs": [
    {
     "data": {
      "image/png": "[encoded data removed]",
      "text/plain": [
       "<Figure size 1332x1332 with 1 Axes>"
      ]
     },
     "metadata": {
      "needs_background": "light"
     },
     "output_type": "display_data"
    }
   ],
   "source": [
    "fig = voronoi_plot_2d(vor)\n",
    "fig.set_size_inches(18.5, 18.5)"
   ]
  },
  {
   "cell_type": "code",
   "execution_count": 10,
   "metadata": {},
   "outputs": [
    {
     "data": {
      "text/plain": [
       "array([[ 0.00000000e+00, -1.17018175e+01],\n",
       "       [-1.10144715e+02,  0.00000000e+00],\n",
       "       [-1.72811437e+01,  3.55271368e-15],\n",
       "       [ 4.63519813e+01, -1.71007353e+01],\n",
       "       [ 1.56496696e+02, -4.63519813e+01],\n",
       "       [ 5.80537988e+01,  0.00000000e+00],\n",
       "       [ 4.65133105e+01, -1.70428941e+01],\n",
       "       [ 7.10542736e-15, -1.56496696e+02],\n",
       "       [ 4.61906521e+01, -1.70428941e+01],\n",
       "       [ 1.70428941e+01, -1.61329217e-01],\n",
       "       [ 2.31759906e+01, -2.31759906e+01],\n",
       "       [ 0.00000000e+00,  1.17018175e+01],\n",
       "       [ 2.93090872e+01, -4.65133105e+01],\n",
       "       [ 2.92512460e+01, -4.63519813e+01],\n",
       "       [ 2.93090872e+01, -4.61906521e+01],\n",
       "       [ 4.63519813e+01, -3.46501638e+01],\n",
       "       [ 6.36331250e+01, -4.63519813e+01],\n",
       "       [ 4.63519813e+01, -5.80537988e+01],\n",
       "       [ 0.00000000e+00, -2.92512460e+01],\n",
       "       [-1.61329217e-01, -2.93090872e+01],\n",
       "       [ 1.61329217e-01, -2.93090872e+01],\n",
       "       [-1.17018175e+01, -4.63519813e+01],\n",
       "       [ 1.95618932e-15, -6.36331250e+01],\n",
       "       [ 1.17018175e+01, -4.63519813e+01],\n",
       "       [ 4.63519813e+01,  1.72811437e+01],\n",
       "       [ 4.63519813e+01,  1.10144715e+02],\n",
       "       [ 3.46501638e+01,  0.00000000e+00],\n",
       "       [ 1.71007353e+01,  0.00000000e+00],\n",
       "       [ 1.70428941e+01,  1.61329217e-01]])"
      ]
     },
     "execution_count": 10,
     "metadata": {},
     "output_type": "execute_result"
    }
   ],
   "source": [
    "vor.vertices"
   ]
  },
  {
   "cell_type": "code",
   "execution_count": 11,
   "metadata": {},
   "outputs": [],
   "source": [
    "l = vor.ridge_vertices\n",
    "a = [ x for x in l if -1 not in x ]"
   ]
  },
  {
   "cell_type": "code",
   "execution_count": 12,
   "metadata": {},
   "outputs": [
    {
     "data": {
      "text/plain": [
       "[[4, 6],\n",
       " [5, 6],\n",
       " [1, 2],\n",
       " [2, 11],\n",
       " [12, 17],\n",
       " [12, 13],\n",
       " [13, 14],\n",
       " [14, 15],\n",
       " [15, 16],\n",
       " [16, 17],\n",
       " [7, 12],\n",
       " [8, 10],\n",
       " [3, 8],\n",
       " [10, 14],\n",
       " [3, 15],\n",
       " [3, 6],\n",
       " [4, 16],\n",
       " [18, 19],\n",
       " [18, 20],\n",
       " [19, 21],\n",
       " [20, 23],\n",
       " [21, 22],\n",
       " [22, 23],\n",
       " [0, 2],\n",
       " [0, 18],\n",
       " [1, 19],\n",
       " [9, 10],\n",
       " [10, 20],\n",
       " [0, 9],\n",
       " [13, 23],\n",
       " [7, 22],\n",
       " [24, 26],\n",
       " [24, 25],\n",
       " [25, 28],\n",
       " [26, 27],\n",
       " [27, 28],\n",
       " [8, 26],\n",
       " [5, 24],\n",
       " [11, 28],\n",
       " [9, 27]]"
      ]
     },
     "execution_count": 12,
     "metadata": {},
     "output_type": "execute_result"
    }
   ],
   "source": [
    "a "
   ]
  },
  {
   "cell_type": "code",
   "execution_count": 13,
   "metadata": {},
   "outputs": [
    {
     "data": {
      "text/plain": [
       "[[6, 4, -1, 5],\n",
       " [11, 2, 1, -1],\n",
       " [17, 12, 13, 14, 15, 16],\n",
       " [17, -1, 7, 12],\n",
       " [15, 3, 8, 10, 14],\n",
       " [16, 4, 6, 3, 15],\n",
       " [17, -1, 4, 16],\n",
       " [23, 20, 18, 19, 21, 22],\n",
       " [19, 1, 2, 0, 18],\n",
       " [20, 10, 9, 0, 18],\n",
       " [21, -1, 1, 19],\n",
       " [23, 13, 14, 10, 20],\n",
       " [22, 7, -1, 21],\n",
       " [23, 13, 12, 7, 22],\n",
       " [28, 25, 24, 26, 27],\n",
       " [26, 8, 3, 6, 5, 24],\n",
       " [25, -1, 5, 24],\n",
       " [28, 11, -1, 25],\n",
       " [27, 9, 10, 8, 26],\n",
       " [28, 11, 2, 0, 9, 27]]"
      ]
     },
     "execution_count": 13,
     "metadata": {},
     "output_type": "execute_result"
    }
   ],
   "source": [
    "vor.regions"
   ]
  },
  {
   "cell_type": "code",
   "execution_count": 14,
   "metadata": {},
   "outputs": [],
   "source": [
    "def flatten(a):\n",
    "    return [item for sublist in a for item in sublist]"
   ]
  },
  {
   "cell_type": "code",
   "execution_count": 15,
   "metadata": {},
   "outputs": [],
   "source": [
    "new = flatten(a)"
   ]
  },
  {
   "cell_type": "code",
   "execution_count": 16,
   "metadata": {},
   "outputs": [
    {
     "data": {
      "text/plain": [
       "[4,\n",
       " 6,\n",
       " 5,\n",
       " 6,\n",
       " 1,\n",
       " 2,\n",
       " 2,\n",
       " 11,\n",
       " 12,\n",
       " 17,\n",
       " 12,\n",
       " 13,\n",
       " 13,\n",
       " 14,\n",
       " 14,\n",
       " 15,\n",
       " 15,\n",
       " 16,\n",
       " 16,\n",
       " 17,\n",
       " 7,\n",
       " 12,\n",
       " 8,\n",
       " 10,\n",
       " 3,\n",
       " 8,\n",
       " 10,\n",
       " 14,\n",
       " 3,\n",
       " 15,\n",
       " 3,\n",
       " 6,\n",
       " 4,\n",
       " 16,\n",
       " 18,\n",
       " 19,\n",
       " 18,\n",
       " 20,\n",
       " 19,\n",
       " 21,\n",
       " 20,\n",
       " 23,\n",
       " 21,\n",
       " 22,\n",
       " 22,\n",
       " 23,\n",
       " 0,\n",
       " 2,\n",
       " 0,\n",
       " 18,\n",
       " 1,\n",
       " 19,\n",
       " 9,\n",
       " 10,\n",
       " 10,\n",
       " 20,\n",
       " 0,\n",
       " 9,\n",
       " 13,\n",
       " 23,\n",
       " 7,\n",
       " 22,\n",
       " 24,\n",
       " 26,\n",
       " 24,\n",
       " 25,\n",
       " 25,\n",
       " 28,\n",
       " 26,\n",
       " 27,\n",
       " 27,\n",
       " 28,\n",
       " 8,\n",
       " 26,\n",
       " 5,\n",
       " 24,\n",
       " 11,\n",
       " 28,\n",
       " 9,\n",
       " 27]"
      ]
     },
     "execution_count": 16,
     "metadata": {},
     "output_type": "execute_result"
    }
   ],
   "source": [
    "new"
   ]
  },
  {
   "cell_type": "code",
   "execution_count": 17,
   "metadata": {},
   "outputs": [],
   "source": [
    "count = []\n",
    "for i in new:\n",
    "    count.append(new.count(i))\n",
    "    \n"
   ]
  },
  {
   "cell_type": "code",
   "execution_count": 18,
   "metadata": {},
   "outputs": [
    {
     "data": {
      "text/plain": [
       "[2,\n",
       " 3,\n",
       " 2,\n",
       " 3,\n",
       " 2,\n",
       " 3,\n",
       " 3,\n",
       " 2,\n",
       " 3,\n",
       " 2,\n",
       " 3,\n",
       " 3,\n",
       " 3,\n",
       " 3,\n",
       " 3,\n",
       " 3,\n",
       " 3,\n",
       " 3,\n",
       " 3,\n",
       " 2,\n",
       " 2,\n",
       " 3,\n",
       " 3,\n",
       " 4,\n",
       " 3,\n",
       " 3,\n",
       " 4,\n",
       " 3,\n",
       " 3,\n",
       " 3,\n",
       " 3,\n",
       " 3,\n",
       " 2,\n",
       " 3,\n",
       " 3,\n",
       " 3,\n",
       " 3,\n",
       " 3,\n",
       " 3,\n",
       " 2,\n",
       " 3,\n",
       " 3,\n",
       " 2,\n",
       " 3,\n",
       " 3,\n",
       " 3,\n",
       " 3,\n",
       " 3,\n",
       " 3,\n",
       " 3,\n",
       " 2,\n",
       " 3,\n",
       " 3,\n",
       " 4,\n",
       " 4,\n",
       " 3,\n",
       " 3,\n",
       " 3,\n",
       " 3,\n",
       " 3,\n",
       " 2,\n",
       " 3,\n",
       " 3,\n",
       " 3,\n",
       " 3,\n",
       " 2,\n",
       " 2,\n",
       " 3,\n",
       " 3,\n",
       " 3,\n",
       " 3,\n",
       " 3,\n",
       " 3,\n",
       " 3,\n",
       " 2,\n",
       " 3,\n",
       " 2,\n",
       " 3,\n",
       " 3,\n",
       " 3]"
      ]
     },
     "execution_count": 18,
     "metadata": {},
     "output_type": "execute_result"
    }
   ],
   "source": [
    "count"
   ]
  },
  {
   "cell_type": "markdown",
   "metadata": {},
   "source": [
    "    I didn't get what expected. I observed that in the 5 ridge vertices there are two points. That means two vertices. That's why I obtained only vertçices with 3 instead of vertices with 5. I will reject this procedure since I don't know how to solve it."
   ]
  },
  {
   "cell_type": "code",
   "execution_count": null,
   "metadata": {},
   "outputs": [],
   "source": []
  }
 ],
 "metadata": {
  "kernelspec": {
   "display_name": "Python 3",
   "language": "python",
   "name": "python3"
  },
  "language_info": {
   "codemirror_mode": {
    "name": "ipython",
    "version": 3
   },
   "file_extension": ".py",
   "mimetype": "text/x-python",
   "name": "python",
   "nbconvert_exporter": "python",
   "pygments_lexer": "ipython3",
   "version": "3.7.6"
  }
 },
 "nbformat": 4,
 "nbformat_minor": 4
}
